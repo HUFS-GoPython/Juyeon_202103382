{
 "cells": [
  {
   "cell_type": "markdown",
   "id": "a601bf67-76e4-4d3d-81f0-9f3091a4efa6",
   "metadata": {},
   "source": [
    "### 상속 | inheritance\n",
    "- 이전 클래스의 내용을 추가, 변경해야 할 경우 (기존의 내용을 전부 데려오므로 '상속')\n",
    "- 코드 재사용에 유요함\n",
    "- 기준 : Vehicle : parent class, super class, base class, 부모 클래스\n",
    "- 상속 받는 클래스 : Car : child class, sub class, derived class, 자식 클래스\n",
    "Vehicle <- Car\n",
    "    - 부모 클래스를 자식 클래스가 구체화시킨다.\n",
    "    - Car is-a-Vehicle\n",
    "    - has-a : Notebook has-a-Note"
   ]
  },
  {
   "cell_type": "code",
   "execution_count": 2,
   "id": "f027430f-cedf-4292-87cb-cf09df4c3975",
   "metadata": {},
   "outputs": [],
   "source": [
    "class Vehicle:\n",
    "    def __init__(self, speed):\n",
    "        self.speed = speed\n",
    "        \n",
    "    def go(self):\n",
    "        print(f'{self.speed}의 속력으로 달린다.')\n",
    "        \n",
    "# 자식 클래스\n",
    "class Car(Vehicle):\n",
    "    pass"
   ]
  },
  {
   "cell_type": "code",
   "execution_count": 3,
   "id": "11be6461-ad43-4a1e-84f5-3a0eb0d404b8",
   "metadata": {},
   "outputs": [
    {
     "name": "stdout",
     "output_type": "stream",
     "text": [
      "15km/h의 속력으로 달린다.\n"
     ]
    }
   ],
   "source": [
    "car = Car('15km/h')\n",
    "car.go()"
   ]
  },
  {
   "cell_type": "markdown",
   "id": "73a1b824-f34b-45d1-a835-786f8c6c3cd5",
   "metadata": {},
   "source": [
    "### 추가, 변경\n",
    "- 속성(변수)"
   ]
  },
  {
   "cell_type": "code",
   "execution_count": 4,
   "id": "f52b0047-a334-4ba6-807c-86a0516f779c",
   "metadata": {},
   "outputs": [],
   "source": [
    "class Car(Vehicle):\n",
    "    def __init__(self, speed, brand):\n",
    "        #self.speed = speed\n",
    "        super().__init__(speed) # 부모에게서 속성을 가져오는 법(선택적 인수 설정하기)\n",
    "        self.brand = brand # Car의 독자적인, 추가한 속성"
   ]
  },
  {
   "cell_type": "code",
   "execution_count": 5,
   "id": "35161603-be3e-4653-96a9-84bf7b3f61a0",
   "metadata": {},
   "outputs": [
    {
     "data": {
      "text/plain": [
       "'14km/h'"
      ]
     },
     "execution_count": 5,
     "metadata": {},
     "output_type": "execute_result"
    }
   ],
   "source": [
    "car2 = Car('14km/h', 'kia')\n",
    "car2.speed"
   ]
  },
  {
   "cell_type": "code",
   "execution_count": 6,
   "id": "83aece3d-a804-4311-894c-39ddc6e3d862",
   "metadata": {},
   "outputs": [
    {
     "name": "stdout",
     "output_type": "stream",
     "text": [
      "14km/h의 속력으로 달린다.\n"
     ]
    }
   ],
   "source": [
    "car2.go()"
   ]
  },
  {
   "cell_type": "code",
   "execution_count": 7,
   "id": "73df759b-97b1-4781-9a87-e7b52e4c6229",
   "metadata": {},
   "outputs": [
    {
     "ename": "AttributeError",
     "evalue": "'Vehicle' object has no attribute 'brand'",
     "output_type": "error",
     "traceback": [
      "\u001b[1;31m---------------------------------------------------------------------------\u001b[0m",
      "\u001b[1;31mAttributeError\u001b[0m                            Traceback (most recent call last)",
      "\u001b[1;32m~\\AppData\\Local\\Temp/ipykernel_31148/1171827465.py\u001b[0m in \u001b[0;36m<module>\u001b[1;34m\u001b[0m\n\u001b[0;32m      1\u001b[0m \u001b[0mv\u001b[0m \u001b[1;33m=\u001b[0m \u001b[0mVehicle\u001b[0m\u001b[1;33m(\u001b[0m\u001b[1;34m'15km/h'\u001b[0m\u001b[1;33m)\u001b[0m\u001b[1;33m\u001b[0m\u001b[1;33m\u001b[0m\u001b[0m\n\u001b[1;32m----> 2\u001b[1;33m \u001b[0mv\u001b[0m\u001b[1;33m.\u001b[0m\u001b[0mbrand\u001b[0m \u001b[1;31m# 부모는 자식 것을 쓸 수 없다!\u001b[0m\u001b[1;33m\u001b[0m\u001b[1;33m\u001b[0m\u001b[0m\n\u001b[0m",
      "\u001b[1;31mAttributeError\u001b[0m: 'Vehicle' object has no attribute 'brand'"
     ]
    }
   ],
   "source": [
    "v = Vehicle('15km/h')\n",
    "v.brand # 부모는 자식 것을 쓸 수 없다!"
   ]
  },
  {
   "cell_type": "code",
   "execution_count": 55,
   "id": "869b287e-1a35-4363-9b17-b99081b3677c",
   "metadata": {},
   "outputs": [],
   "source": [
    "# 추가 예시\n",
    "class Refreshments:\n",
    "    def __init__(self, taste):\n",
    "        self.taste = taste\n",
    "        \n",
    "    def eat(self):\n",
    "        print(f'{self.taste}맛이 납니다.')\n",
    "        \n",
    "class Chocolate(Refreshments):\n",
    "    def __init__(self,taste, price):\n",
    "        super().__init__(taste)\n",
    "        self.price = price"
   ]
  },
  {
   "cell_type": "code",
   "execution_count": 47,
   "id": "8d7323d8-45b4-4de8-bf24-066b57fc259c",
   "metadata": {},
   "outputs": [
    {
     "data": {
      "text/plain": [
       "'sweet'"
      ]
     },
     "execution_count": 47,
     "metadata": {},
     "output_type": "execute_result"
    }
   ],
   "source": [
    "choco = Chocolate('sweet', '13$')\n",
    "choco.taste"
   ]
  },
  {
   "cell_type": "code",
   "execution_count": 49,
   "id": "13cd4ee1-de8c-4fd6-aaae-7710014f57fe",
   "metadata": {},
   "outputs": [
    {
     "name": "stdout",
     "output_type": "stream",
     "text": [
      "sweet맛이 납니다.\n"
     ]
    }
   ],
   "source": [
    "choco.eat()"
   ]
  },
  {
   "cell_type": "markdown",
   "id": "19d7cd88-49a5-4d9d-86d9-ec8aa9b6dd41",
   "metadata": {},
   "source": [
    "- 메소드 변경 => 오버라이드(override), 재정의"
   ]
  },
  {
   "cell_type": "code",
   "execution_count": 54,
   "id": "30a70133-ac29-4302-9e95-a10375c160c6",
   "metadata": {},
   "outputs": [],
   "source": [
    "class Car(Vehicle):\n",
    "    def __init__(self, speed, brand):\n",
    "        super().__init__(speed) # 부모에게서 속성을 가져오는 법\n",
    "        self.brand = brand # Car의 독자적인, 추가한 속성\n",
    "        \n",
    "    def go(self): #override\n",
    "        # 부모의 go도 같이 타고 싶다.\n",
    "        super().go() # -> 정답!\n",
    "        print(f'차종은 {self.brand}')\n",
    "        \n",
    "    def stop(self): # 부모 클래스에 없는 메소드\n",
    "        print('차가 멈춘다.')\n",
    "        "
   ]
  },
  {
   "cell_type": "code",
   "execution_count": 9,
   "id": "f277b28c-7a85-456f-9800-fcc3cbddd7c0",
   "metadata": {},
   "outputs": [
    {
     "name": "stdout",
     "output_type": "stream",
     "text": [
      "15km/h의 속력으로 달린다.\n",
      "차종은 nissan\n",
      "차가 멈춘다.\n"
     ]
    }
   ],
   "source": [
    "car3 = Car('15km/h', 'nissan')\n",
    "car3.go() \n",
    "car3.stop()"
   ]
  },
  {
   "cell_type": "markdown",
   "id": "32986a52-36b4-40dc-99ae-60e8d235a031",
   "metadata": {},
   "source": [
    "### 실습"
   ]
  },
  {
   "cell_type": "code",
   "execution_count": 10,
   "id": "a36a3690-a2bf-48a6-88e8-667162acb41e",
   "metadata": {},
   "outputs": [
    {
     "data": {
      "text/plain": [
       "'Person <- Doctor <- Female <- Male'"
      ]
     },
     "execution_count": 10,
     "metadata": {},
     "output_type": "execute_result"
    }
   ],
   "source": [
    "# 오답\n",
    "class Person:\n",
    "    # name\n",
    "    def __init__(self, name):\n",
    "        self.name = name\n",
    "        \n",
    "    def naming(self):\n",
    "        print(f'저는 {self.name}입니다.')\n",
    "\n",
    "class Doctor(Person):\n",
    "    def __init__(self, name):\n",
    "        self.name = name\n",
    "        \n",
    "    # Dr. name\n",
    "    def naming(self):\n",
    "        super().naming()\n",
    "        print(f'저는 Dr.{self.name}입니다.')\n",
    "    \n",
    "class Male(Doctor):\n",
    "    def __init__(self, name):\n",
    "        self.name = name\n",
    "        \n",
    "    # Mr. name\n",
    "    def naming(self):\n",
    "        super().naming()\n",
    "        print(f'저는 Mr.{self.name}입니다.')\n",
    "\n",
    "class Female(Male):\n",
    "    def __init__(self, name):\n",
    "        self.name = name\n",
    "        \n",
    "    # Mrs. name\n",
    "    def naming(self):\n",
    "        super().naming()\n",
    "        print(f'저는 Mrs.{self.name}입니다.')\n",
    "\n",
    "\"\"\"Person <- Doctor <- Female <- Male\"\"\""
   ]
  },
  {
   "cell_type": "code",
   "execution_count": 11,
   "id": "efb02ce4-dd29-4501-a729-1d39b09c35c5",
   "metadata": {},
   "outputs": [
    {
     "name": "stdout",
     "output_type": "stream",
     "text": [
      "저는 Sarah입니다.\n"
     ]
    }
   ],
   "source": [
    "person = Person('Sarah')\n",
    "person.naming()"
   ]
  },
  {
   "cell_type": "code",
   "execution_count": 12,
   "id": "db74370c-f65c-4e15-a66b-b9f74d17555f",
   "metadata": {},
   "outputs": [
    {
     "name": "stdout",
     "output_type": "stream",
     "text": [
      "저는 Jin입니다.\n",
      "저는 Dr.Jin입니다.\n"
     ]
    }
   ],
   "source": [
    "doctor = Doctor('Jin')\n",
    "doctor.naming()"
   ]
  },
  {
   "cell_type": "code",
   "execution_count": 13,
   "id": "18b5d346-366a-4406-bc9e-a6710ed6643d",
   "metadata": {},
   "outputs": [
    {
     "name": "stdout",
     "output_type": "stream",
     "text": [
      "저는 Eugene입니다.\n",
      "저는 Dr.Eugene입니다.\n",
      "저는 Mr.Eugene입니다.\n"
     ]
    }
   ],
   "source": [
    "male = Male('Eugene')\n",
    "male.naming()"
   ]
  },
  {
   "cell_type": "code",
   "execution_count": 14,
   "id": "566bed6c-34b9-4547-a53c-aae1c611fd18",
   "metadata": {},
   "outputs": [
    {
     "name": "stdout",
     "output_type": "stream",
     "text": [
      "저는 Sophia입니다.\n",
      "저는 Dr.Sophia입니다.\n",
      "저는 Mr.Sophia입니다.\n",
      "저는 Mrs.Sophia입니다.\n"
     ]
    }
   ],
   "source": [
    "female = Female('Sophia')\n",
    "female.naming()"
   ]
  },
  {
   "cell_type": "code",
   "execution_count": 15,
   "id": "a299e733-2322-45b9-8854-f8238c3ba42d",
   "metadata": {},
   "outputs": [
    {
     "data": {
      "text/plain": [
       "'Person <- Doctor <- Female <- Male'"
      ]
     },
     "execution_count": 15,
     "metadata": {},
     "output_type": "execute_result"
    }
   ],
   "source": [
    "#정답\n",
    "class Person:\n",
    "    # name\n",
    "    def __init__(self, name):\n",
    "        self.name = name\n",
    "\n",
    "class Doctor(Person):\n",
    "    def __init__(self, name):\n",
    "        super().__init__('Dr' + name) # f'Dr.{name}'\n",
    "        \n",
    "  \n",
    "class Male(Doctor):\n",
    "    def __init__(self, name):\n",
    "        super().__init__('Mr' + name) # f'Mr.{name}'\n",
    "\n",
    "class Female(Male):\n",
    "    def __init__(self, name):\n",
    "        super().__init__('Mrs' + name) # f'Mrs.{name}'\n",
    "\n",
    "\"\"\"Person <- Doctor <- Female <- Male\"\"\""
   ]
  },
  {
   "cell_type": "markdown",
   "id": "a48008fd-93e3-40aa-9dce-0eab29ad9be5",
   "metadata": {},
   "source": [
    "#### 다중 상속\n",
    "- method resolution order (MRO)\n",
    "- Animal <- Horse\n",
    "       <- Dunkey\n",
    "            <- Mule(donkey>horse)\n",
    "            <- Hinny(horse>donkey)"
   ]
  },
  {
   "cell_type": "code",
   "execution_count": 16,
   "id": "e14aac4b-30e3-4c85-b537-50d37f17280a",
   "metadata": {},
   "outputs": [],
   "source": [
    "class Animal:\n",
    "    def says(self):\n",
    "        return '동물이 운다'\n",
    "    \n",
    "#-------------------------- Child\n",
    "class Horse(Animal):\n",
    "    def says(self):\n",
    "        return '히히힝'\n",
    "    \n",
    "class Donkey(Animal):\n",
    "    def says(self):\n",
    "        return '히이호'\n",
    "    \n",
    "#-------------------------- Grandchild\n",
    "class Mule(Donkey, Horse):\n",
    "    pass\n",
    "\n",
    "class Hinny(Horse, Donkey):\n",
    "    pass"
   ]
  },
  {
   "cell_type": "code",
   "execution_count": 17,
   "id": "dc4e193b-534c-4303-b02b-7679f53cd151",
   "metadata": {},
   "outputs": [
    {
     "data": {
      "text/plain": [
       "'히이호'"
      ]
     },
     "execution_count": 17,
     "metadata": {},
     "output_type": "execute_result"
    }
   ],
   "source": [
    "Mule().says() #히이호"
   ]
  },
  {
   "cell_type": "code",
   "execution_count": 18,
   "id": "ca2fd121-37e6-417d-9729-0ffe24d6bd39",
   "metadata": {},
   "outputs": [
    {
     "data": {
      "text/plain": [
       "'히히힝'"
      ]
     },
     "execution_count": 18,
     "metadata": {},
     "output_type": "execute_result"
    }
   ],
   "source": [
    "Hinny().says()"
   ]
  },
  {
   "cell_type": "code",
   "execution_count": 19,
   "id": "553240f4-ecb2-49e0-83a0-c46f971f0e6b",
   "metadata": {},
   "outputs": [
    {
     "data": {
      "text/plain": [
       "[__main__.Mule, __main__.Donkey, __main__.Horse, __main__.Animal, object]"
      ]
     },
     "execution_count": 19,
     "metadata": {},
     "output_type": "execute_result"
    }
   ],
   "source": [
    "Mule.mro() # 가까운 순으로 나옴!"
   ]
  },
  {
   "cell_type": "markdown",
   "id": "f6549601-5b6b-44ea-b9bb-42e97ff71f4d",
   "metadata": {},
   "source": [
    "### 다형성, duck typing"
   ]
  },
  {
   "cell_type": "code",
   "execution_count": 20,
   "id": "29854cc0-1c14-4229-b354-118d8fc43e5c",
   "metadata": {},
   "outputs": [
    {
     "name": "stdout",
     "output_type": "stream",
     "text": [
      "동물이 운다\n",
      "히히힝\n",
      "히이호\n"
     ]
    }
   ],
   "source": [
    "for animal in [Animal(), Horse(), Mule()]:\n",
    "    print(animal.says())"
   ]
  },
  {
   "cell_type": "markdown",
   "id": "8a2fd1a8-be4f-4559-bf49-f4fafea498b3",
   "metadata": {},
   "source": [
    "### 메서드\n",
    "- 인스턴스 메서드:\n",
    "    - 첫 번째 인수가 self인 메서드\n",
    "    - 우리가 지금까지 배운 메서드\n",
    "    - 객체 생성 -> 사용 가능\n",
    "- 클래스 메서드:\n",
    "    - 객체마다 달라지지 않음\n",
    "    - 모든 객체가 공유하는 (클래스) 변수, 메소드\n",
    "    - 예약어 : cls\n",
    "    - 데코레이터 @classmethod 사용!\n",
    "    - !객체 생성하지 않고 메서드에 접근 가능!\n",
    "- 정적 메서드\n",
    "    - 1번째 인수가 self 아님\n",
    "    - 클래스나 인스턴스에 접근하지 않는 메서드\n",
    "    - 비슷한 유틸리티에서 클래스 내에 묶어둘 때 사용\n",
    "    - !객체 생성하지 않고 메서드에 접근 가능!\n",
    "    - @staticmethod\n",
    "- 추상 메서드\n",
    "    - abstract\n",
    "    - @abstractmethod\n",
    "    "
   ]
  },
  {
   "cell_type": "code",
   "execution_count": 21,
   "id": "7cce09b8-7255-4e4f-a717-75fda3a43757",
   "metadata": {},
   "outputs": [
    {
     "data": {
      "text/plain": [
       "'히히힝'"
      ]
     },
     "execution_count": 21,
     "metadata": {},
     "output_type": "execute_result"
    }
   ],
   "source": [
    "h = Hinny()\n",
    "h.says()"
   ]
  },
  {
   "cell_type": "code",
   "execution_count": 22,
   "id": "9df7513c-4ab7-486b-aac2-5178c94668f7",
   "metadata": {},
   "outputs": [],
   "source": [
    "class A: # cnt가 뭘까? count\n",
    "    cnt = 0\n",
    "    \n",
    "    @classmethod\n",
    "    def move(cls): # seld, super(), cls\n",
    "        print(cls.cnt)"
   ]
  },
  {
   "cell_type": "code",
   "execution_count": 23,
   "id": "a5b34cce-2b56-4b58-a185-bc156dd60970",
   "metadata": {},
   "outputs": [
    {
     "name": "stdout",
     "output_type": "stream",
     "text": [
      "0\n"
     ]
    }
   ],
   "source": [
    "A().move()"
   ]
  },
  {
   "cell_type": "code",
   "execution_count": 24,
   "id": "8aecc533-fc9b-4f23-b82e-f5ef8d6146de",
   "metadata": {},
   "outputs": [],
   "source": [
    "class B:\n",
    "    cnt = 0\n",
    "    def __init__(self):\n",
    "        B.cnt += 1\n",
    "    \n",
    "    # class method\n",
    "    @classmethod\n",
    "    def count(cls):\n",
    "        # 객체가 생성될 때마다 횟수 증가해서 프린트하기\n",
    "        #cls.cnt += 1\n",
    "        print(cls.cnt)"
   ]
  },
  {
   "cell_type": "code",
   "execution_count": 25,
   "id": "b97f286d-7232-463e-95ad-a4e8e1652be2",
   "metadata": {},
   "outputs": [
    {
     "name": "stdout",
     "output_type": "stream",
     "text": [
      "4\n"
     ]
    }
   ],
   "source": [
    "B()\n",
    "B()\n",
    "B()\n",
    "B().count() #4"
   ]
  },
  {
   "cell_type": "code",
   "execution_count": 26,
   "id": "0d2939ee-9bdb-4533-8e6d-62b061f2991d",
   "metadata": {},
   "outputs": [],
   "source": [
    "class Person:\n",
    "    def __init__(self, name, age):\n",
    "        self.name = name\n",
    "        self.age = age\n",
    "        \n",
    "    @classmethod\n",
    "    def tuple_object(cls, args):\n",
    "        # 튜플로 인지를 받아서 객체 생성하는 메서드 만들기\n",
    "        return cls(args[0], args[1])\n",
    "        \n",
    "name = 'hong'\n",
    "age = 24\n",
    "\n",
    "p = Person(name, age)\n",
    "\n",
    "info = name, age\n",
    "p = Person.tuple_object(info) # 객체 생성하지 않고 메서드에 접근했다."
   ]
  },
  {
   "cell_type": "code",
   "execution_count": 27,
   "id": "cc7f3925-7fb4-4768-92a0-13aacfd421ff",
   "metadata": {},
   "outputs": [
    {
     "data": {
      "text/plain": [
       "'hong'"
      ]
     },
     "execution_count": 27,
     "metadata": {},
     "output_type": "execute_result"
    }
   ],
   "source": [
    "p.name"
   ]
  },
  {
   "cell_type": "code",
   "execution_count": 28,
   "id": "f4e5ff9e-8710-4d2b-84cf-d845490528f1",
   "metadata": {},
   "outputs": [
    {
     "data": {
      "text/plain": [
       "24"
      ]
     },
     "execution_count": 28,
     "metadata": {},
     "output_type": "execute_result"
    }
   ],
   "source": [
    "p.age"
   ]
  },
  {
   "cell_type": "code",
   "execution_count": 53,
   "id": "544a1708-eef4-4b3c-ba31-c08c05c0952d",
   "metadata": {},
   "outputs": [
    {
     "data": {
      "text/plain": [
       "'Hi, Millon'"
      ]
     },
     "execution_count": 53,
     "metadata": {},
     "output_type": "execute_result"
    }
   ],
   "source": [
    "#@staticmethod, 정적 메서드\n",
    "class Coyote:\n",
    "    \n",
    "    @staticmethod\n",
    "    def says(cry): #self 없어도 됨\n",
    "        return 'Hi' + cry\n",
    "    \n",
    "Coyote.says(', Millon')"
   ]
  },
  {
   "cell_type": "code",
   "execution_count": 30,
   "id": "72f34bcb-bb18-42de-9f93-9029d1b07195",
   "metadata": {},
   "outputs": [],
   "source": [
    "from abc import *\n",
    "\n",
    "class Vehicle(metaclass=ABCMeta): # 추상 클래스\n",
    "    # 변수에 뭘 넣을지 정의하기\n",
    "    speed = '속도'\n",
    "    \n",
    "    # 자식 클래스가 오버라이드 해야 하는 메서드 정의, 구체화하지 않는다.\n",
    "    @abstractmethod\n",
    "    def drive(self):\n",
    "        print('교통수단에 관하여')\n",
    "        \n",
    "    def stop(self):\n",
    "        pass\n",
    "    \n",
    "    def park(self):\n",
    "        pass\n",
    "    \n",
    "#-----------------------\n",
    "        \n",
    "class Car(Vehicle):\n",
    "    def drive(self):\n",
    "        return super().speed"
   ]
  },
  {
   "cell_type": "code",
   "execution_count": 31,
   "id": "39f3499f-d59a-40f1-8a27-9ffdd6ee33ef",
   "metadata": {},
   "outputs": [
    {
     "data": {
      "text/plain": [
       "<__main__.Car at 0x23142335f10>"
      ]
     },
     "execution_count": 31,
     "metadata": {},
     "output_type": "execute_result"
    }
   ],
   "source": [
    "Car()"
   ]
  },
  {
   "cell_type": "markdown",
   "id": "1eaf964b-40ca-4b88-89c9-be00c698c3b5",
   "metadata": {},
   "source": [
    "### 매직 메소드\n",
    "- __init__ : special method (고유한 기능을 지님)\n",
    "\n",
    "- object 클래스 메서드를 재정의하는 것 중 하나!\n",
    "    - __str__ : \n",
    "    - __repr__ : representation"
   ]
  },
  {
   "cell_type": "code",
   "execution_count": 42,
   "id": "bf439e8a-45af-4997-a929-b5497d52c8ec",
   "metadata": {},
   "outputs": [],
   "source": [
    "class Person: # 그럼 매직 애네도 인스턴스 메소드인 거지 -> yes!\n",
    "    def __init__(self, name):\n",
    "        self.name = name\n",
    "        \n",
    "    def __str__(self):\n",
    "        # 인스턴스를 스트링으로 출력 : 이름, 메모리 주소\n",
    "        # print(인스턴스) 했을 때 출력되는 값\n",
    "        return self.name\n",
    "    \n",
    "    def __repr__(self):\n",
    "        # 사용자 이해할 수 있게 객체를 출력하고 싶을 때 사용한다.\n",
    "        return f'Person({self.name})'"
   ]
  },
  {
   "cell_type": "code",
   "execution_count": 33,
   "id": "7d1697eb-5be3-4c9c-9f3d-04416b2fd78b",
   "metadata": {},
   "outputs": [
    {
     "data": {
      "text/plain": [
       "Person(lee)"
      ]
     },
     "execution_count": 33,
     "metadata": {},
     "output_type": "execute_result"
    }
   ],
   "source": [
    "p = Person('lee')\n",
    "p"
   ]
  },
  {
   "cell_type": "code",
   "execution_count": 34,
   "id": "6fa6af97-eac7-481f-ac62-2c94485e82b4",
   "metadata": {},
   "outputs": [
    {
     "name": "stdout",
     "output_type": "stream",
     "text": [
      "lee\n"
     ]
    }
   ],
   "source": [
    "print(p)"
   ]
  },
  {
   "cell_type": "code",
   "execution_count": 35,
   "id": "0260cab3-92d5-41f5-bd6c-1923860ef70b",
   "metadata": {},
   "outputs": [
    {
     "data": {
      "text/plain": [
       "'Person(lee)'"
      ]
     },
     "execution_count": 35,
     "metadata": {},
     "output_type": "execute_result"
    }
   ],
   "source": [
    "repr(p) # 인스턴스 : p"
   ]
  },
  {
   "cell_type": "markdown",
   "id": "cd9e67c0-9bab-4fe0-9c32-5c303c2ce218",
   "metadata": {},
   "source": [
    "### namedtuple, dataclass\n",
    "- 변수만 있는 클래스 설정할 때 더 효율적으로 사용하는 수단이다.\n",
    "- 딕셔너리 키와 같은 기능을 가진다."
   ]
  },
  {
   "cell_type": "code",
   "execution_count": 36,
   "id": "a43077d0-ca8c-4ceb-a6a8-32d6a5ea50db",
   "metadata": {},
   "outputs": [],
   "source": [
    "from collections import namedtuple\n",
    "\n",
    "\n",
    "Person = namedtuple('Person', 'name age')\n",
    "a = Person('kim', 33)"
   ]
  },
  {
   "cell_type": "code",
   "execution_count": 37,
   "id": "e89565fa-90d8-4d1f-a880-7e2c1ec89326",
   "metadata": {},
   "outputs": [
    {
     "data": {
      "text/plain": [
       "'kim'"
      ]
     },
     "execution_count": 37,
     "metadata": {},
     "output_type": "execute_result"
    }
   ],
   "source": [
    "a.name"
   ]
  },
  {
   "cell_type": "code",
   "execution_count": 38,
   "id": "8ef7959e-cea7-41f6-bf86-e82d87856485",
   "metadata": {},
   "outputs": [
    {
     "data": {
      "text/plain": [
       "33"
      ]
     },
     "execution_count": 38,
     "metadata": {},
     "output_type": "execute_result"
    }
   ],
   "source": [
    "a.age"
   ]
  },
  {
   "cell_type": "code",
   "execution_count": 39,
   "id": "569e97fb-bc66-4990-9b9d-da789fb47046",
   "metadata": {},
   "outputs": [],
   "source": [
    "b = a._replace(name = 'lee')"
   ]
  },
  {
   "cell_type": "code",
   "execution_count": 40,
   "id": "830642c2-3a86-47ef-9f98-4f8551e414a2",
   "metadata": {},
   "outputs": [],
   "source": [
    "from dataclasses import dataclass\n",
    "\n",
    "@dataclass \n",
    "class Person:\n",
    "    name: str\n",
    "    age: int"
   ]
  },
  {
   "cell_type": "code",
   "execution_count": 41,
   "id": "082ee6ca-7c80-40b5-a120-397c7e8b0fc2",
   "metadata": {},
   "outputs": [
    {
     "data": {
      "text/plain": [
       "33"
      ]
     },
     "execution_count": 41,
     "metadata": {},
     "output_type": "execute_result"
    }
   ],
   "source": [
    "a = Person('kin', 33)\n",
    "a. age"
   ]
  },
  {
   "cell_type": "code",
   "execution_count": null,
   "id": "f47d029d-79ab-4515-ade1-bb7476fb1dee",
   "metadata": {},
   "outputs": [],
   "source": []
  }
 ],
 "metadata": {
  "kernelspec": {
   "display_name": "Python 3 (ipykernel)",
   "language": "python",
   "name": "python3"
  },
  "language_info": {
   "codemirror_mode": {
    "name": "ipython",
    "version": 3
   },
   "file_extension": ".py",
   "mimetype": "text/x-python",
   "name": "python",
   "nbconvert_exporter": "python",
   "pygments_lexer": "ipython3",
   "version": "3.9.7"
  }
 },
 "nbformat": 4,
 "nbformat_minor": 5
}
