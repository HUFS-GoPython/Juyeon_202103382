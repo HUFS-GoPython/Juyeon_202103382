{
 "cells": [
  {
   "cell_type": "code",
   "execution_count": 1,
   "id": "e0409906-96ed-41bb-a34d-ac3e7823cdab",
   "metadata": {},
   "outputs": [
    {
     "name": "stdout",
     "output_type": "stream",
     "text": [
      "*** Introductory Examples for the NLTK Book ***\n",
      "Loading text1, ..., text9 and sent1, ..., sent9\n",
      "Type the name of the text or sentence to view it.\n",
      "Type: 'texts()' or 'sents()' to list the materials.\n",
      "text1: Moby Dick by Herman Melville 1851\n",
      "text2: Sense and Sensibility by Jane Austen 1811\n",
      "text3: The Book of Genesis\n",
      "text4: Inaugural Address Corpus\n",
      "text5: Chat Corpus\n",
      "text6: Monty Python and the Holy Grail\n",
      "text7: Wall Street Journal\n",
      "text8: Personals Corpus\n",
      "text9: The Man Who Was Thursday by G . K . Chesterton 1908\n"
     ]
    },
    {
     "data": {
      "text/plain": [
       "True"
      ]
     },
     "execution_count": 1,
     "metadata": {},
     "output_type": "execute_result"
    }
   ],
   "source": [
    "import nltk\n",
    "from nltk.book import* #*을 붙이면 book 말고 다른 것도 전부 import한다!\n",
    "nltk.download(['book'], quiet = True)"
   ]
  },
  {
   "cell_type": "markdown",
   "id": "fd4d1a53-b8d1-481f-a066-b8eb3250dce0",
   "metadata": {},
   "source": [
    "# Advanced Python 1 week 5 | 2022.04.01.Fri"
   ]
  },
  {
   "cell_type": "markdown",
   "id": "323d0f44-1e62-4a09-a328-1ad3fd38163e",
   "metadata": {},
   "source": [
    "## 반복문\n",
    "* 종류 : for, while\n",
    "\n",
    "### while\n",
    "* 어떤 조건이 만족될 때까지 블록을 수행한다.\n",
    "* 해당 조건이 거짓이면 수행을 멈추게 된다.\n",
    "    * 따라서, 언제 빠져나오는지(= 거짓인지)를 정확히 알아야 할 필요가 있다.\n",
    "* for + if\n",
    "\n",
    "#### for vs. while\n",
    "* for loop : 반복 횟수를 정확히 알고, 반복 회수가 변하지 않을 때 사용\n",
    "    * ex) 전체 학생 성적 산출, 전체 사원 성과 산출\n",
    "* while loop : 반복 횟수 정확하지 않고(반복 횟수 중요 X), 어떤 조건을 만족시킬 때 프로그램 종료하고 싶다면 사용\n",
    "    * ex) 가위바위보로 이기면 종료, 룰렛에서 당첨이 뜨면 종료"
   ]
  },
  {
   "cell_type": "code",
   "execution_count": 13,
   "id": "966489cb-f0c7-46e7-8994-1e84e85d998c",
   "metadata": {},
   "outputs": [
    {
     "name": "stdout",
     "output_type": "stream",
     "text": [
      "0\n",
      "1\n",
      "2\n",
      "3\n",
      "4\n",
      "5\n",
      "6\n",
      "7\n",
      "8\n",
      "9\n"
     ]
    }
   ],
   "source": [
    "for i in range(10) :\n",
    "    print(i) #for loop"
   ]
  },
  {
   "cell_type": "code",
   "execution_count": 19,
   "id": "650bd9ca-cc35-4a46-a227-1942afb52707",
   "metadata": {
    "tags": []
   },
   "outputs": [
    {
     "name": "stdout",
     "output_type": "stream",
     "text": [
      "0\n",
      "1\n",
      "2\n",
      "3\n",
      "4\n"
     ]
    }
   ],
   "source": [
    "j = 0 #항상 변수를 초기화 해 줄 것!\n",
    "while j < 5 : #01234\n",
    "    print(j) #01234\n",
    "    j += 1 #12345\n",
    " #주의! i로 설정하면 위에서 항상 9보다 작게끔 설정해 뒀기에 무한 루프를 타게 됨!"
   ]
  },
  {
   "cell_type": "code",
   "execution_count": null,
   "id": "4e8f8d45-8ced-4abd-ad0e-4dbf114428d9",
   "metadata": {
    "tags": []
   },
   "outputs": [],
   "source": [
    "#j의 값은?\n",
    "j"
   ]
  },
  {
   "cell_type": "code",
   "execution_count": 3,
   "id": "2e14b5b8-89fc-44d9-850c-59d050315e48",
   "metadata": {},
   "outputs": [
    {
     "name": "stdout",
     "output_type": "stream",
     "text": [
      "a\n",
      "b\n",
      "c\n"
     ]
    }
   ],
   "source": [
    "characters = ['a', 'b', 'c']\n",
    "for ch in characters :\n",
    "    print(ch)"
   ]
  },
  {
   "cell_type": "code",
   "execution_count": null,
   "id": "f3646012-c59b-4300-82a1-7e39f1e6f2e1",
   "metadata": {
    "tags": []
   },
   "outputs": [],
   "source": [
    "#ch = 0\n",
    "#while ch in characters :\n",
    "#    print(ch)"
   ]
  },
  {
   "cell_type": "code",
   "execution_count": 44,
   "id": "6e01352c-d077-4719-bb50-8d8849625bfe",
   "metadata": {},
   "outputs": [
    {
     "name": "stdout",
     "output_type": "stream",
     "text": [
      "a\n",
      "b\n",
      "c\n"
     ]
    }
   ],
   "source": [
    "#ex1\n",
    "\n",
    "ch = 0\n",
    "while ch < len(characters) :\n",
    "    print(characters[ch]) #[ch]? list!\n",
    "    ch += 1"
   ]
  },
  {
   "cell_type": "markdown",
   "id": "741a9fa3-5759-417a-87b2-48409d21b9ef",
   "metadata": {},
   "source": [
    "### 반복문의 제어\n",
    "* 의도치 않게 코드를 종료시킬 수 있기 때문에 되도록 사용하지 않는다.\n",
    "\n",
    "* break : 논리적으로 반복을 종료시키는 방법이다. break 시점을 잘 알아야 한다.\n",
    "* else : 어떤 조건이 \"완전히\" 끝났을 때 한 번 더 실행하는 블록이다. break로 끝난 것과 구분 가능하다.\n",
    "* continue : 특정 조건을 건너뛰고 다음 조건을 수행하는 역할을 한다. "
   ]
  },
  {
   "cell_type": "code",
   "execution_count": 11,
   "id": "3d13062a-24cd-45b8-a0a3-33ba4f4b0a91",
   "metadata": {},
   "outputs": [
    {
     "name": "stdout",
     "output_type": "stream",
     "text": [
      "0\n",
      "1\n",
      "2\n",
      "3\n",
      "4\n",
      "5\n"
     ]
    }
   ],
   "source": [
    "for i in range(9) :\n",
    "    if i == 6 : break #6 : ended x, 16 : ended o, 왜? ended가 뜨기 전에 range 안에서 코드가 끝났기 때문. \n",
    "    print(i)\n",
    "else : \n",
    "    print(\"ended\")"
   ]
  },
  {
   "cell_type": "code",
   "execution_count": 39,
   "id": "e22a9202-bb41-4ce5-b9fc-897f04829d08",
   "metadata": {},
   "outputs": [
    {
     "name": "stdout",
     "output_type": "stream",
     "text": [
      "0\n",
      "1\n",
      "2\n",
      "3\n",
      "4\n",
      "5\n",
      "7\n",
      "8\n",
      "9\n",
      "ended\n"
     ]
    }
   ],
   "source": [
    "for i in range(10) :\n",
    "    if i == 6 : \n",
    "        continue\n",
    "    print(i)\n",
    "else : \n",
    "    print(\"ended\")"
   ]
  },
  {
   "cell_type": "code",
   "execution_count": 43,
   "id": "5afdea1a-1fbc-48d3-a633-7cf5eaba25a3",
   "metadata": {},
   "outputs": [
    {
     "name": "stdout",
     "output_type": "stream",
     "text": [
      "0\n",
      "1\n",
      "2\n",
      "3\n",
      "4\n"
     ]
    }
   ],
   "source": [
    "j = 0 #항상 변수를 초기화 해 줄 것!\n",
    "while j < 5 : #01234\n",
    "    print(j) #01234\n",
    "    if j == 4 : break\n",
    "    j += 1 #12345\n",
    "else :\n",
    "    print(\"\") #else...?"
   ]
  },
  {
   "cell_type": "code",
   "execution_count": 45,
   "id": "b261953d-6c91-414b-9ef7-ec56bf5ee58c",
   "metadata": {},
   "outputs": [
    {
     "data": {
      "text/plain": [
       "4"
      ]
     },
     "execution_count": 45,
     "metadata": {},
     "output_type": "execute_result"
    }
   ],
   "source": [
    "j"
   ]
  },
  {
   "cell_type": "markdown",
   "id": "9fda199b-df40-4176-824e-938f97ca0c68",
   "metadata": {},
   "source": [
    "### 구구단\n",
    "* 1. for, while 선택한 뒤, n단을 입력받아서 n단을 출력한다.\n",
    "    * 출력 : == 3단 ==\n",
    "              3 x 1 = 3\n",
    "              3 x 2 = 6\n",
    "              ...\n",
    "              3 x 9 = 27\n",
    "\n",
    "* 2. 1 ~ n단까지 출력한다. \n",
    "\n",
    "* 3. 시작단, 끝단 둘 다 입력받을 것\n",
    "    * ex) 4 - 7단\n",
    "    * 시작단이 끝단보다 작을 때 어떻게 처리할지\n",
    "    \n",
    "* 4. 프로그램으로 만든다.\n",
    "    * 1) n단, 2) 1-n단 3) n-m단\n",
    "    * 메뉴에 없는 선택 처리"
   ]
  },
  {
   "cell_type": "code",
   "execution_count": 56,
   "id": "271fece4-b829-490c-be07-9cf66dd358b9",
   "metadata": {},
   "outputs": [
    {
     "name": "stdin",
     "output_type": "stream",
     "text": [
      "숫자를 입력하세요 :  4\n"
     ]
    }
   ],
   "source": [
    "n = int(input(\"숫자를 입력하세요 : \"))"
   ]
  },
  {
   "cell_type": "code",
   "execution_count": 68,
   "id": "8c42b915-01bb-4628-910f-9e850cbae23c",
   "metadata": {},
   "outputs": [
    {
     "name": "stdout",
     "output_type": "stream",
     "text": [
      "== 4단 ==\n",
      "4 x 1 = 4\n",
      "4 x 2 = 8\n",
      "4 x 3 = 12\n",
      "4 x 4 = 16\n",
      "4 x 5 = 20\n",
      "4 x 6 = 24\n",
      "4 x 7 = 28\n",
      "4 x 8 = 32\n",
      "4 x 9 = 36\n"
     ]
    }
   ],
   "source": [
    "for n in range(n, n+1) : #한 단\n",
    "    print(f'== {n}단 ==')\n",
    "    for i in range(1, 10) :\n",
    "        print(f'{n} x {i} = {n*i}')"
   ]
  },
  {
   "cell_type": "code",
   "execution_count": 69,
   "id": "98576d43-e373-458a-b89d-76304920af13",
   "metadata": {},
   "outputs": [
    {
     "name": "stdout",
     "output_type": "stream",
     "text": [
      "== 2단 ==\n",
      "2 x 1 = 2\n",
      "2 x 2 = 4\n",
      "2 x 3 = 6\n",
      "2 x 4 = 8\n",
      "2 x 5 = 10\n",
      "2 x 6 = 12\n",
      "2 x 7 = 14\n",
      "2 x 8 = 16\n",
      "2 x 9 = 18\n",
      "== 3단 ==\n",
      "3 x 1 = 3\n",
      "3 x 2 = 6\n",
      "3 x 3 = 9\n",
      "3 x 4 = 12\n",
      "3 x 5 = 15\n",
      "3 x 6 = 18\n",
      "3 x 7 = 21\n",
      "3 x 8 = 24\n",
      "3 x 9 = 27\n",
      "== 4단 ==\n",
      "4 x 1 = 4\n",
      "4 x 2 = 8\n",
      "4 x 3 = 12\n",
      "4 x 4 = 16\n",
      "4 x 5 = 20\n",
      "4 x 6 = 24\n",
      "4 x 7 = 28\n",
      "4 x 8 = 32\n",
      "4 x 9 = 36\n"
     ]
    }
   ],
   "source": [
    "for n in range(2, n+1) : #여러 단\n",
    "    print(f'== {n}단 ==')\n",
    "    for i in range(1, 10) :\n",
    "        print(f'{n} x {i} = {n*i}')"
   ]
  },
  {
   "cell_type": "code",
   "execution_count": 85,
   "id": "7a66fd43-17a5-4aca-bee9-78914f29a69b",
   "metadata": {},
   "outputs": [
    {
     "name": "stdin",
     "output_type": "stream",
     "text": [
      "숫자를 입력하세요 :  1\n",
      "숫자를 입력하세요 :  3\n"
     ]
    },
    {
     "name": "stdout",
     "output_type": "stream",
     "text": [
      "== 1단 ==\n",
      "1 x 1 = 1\n",
      "1 x 2 = 2\n",
      "1 x 3 = 3\n",
      "1 x 4 = 4\n",
      "1 x 5 = 5\n",
      "1 x 6 = 6\n",
      "1 x 7 = 7\n",
      "1 x 8 = 8\n",
      "1 x 9 = 9\n",
      "== 2단 ==\n",
      "2 x 1 = 2\n",
      "2 x 2 = 4\n",
      "2 x 3 = 6\n",
      "2 x 4 = 8\n",
      "2 x 5 = 10\n",
      "2 x 6 = 12\n",
      "2 x 7 = 14\n",
      "2 x 8 = 16\n",
      "2 x 9 = 18\n",
      "== 3단 ==\n",
      "3 x 1 = 3\n",
      "3 x 2 = 6\n",
      "3 x 3 = 9\n",
      "3 x 4 = 12\n",
      "3 x 5 = 15\n",
      "3 x 6 = 18\n",
      "3 x 7 = 21\n",
      "3 x 8 = 24\n",
      "3 x 9 = 27\n"
     ]
    }
   ],
   "source": [
    "n = int(input(\"숫자를 입력하세요 : \"))\n",
    "m = int(input(\"숫자를 입력하세요 : \")) #x > n일 때 어떻게 할 것인가?\n",
    "\n",
    "#if n > m : #switch 같은 거 없나? replace -> 아예 대체하므로 x\n",
    "    \n",
    "for n in range(n, m+1) :\n",
    "    print(f'== {n}단 ==')\n",
    "    for i in range(1, 10) :\n",
    "        print(f'{n} x {i} = {n*i}')"
   ]
  },
  {
   "cell_type": "code",
   "execution_count": 35,
   "id": "c61cd90b-12e9-4989-9d7e-ce36f3381244",
   "metadata": {},
   "outputs": [
    {
     "name": "stdin",
     "output_type": "stream",
     "text": [
      "다음 세 가지 중 하나를 골라주세요 : 1, 2, 3 3\n",
      "숫자를 입력하세요 :  5\n",
      "숫자를 입력하세요 :  2\n",
      "첫단의 숫자가 끝단의 숫자보다 큽니다. 정말 이대로 하시겠습니까? 네 : 1, 아니오 : 2 2\n",
      "숫자를 입력하세요 :  3\n",
      "숫자를 입력하세요 :  4\n"
     ]
    },
    {
     "name": "stdout",
     "output_type": "stream",
     "text": [
      "== 3단 ==\n",
      "3 x 1 = 3\n",
      "3 x 2 = 6\n",
      "3 x 3 = 9\n",
      "3 x 4 = 12\n",
      "3 x 5 = 15\n",
      "3 x 6 = 18\n",
      "3 x 7 = 21\n",
      "3 x 8 = 24\n",
      "3 x 9 = 27\n",
      "== 4단 ==\n",
      "4 x 1 = 4\n",
      "4 x 2 = 8\n",
      "4 x 3 = 12\n",
      "4 x 4 = 16\n",
      "4 x 5 = 20\n",
      "4 x 6 = 24\n",
      "4 x 7 = 28\n",
      "4 x 8 = 32\n",
      "4 x 9 = 36\n"
     ]
    }
   ],
   "source": [
    "choice = int(input(\"다음 세 가지 중 하나를 골라주세요 : 1, 2, 3\"))\n",
    "\n",
    "if choice == 1 : \n",
    "    n = int(input(\"숫자를 입력하세요 : \"))\n",
    "    \n",
    "    for n in range(n, n+1) : #한 단\n",
    "        print(f'== {n}단 ==')\n",
    "        for i in range(1, 10) :\n",
    "            print(f'{n} x {i} = {n*i}')\n",
    "\n",
    "elif choice == 2 :\n",
    "    n = int(input(\"숫자를 입력하세요 : \"))\n",
    "    \n",
    "    for n in range(1, n+1) : #여러 단\n",
    "        print(f'== {n}단 ==')\n",
    "        for i in range(1, 10) :\n",
    "            print(f'{n} x {i} = {n*i}')\n",
    "        \n",
    "elif choice == 3 : \n",
    "    n = int(input(\"숫자를 입력하세요 : \"))\n",
    "    m = int(input(\"숫자를 입력하세요 : \")) #x > n일 때 어떻게 할 것인가? \n",
    "    #-> 함수 없이도 그냥 코드에서 x랑 n이랑 바꿔 넣으면 됨! ++ 이걸 의도한 게 맞는지 한 번 더 물어보고 맞다면 #가보자고\n",
    "    if n>m :\n",
    "        choice_2 = int(input(\"첫단의 숫자가 끝단의 숫자보다 큽니다. 정말 이대로 하시겠습니까? 네 : 1, 아니오 : 2\"))\n",
    "        if choice_2 == 1 :\n",
    "            \n",
    "            for m in range(m, n+1) :\n",
    "                print(f'== {m}단 ==')\n",
    "                for i in range(1, 10) :\n",
    "                    print(f'{m} x {i} = {m*i}')\n",
    "                \n",
    "        else : \n",
    "            n = int(input(\"숫자를 입력하세요 : \"))\n",
    "            m = int(input(\"숫자를 입력하세요 : \"))\n",
    "    \n",
    "            for n in range(n, m+1) :\n",
    "                print(f'== {n}단 ==')\n",
    "                for i in range(1, 10) :\n",
    "                      print(f'{n} x {i} = {n*i}')\n",
    "    else :\n",
    "         for n in range(n, m+1) :\n",
    "                    print(f'== {n}단 ==')\n",
    "                    for i in range(1, 10) :\n",
    "                        print(f'{n} x {i} = {n*i}')\n",
    "else :\n",
    "    print(\"다시 입력해 주세요.\")"
   ]
  },
  {
   "cell_type": "markdown",
   "id": "20b3f0f2-7084-4847-8613-e3c19ad303b8",
   "metadata": {
    "tags": []
   },
   "source": [
    "### print formatting\n",
    "* 1. f string\n",
    "    * f, F 둘 다 사용 가능하다.\n",
    "    * f'{var}' #var = variable\n",
    "* 2. format\n",
    "    * '{}'.format(var)\n",
    "* 3. %\n",
    "    * ' %type ' %var #3번은 조금 구식, 그래서 1번, 2번을 자주 쓴다!\n",
    "\n",
    "* print('', a, '', b) 이제 이렇게 쓰면 x!"
   ]
  },
  {
   "cell_type": "code",
   "execution_count": 13,
   "id": "d3c537c0-4d74-426d-92c1-36387d2e8b46",
   "metadata": {},
   "outputs": [
    {
     "name": "stdout",
     "output_type": "stream",
     "text": [
      "나의 이름은 Jin\n"
     ]
    }
   ],
   "source": [
    "name = 'Jin'\n",
    "print(f'나의 이름은 {name}')"
   ]
  },
  {
   "cell_type": "code",
   "execution_count": 14,
   "id": "ab147286-ac1e-4e94-b7c0-4887357ec5d2",
   "metadata": {},
   "outputs": [
    {
     "name": "stdout",
     "output_type": "stream",
     "text": [
      "너의 이름은 Jin?\n"
     ]
    }
   ],
   "source": [
    "print('너의 이름은 {}?'.format(name))"
   ]
  },
  {
   "cell_type": "code",
   "execution_count": null,
   "id": "6217697c-5e06-42e4-9a15-338d7125a8db",
   "metadata": {},
   "outputs": [
    {
     "name": "stdout",
     "output_type": "stream",
     "text": [
      "너의 이름은 J?\n"
     ]
    }
   ],
   "source": [
    "print('너의 이름은 {:.1s}?'.format(name)) #소수점 출력하기 용이"
   ]
  },
  {
   "cell_type": "code",
   "execution_count": null,
   "id": "9e81e09d-0043-4f9a-91ee-be85771bd924",
   "metadata": {},
   "outputs": [
    {
     "name": "stdout",
     "output_type": "stream",
     "text": [
      "나의 이름은 Jin입니다\n"
     ]
    }
   ],
   "source": [
    "print('나의 이름은 %s입니다'%name)"
   ]
  },
  {
   "cell_type": "code",
   "execution_count": null,
   "id": "b5c5767a-5384-49a7-9af9-b262e496fd24",
   "metadata": {},
   "outputs": [
    {
     "name": "stdout",
     "output_type": "stream",
     "text": [
      "나의 이름은 name='Jin'\n"
     ]
    }
   ],
   "source": [
    "print(f'나의 이름은 {name=}') #=을 넣으면 변수 이름까지 같이 출력이 된다."
   ]
  },
  {
   "cell_type": "markdown",
   "id": "8542ec7f-553e-448b-aed5-8df4d4cb24d5",
   "metadata": {
    "tags": []
   },
   "source": [
    "### NLTK Corpus\n",
    "* 다양한 종류의 코퍼스가 있다.\n",
    "* 이를 활용해 더 다양한 언어 분석이 가능하다.\n",
    "\n",
    "* 종류\n",
    "    * gutenberg\n",
    "    * brown\n",
    "    * inaugural\n",
    "* 함수\n",
    "    * words()\n",
    "    * sents()\n",
    "    * fileids()\n",
    "    * raw()"
   ]
  },
  {
   "cell_type": "code",
   "execution_count": 36,
   "id": "21a71e98-a12c-4637-b6e9-efdaa82d5ae5",
   "metadata": {
    "tags": []
   },
   "outputs": [
    {
     "data": {
      "text/plain": [
       "True"
      ]
     },
     "execution_count": 36,
     "metadata": {},
     "output_type": "execute_result"
    }
   ],
   "source": [
    "import nltk\n",
    "from nltk.corpus import gutenberg\n",
    "nltk.download('gutenberg', quiet = True)"
   ]
  },
  {
   "cell_type": "code",
   "execution_count": 37,
   "id": "5764de5d-e134-41e3-aa33-7f367c176ffb",
   "metadata": {},
   "outputs": [
    {
     "data": {
      "text/plain": [
       "<PlaintextCorpusReader in 'C:\\\\Users\\\\gyj19\\\\AppData\\\\Roaming\\\\nltk_data\\\\corpora\\\\gutenberg'>"
      ]
     },
     "execution_count": 37,
     "metadata": {},
     "output_type": "execute_result"
    }
   ],
   "source": [
    "gutenberg"
   ]
  },
  {
   "cell_type": "code",
   "execution_count": 38,
   "id": "e4b09598-12a3-425e-8f88-45cdecad1f41",
   "metadata": {
    "tags": []
   },
   "outputs": [
    {
     "data": {
      "text/plain": [
       "['[', 'Emma', 'by', 'Jane', 'Austen', '1816', ']', ...]"
      ]
     },
     "execution_count": 38,
     "metadata": {},
     "output_type": "execute_result"
    }
   ],
   "source": [
    "gutenberg.words()"
   ]
  },
  {
   "cell_type": "code",
   "execution_count": 39,
   "id": "cc810e21-c4ff-46d6-be4a-5e7ba655d77c",
   "metadata": {},
   "outputs": [
    {
     "data": {
      "text/plain": [
       "['austen-emma.txt',\n",
       " 'austen-persuasion.txt',\n",
       " 'austen-sense.txt',\n",
       " 'bible-kjv.txt',\n",
       " 'blake-poems.txt',\n",
       " 'bryant-stories.txt',\n",
       " 'burgess-busterbrown.txt',\n",
       " 'carroll-alice.txt',\n",
       " 'chesterton-ball.txt',\n",
       " 'chesterton-brown.txt',\n",
       " 'chesterton-thursday.txt',\n",
       " 'edgeworth-parents.txt',\n",
       " 'melville-moby_dick.txt',\n",
       " 'milton-paradise.txt',\n",
       " 'shakespeare-caesar.txt',\n",
       " 'shakespeare-hamlet.txt',\n",
       " 'shakespeare-macbeth.txt',\n",
       " 'whitman-leaves.txt']"
      ]
     },
     "execution_count": 39,
     "metadata": {},
     "output_type": "execute_result"
    }
   ],
   "source": [
    "gutenberg.fileids() #gutenberg = 저작권이 만료된 작품들을 모아둔 것!"
   ]
  },
  {
   "cell_type": "code",
   "execution_count": 44,
   "id": "ad6c1b65-c885-4b0b-985e-3069cbfb74e7",
   "metadata": {},
   "outputs": [],
   "source": [
    "#문제 : 구텐버그의 각 파일을 돌아가면서 글자 수, 단어 수, 문장 수를 출력합니다.\n",
    "\n",
    "#오답_1 : gutenberg에는 token이 존재하지 않는다!\n",
    "\n",
    "#for len(gutenberg.tokens()) in range gutenberg.fileids(1, 19)\n",
    "#for len(gutenberg.words()) in range gutenberg.fileids(1, 19)\n",
    "#for len(gutenberg.sents()) in range gutenberg.fileids(1, 19)"
   ]
  },
  {
   "cell_type": "code",
   "execution_count": 57,
   "id": "f7f93b9c-7e6f-4bbb-9eb4-61174e563481",
   "metadata": {},
   "outputs": [],
   "source": [
    "#오답_2 : 오답_1과 동일하다.\n",
    "\n",
    "#len(gutenberg.tokens())"
   ]
  },
  {
   "cell_type": "code",
   "execution_count": 43,
   "id": "d0f090a8-9431-4e4c-a48a-2ffaedd02be0",
   "metadata": {},
   "outputs": [
    {
     "data": {
      "text/plain": [
       "2621613"
      ]
     },
     "execution_count": 43,
     "metadata": {},
     "output_type": "execute_result"
    }
   ],
   "source": [
    "len(gutenberg.words())"
   ]
  },
  {
   "cell_type": "code",
   "execution_count": 54,
   "id": "6ef69d51-479a-4100-9e43-15ba6312e166",
   "metadata": {},
   "outputs": [],
   "source": [
    "#오답_3 : len(gutenberg.sents())은 변수가 아니다.\n",
    "\n",
    "#for len(gutenberg.sents()) in range gutenberg.fileids(1, 19)"
   ]
  },
  {
   "cell_type": "code",
   "execution_count": null,
   "id": "b2a88d93-3064-4201-85b8-cd86148dcd8e",
   "metadata": {},
   "outputs": [],
   "source": [
    "#?_? 혼란스럽다"
   ]
  },
  {
   "cell_type": "code",
   "execution_count": 56,
   "id": "5973df69-b8d3-4096-b474-0384bdedfbd6",
   "metadata": {},
   "outputs": [],
   "source": [
    "#오답_4 : 파일 제목.words()는 틀린 형식이다. 쓰려면 아래칸의 코드와 같이 써야 한다.\n",
    "\n",
    "#len('austen-emma.txt'.words())"
   ]
  },
  {
   "cell_type": "code",
   "execution_count": 25,
   "id": "56dfd668-04ea-488d-8e8f-2addcb482733",
   "metadata": {},
   "outputs": [
    {
     "data": {
      "text/plain": [
       "7752"
      ]
     },
     "execution_count": 25,
     "metadata": {},
     "output_type": "execute_result"
    }
   ],
   "source": [
    "len(gutenberg.sents('austen-emma.txt'))"
   ]
  },
  {
   "cell_type": "code",
   "execution_count": 58,
   "id": "2ca15d35-4f44-433c-b27b-81b10ecf9367",
   "metadata": {},
   "outputs": [],
   "source": [
    "#오답_5 : 오답_1과 동일하다. \n",
    "\n",
    "#len(gutenberg.tokens('austen-emma.txt'))"
   ]
  },
  {
   "cell_type": "code",
   "execution_count": 59,
   "id": "6eb3a539-f8b9-440d-8cf5-2c9a21b15d06",
   "metadata": {},
   "outputs": [],
   "source": [
    "#오답_6 : gutenberg.words()는 변수가 아니다.\n",
    "\n",
    "#for gutenberg.words() in range gutenberg.fileids(1, 19) :\n",
    "#    print(len(gutenberg.words('austen-emma.txt')))"
   ]
  },
  {
   "cell_type": "code",
   "execution_count": 93,
   "id": "325a3777-96d5-4a3b-b55f-08ace6a79857",
   "metadata": {},
   "outputs": [
    {
     "name": "stdout",
     "output_type": "stream",
     "text": [
      "austen-emma\n",
      " 글자 수 : 887071 | 단어 수 : 192427 | 문장 수 : 7752\n",
      "austen-persuasion\n",
      " 글자 수 : 466292 | 단어 수 : 98171 | 문장 수 : 3747\n",
      "austen-sense\n",
      " 글자 수 : 673022 | 단어 수 : 141576 | 문장 수 : 4999\n",
      "bible-kjv\n",
      " 글자 수 : 4332554 | 단어 수 : 1010654 | 문장 수 : 30103\n",
      "blake-poems\n",
      " 글자 수 : 38153 | 단어 수 : 8354 | 문장 수 : 438\n",
      "bryant-stories\n",
      " 글자 수 : 249439 | 단어 수 : 55563 | 문장 수 : 2863\n",
      "burgess-busterbrown\n",
      " 글자 수 : 84663 | 단어 수 : 18963 | 문장 수 : 1054\n",
      "carroll-alice\n",
      " 글자 수 : 144395 | 단어 수 : 34110 | 문장 수 : 1703\n",
      "chesterton-ball\n",
      " 글자 수 : 457450 | 단어 수 : 96996 | 문장 수 : 4779\n",
      "chesterton-brown\n",
      " 글자 수 : 406629 | 단어 수 : 86063 | 문장 수 : 3806\n",
      "chesterton-thursday\n",
      " 글자 수 : 320525 | 단어 수 : 69213 | 문장 수 : 3742\n",
      "edgeworth-parents\n",
      " 글자 수 : 935158 | 단어 수 : 210663 | 문장 수 : 10230\n",
      "melville-moby_dick\n",
      " 글자 수 : 1242990 | 단어 수 : 260819 | 문장 수 : 10059\n",
      "milton-paradise\n",
      " 글자 수 : 468220 | 단어 수 : 96825 | 문장 수 : 1851\n",
      "shakespeare-caesar\n",
      " 글자 수 : 112310 | 단어 수 : 25833 | 문장 수 : 2163\n",
      "shakespeare-hamlet\n",
      " 글자 수 : 162881 | 단어 수 : 37360 | 문장 수 : 3106\n",
      "shakespeare-macbeth\n",
      " 글자 수 : 100351 | 단어 수 : 23140 | 문장 수 : 1907\n",
      "whitman-leaves\n",
      " 글자 수 : 711215 | 단어 수 : 154883 | 문장 수 : 4250\n"
     ]
    }
   ],
   "source": [
    "for files in gutenberg.fileids() :\n",
    "    raw = len(gutenberg.raw(files))\n",
    "    words = len(gutenberg.words(files))\n",
    "    sentences = len(gutenberg.sents(files))\n",
    "    \n",
    "    print(f'{files[:-4]}\\n 글자 수 : {raw} | 단어 수 : {words} | 문장 수 : {sentences}') #[:-4]는 .txt를 빼기 위함!"
   ]
  },
  {
   "cell_type": "markdown",
   "id": "734a06ea-fc28-4a85-a76f-05bee913bd20",
   "metadata": {
    "tags": []
   },
   "source": [
    "### NLTK 관련"
   ]
  },
  {
   "cell_type": "markdown",
   "id": "cb91904f-9093-495f-aab9-fa525cca8acf",
   "metadata": {},
   "source": [
    "* texts = [text1, ...]\n",
    "* 1. text 1-9 -> str 'text1'\n",
    "* 2. 'text1'에 기능을 부여한다. getattr(library, string_name)"
   ]
  },
  {
   "cell_type": "markdown",
   "id": "3c667158-ef28-4ea7-9785-8612742c2fe5",
   "metadata": {},
   "source": [
    "* text1 vs. 'text1'\n",
    "    * 전자는 nltk.book의 text1, 후자는 string"
   ]
  },
  {
   "cell_type": "markdown",
   "id": "85fc4682-1482-48de-9da6-fda6958891ba",
   "metadata": {},
   "source": [
    "* getattr\n",
    "    * library 내부의 name이라는 멤버를 반환한다.\n",
    "    * str을 attribute화 시킬 수 있다."
   ]
  },
  {
   "cell_type": "code",
   "execution_count": 130,
   "id": "35c24fd9-a9ba-4b9e-98e1-f218d2da02cf",
   "metadata": {},
   "outputs": [
    {
     "name": "stdout",
     "output_type": "stream",
     "text": [
      "[<Text: Moby Dick by Herman Melville 1851>, <Text: Sense and Sensibility by Jane Austen 1811>, <Text: The Book of Genesis>, <Text: Inaugural Address Corpus>, <Text: Chat Corpus>, <Text: Monty Python and the Holy Grail>, <Text: Wall Street Journal>, <Text: Personals Corpus>, <Text: The Man Who Was Thursday by G . K . Chesterton 1908>]\n",
      "<Text: Sense and Sensibility by Jane Austen 1811>\n"
     ]
    }
   ],
   "source": [
    "print(texts := [getattr(nltk.book, f'text{i}') for i in range(1, 10)])\n",
    "print(texts[1])"
   ]
  },
  {
   "cell_type": "code",
   "execution_count": 133,
   "id": "cc00a482-9a0f-4823-a0a9-cf2058225a65",
   "metadata": {},
   "outputs": [
    {
     "data": {
      "text/plain": [
       "27"
      ]
     },
     "execution_count": 133,
     "metadata": {},
     "output_type": "execute_result"
    }
   ],
   "source": [
    "corpus1 = gutenberg.words(fileids = 'whitman-leaves.txt')\n",
    "fdist = nltk.FreqDist([w for w in corpus1])\n",
    "fdist['tree']"
   ]
  },
  {
   "cell_type": "code",
   "execution_count": 132,
   "id": "a4ad49fa-4a36-4f7a-9aef-eec9d5c7c11b",
   "metadata": {},
   "outputs": [
    {
     "data": {
      "text/plain": [
       "4"
      ]
     },
     "execution_count": 132,
     "metadata": {},
     "output_type": "execute_result"
    }
   ],
   "source": [
    "corpus2 = gutenberg.words(fileids = 'austen-emma.txt')\n",
    "fdist = nltk.FreqDist([w for w in corpus2])\n",
    "fdist['tree']"
   ]
  },
  {
   "cell_type": "markdown",
   "id": "3116bf1d-008a-47a5-9af8-f60a19ba2fcc",
   "metadata": {
    "tags": []
   },
   "source": [
    "## Brown\n",
    "* catrgories()"
   ]
  },
  {
   "cell_type": "code",
   "execution_count": 95,
   "id": "d3a65106-7f83-4454-99d0-acf980e4c424",
   "metadata": {},
   "outputs": [
    {
     "name": "stderr",
     "output_type": "stream",
     "text": [
      "[nltk_data] Downloading package brown to\n",
      "[nltk_data]     C:\\Users\\gyj19\\AppData\\Roaming\\nltk_data...\n",
      "[nltk_data]   Package brown is already up-to-date!\n"
     ]
    }
   ],
   "source": [
    "#from nltk.corpus import brown\n",
    "nltk.download('brown')\n",
    "brown_corpus = nltk.corpus.brown"
   ]
  },
  {
   "cell_type": "code",
   "execution_count": 96,
   "id": "abe90f34-1607-466e-a728-bdd78f2ef244",
   "metadata": {},
   "outputs": [
    {
     "data": {
      "text/plain": [
       "['adventure',\n",
       " 'belles_lettres',\n",
       " 'editorial',\n",
       " 'fiction',\n",
       " 'government',\n",
       " 'hobbies',\n",
       " 'humor',\n",
       " 'learned',\n",
       " 'lore',\n",
       " 'mystery',\n",
       " 'news',\n",
       " 'religion',\n",
       " 'reviews',\n",
       " 'romance',\n",
       " 'science_fiction']"
      ]
     },
     "execution_count": 96,
     "metadata": {},
     "output_type": "execute_result"
    }
   ],
   "source": [
    "brown_corpus.categories()"
   ]
  },
  {
   "cell_type": "code",
   "execution_count": 100,
   "id": "7695da3d-7430-4eb6-839c-fdcb03d519b2",
   "metadata": {},
   "outputs": [
    {
     "data": {
      "text/plain": [
       "['It', 'was', 'among', 'these', 'that', 'Hinkle', ...]"
      ]
     },
     "execution_count": 100,
     "metadata": {},
     "output_type": "execute_result"
    }
   ],
   "source": [
    "brown_corpus.words(categories = 'humor')"
   ]
  },
  {
   "cell_type": "code",
   "execution_count": 97,
   "id": "edf653c0-c2c0-4a67-8d19-fc21ad1bc0b3",
   "metadata": {},
   "outputs": [],
   "source": [
    "humor = brown_corpus.words(categories = 'humor')"
   ]
  },
  {
   "cell_type": "code",
   "execution_count": 103,
   "id": "ce9953de-734d-414e-84d1-1680276d7078",
   "metadata": {},
   "outputs": [
    {
     "name": "stdout",
     "output_type": "stream",
     "text": [
      "can 17\n",
      "could 33\n",
      "may 8\n",
      "might 8\n",
      "will 13\n",
      "would 56\n"
     ]
    }
   ],
   "source": [
    "#modal verbs의 쓰임을 알아보자! (modal verbs : 법조동사(가능성, 허락, 의도 등을 나타내는 조동사))\n",
    "\n",
    "modals = ['can', 'could', 'may', 'might', 'will', 'would']\n",
    "\n",
    "fdist_brown = nltk.FreqDist([w.lower() for w in humor]) #lower() : 문자열의 대문자를 소문자로 반환한다. FreqDist : 빈도수\n",
    "\n",
    "for verb in modals :\n",
    "    print(verb, fdist_brown[verb])"
   ]
  },
  {
   "cell_type": "markdown",
   "id": "a2e606aa-7ade-48a9-82d4-36e7d30b0d48",
   "metadata": {},
   "source": [
    "#### Conditional Frequency Distribution(CFD)\n",
    "* 조건이 붙은 fdist"
   ]
  },
  {
   "cell_type": "code",
   "execution_count": 108,
   "id": "d9f94108-41b1-4bd2-a529-c789ef927b7f",
   "metadata": {},
   "outputs": [],
   "source": [
    "cfd = nltk.ConditionalFreqDist(\n",
    "    #genre에 따른 fdist를 구해 보자!\n",
    "    (genre, word.lower())\n",
    "    for genre in brown_corpus.categories()\n",
    "    for word in brown_corpus.words(categories = genre)\n",
    ")"
   ]
  },
  {
   "cell_type": "code",
   "execution_count": 106,
   "id": "512c88b5-3fec-4a88-b14f-32e598175e8b",
   "metadata": {},
   "outputs": [
    {
     "data": {
      "text/plain": [
       "FreqDist({'.': 4057, 'the': 3780, ',': 3488, 'and': 1706, 'a': 1432, 'of': 1327, 'to': 1322, 'he': 1283, '``': 998, \"''\": 995, ...})"
      ]
     },
     "execution_count": 106,
     "metadata": {},
     "output_type": "execute_result"
    }
   ],
   "source": [
    "cfd['adventure']"
   ]
  },
  {
   "cell_type": "code",
   "execution_count": 107,
   "id": "7111d3f2-1add-406c-b830-60fada088895",
   "metadata": {},
   "outputs": [
    {
     "data": {
      "text/plain": [
       "[('.', 4057),\n",
       " ('the', 3780),\n",
       " (',', 3488),\n",
       " ('and', 1706),\n",
       " ('a', 1432),\n",
       " ('of', 1327),\n",
       " ('to', 1322),\n",
       " ('he', 1283),\n",
       " ('``', 998),\n",
       " (\"''\", 995),\n",
       " ('was', 919),\n",
       " ('in', 892),\n",
       " ('his', 846)]"
      ]
     },
     "execution_count": 107,
     "metadata": {},
     "output_type": "execute_result"
    }
   ],
   "source": [
    "cfd['adventure'].most_common(13)"
   ]
  },
  {
   "cell_type": "code",
   "execution_count": 112,
   "id": "eb76bbd3-f2b0-4234-ab4c-98e49915d97c",
   "metadata": {},
   "outputs": [
    {
     "name": "stdout",
     "output_type": "stream",
     "text": [
      "                 can could   may might  will would \n",
      "     adventure    48   154     7    59    51   194 \n",
      "belles_lettres   249   216   221   113   246   397 \n",
      "     editorial   124    57    79    39   235   185 \n",
      "       fiction    39   168    10    44    56   291 \n",
      "    government   119    38   179    13   244   120 \n"
     ]
    }
   ],
   "source": [
    "cfd.tabulate(conditions=brown_corpus.categories()[:5], samples = modals)"
   ]
  }
 ],
 "metadata": {
  "kernelspec": {
   "display_name": "Python 3 (ipykernel)",
   "language": "python",
   "name": "python3"
  },
  "language_info": {
   "codemirror_mode": {
    "name": "ipython",
    "version": 3
   },
   "file_extension": ".py",
   "mimetype": "text/x-python",
   "name": "python",
   "nbconvert_exporter": "python",
   "pygments_lexer": "ipython3",
   "version": "3.9.7"
  }
 },
 "nbformat": 4,
 "nbformat_minor": 5
}
