{
 "cells": [
  {
   "cell_type": "markdown",
   "id": "2e8f3160-4413-4176-ba6b-e816a3e75d93",
   "metadata": {},
   "source": [
    "### Dictionary\n",
    "- 영어사전이라고 생각하면 됨, 단어 : 뜻\n",
    "- 키 : 값\n",
    "    - 키 값은 고유해야 한다(중복 x).\n",
    "- 키를 가지고 값을 찾기 때문에 순서가 없음 => 오프셋(인덱스)이 없음\n",
    "- 가변 객체 (수정, 추가, 삭제 가능)\n",
    "- 타입 : dict, dict()\n",
    "- 생성 : {key 1 : value 1, key 2 : value 2, ... } 중괄호 사용!\n",
    "- value에는 리스트, 튜플, 딕셔너리 다 들어갈 수 있음.\n"
   ]
  },
  {
   "cell_type": "code",
   "execution_count": 3,
   "id": "2d10b617-679b-41a8-970b-b77d4eac7229",
   "metadata": {},
   "outputs": [
    {
     "data": {
      "text/plain": [
       "set()"
      ]
     },
     "execution_count": 3,
     "metadata": {},
     "output_type": "execute_result"
    }
   ],
   "source": [
    "a = [1, 2, 3]\n",
    "set(a)\n",
    "a = {}\n",
    "a = set() # dict과 set은 둘 다 {}를 사용하는데, dict은 set 불가!\n",
    "a"
   ]
  },
  {
   "cell_type": "code",
   "execution_count": 4,
   "id": "4db9cfc3-05a2-4c56-81c4-26a54c01f099",
   "metadata": {},
   "outputs": [
    {
     "data": {
      "text/plain": [
       "{}"
      ]
     },
     "execution_count": 4,
     "metadata": {},
     "output_type": "execute_result"
    }
   ],
   "source": [
    "empty = dict() #빈 딕셔너리 선언 1\n",
    "empty = {} # 2\n",
    "empty"
   ]
  },
  {
   "cell_type": "code",
   "execution_count": 5,
   "id": "8ff73c6b-92f2-4469-9ee5-0afdf440c89d",
   "metadata": {},
   "outputs": [
    {
     "data": {
      "text/plain": [
       "{'first': 'wile', 'middle': 'E', 'last': 'coyote'}"
      ]
     },
     "execution_count": 5,
     "metadata": {},
     "output_type": "execute_result"
    }
   ],
   "source": [
    "customer = {'first' : 'wile', 'middle' : 'E', 'last' : 'coyote'}\n",
    "customer"
   ]
  },
  {
   "cell_type": "code",
   "execution_count": 6,
   "id": "ade8798c-bbdf-49f3-b535-4ade3514336f",
   "metadata": {},
   "outputs": [
    {
     "data": {
      "text/plain": [
       "{'first': 'wile', 'middle': 'F', 'last': 'coyote'}"
      ]
     },
     "execution_count": 6,
     "metadata": {},
     "output_type": "execute_result"
    }
   ],
   "source": [
    "customer = dict(first = 'wile', middle = 'F', last = 'coyote')\n",
    "customer"
   ]
  },
  {
   "cell_type": "code",
   "execution_count": 7,
   "id": "7a511f8b-3bd8-4278-a109-efd65f149954",
   "metadata": {},
   "outputs": [
    {
     "data": {
      "text/plain": [
       "{'James': ['202201', 'Business Administration department'],\n",
       " 'Juliet': ['202202', 'Arabic language department'],\n",
       " 'Robert': ['202203', 'ELLT department']}"
      ]
     },
     "execution_count": 7,
     "metadata": {},
     "output_type": "execute_result"
    }
   ],
   "source": [
    "# 출석부 딕셔너리 만들기\n",
    "\"\"\"\n",
    "이름, 학번, 학과\n",
    "제임스 202201 경영학과\n",
    "줄리엘 202202 아랍어과\n",
    "로버트 202203 ELLT과 \n",
    "\"\"\"\n",
    "#중요한 것은 무엇을 key로 잡을까! -> key값은 중복되면 안 되니까 학번!\n",
    "\n",
    "#key값을 이름으로 잡았을 때\n",
    "student_dic = {'James' : ['202201', 'Business Administration department'], \\\n",
    "               'Juliet' : ['202202', 'Arabic language department'],\\\n",
    "               'Robert' : ['202203', 'ELLT department']}\n",
    "student_dic"
   ]
  },
  {
   "cell_type": "code",
   "execution_count": 8,
   "id": "40fb82c8-aeb4-442c-9289-47bf6063bfaf",
   "metadata": {},
   "outputs": [
    {
     "data": {
      "text/plain": [
       "['James', 'Business Administration department']"
      ]
     },
     "execution_count": 8,
     "metadata": {},
     "output_type": "execute_result"
    }
   ],
   "source": [
    "# answer : key값을 학번으로 잡았을 때\n",
    "\n",
    "student_dict = {202201 : ['James', 'Business Administration department'], \\\n",
    "                202202 : ['Juliet', 'Arabic language department'], \\\n",
    "                202203 : ['Robert', 'ELLT department']}\n",
    "student_dict[202201]"
   ]
  },
  {
   "cell_type": "markdown",
   "id": "29dba79e-a881-45e4-9010-712fc79ec77d",
   "metadata": {},
   "source": [
    "#### 형변환"
   ]
  },
  {
   "cell_type": "code",
   "execution_count": 9,
   "id": "5eee98c8-d2e5-47ef-b003-2eb2269a0524",
   "metadata": {},
   "outputs": [
    {
     "data": {
      "text/plain": [
       "{20221: [], 3: 4, 5: 6}"
      ]
     },
     "execution_count": 9,
     "metadata": {},
     "output_type": "execute_result"
    }
   ],
   "source": [
    "# dict()\n",
    "ex1 = [[20221, []], [3, 4], [5, 6]]\n",
    "dict(ex1)"
   ]
  },
  {
   "cell_type": "code",
   "execution_count": 10,
   "id": "09127004-53c4-49ce-8fd3-f3b30c380128",
   "metadata": {},
   "outputs": [
    {
     "data": {
      "text/plain": [
       "{1: 2, 3: 4, 5: 6}"
      ]
     },
     "execution_count": 10,
     "metadata": {},
     "output_type": "execute_result"
    }
   ],
   "source": [
    "ex2 = [(1, 2), (3, 4), (5, 6)]\n",
    "dict(ex2)"
   ]
  },
  {
   "cell_type": "code",
   "execution_count": 11,
   "id": "8b818865-21a0-4a13-96f4-eeeea36719e3",
   "metadata": {},
   "outputs": [
    {
     "ename": "ValueError",
     "evalue": "dictionary update sequence element #0 has length 4; 2 is required",
     "output_type": "error",
     "traceback": [
      "\u001b[1;31m---------------------------------------------------------------------------\u001b[0m",
      "\u001b[1;31mValueError\u001b[0m                                Traceback (most recent call last)",
      "\u001b[1;32m~\\AppData\\Local\\Temp/ipykernel_11368/745482578.py\u001b[0m in \u001b[0;36m<module>\u001b[1;34m\u001b[0m\n\u001b[0;32m      1\u001b[0m \u001b[0mex3\u001b[0m \u001b[1;33m=\u001b[0m \u001b[1;33m[\u001b[0m\u001b[1;34m'abdd'\u001b[0m\u001b[1;33m,\u001b[0m \u001b[1;34m'bcdd'\u001b[0m\u001b[1;33m,\u001b[0m \u001b[1;34m'cddd'\u001b[0m\u001b[1;33m]\u001b[0m\u001b[1;33m\u001b[0m\u001b[1;33m\u001b[0m\u001b[0m\n\u001b[1;32m----> 2\u001b[1;33m \u001b[0mdict\u001b[0m\u001b[1;33m(\u001b[0m\u001b[0mex3\u001b[0m\u001b[1;33m)\u001b[0m \u001b[1;31m#문자열 딕셔너리 형변환 가능, 그러나 두 개 초과면 불가능! ab(o), abc(x)\u001b[0m\u001b[1;33m\u001b[0m\u001b[1;33m\u001b[0m\u001b[0m\n\u001b[0m",
      "\u001b[1;31mValueError\u001b[0m: dictionary update sequence element #0 has length 4; 2 is required"
     ]
    }
   ],
   "source": [
    "ex3 = ['abdd', 'bcdd', 'cddd']\n",
    "dict(ex3) #문자열 딕셔너리 형변환 가능, 그러나 두 개 초과면 불가능! ab(o), abc(x)"
   ]
  },
  {
   "cell_type": "markdown",
   "id": "4981a68c-6ccb-4e89-83e2-16704da5b3f8",
   "metadata": {},
   "source": [
    "#### 항목 조회 & 변경\n",
    "- 키로 항목을 찾아 값을 변경함."
   ]
  },
  {
   "cell_type": "code",
   "execution_count": 12,
   "id": "0ade6f52-b7d8-437b-871b-d2fc77f24083",
   "metadata": {},
   "outputs": [],
   "source": [
    "pythons = {\n",
    "    'Chapman' : 'Graham',\n",
    "    'Cleese' : 'John',\n",
    "    'Idle' : 'Eric',\n",
    "    'Jones' : 'Terry',\n",
    "    'Palin' : 'Michael'\n",
    "}"
   ]
  },
  {
   "cell_type": "code",
   "execution_count": 13,
   "id": "78cee694-39be-4845-abdf-37a161546bd2",
   "metadata": {},
   "outputs": [
    {
     "data": {
      "text/plain": [
       "'Eric'"
      ]
     },
     "execution_count": 13,
     "metadata": {},
     "output_type": "execute_result"
    }
   ],
   "source": [
    "pythons['Idle']"
   ]
  },
  {
   "cell_type": "code",
   "execution_count": 14,
   "id": "a6a3a9db-40e8-47c3-89fe-6ed44381a545",
   "metadata": {},
   "outputs": [
    {
     "ename": "KeyError",
     "evalue": "0",
     "output_type": "error",
     "traceback": [
      "\u001b[1;31m---------------------------------------------------------------------------\u001b[0m",
      "\u001b[1;31mKeyError\u001b[0m                                  Traceback (most recent call last)",
      "\u001b[1;32m~\\AppData\\Local\\Temp/ipykernel_11368/1930612047.py\u001b[0m in \u001b[0;36m<module>\u001b[1;34m\u001b[0m\n\u001b[1;32m----> 1\u001b[1;33m \u001b[0mpythons\u001b[0m\u001b[1;33m[\u001b[0m\u001b[1;36m0\u001b[0m\u001b[1;33m]\u001b[0m \u001b[1;31m# 안 됨\u001b[0m\u001b[1;33m\u001b[0m\u001b[1;33m\u001b[0m\u001b[0m\n\u001b[0m",
      "\u001b[1;31mKeyError\u001b[0m: 0"
     ]
    }
   ],
   "source": [
    "pythons[0] # 안 됨"
   ]
  },
  {
   "cell_type": "code",
   "execution_count": 15,
   "id": "16eda3e6-18b9-428d-9e7c-1390f8ef82fb",
   "metadata": {},
   "outputs": [
    {
     "data": {
      "text/plain": [
       "{'Chapman': 'Graham',\n",
       " 'Cleese': 'John',\n",
       " 'Idle': 'Erica',\n",
       " 'Jones': 'Terry',\n",
       " 'Palin': 'Michael'}"
      ]
     },
     "execution_count": 15,
     "metadata": {},
     "output_type": "execute_result"
    }
   ],
   "source": [
    "# 'Idle'값의 value 변경\n",
    "pythons['Idle'] = 'Erica'\n",
    "pythons"
   ]
  },
  {
   "cell_type": "code",
   "execution_count": 16,
   "id": "0a1d083e-0fab-48d1-ae40-731fc62ecf0f",
   "metadata": {},
   "outputs": [
    {
     "data": {
      "text/plain": [
       "{'Chapman': 'Graham',\n",
       " 'Cleese': 'John',\n",
       " 'Idle': 'Erica',\n",
       " 'Jones': 'Terry',\n",
       " 'Palin': 'Josh'}"
      ]
     },
     "execution_count": 16,
     "metadata": {},
     "output_type": "execute_result"
    }
   ],
   "source": [
    "pythons['Palin'] = 'Josh' #중복이 불가하므로, 이렇게 입력했을 경우 변경이 됨!\n",
    "pythons"
   ]
  },
  {
   "cell_type": "code",
   "execution_count": 17,
   "id": "99fbdf46-78f1-4f26-bcba-2e9f093b50c1",
   "metadata": {},
   "outputs": [
    {
     "data": {
      "text/plain": [
       "{'Chapman': 'Graham',\n",
       " 'Cleese': 'John',\n",
       " 'Idle': 'Erica',\n",
       " 'Jones': 'Terry',\n",
       " 'Palin': 'Josh',\n",
       " 'Kim': 'Laura'}"
      ]
     },
     "execution_count": 17,
     "metadata": {},
     "output_type": "execute_result"
    }
   ],
   "source": [
    "pythons['Kim'] = 'Laura' \n",
    "pythons #마지막에 추가됨"
   ]
  },
  {
   "cell_type": "code",
   "execution_count": 18,
   "id": "f2019005-0b89-43b5-9c17-d5e90a4f6357",
   "metadata": {},
   "outputs": [
    {
     "ename": "KeyError",
     "evalue": "'Lee'",
     "output_type": "error",
     "traceback": [
      "\u001b[1;31m---------------------------------------------------------------------------\u001b[0m",
      "\u001b[1;31mKeyError\u001b[0m                                  Traceback (most recent call last)",
      "\u001b[1;32m~\\AppData\\Local\\Temp/ipykernel_11368/1279799103.py\u001b[0m in \u001b[0;36m<module>\u001b[1;34m\u001b[0m\n\u001b[1;32m----> 1\u001b[1;33m \u001b[0mpythons\u001b[0m\u001b[1;33m[\u001b[0m\u001b[1;34m'Lee'\u001b[0m\u001b[1;33m]\u001b[0m \u001b[1;31m#value가 없을 때 찾으면 오류가 뜸\u001b[0m\u001b[1;33m\u001b[0m\u001b[1;33m\u001b[0m\u001b[0m\n\u001b[0m",
      "\u001b[1;31mKeyError\u001b[0m: 'Lee'"
     ]
    }
   ],
   "source": [
    "pythons['Lee'] #value가 없을 때 찾으면 오류가 뜸"
   ]
  },
  {
   "cell_type": "code",
   "execution_count": 19,
   "id": "583d1d48-66da-4295-a01f-ed7c33b9d08e",
   "metadata": {},
   "outputs": [
    {
     "data": {
      "text/plain": [
       "False"
      ]
     },
     "execution_count": 19,
     "metadata": {},
     "output_type": "execute_result"
    }
   ],
   "source": [
    "'Lee' in pythons #F면 안 타면 되니까!"
   ]
  },
  {
   "cell_type": "code",
   "execution_count": 20,
   "id": "6c355d53-98ba-455f-b54e-695e8396aa3b",
   "metadata": {},
   "outputs": [],
   "source": [
    "pythons.get('Lee') #없는 걸 넣으면 None이 반환됨"
   ]
  },
  {
   "cell_type": "code",
   "execution_count": 21,
   "id": "dccf7673-3c2a-4eb5-82e0-a5e02d3caf21",
   "metadata": {},
   "outputs": [
    {
     "data": {
      "text/plain": [
       "'Laura'"
      ]
     },
     "execution_count": 21,
     "metadata": {},
     "output_type": "execute_result"
    }
   ],
   "source": [
    "pythons.get('Kim')"
   ]
  },
  {
   "cell_type": "code",
   "execution_count": 22,
   "id": "3139c933-5e30-4be2-ad0b-afbe575f5eaa",
   "metadata": {},
   "outputs": [
    {
     "data": {
      "text/plain": [
       "0"
      ]
     },
     "execution_count": 22,
     "metadata": {},
     "output_type": "execute_result"
    }
   ],
   "source": [
    "pythons.get('Choi', 0) #이 키값이 없을 때는 0을 반환해라!"
   ]
  },
  {
   "cell_type": "markdown",
   "id": "e318ff8b-1ddf-4cd4-b263-a2c8d98989c2",
   "metadata": {},
   "source": [
    "#### keys(), values(), itmes()\n",
    "- keys\n",
    "- values\n",
    "- items"
   ]
  },
  {
   "cell_type": "code",
   "execution_count": 23,
   "id": "d98e5b02-dd1b-4cfd-829b-5ce1e67a1e95",
   "metadata": {},
   "outputs": [
    {
     "data": {
      "text/plain": [
       "['Chapman', 'Cleese', 'Idle', 'Jones', 'Palin', 'Kim']"
      ]
     },
     "execution_count": 23,
     "metadata": {},
     "output_type": "execute_result"
    }
   ],
   "source": [
    "# 바로 list로 반환 x, dict으로 되어있으므로 list로 변환시켜줄 것!\n",
    "list(pythons.keys())"
   ]
  },
  {
   "cell_type": "code",
   "execution_count": 24,
   "id": "6d8d3020-2760-4b35-90cb-a431c44b02c0",
   "metadata": {},
   "outputs": [
    {
     "data": {
      "text/plain": [
       "dict_values(['Graham', 'John', 'Erica', 'Terry', 'Josh', 'Laura'])"
      ]
     },
     "execution_count": 24,
     "metadata": {},
     "output_type": "execute_result"
    }
   ],
   "source": [
    "pythons.values()"
   ]
  },
  {
   "cell_type": "code",
   "execution_count": 25,
   "id": "15bbd66f-9470-4d2e-9462-44bb84adf099",
   "metadata": {},
   "outputs": [
    {
     "data": {
      "text/plain": [
       "dict_items([('Chapman', 'Graham'), ('Cleese', 'John'), ('Idle', 'Erica'), ('Jones', 'Terry'), ('Palin', 'Josh'), ('Kim', 'Laura')])"
      ]
     },
     "execution_count": 25,
     "metadata": {},
     "output_type": "execute_result"
    }
   ],
   "source": [
    "pythons.items()"
   ]
  },
  {
   "cell_type": "code",
   "execution_count": 26,
   "id": "47e5a35f-1941-4277-bc08-2cd9903ac57d",
   "metadata": {},
   "outputs": [
    {
     "data": {
      "text/plain": [
       "['Chapman', 'Cleese', 'Idle', 'Jones', 'Palin', 'Kim']"
      ]
     },
     "execution_count": 26,
     "metadata": {},
     "output_type": "execute_result"
    }
   ],
   "source": [
    "[x[0] for x in pythons.items()] #items를 사용하면 인덱싱 가능!"
   ]
  },
  {
   "cell_type": "code",
   "execution_count": 27,
   "id": "50c54cca-9c38-441a-9bb9-d2478803b8f2",
   "metadata": {},
   "outputs": [],
   "source": [
    "animal = 'cat snake monkey ant spider'.split()\n",
    "legs = 4, 0, 2, 4, 8\n",
    "\n",
    "#for loop 이용해서 animal : legs로 이뤄진 딕셔너리 만들기"
   ]
  },
  {
   "cell_type": "code",
   "execution_count": 28,
   "id": "e949b08f-1817-49af-8268-66468edc31d1",
   "metadata": {},
   "outputs": [
    {
     "data": {
      "text/plain": [
       "{'cat': 4, 'snake': 0, 'monkey': 2, 'ant': 4, 'spider': 8}"
      ]
     },
     "execution_count": 28,
     "metadata": {},
     "output_type": "execute_result"
    }
   ],
   "source": [
    "animal_legs = {}\n",
    "\n",
    "for i in range(len(animal)) :\n",
    "    animal_legs[animal[i]] = legs[i]\n",
    "    \n",
    "animal_legs"
   ]
  },
  {
   "cell_type": "code",
   "execution_count": 29,
   "id": "54893215-d905-41b4-8332-2b803f18b9f7",
   "metadata": {},
   "outputs": [
    {
     "data": {
      "text/plain": [
       "{'cat': 4, 'snake': 0, 'monkey': 2, 'ant': 4, 'spider': 8}"
      ]
     },
     "execution_count": 29,
     "metadata": {},
     "output_type": "execute_result"
    }
   ],
   "source": [
    "#answer\n",
    "\n",
    "animal_legs = []        \n",
    "for i in range(len(animal)):\n",
    "    key_value = [animal[i], legs[i]]\n",
    "    animal_legs.append(key_value)\n",
    "dict(animal_legs)"
   ]
  },
  {
   "cell_type": "code",
   "execution_count": 30,
   "id": "be2c3ab0-fa25-479f-8240-9f95aca0b505",
   "metadata": {},
   "outputs": [
    {
     "data": {
      "text/plain": [
       "{'cat': 4, 'snake': 0, 'monkey': 2, 'ant': 4, 'spider': 8}"
      ]
     },
     "execution_count": 30,
     "metadata": {},
     "output_type": "execute_result"
    }
   ],
   "source": [
    "#professor answer\n",
    "\n",
    "animal = 'cat snake monkey ant spider'.split()\n",
    "legs = 4, 0, 2, 4, 8\n",
    "\n",
    "#animal : leg\n",
    "animal_dic = {}\n",
    "for k, v in zip(animal, legs) : #zip : 여러 개의 리스트를 동시에 순회! 여러 리스트를 서로 엮는 것이 가능!\n",
    "    animal_dic[k] = v\n",
    "animal_dic"
   ]
  },
  {
   "cell_type": "code",
   "execution_count": 31,
   "id": "144bf262-8097-4743-a78a-8b54b6272d85",
   "metadata": {},
   "outputs": [
    {
     "data": {
      "text/plain": [
       "{'Chapman': 6, 'Cleese': 4, 'Idle': 5, 'Jones': 5, 'Palin': 4, 'Kim': 5}"
      ]
     },
     "execution_count": 31,
     "metadata": {},
     "output_type": "execute_result"
    }
   ],
   "source": [
    "#pythons에서 성 : 이름 => 리스트 컴프리핸션 이용해서 [(성 앞글자 : 이름의 글자 수)]\n",
    "#ex) [k[0] for k in pythons.items() and v[1] for v in pythons.items()]\n",
    "\n",
    "len_name = dict([(name[0], len(name[1])) for name in pythons.items()])\n",
    "len_name"
   ]
  },
  {
   "cell_type": "code",
   "execution_count": 32,
   "id": "55528641-f3ee-40d2-b88a-4e86a9072933",
   "metadata": {},
   "outputs": [
    {
     "data": {
      "text/plain": [
       "[('C', 6), ('C', 4), ('I', 5), ('J', 5), ('P', 4), ('K', 5)]"
      ]
     },
     "execution_count": 32,
     "metadata": {},
     "output_type": "execute_result"
    }
   ],
   "source": [
    "[(k[0], len(v)) for k, v in pythons.items()] # 중간에 (k, v)나 k, v나 똑같음!"
   ]
  },
  {
   "cell_type": "markdown",
   "id": "c56790bd-3cc6-4ab7-8c28-708883d16792",
   "metadata": {},
   "source": [
    "#### 값 수정, 삭제, 복제"
   ]
  },
  {
   "cell_type": "code",
   "execution_count": 33,
   "id": "6e658bf9-2d3f-426d-9880-fd50e6042411",
   "metadata": {},
   "outputs": [
    {
     "data": {
      "text/plain": [
       "{'Chapman': 'Graham',\n",
       " 'Cleese': 'John',\n",
       " 'Idle': 'Erica',\n",
       " 'Jones': 'Terry',\n",
       " 'Palin': 'Josh',\n",
       " 'Kim': 'Laura'}"
      ]
     },
     "execution_count": 33,
     "metadata": {},
     "output_type": "execute_result"
    }
   ],
   "source": [
    "pythons"
   ]
  },
  {
   "cell_type": "code",
   "execution_count": 34,
   "id": "b3d303be-8f61-4ef8-a420-1d17c0c1ae92",
   "metadata": {},
   "outputs": [
    {
     "data": {
      "text/plain": [
       "{'Chapman': 'Graham',\n",
       " 'Cleese': 'John',\n",
       " 'Idle': 'Erica',\n",
       " 'Jones': 'Terry',\n",
       " 'Palin': 'Josh',\n",
       " 'Kim': 'Laura',\n",
       " 'Marx': 'Groucho',\n",
       " 'Howard': 'Moe'}"
      ]
     },
     "execution_count": 34,
     "metadata": {},
     "output_type": "execute_result"
    }
   ],
   "source": [
    "others = {\n",
    "    'Marx' : 'Groucho',\n",
    "    'Howard' : 'Moe'\n",
    "}\n",
    "\n",
    "pythons.update(others)\n",
    "pythons"
   ]
  },
  {
   "cell_type": "code",
   "execution_count": 35,
   "id": "e2134bc4-bab4-46fb-9b8a-2b2acd090f57",
   "metadata": {},
   "outputs": [
    {
     "data": {
      "text/plain": [
       "{'Marx': 'Groucho',\n",
       " 'Howard': 'Moe',\n",
       " 'Chapman': 'Graham',\n",
       " 'Cleese': 'John',\n",
       " 'Idle': 'Erica',\n",
       " 'Jones': 'Terry',\n",
       " 'Palin': 'Josh',\n",
       " 'Kim': 'Laura'}"
      ]
     },
     "execution_count": 35,
     "metadata": {},
     "output_type": "execute_result"
    }
   ],
   "source": [
    "{**others, **pythons} #python 3 부터 가능"
   ]
  },
  {
   "cell_type": "code",
   "execution_count": 36,
   "id": "33dce859-e375-42c7-8ed1-037b478e15a7",
   "metadata": {},
   "outputs": [
    {
     "data": {
      "text/plain": [
       "{'Chapman': 'Graham',\n",
       " 'Cleese': 'John',\n",
       " 'Idle': 'Erica',\n",
       " 'Jones': 'Terry',\n",
       " 'Kim': 'Laura',\n",
       " 'Marx': 'Groucho',\n",
       " 'Howard': 'Moe'}"
      ]
     },
     "execution_count": 36,
     "metadata": {},
     "output_type": "execute_result"
    }
   ],
   "source": [
    "# 삭제\n",
    "\n",
    "del pythons['Palin']\n",
    "pythons"
   ]
  },
  {
   "cell_type": "code",
   "execution_count": 37,
   "id": "4bcd69d7-8db5-4ed8-8963-ea336109f2ef",
   "metadata": {},
   "outputs": [
    {
     "data": {
      "text/plain": [
       "'Laura'"
      ]
     },
     "execution_count": 37,
     "metadata": {},
     "output_type": "execute_result"
    }
   ],
   "source": [
    "pythons.pop('Kim', 0) # get과 비슷한 성질"
   ]
  },
  {
   "cell_type": "code",
   "execution_count": 38,
   "id": "7b051a22-f9d9-4bdb-86aa-034abf83ca0a",
   "metadata": {},
   "outputs": [
    {
     "data": {
      "text/plain": [
       "{}"
      ]
     },
     "execution_count": 38,
     "metadata": {},
     "output_type": "execute_result"
    }
   ],
   "source": [
    "pythons.clear() # 전부 삭제 1\n",
    "pythons"
   ]
  },
  {
   "cell_type": "code",
   "execution_count": 39,
   "id": "39d58dc1-0e7a-4971-855d-3786049406a4",
   "metadata": {},
   "outputs": [
    {
     "data": {
      "text/plain": [
       "{}"
      ]
     },
     "execution_count": 39,
     "metadata": {},
     "output_type": "execute_result"
    }
   ],
   "source": [
    "pythons = {} # 전부 삭제 2\n",
    "pythons"
   ]
  },
  {
   "cell_type": "code",
   "execution_count": 40,
   "id": "f4604c97-39bf-4f65-ae1d-dcf29fca9f3e",
   "metadata": {},
   "outputs": [],
   "source": [
    "# copy\n",
    "#1. 할당\n",
    "#2. 얕은 복사\n",
    "#3. 깊은 복사"
   ]
  },
  {
   "cell_type": "code",
   "execution_count": 41,
   "id": "3277be31-ea46-4854-81e1-39adbdd52df0",
   "metadata": {},
   "outputs": [
    {
     "data": {
      "text/plain": [
       "({1: 10, 2: 3, 3: 4}, {1: 10, 2: 3, 3: 4})"
      ]
     },
     "execution_count": 41,
     "metadata": {},
     "output_type": "execute_result"
    }
   ],
   "source": [
    "a = {1 : 2, 2 : 3, 3 : 4}\n",
    "b = a\n",
    "a[1] = 10\n",
    "a, b"
   ]
  },
  {
   "cell_type": "code",
   "execution_count": 42,
   "id": "6c24b3bd-406c-476f-a169-367d40109308",
   "metadata": {},
   "outputs": [
    {
     "data": {
      "text/plain": [
       "({1: 100, 2: 3, 3: 4}, {1: 10, 2: 3, 3: 4})"
      ]
     },
     "execution_count": 42,
     "metadata": {},
     "output_type": "execute_result"
    }
   ],
   "source": [
    "b = a.copy()\n",
    "a[1] = 100\n",
    "a, b"
   ]
  },
  {
   "cell_type": "code",
   "execution_count": 43,
   "id": "1c80d19c-b6ee-404f-a0da-33c8fa9ad8f1",
   "metadata": {},
   "outputs": [
    {
     "data": {
      "text/plain": [
       "({1: [100, 2, 2], 2: [1, 1, 1]}, {1: [100, 2, 2], 2: [1, 1, 1]})"
      ]
     },
     "execution_count": 43,
     "metadata": {},
     "output_type": "execute_result"
    }
   ],
   "source": [
    "a= {1 : [2, 2, 2], 2 : [1, 1, 1]}\n",
    "b = a.copy()\n",
    "a[1][0] = 100\n",
    "a, b"
   ]
  },
  {
   "cell_type": "code",
   "execution_count": 44,
   "id": "6b8318d7-cedd-4904-8a7b-94b48fd160a8",
   "metadata": {},
   "outputs": [
    {
     "data": {
      "text/plain": [
       "({1: [9, 2, 2], 2: [1, 1, 1]}, {1: [100, 2, 2], 2: [1, 1, 1]})"
      ]
     },
     "execution_count": 44,
     "metadata": {},
     "output_type": "execute_result"
    }
   ],
   "source": [
    "import copy\n",
    "b = copy.deepcopy(a)\n",
    "a[1][0] = 9\n",
    "a, b"
   ]
  },
  {
   "cell_type": "code",
   "execution_count": 45,
   "id": "c21d92c0-a197-45ed-904b-b087e7df828a",
   "metadata": {},
   "outputs": [
    {
     "data": {
      "text/plain": [
       "({1: [9, 2, 2], 2: [1, 1, 1]}, {1: [100, 2, 2], 2: [1, 1, 1]})"
      ]
     },
     "execution_count": 45,
     "metadata": {},
     "output_type": "execute_result"
    }
   ],
   "source": [
    "# 값 비교 : 크다, 작다 x, 같다 다르다만 가능!\n",
    "a, b"
   ]
  },
  {
   "cell_type": "code",
   "execution_count": 46,
   "id": "7602257e-b42d-48be-bbaf-a069d97ebc7a",
   "metadata": {},
   "outputs": [
    {
     "data": {
      "text/plain": [
       "True"
      ]
     },
     "execution_count": 46,
     "metadata": {},
     "output_type": "execute_result"
    }
   ],
   "source": [
    "a != b"
   ]
  },
  {
   "cell_type": "markdown",
   "id": "df04538f-401c-4da7-a51a-9e92eedff052",
   "metadata": {},
   "source": [
    "### ex\n",
    "- 두 개 리스트\n",
    "- 명왕성 : pluto 추가하기\n",
    "- '성'으로 끝나지 않는 단어 삭제하기\n",
    "    del sdict['태양'] => 하드코딩 안 됨\n",
    "- sorted i) kor ii) eng"
   ]
  },
  {
   "cell_type": "code",
   "execution_count": 11,
   "id": "c8a46ce2-ef7e-47da-9162-c74619386cd1",
   "metadata": {},
   "outputs": [
    {
     "data": {
      "text/plain": [
       "{'태양': 'sun',\n",
       " '수성': 'mercury',\n",
       " '금성': 'venus',\n",
       " '지구': 'earth',\n",
       " '화성': 'mars',\n",
       " '목성': 'jupiter',\n",
       " '토성': 'saturn',\n",
       " '천왕성': 'uranus',\n",
       " '해양성': 'neptune'}"
      ]
     },
     "execution_count": 11,
     "metadata": {},
     "output_type": "execute_result"
    }
   ],
   "source": [
    "solar_kor = '태양 수성 금성 지구 화성 목성 토성 천왕성 해양성'.split()\n",
    "solar_eng = 'sun mercury venus earth mars jupiter saturn uranus neptune'.split()\n",
    "\n",
    "# solar_system dict 만들기\n",
    "solar_system = {}\n",
    "for i in range(len(solar_kor)) : \n",
    "    solar_system[solar_kor[i]] = solar_eng[i]\n",
    "    \n",
    "solar_system"
   ]
  },
  {
   "cell_type": "code",
   "execution_count": 12,
   "id": "b22fd65e-1a70-4a79-b2ee-b7e365f409cd",
   "metadata": {},
   "outputs": [
    {
     "data": {
      "text/plain": [
       "{'태양': 'sun',\n",
       " '수성': 'mercury',\n",
       " '금성': 'venus',\n",
       " '지구': 'earth',\n",
       " '화성': 'mars',\n",
       " '목성': 'jupiter',\n",
       " '토성': 'saturn',\n",
       " '천왕성': 'uranus',\n",
       " '해양성': 'neptune',\n",
       " '명왕성': 'pluto'}"
      ]
     },
     "execution_count": 12,
     "metadata": {},
     "output_type": "execute_result"
    }
   ],
   "source": [
    "#명왕성 : 'pluto' 추가\n",
    "\n",
    "solar_system['명왕성'] = 'pluto' \n",
    "solar_system"
   ]
  },
  {
   "cell_type": "code",
   "execution_count": 13,
   "id": "1c104705-7cfd-4f58-a22b-92fb524f5e76",
   "metadata": {},
   "outputs": [
    {
     "data": {
      "text/plain": [
       "{'수성': 'mercury',\n",
       " '금성': 'venus',\n",
       " '화성': 'mars',\n",
       " '목성': 'jupiter',\n",
       " '토성': 'saturn',\n",
       " '천왕성': 'uranus',\n",
       " '해양성': 'neptune',\n",
       " '명왕성': 'pluto'}"
      ]
     },
     "execution_count": 13,
     "metadata": {},
     "output_type": "execute_result"
    }
   ],
   "source": [
    "#'성'으로 끝나지 않는 행성 삭제\n",
    "\n",
    "for solar in list(solar_system) :\n",
    "    if not solar.endswith('성') :\n",
    "        del solar_system[solar]\n",
    "        \n",
    "solar_system"
   ]
  },
  {
   "cell_type": "code",
   "execution_count": 14,
   "id": "6e6de745-4710-4ec1-b27d-93ddfb43ea6d",
   "metadata": {},
   "outputs": [
    {
     "data": {
      "text/plain": [
       "[('금성', 'venus'),\n",
       " ('명왕성', 'pluto'),\n",
       " ('목성', 'jupiter'),\n",
       " ('수성', 'mercury'),\n",
       " ('천왕성', 'uranus'),\n",
       " ('토성', 'saturn'),\n",
       " ('해양성', 'neptune'),\n",
       " ('화성', 'mars')]"
      ]
     },
     "execution_count": 14,
     "metadata": {},
     "output_type": "execute_result"
    }
   ],
   "source": [
    "#kor로 정렬하기\n",
    "\n",
    "sorted(solar_system.items())"
   ]
  },
  {
   "cell_type": "code",
   "execution_count": 15,
   "id": "ddc48f9d-1439-439f-aa55-2ac7f1d59708",
   "metadata": {},
   "outputs": [],
   "source": [
    "def funcion(s) :\n",
    "    return s[1]"
   ]
  },
  {
   "cell_type": "code",
   "execution_count": 16,
   "id": "ebd6fef7-cc9a-4ad0-ac63-36d8e74284e7",
   "metadata": {},
   "outputs": [
    {
     "data": {
      "text/plain": [
       "[('목성', 'jupiter'),\n",
       " ('화성', 'mars'),\n",
       " ('수성', 'mercury'),\n",
       " ('해양성', 'neptune'),\n",
       " ('명왕성', 'pluto'),\n",
       " ('토성', 'saturn'),\n",
       " ('천왕성', 'uranus'),\n",
       " ('금성', 'venus')]"
      ]
     },
     "execution_count": 16,
     "metadata": {},
     "output_type": "execute_result"
    }
   ],
   "source": [
    "#eng으로  정렬하기\n",
    "\n",
    "sorted(solar_system.items(), key = lambda x : x[1]) #lambda 익명 함수"
   ]
  },
  {
   "cell_type": "code",
   "execution_count": 1,
   "id": "f655261b-300d-4e94-b5c5-2fee21e1f2f3",
   "metadata": {},
   "outputs": [
    {
     "data": {
      "text/plain": [
       "{'walrus': 'chien', 'cat': 'chat', 'dog': 'morse'}"
      ]
     },
     "execution_count": 1,
     "metadata": {},
     "output_type": "execute_result"
    }
   ],
   "source": [
    "# e2f 딕셔너리(영어-프랑스어 사전) 만들기\n",
    "\n",
    "eng = {'dog', 'cat', 'walrus'}\n",
    "fr = {'chien', 'chat', 'morse'}\n",
    "\n",
    "e2f = {}\n",
    "for k, v in zip(eng, fr):\n",
    "    e2f[k] = v\n",
    "    \n",
    "e2f"
   ]
  },
  {
   "cell_type": "code",
   "execution_count": 17,
   "id": "463d6a74-de2f-4572-933e-5760e24ba44d",
   "metadata": {},
   "outputs": [
    {
     "name": "stdout",
     "output_type": "stream",
     "text": [
      "room has the contents ballroom\n",
      "wapon has the contents lead pipe\n",
      "person has the contents Col.Mustard\n"
     ]
    }
   ],
   "source": [
    "accusation  = {'room': 'ballroom', 'wapon': 'lead pipe', 'person': 'Col.Mustard'}\n",
    "\n",
    "for k, v in accusation.items() :\n",
    "    print(f'{k} has the contents {v}')"
   ]
  },
  {
   "cell_type": "code",
   "execution_count": 18,
   "id": "4a1ae96a-1868-479e-a3e6-2cb8b677489d",
   "metadata": {},
   "outputs": [
    {
     "data": {
      "text/plain": [
       "{'p': 2, 'a': 1, 'l': 1, 'e': 1}"
      ]
     },
     "execution_count": 18,
     "metadata": {},
     "output_type": "execute_result"
    }
   ],
   "source": [
    "letter = 'apple'\n",
    "#{a : 1, p : 2, ... }\n",
    "{ch: letter.count(ch) for ch in set(letter)} "
   ]
  },
  {
   "cell_type": "code",
   "execution_count": 107,
   "id": "3b0233e7-f7dc-4c5f-9cd6-c80af0551922",
   "metadata": {
    "tags": []
   },
   "outputs": [
    {
     "data": {
      "text/plain": [
       "{'a': 2, 'o': 4, 'n': 1, 'e': 1, 'i': 1, 'p': 1, 't': 1, 'm': 1}"
      ]
     },
     "execution_count": 107,
     "metadata": {},
     "output_type": "execute_result"
    }
   ],
   "source": [
    "vowels = 'aeiou'\n",
    "word = 'onomatopoeia'\n",
    "\n",
    "#주어진 단어의 모름 세기\n",
    "#a : 1, e : 3, ...\n",
    "#vowels, word 각각 기준 잡아서 dic compre 이용해서 만들기\n",
    "\n",
    "{vowels : word.count(vowels) for vowels in set(word)}"
   ]
  },
  {
   "cell_type": "code",
   "execution_count": 109,
   "id": "82c0f005-57ab-45c7-8527-2fe146010446",
   "metadata": {},
   "outputs": [
    {
     "name": "stdout",
     "output_type": "stream",
     "text": [
      "{'a': 2, 'e': 1, 'i': 1, 'o': 4, 'u': 0}\n"
     ]
    },
    {
     "data": {
      "text/plain": [
       "{'a': 2, 'o': 4, 'e': 1, 'i': 1}"
      ]
     },
     "execution_count": 109,
     "metadata": {},
     "output_type": "execute_result"
    }
   ],
   "source": [
    "#1. vowels 순회\n",
    "op1 = {v: word.count(v) for v in vowels} \n",
    "print(op1)\n",
    "\n",
    "#2. word 순회 # 자음 빼는 과정이 필요!\n",
    "{ch: word.count(ch) for ch in set(word) if ch in vowels}"
   ]
  },
  {
   "cell_type": "markdown",
   "id": "304f5fcf-4a49-46e5-8fd4-7a349f94833c",
   "metadata": {},
   "source": [
    "## Set\n",
    "- 딕셔너리에서 키만 모아놓은 것 => 중복 없음!(가장 중요한 특징)\n",
    "- 수학의 집합 개념 => 교집합, 합집합, 차집합, ...\n",
    "- 데이터 자루, 순서 x, 인덱싱 x"
   ]
  },
  {
   "cell_type": "code",
   "execution_count": 214,
   "id": "369bbdd9-e26a-42a4-b2e1-058be8a4ae50",
   "metadata": {},
   "outputs": [
    {
     "data": {
      "text/plain": [
       "(set(), {})"
      ]
     },
     "execution_count": 214,
     "metadata": {},
     "output_type": "execute_result"
    }
   ],
   "source": [
    "empty = set()\n",
    "empty1 = {}\n",
    "empty, empty1 #set, dict"
   ]
  },
  {
   "cell_type": "code",
   "execution_count": 110,
   "id": "5f7f3ef1-1967-44e4-84f6-b6dad09b134a",
   "metadata": {},
   "outputs": [
    {
     "data": {
      "text/plain": [
       "set"
      ]
     },
     "execution_count": 110,
     "metadata": {},
     "output_type": "execute_result"
    }
   ],
   "source": [
    "a = {1, 2, 3}\n",
    "type(a)"
   ]
  },
  {
   "cell_type": "code",
   "execution_count": 111,
   "id": "90740b87-3ed8-4d76-9130-19a46da2939f",
   "metadata": {},
   "outputs": [
    {
     "ename": "TypeError",
     "evalue": "set expected at most 1 argument, got 3",
     "output_type": "error",
     "traceback": [
      "\u001b[1;31m---------------------------------------------------------------------------\u001b[0m",
      "\u001b[1;31mTypeError\u001b[0m                                 Traceback (most recent call last)",
      "\u001b[1;32m~\\AppData\\Local\\Temp/ipykernel_24700/1858885275.py\u001b[0m in \u001b[0;36m<module>\u001b[1;34m\u001b[0m\n\u001b[1;32m----> 1\u001b[1;33m \u001b[0mb\u001b[0m \u001b[1;33m=\u001b[0m \u001b[0mset\u001b[0m\u001b[1;33m(\u001b[0m\u001b[1;36m1\u001b[0m\u001b[1;33m,\u001b[0m \u001b[1;36m2\u001b[0m\u001b[1;33m,\u001b[0m \u001b[1;36m3\u001b[0m\u001b[1;33m)\u001b[0m \u001b[1;31m#이렇게 넣으면 x!\u001b[0m\u001b[1;33m\u001b[0m\u001b[1;33m\u001b[0m\u001b[0m\n\u001b[0m",
      "\u001b[1;31mTypeError\u001b[0m: set expected at most 1 argument, got 3"
     ]
    }
   ],
   "source": [
    "b = set(1, 2, 3) #이렇게 넣으면 x!"
   ]
  },
  {
   "cell_type": "code",
   "execution_count": 112,
   "id": "77617b2c-c070-40f8-874a-bbe7ee5c7e8d",
   "metadata": {},
   "outputs": [
    {
     "data": {
      "text/plain": [
       "{1, 2, 3}"
      ]
     },
     "execution_count": 112,
     "metadata": {},
     "output_type": "execute_result"
    }
   ],
   "source": [
    "b = set([1, 2, 3, 3, 3, 3, 3]) #이래도 중복 x!\n",
    "b"
   ]
  },
  {
   "cell_type": "code",
   "execution_count": 113,
   "id": "fc998cb1-4b62-49eb-a59b-0c6bbc1866c0",
   "metadata": {},
   "outputs": [
    {
     "data": {
      "text/plain": [
       "{1, 2, 3, 4}"
      ]
     },
     "execution_count": 113,
     "metadata": {},
     "output_type": "execute_result"
    }
   ],
   "source": [
    "# 추가하기\n",
    "a.add(4)\n",
    "a"
   ]
  },
  {
   "cell_type": "code",
   "execution_count": 114,
   "id": "9e73ec78-2e61-44cc-b4c9-37b077f124b4",
   "metadata": {},
   "outputs": [
    {
     "data": {
      "text/plain": [
       "{1, 2, 3}"
      ]
     },
     "execution_count": 114,
     "metadata": {},
     "output_type": "execute_result"
    }
   ],
   "source": [
    "# 삭제하기\n",
    "a.remove(4) #자료형마다 삭제하는 함수가 뭐였는지 기억할 것!\n",
    "a"
   ]
  },
  {
   "cell_type": "code",
   "execution_count": 115,
   "id": "125e6b9f-5ff8-4650-97ac-cf2d1a6e7a6f",
   "metadata": {},
   "outputs": [
    {
     "data": {
      "text/plain": [
       "{1, 2}"
      ]
     },
     "execution_count": 115,
     "metadata": {},
     "output_type": "execute_result"
    }
   ],
   "source": [
    "a.discard(3)\n",
    "a"
   ]
  },
  {
   "cell_type": "code",
   "execution_count": 124,
   "id": "5fd3575c-cc29-4a4d-8c8f-3ac20f1b0a4d",
   "metadata": {},
   "outputs": [
    {
     "name": "stdout",
     "output_type": "stream",
     "text": [
      "martini\n",
      "black russian\n",
      "white russian\n",
      "screwdriver\n"
     ]
    },
    {
     "data": {
      "text/plain": [
       "{'black russian', 'screwdriver'}"
      ]
     },
     "execution_count": 124,
     "metadata": {},
     "output_type": "execute_result"
    }
   ],
   "source": [
    "drinks = {\n",
    "    'martini': {'vodka', 'vermouth'},\n",
    "    'black russian': {'vodka', 'kahlua'},\n",
    "    'white russian': {'cream', 'kahlua', 'vodka'},\n",
    "    'mahattan': {'rye', 'vermouth', 'bitters'},\n",
    "    'screwdriver': {'orange juice', 'vodka'}\n",
    "}\n",
    "\n",
    "#vodka가 있는 키 골라내기 (출력)\n",
    "\n",
    "for k, v in drinks.items():\n",
    "    if 'vodka' in v:\n",
    "        print(k)\n",
    "        \n",
    "#2. 보드카는 있는데 크림이나 버무스가 있으면 프린트하지 않기\n",
    "\n",
    "{k for k, v in drinks.items() if 'vodka' in v and 'cream' not in v and 'vermouth' not in v} "
   ]
  },
  {
   "cell_type": "code",
   "execution_count": 119,
   "id": "171007a3-4e2b-4656-9486-9120a6742816",
   "metadata": {},
   "outputs": [
    {
     "name": "stdout",
     "output_type": "stream",
     "text": [
      "black russian\n",
      "screwdriver\n"
     ]
    }
   ],
   "source": [
    "for k, v in drinks.items():\n",
    "    if 'vodka' in v and not ('cream' in v or 'vermouth' in v):\n",
    "        # 각각의 집합 v & {'cream', 'vermouth'} 없으면\n",
    "        #if 'vodka' in v and not v & {'cream', 'vermouth'}\n",
    "        print(k)"
   ]
  },
  {
   "cell_type": "code",
   "execution_count": 125,
   "id": "b1f9ab72-f100-4111-a26b-786e4d3a7192",
   "metadata": {},
   "outputs": [
    {
     "data": {
      "text/plain": [
       "{4}"
      ]
     },
     "execution_count": 125,
     "metadata": {},
     "output_type": "execute_result"
    }
   ],
   "source": [
    "a = {1, 2, 3}\n",
    "b = {2, 3, 4}\n",
    "\n",
    "#교집합 : intersection\n",
    "a.intersection(b) # a&b로도 씀!\n",
    "\n",
    "#합집합 : union\n",
    "a.union(b) # a|b\n",
    "\n",
    "#차집합 : difference\n",
    "a.difference(b) # a-b\n",
    "\n",
    "b - a"
   ]
  },
  {
   "cell_type": "code",
   "execution_count": 126,
   "id": "62b23eaf-72ed-43f4-bc7e-e11c0b6e7ef8",
   "metadata": {},
   "outputs": [
    {
     "data": {
      "text/plain": [
       "{1, 2, 3}"
      ]
     },
     "execution_count": 126,
     "metadata": {},
     "output_type": "execute_result"
    }
   ],
   "source": [
    "# comprehension\n",
    "{s for s in a}"
   ]
  },
  {
   "cell_type": "code",
   "execution_count": 127,
   "id": "49881a95-ff3a-4a16-8580-e7ce391e6875",
   "metadata": {},
   "outputs": [
    {
     "data": {
      "text/plain": [
       "frozenset({1, 2, 3})"
      ]
     },
     "execution_count": 127,
     "metadata": {},
     "output_type": "execute_result"
    }
   ],
   "source": [
    "# frozenset : 가변객체 -> 불변객체\n",
    "fs = frozenset([1, 2, 3])\n",
    "fs"
   ]
  },
  {
   "cell_type": "code",
   "execution_count": 128,
   "id": "e82ff5bc-2b2f-4a8d-a0a2-9855393213bf",
   "metadata": {},
   "outputs": [
    {
     "name": "stdout",
     "output_type": "stream",
     "text": [
      "Requirement already satisfied: pylint in c:\\anaconda3\\lib\\site-packages (2.9.6)\n",
      "Requirement already satisfied: astroid<2.7,>=2.6.5 in c:\\anaconda3\\lib\\site-packages (from pylint) (2.6.6)\n",
      "Requirement already satisfied: toml>=0.7.1 in c:\\anaconda3\\lib\\site-packages (from pylint) (0.10.2)\n",
      "Requirement already satisfied: colorama in c:\\anaconda3\\lib\\site-packages (from pylint) (0.4.4)\n",
      "Requirement already satisfied: isort<6,>=4.2.5 in c:\\anaconda3\\lib\\site-packages (from pylint) (5.9.3)\n",
      "Requirement already satisfied: mccabe<0.7,>=0.6 in c:\\anaconda3\\lib\\site-packages (from pylint) (0.6.1)\n",
      "Requirement already satisfied: lazy-object-proxy>=1.4.0 in c:\\anaconda3\\lib\\site-packages (from astroid<2.7,>=2.6.5->pylint) (1.6.0)\n",
      "Requirement already satisfied: setuptools>=20.0 in c:\\anaconda3\\lib\\site-packages (from astroid<2.7,>=2.6.5->pylint) (58.0.4)\n",
      "Requirement already satisfied: wrapt<1.13,>=1.11 in c:\\anaconda3\\lib\\site-packages (from astroid<2.7,>=2.6.5->pylint) (1.12.1)\n",
      "************* Module example.py\n",
      "example.py:1:0: F0001: No module named example.py (fatal)\n",
      "************* Module #\n",
      "#:1:0: F0001: No module named # (fatal)\n",
      "************* Module 3\n",
      "3:1:0: F0001: No module named 3 (fatal)\n",
      "************* Module 10\n",
      "10:1:0: F0001: No module named 10 (fatal)\n",
      "************* \n",
      "\\__init__.py:1:0: F0010: error while code parsing: Unable to load file \\__init__.py:\n",
      "[Errno 2] No such file or directory: '\\\\__init__.py' (parse-error)\n",
      "Requirement already satisfied: pydocstyle in c:\\anaconda3\\lib\\site-packages (6.1.1)\n",
      "Requirement already satisfied: snowballstemmer in c:\\anaconda3\\lib\\site-packages (from pydocstyle) (2.1.0)\n"
     ]
    },
    {
     "name": "stderr",
     "output_type": "stream",
     "text": [
      "WARNING: Error in file example.py: [Errno 2] No such file or directory: 'example.py'\n"
     ]
    }
   ],
   "source": [
    "#작성한 코드 점수\n",
    "\n",
    "!pip install pylint\n",
    "!pylint example.py # 3 / 10\n",
    "\n",
    "!pip install pydocstyle\n",
    "!pydocstyle example.py"
   ]
  }
 ],
 "metadata": {
  "kernelspec": {
   "display_name": "Python 3 (ipykernel)",
   "language": "python",
   "name": "python3"
  },
  "language_info": {
   "codemirror_mode": {
    "name": "ipython",
    "version": 3
   },
   "file_extension": ".py",
   "mimetype": "text/x-python",
   "name": "python",
   "nbconvert_exporter": "python",
   "pygments_lexer": "ipython3",
   "version": "3.9.7"
  }
 },
 "nbformat": 4,
 "nbformat_minor": 5
}
