{
 "cells": [
  {
   "cell_type": "markdown",
   "id": "017be462-8c70-4524-bd77-eba6821e4fe2",
   "metadata": {},
   "source": [
    "### 파일과 디렉터리\n",
    "- 파일 : 컴퓨터를 실행할 때 가장 기본이 되는 단위\n",
    "- 디렉터리 : 폴더, 즉 파일을 논리적으로 묶어놓은 단위\n",
    "    - 지빠구리 : a, b, c, ...\n",
    "- 파일 = 파일명 + 확장자(.txt, .csv, ... )\n",
    "- 파일의 종류 : (크게 두 가지) 바이너리, 텍스트\n",
    "    - 바이너리 : 엑셀, 워드, ... \n",
    "    - 텍스트 : 바이너리가 문자로 변환되어 있는 것\n",
    "        - 메모장, python, html, ... \n",
    "        - 변경 기준 : 아스키코드, 유니코드로 제정, 이렇게 쓰임에 맞게 제정하는 것을 \"인코딩\"이라고 한다!\n",
    "        - 한국 : utf-8을 제일 많이 사용한다!\n",
    "        - cp494 역시 사용!\n",
    "- f = open(파일명, 모드)\n",
    "    - r : read (default)\n",
    "    - w : write (파일명이 없으면 새로 만들고 있으면 덮어쓴다)\n",
    "    - a : add (기존 파일의 마지막에 추가)\n",
    "    - x : write (파일명이 없을 때만 쓸 수 있다) \n",
    "    \n",
    "    - b : 바이너리\n",
    "    - t : (default) 텍스트\n",
    "        - rb, rt, ...   "
   ]
  },
  {
   "cell_type": "code",
   "execution_count": 24,
   "id": "e6ae572c-33ca-499b-a721-dbf5610afc88",
   "metadata": {},
   "outputs": [
    {
     "data": {
      "text/plain": [
       "<_io.TextIOWrapper name='untitled.txt' mode='r' encoding='cp949'>"
      ]
     },
     "execution_count": 24,
     "metadata": {},
     "output_type": "execute_result"
    }
   ],
   "source": [
    "f = open('untitled.txt', 'r')\n",
    "f"
   ]
  },
  {
   "cell_type": "markdown",
   "id": "4f92693f-a57f-4287-aba3-984f39f0bead",
   "metadata": {},
   "source": [
    "#### 읽기"
   ]
  },
  {
   "cell_type": "markdown",
   "id": "bf2d4386-01e3-4c57-af42-de30237ffc0a",
   "metadata": {},
   "source": [
    "- read() : 전체를 하나의 str로 불러온다! n에 숫자를 넣는다면 첫 번째 예시처럼 해당 길이만큼만 불러온다!\n",
    "    - 한 번 읽고 나면 포인터가 텍스트의 맨 뒤로 넘어가므로, 또 read()를 하면 빈 문자열을 가져온다!\n",
    "- readliner() : 한 줄만 str로 불러온다!\n",
    "- readlines() : 전체를 한 줄씩 str에 담아서 리스트 -> 여기에는 개행이 있다! 각 줄이 한 str로 리스트의 원소가 된다!"
   ]
  },
  {
   "cell_type": "code",
   "execution_count": 25,
   "id": "4ff56967-698c-436e-bdc3-7a4ec8c9d823",
   "metadata": {},
   "outputs": [],
   "source": [
    "data = f.read(5)"
   ]
  },
  {
   "cell_type": "code",
   "execution_count": 26,
   "id": "0abda757-f662-4802-b435-d8c78d8996e1",
   "metadata": {},
   "outputs": [
    {
     "data": {
      "text/plain": [
       "'hello'"
      ]
     },
     "execution_count": 26,
     "metadata": {},
     "output_type": "execute_result"
    }
   ],
   "source": [
    "data"
   ]
  },
  {
   "cell_type": "markdown",
   "id": "c926b9b4-a4e0-4def-a783-4adf6b319a4b",
   "metadata": {},
   "source": [
    "#### 닫기"
   ]
  },
  {
   "cell_type": "code",
   "execution_count": 27,
   "id": "25515eec-b06d-45e8-93df-6aa85c64e7ca",
   "metadata": {},
   "outputs": [],
   "source": [
    "f.close() # 자원 해제 이유 -> 다른 프로그램에서 동시에 호출하면 에러가 발생함! 따라서 여는 즉시 닫는 습관이 필요!"
   ]
  },
  {
   "cell_type": "code",
   "execution_count": 28,
   "id": "06feee45-fae6-4131-a217-1a108d86afcc",
   "metadata": {},
   "outputs": [
    {
     "data": {
      "text/plain": [
       "\"\\nwith open(파일, 모드) as f:\\n    .... open 함수 기능이 유지되는 블록'\\n    data = f.read()\\n자원 해제됨 (자동)\\n\""
      ]
     },
     "execution_count": 28,
     "metadata": {},
     "output_type": "execute_result"
    }
   ],
   "source": [
    "# close를 명시하지 않아도 파일이 닫히게끔 하기\n",
    "\"\"\"\n",
    "with open(파일, 모드) as f:\n",
    "    .... open 함수 기능이 유지되는 블록'\n",
    "    data = f.read()\n",
    "자원 해제됨 (자동)\n",
    "\"\"\""
   ]
  },
  {
   "cell_type": "code",
   "execution_count": 29,
   "id": "c287bfe3-4c9f-49ae-b4cf-e7192095574f",
   "metadata": {},
   "outputs": [
    {
     "data": {
      "text/plain": [
       "['hello world!', 'hi!']"
      ]
     },
     "execution_count": 29,
     "metadata": {},
     "output_type": "execute_result"
    }
   ],
   "source": [
    "with open('untitled.txt', 'r') as f:\n",
    "    data = f.readlines()\n",
    "    data = [line.strip() for line in data]\n",
    "data"
   ]
  },
  {
   "cell_type": "code",
   "execution_count": 31,
   "id": "c6a57699-18c8-41d2-a319-957117532b8a",
   "metadata": {},
   "outputs": [
    {
     "ename": "FileNotFoundError",
     "evalue": "[Errno 2] No such file or directory: 'test2.txt'",
     "output_type": "error",
     "traceback": [
      "\u001b[1;31m---------------------------------------------------------------------------\u001b[0m",
      "\u001b[1;31mFileNotFoundError\u001b[0m                         Traceback (most recent call last)",
      "\u001b[1;32m~\\AppData\\Local\\Temp/ipykernel_4068/2434135424.py\u001b[0m in \u001b[0;36m<module>\u001b[1;34m\u001b[0m\n\u001b[0;32m      1\u001b[0m \u001b[0mfile\u001b[0m \u001b[1;33m=\u001b[0m \u001b[1;34m'test2.txt'\u001b[0m \u001b[1;31m#test2는\u001b[0m\u001b[1;33m\u001b[0m\u001b[1;33m\u001b[0m\u001b[0m\n\u001b[1;32m----> 2\u001b[1;33m \u001b[1;32mwith\u001b[0m \u001b[0mopen\u001b[0m\u001b[1;33m(\u001b[0m\u001b[0mfile\u001b[0m\u001b[1;33m)\u001b[0m \u001b[1;32mas\u001b[0m \u001b[0mf\u001b[0m\u001b[1;33m:\u001b[0m\u001b[1;33m\u001b[0m\u001b[1;33m\u001b[0m\u001b[0m\n\u001b[0m\u001b[0;32m      3\u001b[0m     \u001b[0mf\u001b[0m\u001b[1;33m.\u001b[0m\u001b[0mread\u001b[0m\u001b[1;33m(\u001b[0m\u001b[1;33m)\u001b[0m\u001b[1;33m\u001b[0m\u001b[1;33m\u001b[0m\u001b[0m\n",
      "\u001b[1;31mFileNotFoundError\u001b[0m: [Errno 2] No such file or directory: 'test2.txt'"
     ]
    }
   ],
   "source": [
    "file = 'test2.txt' #test2는 이 노트북과 같은 파일에 있는 txt가 아님! 따라서 오류 발생!\n",
    "with open(file) as f:\n",
    "    f.read()"
   ]
  },
  {
   "cell_type": "code",
   "execution_count": 34,
   "id": "8569a290-fd49-46a1-b069-3fcd13697311",
   "metadata": {},
   "outputs": [
    {
     "name": "stderr",
     "output_type": "stream",
     "text": [
      "'pwd'은(는) 내부 또는 외부 명령, 실행할 수 있는 프로그램, 또는\n",
      "배치 파일이 아닙니다.\n"
     ]
    }
   ],
   "source": [
    "!pwd # 경로 알려 주는 명령어"
   ]
  },
  {
   "cell_type": "code",
   "execution_count": 1,
   "id": "853a9158-3b01-4a73-a6f1-46abf56f2216",
   "metadata": {},
   "outputs": [],
   "source": [
    "# <경로 지정>\n",
    "# . : 현재 위치\n",
    "# .. : 상위 디렉터리"
   ]
  },
  {
   "cell_type": "markdown",
   "id": "ce32c645-bb88-42ea-980c-9a2b7f3305f9",
   "metadata": {},
   "source": [
    "#### 쓰기"
   ]
  },
  {
   "cell_type": "code",
   "execution_count": 36,
   "id": "838dd89d-e510-475e-b892-820011fb8b07",
   "metadata": {},
   "outputs": [],
   "source": [
    "file = 'test3.txt'\n",
    "\n",
    "f = open(file, 'w', encoding='utf-8') #여기서는 아직 안 닫힘!"
   ]
  },
  {
   "cell_type": "code",
   "execution_count": 37,
   "id": "08ea19c3-09a8-4848-a1f1-a9cdc4ef62a6",
   "metadata": {},
   "outputs": [],
   "source": [
    "for i in range(10):\n",
    "    data = f'{i}번째 줄입니다.\\n'\n",
    "    f.write(data)"
   ]
  },
  {
   "cell_type": "code",
   "execution_count": 38,
   "id": "8958020d-234b-4a77-96e7-841713d025cc",
   "metadata": {},
   "outputs": [],
   "source": [
    "f.close()"
   ]
  },
  {
   "cell_type": "code",
   "execution_count": 40,
   "id": "1c44e7a2-91d3-40e0-9f73-b3b9407ccab1",
   "metadata": {},
   "outputs": [],
   "source": [
    "# print 이용해서도 쓰기 가능!\n",
    "f = open(file, 'a')\n",
    "print('새로운 줄 추가', file=f)"
   ]
  },
  {
   "cell_type": "code",
   "execution_count": 41,
   "id": "694c6c04-05cf-4d7f-aa82-3a7cda356a04",
   "metadata": {},
   "outputs": [],
   "source": [
    "f.close()"
   ]
  },
  {
   "cell_type": "markdown",
   "id": "eb9b65bc-c9ce-4a20-aad9-969d2502efb4",
   "metadata": {},
   "source": [
    "### 다른 디렉토리에 파일 쓰기\n",
    "os 활용"
   ]
  },
  {
   "cell_type": "code",
   "execution_count": 42,
   "id": "64607db7-b52e-4812-b1bd-9cc2599c0396",
   "metadata": {},
   "outputs": [],
   "source": [
    "import os"
   ]
  },
  {
   "cell_type": "code",
   "execution_count": 49,
   "id": "5103eca5-534e-4fae-bb3d-7d444e660227",
   "metadata": {},
   "outputs": [],
   "source": [
    "file = './folder1/test3.txt'\n",
    "f = open(file, 'w', encoding='utf-8')\n",
    "f.close()"
   ]
  },
  {
   "cell_type": "code",
   "execution_count": 52,
   "id": "b1c6d564-f7d1-4c9c-9a95-c4e298911efd",
   "metadata": {},
   "outputs": [
    {
     "ename": "FileExistsError",
     "evalue": "[WinError 183] 파일이 이미 있으므로 만들 수 없습니다: 'folder1'",
     "output_type": "error",
     "traceback": [
      "\u001b[1;31m---------------------------------------------------------------------------\u001b[0m",
      "\u001b[1;31mFileExistsError\u001b[0m                           Traceback (most recent call last)",
      "\u001b[1;32m~\\AppData\\Local\\Temp/ipykernel_4068/3513381476.py\u001b[0m in \u001b[0;36m<module>\u001b[1;34m\u001b[0m\n\u001b[0;32m      1\u001b[0m \u001b[1;31m# folder 만들고\u001b[0m\u001b[1;33m\u001b[0m\u001b[1;33m\u001b[0m\u001b[0m\n\u001b[1;32m----> 2\u001b[1;33m \u001b[0mos\u001b[0m\u001b[1;33m.\u001b[0m\u001b[0mmkdir\u001b[0m\u001b[1;33m(\u001b[0m\u001b[1;34m'folder1'\u001b[0m\u001b[1;33m)\u001b[0m \u001b[1;31m# mkdir = make directory\u001b[0m\u001b[1;33m\u001b[0m\u001b[1;33m\u001b[0m\u001b[0m\n\u001b[0m\u001b[0;32m      3\u001b[0m \u001b[1;31m# 파일 쓰기\u001b[0m\u001b[1;33m\u001b[0m\u001b[1;33m\u001b[0m\u001b[0m\n\u001b[0;32m      4\u001b[0m \u001b[1;31m# test3도 같이 생겼네...?\u001b[0m\u001b[1;33m\u001b[0m\u001b[1;33m\u001b[0m\u001b[0m\n",
      "\u001b[1;31mFileExistsError\u001b[0m: [WinError 183] 파일이 이미 있으므로 만들 수 없습니다: 'folder1'"
     ]
    }
   ],
   "source": [
    "# folder 만들고\n",
    "os.mkdir('folder1') # mkdir = make directory\n",
    "# 파일 쓰기 \n",
    "# test3도 같이 생겼네...?"
   ]
  },
  {
   "cell_type": "code",
   "execution_count": 53,
   "id": "79b29e28-c6fb-431a-a743-d514c44c1c7b",
   "metadata": {},
   "outputs": [],
   "source": [
    "# 없을 때 만들어라\n",
    "if not os.path.isdir('folder1'):\n",
    "    os.mkdir('folder1')"
   ]
  },
  {
   "cell_type": "code",
   "execution_count": 55,
   "id": "b9e076c3-2a28-4d01-b1a4-86f42f03d329",
   "metadata": {},
   "outputs": [
    {
     "data": {
      "text/plain": [
       "True"
      ]
     },
     "execution_count": 55,
     "metadata": {},
     "output_type": "execute_result"
    }
   ],
   "source": [
    "os.path.isdir('folder1')"
   ]
  },
  {
   "cell_type": "code",
   "execution_count": 58,
   "id": "bc4a431a-625f-4c5d-9fa6-c65c0115eb15",
   "metadata": {},
   "outputs": [
    {
     "data": {
      "text/plain": [
       "True"
      ]
     },
     "execution_count": 58,
     "metadata": {},
     "output_type": "execute_result"
    }
   ],
   "source": [
    "os.path.exists('folder1') # assert"
   ]
  },
  {
   "cell_type": "code",
   "execution_count": 56,
   "id": "05ed7286-efa6-4f4b-a398-775d215a74ea",
   "metadata": {},
   "outputs": [
    {
     "ename": "NameError",
     "evalue": "name 'dir_name' is not defined",
     "output_type": "error",
     "traceback": [
      "\u001b[1;31m---------------------------------------------------------------------------\u001b[0m",
      "\u001b[1;31mNameError\u001b[0m                                 Traceback (most recent call last)",
      "\u001b[1;32m~\\AppData\\Local\\Temp/ipykernel_4068/3177535461.py\u001b[0m in \u001b[0;36m<module>\u001b[1;34m\u001b[0m\n\u001b[0;32m      1\u001b[0m \u001b[0mos\u001b[0m\u001b[1;33m.\u001b[0m\u001b[0mremove\u001b[0m\u001b[1;33m(\u001b[0m\u001b[0mfile\u001b[0m\u001b[1;33m)\u001b[0m \u001b[1;31m# 파일을 지우고 싶을 때\u001b[0m\u001b[1;33m\u001b[0m\u001b[1;33m\u001b[0m\u001b[0m\n\u001b[1;32m----> 2\u001b[1;33m \u001b[0mos\u001b[0m\u001b[1;33m.\u001b[0m\u001b[0mrmdir\u001b[0m\u001b[1;33m(\u001b[0m\u001b[0mdir_name\u001b[0m\u001b[1;33m)\u001b[0m \u001b[1;31m# 디렉터리를 지우고 싶을 때\u001b[0m\u001b[1;33m\u001b[0m\u001b[1;33m\u001b[0m\u001b[0m\n\u001b[0m",
      "\u001b[1;31mNameError\u001b[0m: name 'dir_name' is not defined"
     ]
    }
   ],
   "source": [
    "os.remove(file) # 파일을 지우고 싶을 때\n",
    "os.rmdir(dir_name) # 디렉터리를 지우고 싶을 때"
   ]
  },
  {
   "cell_type": "code",
   "execution_count": 61,
   "id": "e7adc676-6f2d-4186-9826-3b20edf8ca75",
   "metadata": {},
   "outputs": [],
   "source": [
    "# folder : 하위 폴더 새로 만들고\n",
    "# 파일 쓰기 : 내용 아무거나\n",
    "# 열기\n",
    "\n",
    "if not os.path.isdir('folder2'):\n",
    "    os.mkdir('folder2')\n",
    "    file = './folder2/test4.txt'\n",
    "    f = open(file, 'w', encoding='utf-8')\n",
    "    for i in range(10):\n",
    "        data = f'{i}번째 줄입니다.\\n'\n",
    "        f.write(data)\n",
    "    f.close()"
   ]
  },
  {
   "cell_type": "code",
   "execution_count": 62,
   "id": "fa562eec-0241-49c2-9c57-99ed5ebdd3a5",
   "metadata": {},
   "outputs": [
    {
     "ename": "OSError",
     "evalue": "[WinError 145] 디렉터리가 비어 있지 않습니다: 'folder1'",
     "output_type": "error",
     "traceback": [
      "\u001b[1;31m---------------------------------------------------------------------------\u001b[0m",
      "\u001b[1;31mOSError\u001b[0m                                   Traceback (most recent call last)",
      "\u001b[1;32m~\\AppData\\Local\\Temp/ipykernel_4068/1893751237.py\u001b[0m in \u001b[0;36m<module>\u001b[1;34m\u001b[0m\n\u001b[1;32m----> 1\u001b[1;33m \u001b[0mos\u001b[0m\u001b[1;33m.\u001b[0m\u001b[0mrmdir\u001b[0m\u001b[1;33m(\u001b[0m\u001b[1;34m'folder1'\u001b[0m\u001b[1;33m)\u001b[0m\u001b[1;33m\u001b[0m\u001b[1;33m\u001b[0m\u001b[0m\n\u001b[0m",
      "\u001b[1;31mOSError\u001b[0m: [WinError 145] 디렉터리가 비어 있지 않습니다: 'folder1'"
     ]
    }
   ],
   "source": [
    "os.rmdir('folder1')"
   ]
  },
  {
   "cell_type": "code",
   "execution_count": 65,
   "id": "87f8b442-ae63-4cf2-bd4f-efed6c6c70a9",
   "metadata": {},
   "outputs": [
    {
     "ename": "FileNotFoundError",
     "evalue": "[WinError 3] 지정된 경로를 찾을 수 없습니다: 'folder1'",
     "output_type": "error",
     "traceback": [
      "\u001b[1;31m---------------------------------------------------------------------------\u001b[0m",
      "\u001b[1;31mFileNotFoundError\u001b[0m                         Traceback (most recent call last)",
      "\u001b[1;32m~\\AppData\\Local\\Temp/ipykernel_4068/3385111337.py\u001b[0m in \u001b[0;36m<module>\u001b[1;34m\u001b[0m\n\u001b[0;32m      1\u001b[0m \u001b[1;32mimport\u001b[0m \u001b[0mshutil\u001b[0m\u001b[1;33m\u001b[0m\u001b[1;33m\u001b[0m\u001b[0m\n\u001b[1;32m----> 2\u001b[1;33m \u001b[0mshutil\u001b[0m\u001b[1;33m.\u001b[0m\u001b[0mrmtree\u001b[0m\u001b[1;33m(\u001b[0m\u001b[1;34m'folder1'\u001b[0m\u001b[1;33m)\u001b[0m \u001b[1;31m# 강제 삭제\u001b[0m\u001b[1;33m\u001b[0m\u001b[1;33m\u001b[0m\u001b[0m\n\u001b[0m",
      "\u001b[1;32mC:\\Anaconda3\\lib\\shutil.py\u001b[0m in \u001b[0;36mrmtree\u001b[1;34m(path, ignore_errors, onerror)\u001b[0m\n\u001b[0;32m    746\u001b[0m             \u001b[1;31m# can't continue even if onerror hook returns\u001b[0m\u001b[1;33m\u001b[0m\u001b[1;33m\u001b[0m\u001b[0m\n\u001b[0;32m    747\u001b[0m             \u001b[1;32mreturn\u001b[0m\u001b[1;33m\u001b[0m\u001b[1;33m\u001b[0m\u001b[0m\n\u001b[1;32m--> 748\u001b[1;33m         \u001b[1;32mreturn\u001b[0m \u001b[0m_rmtree_unsafe\u001b[0m\u001b[1;33m(\u001b[0m\u001b[0mpath\u001b[0m\u001b[1;33m,\u001b[0m \u001b[0monerror\u001b[0m\u001b[1;33m)\u001b[0m\u001b[1;33m\u001b[0m\u001b[1;33m\u001b[0m\u001b[0m\n\u001b[0m\u001b[0;32m    749\u001b[0m \u001b[1;33m\u001b[0m\u001b[0m\n\u001b[0;32m    750\u001b[0m \u001b[1;31m# Allow introspection of whether or not the hardening against symlink\u001b[0m\u001b[1;33m\u001b[0m\u001b[1;33m\u001b[0m\u001b[0m\n",
      "\u001b[1;32mC:\\Anaconda3\\lib\\shutil.py\u001b[0m in \u001b[0;36m_rmtree_unsafe\u001b[1;34m(path, onerror)\u001b[0m\n\u001b[0;32m    605\u001b[0m             \u001b[0mentries\u001b[0m \u001b[1;33m=\u001b[0m \u001b[0mlist\u001b[0m\u001b[1;33m(\u001b[0m\u001b[0mscandir_it\u001b[0m\u001b[1;33m)\u001b[0m\u001b[1;33m\u001b[0m\u001b[1;33m\u001b[0m\u001b[0m\n\u001b[0;32m    606\u001b[0m     \u001b[1;32mexcept\u001b[0m \u001b[0mOSError\u001b[0m\u001b[1;33m:\u001b[0m\u001b[1;33m\u001b[0m\u001b[1;33m\u001b[0m\u001b[0m\n\u001b[1;32m--> 607\u001b[1;33m         \u001b[0monerror\u001b[0m\u001b[1;33m(\u001b[0m\u001b[0mos\u001b[0m\u001b[1;33m.\u001b[0m\u001b[0mscandir\u001b[0m\u001b[1;33m,\u001b[0m \u001b[0mpath\u001b[0m\u001b[1;33m,\u001b[0m \u001b[0msys\u001b[0m\u001b[1;33m.\u001b[0m\u001b[0mexc_info\u001b[0m\u001b[1;33m(\u001b[0m\u001b[1;33m)\u001b[0m\u001b[1;33m)\u001b[0m\u001b[1;33m\u001b[0m\u001b[1;33m\u001b[0m\u001b[0m\n\u001b[0m\u001b[0;32m    608\u001b[0m         \u001b[0mentries\u001b[0m \u001b[1;33m=\u001b[0m \u001b[1;33m[\u001b[0m\u001b[1;33m]\u001b[0m\u001b[1;33m\u001b[0m\u001b[1;33m\u001b[0m\u001b[0m\n\u001b[0;32m    609\u001b[0m     \u001b[1;32mfor\u001b[0m \u001b[0mentry\u001b[0m \u001b[1;32min\u001b[0m \u001b[0mentries\u001b[0m\u001b[1;33m:\u001b[0m\u001b[1;33m\u001b[0m\u001b[1;33m\u001b[0m\u001b[0m\n",
      "\u001b[1;32mC:\\Anaconda3\\lib\\shutil.py\u001b[0m in \u001b[0;36m_rmtree_unsafe\u001b[1;34m(path, onerror)\u001b[0m\n\u001b[0;32m    602\u001b[0m \u001b[1;32mdef\u001b[0m \u001b[0m_rmtree_unsafe\u001b[0m\u001b[1;33m(\u001b[0m\u001b[0mpath\u001b[0m\u001b[1;33m,\u001b[0m \u001b[0monerror\u001b[0m\u001b[1;33m)\u001b[0m\u001b[1;33m:\u001b[0m\u001b[1;33m\u001b[0m\u001b[1;33m\u001b[0m\u001b[0m\n\u001b[0;32m    603\u001b[0m     \u001b[1;32mtry\u001b[0m\u001b[1;33m:\u001b[0m\u001b[1;33m\u001b[0m\u001b[1;33m\u001b[0m\u001b[0m\n\u001b[1;32m--> 604\u001b[1;33m         \u001b[1;32mwith\u001b[0m \u001b[0mos\u001b[0m\u001b[1;33m.\u001b[0m\u001b[0mscandir\u001b[0m\u001b[1;33m(\u001b[0m\u001b[0mpath\u001b[0m\u001b[1;33m)\u001b[0m \u001b[1;32mas\u001b[0m \u001b[0mscandir_it\u001b[0m\u001b[1;33m:\u001b[0m\u001b[1;33m\u001b[0m\u001b[1;33m\u001b[0m\u001b[0m\n\u001b[0m\u001b[0;32m    605\u001b[0m             \u001b[0mentries\u001b[0m \u001b[1;33m=\u001b[0m \u001b[0mlist\u001b[0m\u001b[1;33m(\u001b[0m\u001b[0mscandir_it\u001b[0m\u001b[1;33m)\u001b[0m\u001b[1;33m\u001b[0m\u001b[1;33m\u001b[0m\u001b[0m\n\u001b[0;32m    606\u001b[0m     \u001b[1;32mexcept\u001b[0m \u001b[0mOSError\u001b[0m\u001b[1;33m:\u001b[0m\u001b[1;33m\u001b[0m\u001b[1;33m\u001b[0m\u001b[0m\n",
      "\u001b[1;31mFileNotFoundError\u001b[0m: [WinError 3] 지정된 경로를 찾을 수 없습니다: 'folder1'"
     ]
    }
   ],
   "source": [
    "import shutil\n",
    "shutil.rmtree('folder1') # 강제 삭제"
   ]
  },
  {
   "cell_type": "code",
   "execution_count": 66,
   "id": "4832162a-3fd1-491a-9bb5-002571c59677",
   "metadata": {},
   "outputs": [
    {
     "data": {
      "text/plain": [
       "'C:\\\\Users\\\\gyj19\\\\[Weeks] Advanced Python 1'"
      ]
     },
     "execution_count": 66,
     "metadata": {},
     "output_type": "execute_result"
    }
   ],
   "source": [
    "# 상위 폴더에 쓰고 싶다\n",
    "os.getcwd()"
   ]
  },
  {
   "cell_type": "code",
   "execution_count": 3,
   "id": "8df48f9b-ef63-43ef-adea-12d15a0d9f2e",
   "metadata": {},
   "outputs": [
    {
     "ename": "NameError",
     "evalue": "name 'os' is not defined",
     "output_type": "error",
     "traceback": [
      "\u001b[1;31m---------------------------------------------------------------------------\u001b[0m",
      "\u001b[1;31mNameError\u001b[0m                                 Traceback (most recent call last)",
      "\u001b[1;32m~\\AppData\\Local\\Temp/ipykernel_16676/2575232057.py\u001b[0m in \u001b[0;36m<module>\u001b[1;34m\u001b[0m\n\u001b[1;32m----> 1\u001b[1;33m \u001b[0mos\u001b[0m\u001b[1;33m.\u001b[0m\u001b[0mchdir\u001b[0m\u001b[1;33m(\u001b[0m\u001b[1;34m'..'\u001b[0m\u001b[1;33m)\u001b[0m\u001b[1;33m\u001b[0m\u001b[1;33m\u001b[0m\u001b[0m\n\u001b[0m",
      "\u001b[1;31mNameError\u001b[0m: name 'os' is not defined"
     ]
    }
   ],
   "source": [
    "os.chdir('..')"
   ]
  },
  {
   "cell_type": "code",
   "execution_count": 5,
   "id": "c6b1ff28-e6e1-473c-8059-e26a8a61bc41",
   "metadata": {},
   "outputs": [],
   "source": [
    "import os"
   ]
  },
  {
   "cell_type": "code",
   "execution_count": 20,
   "id": "24651ba2-62fc-4d87-9f78-7738b33d2b96",
   "metadata": {},
   "outputs": [
    {
     "data": {
      "text/plain": [
       "<function TextIOWrapper.read(size=-1, /)>"
      ]
     },
     "execution_count": 21,
     "metadata": {},
     "output_type": "execute_result"
    }
   ],
   "source": [
    "\"\"\"\n",
    "<응용 문제>\n",
    "1. file 새로 만들기\n",
    "2. file에 내용 입력하기\n",
    "3. file 불러내서 확인하기\n",
    "\"\"\"\n",
    "if not os.path.isdir('folder1'):\n",
    "    os.mkdir('folder1')\n",
    "    file = './folder1/test5.txt'\n",
    "    f = open(file, 'w', encoding='utf-8')\n",
    "    f.write('시험 화이팅!')\n",
    "    f.close()\n",
    "    \n",
    "file = 'test5.txt'  \n",
    "\n",
    "f = open(file, 'r', encoding='utf-8')\n",
    "f.read"
   ]
  },
  {
   "cell_type": "markdown",
   "id": "b577c02b-89cf-4c9e-b8a4-ebddfe9205e8",
   "metadata": {},
   "source": [
    "## pickle\n",
    "- 객체를 저장, 불러들일 수 있다.\n",
    "- 저장 : pickle.dump(변수, 파일명)\n",
    "- 열 때 : pickle.load(파일)"
   ]
  },
  {
   "cell_type": "code",
   "execution_count": 68,
   "id": "b314ecee-2002-4b39-902b-e83b4c40ad68",
   "metadata": {},
   "outputs": [],
   "source": [
    "import pickle"
   ]
  },
  {
   "cell_type": "code",
   "execution_count": 71,
   "id": "16ca83b0-905c-4146-b11e-258d9916bd73",
   "metadata": {},
   "outputs": [],
   "source": [
    "num = list(range(10))"
   ]
  },
  {
   "cell_type": "code",
   "execution_count": 72,
   "id": "63cf883b-3639-4b1c-bea3-fb3d6fbf73b3",
   "metadata": {},
   "outputs": [],
   "source": [
    "f = open('test.pickle', 'wb')\n",
    "pickle.dump(num, f)\n",
    "f.close()"
   ]
  },
  {
   "cell_type": "code",
   "execution_count": 73,
   "id": "8fd2fda8-b834-45b8-b8dc-f75151e47cc5",
   "metadata": {},
   "outputs": [],
   "source": [
    "with open('test.pickle', 'rb') as f:\n",
    "    number = pickle.load(f)"
   ]
  },
  {
   "cell_type": "code",
   "execution_count": 74,
   "id": "bfc68831-c6ba-475c-bf14-02f1d454948b",
   "metadata": {},
   "outputs": [
    {
     "data": {
      "text/plain": [
       "[0, 1, 2, 3, 4, 5, 6, 7, 8, 9]"
      ]
     },
     "execution_count": 74,
     "metadata": {},
     "output_type": "execute_result"
    }
   ],
   "source": [
    "number"
   ]
  },
  {
   "cell_type": "code",
   "execution_count": 75,
   "id": "b91d3e17-7235-4fe8-bfac-939db74f71ed",
   "metadata": {},
   "outputs": [],
   "source": [
    "# package 알아보기!"
   ]
  },
  {
   "cell_type": "code",
   "execution_count": 80,
   "id": "940e18f9-9097-434a-be54-fb85aa36d052",
   "metadata": {},
   "outputs": [
    {
     "data": {
      "text/plain": [
       "'\\n기말고사 : task가 주어지며, 모듈을 만들라고 할 것임\\n    - 주어진 여러 조건을 지킬 것\\n    - 기능이 구현되었는지(중요)\\n    - 프로그램이 돌아가는지(중요)\\n    - 정리도 할 것 + 독스트링 한 줄 정도 넣어둘 것\\n    - 구구단 프로젝트 다시 공부하기 loop 돌아가는 것\\n    - 유용한 모듈은 전부 함수로 만들어 둘 것\\n    - 플랫폼은 이클래스 과제!\\n'"
      ]
     },
     "execution_count": 80,
     "metadata": {},
     "output_type": "execute_result"
    }
   ],
   "source": [
    "\"\"\"\n",
    "기말고사 : task가 주어지며, 모듈을 만들라고 할 것임\n",
    "    - 주어진 여러 조건을 지킬 것\n",
    "    - 기능이 구현되었는지(중요)\n",
    "    - 프로그램이 돌아가는지(중요)\n",
    "    - 정리도 할 것 + 독스트링 한 줄 정도 넣어둘 것\n",
    "    - 구구단 프로젝트 다시 공부하기 loop 돌아가는 것\n",
    "    - 유용한 모듈은 전부 함수로 만들어 둘 것\n",
    "    - 플랫폼은 이클래스 과제!\n",
    "\"\"\""
   ]
  }
 ],
 "metadata": {
  "kernelspec": {
   "display_name": "Python 3 (ipykernel)",
   "language": "python",
   "name": "python3"
  },
  "language_info": {
   "codemirror_mode": {
    "name": "ipython",
    "version": 3
   },
   "file_extension": ".py",
   "mimetype": "text/x-python",
   "name": "python",
   "nbconvert_exporter": "python",
   "pygments_lexer": "ipython3",
   "version": "3.9.7"
  }
 },
 "nbformat": 4,
 "nbformat_minor": 5
}
