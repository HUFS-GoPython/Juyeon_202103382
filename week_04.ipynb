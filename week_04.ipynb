{
 "cells": [
  {
   "cell_type": "markdown",
   "id": "fac62242-569b-4b64-866a-8f4cfbbc104a",
   "metadata": {},
   "source": [
    "# Advanced Python 1 week 4 | 2022.03.25.Fri"
   ]
  },
  {
   "cell_type": "markdown",
   "id": "672ccc35-b9bc-4ca2-9137-8f53c17a31a1",
   "metadata": {},
   "source": [
    "## NLTK"
   ]
  },
  {
   "cell_type": "code",
   "execution_count": null,
   "id": "aa8105bb-672d-4a46-a35f-76a7d7d3994d",
   "metadata": {},
   "outputs": [
    {
     "name": "stdout",
     "output_type": "stream",
     "text": [
      "*** Introductory Examples for the NLTK Book ***\n",
      "Loading text1, ..., text9 and sent1, ..., sent9\n",
      "Type the name of the text or sentence to view it.\n",
      "Type: 'texts()' or 'sents()' to list the materials.\n",
      "text1: Moby Dick by Herman Melville 1851\n",
      "text2: Sense and Sensibility by Jane Austen 1811\n",
      "text3: The Book of Genesis\n",
      "text4: Inaugural Address Corpus\n",
      "text5: Chat Corpus\n",
      "text6: Monty Python and the Holy Grail\n"
     ]
    }
   ],
   "source": [
    "#nltk book import\n",
    "import nltk\n",
    "from nltk import book\n",
    "nltk.download('book', quiet = True)#"
   ]
  },
  {
   "cell_type": "markdown",
   "id": "125df5d9-ab73-4212-aaf3-adf5445fc0e3",
   "metadata": {},
   "source": [
    "## 함수Ⅰ"
   ]
  },
  {
   "cell_type": "markdown",
   "id": "8acb1b50-32eb-449c-85de-348786f10920",
   "metadata": {},
   "source": [
    "* 기본 문법은 다음과 같다 : '<str>'.fx(<요소>)\n",
    "* 문자열 함수를 가리킨다.\n",
    "* count() : 텍스트에서 어떤 요소의 개수를 세는 역할을 한다.\n",
    "* replace() : P -> Q   \n",
    "    ex) replace(P, Q)는 즉, P를 Q로 바꾼다는 의미이다.\n",
    "* strip() : 불필요한 공백 등 원하는 요소를 제거하는 역할을 한다.\n",
    "* find() : 원하는 문자열을 찾는 역할을 한다. 찾는 게 없을 경우, '-1'을 반환한다.\n",
    "* index() : 원하는 문자열의 인덱스를 반환하는 역할을 한다. 찾는 게 없을 경우, error가 발생한다. "
   ]
  },
  {
   "cell_type": "code",
   "execution_count": 60,
   "id": "3fb21694-2ccb-4464-9fc1-9bca94cd52a8",
   "metadata": {},
   "outputs": [
    {
     "name": "stdout",
     "output_type": "stream",
     "text": [
      "2411\n",
      "50\n",
      "0\n"
     ]
    }
   ],
   "source": [
    "#count() : 대소문자를 구분한다.\n",
    "text3 = book.text3\n",
    "\n",
    "print(text3.count(\"the\")) #2411개\n",
    "print(text3.count(\"The\")) #50개\n",
    "print(text3.count(\"THE\")) #0개"
   ]
  },
  {
   "cell_type": "code",
   "execution_count": 26,
   "id": "96199d9c-3f5a-46cc-968f-649851dcd26b",
   "metadata": {},
   "outputs": [
    {
     "data": {
      "text/plain": [
       "'Love'"
      ]
     },
     "execution_count": 26,
     "metadata": {},
     "output_type": "execute_result"
    }
   ],
   "source": [
    "#replace()\n",
    "\n",
    "word = 'love'\n",
    "word.replace('l', 'L') #이때, word만을 print하면 여전히 'love'가 나오므로 주의할 것!"
   ]
  },
  {
   "cell_type": "code",
   "execution_count": 70,
   "id": "b9ed4421-e0fc-4ca9-b837-d553a356a329",
   "metadata": {},
   "outputs": [
    {
     "name": "stdout",
     "output_type": "stream",
     "text": [
      "Candy\n",
      "Candy   \n",
      "   Candy\n",
      "Do you believe it?\n",
      "!Do you believe it\n"
     ]
    }
   ],
   "source": [
    "#strip()\n",
    "\n",
    "word = '   Candy   '\n",
    "print(word.strip()) #공백이 모두 사라짐\n",
    "print(word.lstrip()) #왼쪽 공백이 사라짐\n",
    "print(word.rstrip()) #오른쪽 공백이 사라짐\n",
    "\n",
    "book = '!Do you believe it?'\n",
    "print(book.strip('!')) #!가 사라짐\n",
    "print(book.strip('?')) #?가 사라짐"
   ]
  },
  {
   "cell_type": "code",
   "execution_count": 61,
   "id": "2b2c756d-3fdd-4c77-aca6-68ad322bc826",
   "metadata": {},
   "outputs": [
    {
     "name": "stdout",
     "output_type": "stream",
     "text": [
      "10\n",
      "12\n",
      "12\n"
     ]
    }
   ],
   "source": [
    "#find()\n",
    "\n",
    "print(ex_find:=\"Where is 'D'?\".find('D'))\n",
    "\n",
    "print(ex_lfind:=\"Look at the sky!\".find('s')) # 특정 문자를 왼쪽에서부터 찾고 싶을 때 : find() (find 함수 그대로!)\n",
    "#lfind로 쓰면 error 발생!\n",
    "print(ex_rfind:=\"Look at the sky!\".rfind('s')) # 특정 문자를 오른쪽에서부터 찾고 싶을 때 : rfind()"
   ]
  },
  {
   "cell_type": "code",
   "execution_count": 69,
   "id": "9e024133-d586-4b0f-bc16-df05b1258a36",
   "metadata": {},
   "outputs": [
    {
     "name": "stdout",
     "output_type": "stream",
     "text": [
      "10\n",
      "12\n",
      "12\n"
     ]
    }
   ],
   "source": [
    "#index()\n",
    "\n",
    "print(index_str :=\"Where is 'D'?\".index('D'))\n",
    "\n",
    "print(lindex_str:=\"Look at the sky!\".index('s')) # 특정 문자를 왼쪽에서부터 찾고 싶을 때 : lindex()\n",
    "#lindex로 쓰면 error 발생!\n",
    "print(rindex_str:=\"Look at the sky!\".rindex('s')) # 특정 문자를 오른쪽에서부터 찾고 싶을 때 : rindex()"
   ]
  },
  {
   "cell_type": "code",
   "execution_count": 72,
   "id": "19ba551d-aaa5-4b33-89e8-694860bc8028",
   "metadata": {},
   "outputs": [
    {
     "data": {
      "text/plain": [
       "-1"
      ]
     },
     "execution_count": 74,
     "metadata": {},
     "output_type": "execute_result"
    }
   ],
   "source": [
    "#find()와 index()의 차이점? -> find는 없는 문자열을 찾으면 '-1'을 반환하지만, index는 error가 발생한다!\n",
    "\n",
    "chocolate = 'ruby'\n",
    "\n",
    "chocolate.find('a')"
   ]
  },
  {
   "cell_type": "code",
   "execution_count": 73,
   "id": "d93d5050-9ede-43cc-84da-763e5a02b682",
   "metadata": {},
   "outputs": [
    {
     "ename": "ValueError",
     "evalue": "substring not found",
     "output_type": "error",
     "traceback": [
      "\u001b[1;31m---------------------------------------------------------------------------\u001b[0m",
      "\u001b[1;31mValueError\u001b[0m                                Traceback (most recent call last)",
      "\u001b[1;32m~\\AppData\\Local\\Temp/ipykernel_23296/4039391631.py\u001b[0m in \u001b[0;36m<module>\u001b[1;34m\u001b[0m\n\u001b[1;32m----> 1\u001b[1;33m \u001b[0mchocolate\u001b[0m\u001b[1;33m.\u001b[0m\u001b[0mindex\u001b[0m\u001b[1;33m(\u001b[0m\u001b[1;34m'a'\u001b[0m\u001b[1;33m)\u001b[0m\u001b[1;33m\u001b[0m\u001b[1;33m\u001b[0m\u001b[0m\n\u001b[0m",
      "\u001b[1;31mValueError\u001b[0m: substring not found"
     ]
    }
   ],
   "source": [
    "chocolate.index('a')"
   ]
  },
  {
   "cell_type": "markdown",
   "id": "7442b810-d08c-46c7-a8ce-ecd3118a0c81",
   "metadata": {},
   "source": [
    "## 함수Ⅱ"
   ]
  },
  {
   "cell_type": "markdown",
   "id": "57a776fb-c740-453e-8f88-0e9288910a7f",
   "metadata": {},
   "source": [
    "* NLTK 전용 함수를 가리킨다.\n",
    "* concordance() : 특정 스트링이 어떤 문맥에서 쓰이는지 알려준다.\n",
    "* similar() : 주어진 스트링과 비슷한 문맥에서 쓰이는 단어를 보여준다.\n",
    "* common_contexts(리스트) : 주어진 스트링들이 공유하는 문맥을 보여준다.\n",
    "* dispersion_plot(리스트) : 주어진 스트링들이 텍스트의 어느 위치에 나오는지 이미지로 보여준다."
   ]
  },
  {
   "cell_type": "code",
   "execution_count": 80,
   "id": "bd4d1ac2-d721-406b-9c28-67165e80ee30",
   "metadata": {
    "collapsed": true,
    "jupyter": {
     "outputs_hidden": true
    },
    "tags": []
   },
   "outputs": [
    {
     "name": "stdout",
     "output_type": "stream",
     "text": [
      "Displaying 25 of 1226 matches:\n",
      "s , and to teach them by what name a whale - fish is to be called in our tongue\n",
      "t which is not true .\" -- HACKLUYT \" WHALE . ... Sw . and Dan . HVAL . This ani\n",
      "ulted .\" -- WEBSTER ' S DICTIONARY \" WHALE . ... It is more immediately from th\n",
      "ISH . WAL , DUTCH . HWAL , SWEDISH . WHALE , ICELANDIC . WHALE , ENGLISH . BALE\n",
      "HWAL , SWEDISH . WHALE , ICELANDIC . WHALE , ENGLISH . BALEINE , FRENCH . BALLE\n",
      "least , take the higgledy - piggledy whale statements , however authentic , in \n",
      " dreadful gulf of this monster ' s ( whale ' s ) mouth , are immediately lost a\n",
      " patient Job .\" -- RABELAIS . \" This whale ' s liver was two cartloads .\" -- ST\n",
      " Touching that monstrous bulk of the whale or ork we have received nothing cert\n",
      " of oil will be extracted out of one whale .\" -- IBID . \" HISTORY OF LIFE AND D\n",
      "ise .\" -- KING HENRY . \" Very like a whale .\" -- HAMLET . \" Which to secure , n\n",
      "restless paine , Like as the wounded whale to shore flies thro ' the maine .\" -\n",
      ". OF SPERMA CETI AND THE SPERMA CETI WHALE . VIDE HIS V . E . \" Like Spencer ' \n",
      "t had been a sprat in the mouth of a whale .\" -- PILGRIM ' S PROGRESS . \" That \n",
      "EN ' S ANNUS MIRABILIS . \" While the whale is floating at the stern of the ship\n",
      "e ship called The Jonas - in - the - Whale . ... Some say the whale can ' t ope\n",
      " in - the - Whale . ... Some say the whale can ' t open his mouth , but that is\n",
      " masts to see whether they can see a whale , for the first discoverer has a duc\n",
      " for his pains . ... I was told of a whale taken near Shetland , that had above\n",
      "oneers told me that he caught once a whale in Spitzbergen that was white all ov\n",
      "2 , one eighty feet in length of the whale - bone kind came in , which ( as I w\n",
      "n master and kill this Sperma - ceti whale , for I could never hear of any of t\n",
      " . 1729 . \"... and the breath of the whale is frequendy attended with such an i\n",
      "ed with hoops and armed with ribs of whale .\" -- RAPE OF THE LOCK . \" If we com\n",
      "contemptible in the comparison . The whale is doubtless the largest animal in c\n"
     ]
    }
   ],
   "source": [
    "#concordance()\n",
    "\n",
    "text1.concordance('whale') #'whale'을 중심으로 문장을 유추할 수 있게끔 결과가 출력된다!\n",
    "# m) concordance()는 대소문자를 구분하지 않는 것 같다!"
   ]
  },
  {
   "cell_type": "code",
   "execution_count": 81,
   "id": "55a602c8-1bc0-4916-ab06-885d9e0ded65",
   "metadata": {},
   "outputs": [
    {
     "name": "stdout",
     "output_type": "stream",
     "text": [
      "ship boat sea time captain world man deck pequod other whales air\n",
      "water head crew line thing side way body\n"
     ]
    }
   ],
   "source": [
    "#similar()\n",
    "\n",
    "text1.similar('whale') #'whale'이 나오는 문맥과 비슷한 문맥에서 나오는 단어들을 보여준다.\n",
    "#similar()의 타입은 Nontype이므로 변수로 활용할 수 없다!"
   ]
  },
  {
   "cell_type": "code",
   "execution_count": 83,
   "id": "df0a4746-6d7f-458b-aa2d-720299fa1a0d",
   "metadata": {},
   "outputs": [
    {
     "name": "stdout",
     "output_type": "stream",
     "text": [
      "am_glad a_pretty a_lucky is_pretty be_glad\n"
     ]
    }
   ],
   "source": [
    "#common_contexts(리스트)\n",
    "\n",
    "text2.common_contexts(['monstrous', 'very']) #주어진 문자열 'monstrous', 'very'가 공유하는 문맥을 보여준다."
   ]
  },
  {
   "cell_type": "code",
   "execution_count": 86,
   "id": "8deb9e58-26db-4390-8640-786baf1adc55",
   "metadata": {},
   "outputs": [
    {
     "data": {
      "image/png": "[encoded data removed]",
      "text/plain": [
       "<Figure size 432x288 with 1 Axes>"
      ]
     },
     "metadata": {
      "needs_background": "light"
     },
     "output_type": "display_data"
    }
   ],
   "source": [
    "#dipersion_plot(리스트)\n",
    "\n",
    "text4 = book.text4\n",
    "text4. dispersion_plot(['citizens', 'democracy', 'America']) #각 단어가 text4에서 어떤 위치에 있는지 그림으로 표현해 준다."
   ]
  },
  {
   "cell_type": "markdown",
   "id": "6b1807bf-e054-468c-83bb-1875e6ecec67",
   "metadata": {},
   "source": [
    "## List&List Comprehension"
   ]
  },
  {
   "cell_type": "markdown",
   "id": "0e25f5b2-8a64-40f8-b233-f400afb7728a",
   "metadata": {},
   "source": [
    "### List\n",
    "* 프로그래밍에서 '배열'에 해당하며, 파이썬에서는 이를 리스트라고 부른다.\n",
    "* 하나의 변수에 여러 값을 할당하는 자료형이다.   \n",
    "    * 'example = [1, 2, 3, 4]'\n",
    "* 대괄호를 사용한다.\n",
    "* 내부 요소들의 자료형이 같을 필요가 없다.\n",
    "    * 'example = [2, 'NO', False]\n",
    "* 순서가 있는 자료형이므로, 슬라이싱과 인덱싱이 가능하다.\n",
    "* 빈 리스트는 다음과 같이 선언한다 : set(), []"
   ]
  },
  {
   "cell_type": "code",
   "execution_count": 87,
   "id": "ef68cec9-7f64-4d42-aa16-b0e0a25391e8",
   "metadata": {},
   "outputs": [],
   "source": [
    "#list_empty\n",
    "\n",
    "empty = []"
   ]
  },
  {
   "cell_type": "markdown",
   "id": "db32455c-2e86-43eb-95f2-2997b4d787d4",
   "metadata": {},
   "source": [
    "#list\n",
    "\n",
    "sky = ['sunset', 'sunrise', 'dusk', 'dawn']\n",
    "sky[1]\n",
    "\n",
    "#sky[01]과 같이 나타내서는 안 되며, sky[::-1]은 요소들을 역순으로 나타냄을 의미한다!"
   ]
  },
  {
   "cell_type": "code",
   "execution_count": 91,
   "id": "57dca190-2f32-43f3-8fb0-0e7cfb90e4ac",
   "metadata": {},
   "outputs": [
    {
     "ename": "SyntaxError",
     "evalue": "leading zeros in decimal integer literals are not permitted; use an 0o prefix for octal integers (Temp/ipykernel_23296/1846568875.py, line 1)",
     "output_type": "error",
     "traceback": [
      "\u001b[1;36m  File \u001b[1;32m\"C:\\Users\\gyj19\\AppData\\Local\\Temp/ipykernel_23296/1846568875.py\"\u001b[1;36m, line \u001b[1;32m1\u001b[0m\n\u001b[1;33m    sky[02]\u001b[0m\n\u001b[1;37m         ^\u001b[0m\n\u001b[1;31mSyntaxError\u001b[0m\u001b[1;31m:\u001b[0m leading zeros in decimal integer literals are not permitted; use an 0o prefix for octal integers\n"
     ]
    }
   ],
   "source": [
    "sky[02]"
   ]
  },
  {
   "cell_type": "code",
   "execution_count": 94,
   "id": "2f8acf93-607d-42ed-a4ef-da99c901195d",
   "metadata": {},
   "outputs": [
    {
     "data": {
      "text/plain": [
       "['dawn', 'dusk', 'sunrise', 'sunset']"
      ]
     },
     "execution_count": 94,
     "metadata": {},
     "output_type": "execute_result"
    }
   ],
   "source": [
    "sky[::-1]"
   ]
  },
  {
   "cell_type": "markdown",
   "id": "eb9dbf26-4498-4e06-a7cf-d0b8066591ab",
   "metadata": {},
   "source": [
    "### List Comprehension\n",
    "* 포함형, 지능형, 축약형 리스트가 존재한다.\n",
    "* 하나의 리스트에서 그걸 포함하는 다른 리스트를 만든다. \n",
    "* list + for loop\n",
    "* [A for A' in B]\n",
    "    * B에 있는 A'에서 A를 가져와라 -> 즉, 리스트에 담아 변환하라\n",
    "    * A : 내가 원하는 출력 형태\n",
    "    * A' : B의 형태\n",
    "    * B : 반복 가능한 자료형[리스트]\n",
    "* 조건은 다음과 같은 형태로 추가할 수 있다 : [A for A' in B if~]"
   ]
  },
  {
   "cell_type": "code",
   "execution_count": 96,
   "id": "eb7cf141-0641-49a4-b2cb-14b0a805c9ea",
   "metadata": {},
   "outputs": [
    {
     "data": {
      "text/plain": [
       "['u', 'u', 'u', 'a']"
      ]
     },
     "execution_count": 96,
     "metadata": {},
     "output_type": "execute_result"
    }
   ],
   "source": [
    "[sky[1] for sky in sky]"
   ]
  },
  {
   "cell_type": "code",
   "execution_count": 97,
   "id": "8ab7b21e-70bc-4eed-94bd-571e91854fcb",
   "metadata": {},
   "outputs": [
    {
     "data": {
      "text/plain": [
       "['[', 'y', 'k', 'y', 'n', 'e', '1', ']', 'Y', '.']"
      ]
     },
     "execution_count": 97,
     "metadata": {},
     "output_type": "execute_result"
    }
   ],
   "source": [
    "#text1의 단어 중 처음 10개 단어에서 마지막 알파벳을 변환해 보자!\n",
    "\n",
    "[word[-1] for word in text1.tokens[:10]]"
   ]
  },
  {
   "cell_type": "code",
   "execution_count": 105,
   "id": "7c97d3c4-b590-451e-804c-3703e75553c8",
   "metadata": {},
   "outputs": [
    {
     "data": {
      "text/plain": [
       "['.']"
      ]
     },
     "execution_count": 105,
     "metadata": {},
     "output_type": "execute_result"
    }
   ],
   "source": [
    "#조건 추가\n",
    "\n",
    "[word[-1] for word in text1.tokens[:10] if (len(word)<3 and (word == '.'))] #if 뒤의 괄호는 optional"
   ]
  },
  {
   "cell_type": "markdown",
   "id": "c3e40660-db5f-4bff-9eec-c36ac81a5939",
   "metadata": {},
   "source": [
    "### Mini Quiz.1\n",
    "* text5에서 길이가 15 이상인 단어를 10개만 추출해 보자!"
   ]
  },
  {
   "cell_type": "code",
   "execution_count": 104,
   "id": "014f0b52-c25a-4809-a713-566ff9f716aa",
   "metadata": {
    "collapsed": true,
    "jupyter": {
     "outputs_hidden": true
    },
    "tags": []
   },
   "outputs": [
    {
     "data": {
      "text/plain": [
       "['iamahotniplickme',\n",
       " '!!!!!!!!!!!!!!!!',\n",
       " 'iamahotnipwithpics',\n",
       " 'iamahotnipwithhotnippics',\n",
       " '--------------------',\n",
       " '..............................',\n",
       " '!!!!!!!!!!!!!!!!',\n",
       " 'mikeeeeeeeeeeeeeeeeeeeeeeeeee',\n",
       " 'oooooooooooooonnnnnnnnnnnneeeeeeeeeeeeeeesssssssss',\n",
       " 'WEEEEEEEEEEEEEEEEEE']"
      ]
     },
     "execution_count": 104,
     "metadata": {},
     "output_type": "execute_result"
    }
   ],
   "source": [
    "text5 = book.text5\n",
    "\n",
    "[word for word in text5.tokens if len(word)>=15][:10]"
   ]
  },
  {
   "cell_type": "markdown",
   "id": "e729996b-65a5-47cc-a106-930cedb85925",
   "metadata": {},
   "source": [
    "### Mini Quiz.2\n",
    "* text3에서 대문자인 단어를 소문자로 변형해 보자!\n",
    "* isupper(), lower()를 사용한다.\n",
    "* isupper() : 문자열이 대문자이면 True를, 소문자이거나 대소문자가 섞여 있으면 False를 반환한다.\n",
    "* islower() : 문자열이 소문자이면 True를, 대문자거나 대소문자가 섞여 있으면 False를 반환한다.\n",
    "* upper() : 문자열의 소문자를 대문자로 반환한다.\n",
    "* lower() : 문자열의 대문자를 소문자로 반환한다.\n",
    "* 모두 .XX()의 형태로 사용한다."
   ]
  },
  {
   "cell_type": "code",
   "execution_count": 111,
   "id": "dfd23e89-2744-4f1e-a3cb-58f58f95771f",
   "metadata": {
    "collapsed": true,
    "jupyter": {
     "outputs_hidden": true
    },
    "tags": []
   },
   "outputs": [
    {
     "data": {
      "text/plain": [
       "['i',\n",
       " 'i',\n",
       " 'lord',\n",
       " 'lord',\n",
       " 'lord',\n",
       " 'lord',\n",
       " 'lord',\n",
       " 'lord',\n",
       " 'lord',\n",
       " 'lord',\n",
       " 'i',\n",
       " 'lord',\n",
       " 'lord',\n",
       " 'lord',\n",
       " 'lord',\n",
       " 'lord',\n",
       " 'lord',\n",
       " 'lord',\n",
       " 'i',\n",
       " 'i',\n",
       " 'i',\n",
       " 'i',\n",
       " 'i',\n",
       " 'i',\n",
       " 'lord',\n",
       " 'i',\n",
       " 'lord',\n",
       " 'i',\n",
       " 'i',\n",
       " 'i',\n",
       " 'lord',\n",
       " 'lord',\n",
       " 'lord',\n",
       " 'i',\n",
       " 'lord',\n",
       " 'lord',\n",
       " 'lord',\n",
       " 'lord',\n",
       " 'lord',\n",
       " 'i',\n",
       " 'i',\n",
       " 'lord',\n",
       " 'i',\n",
       " 'i',\n",
       " 'i',\n",
       " 'lord',\n",
       " 'lord',\n",
       " 'lord',\n",
       " 'i',\n",
       " 'lord',\n",
       " 'lord',\n",
       " 'lord',\n",
       " 'lord',\n",
       " 'lord',\n",
       " 'i',\n",
       " 'i',\n",
       " 'i',\n",
       " 'lord',\n",
       " 'i',\n",
       " 'a',\n",
       " 'i',\n",
       " 'i',\n",
       " 'i',\n",
       " 'lord',\n",
       " 'i',\n",
       " 'i',\n",
       " 'i',\n",
       " 'i',\n",
       " 'lord',\n",
       " 'lord',\n",
       " 'lord',\n",
       " 'lord',\n",
       " 'lord',\n",
       " 'i',\n",
       " 'i',\n",
       " 'i',\n",
       " 'i',\n",
       " 'i',\n",
       " 'i',\n",
       " 'i',\n",
       " 'i',\n",
       " 'i',\n",
       " 'i',\n",
       " 'i',\n",
       " 'i',\n",
       " 'i',\n",
       " 'i',\n",
       " 'i',\n",
       " 'i',\n",
       " 'i',\n",
       " 'lord',\n",
       " 'lord',\n",
       " 'lord',\n",
       " 'lord',\n",
       " 'lord',\n",
       " 'lord',\n",
       " 'lord',\n",
       " 'lord',\n",
       " 'lord',\n",
       " 'i',\n",
       " 'i',\n",
       " 'i',\n",
       " 'i',\n",
       " 'lord',\n",
       " 'lord',\n",
       " 'i',\n",
       " 'lord',\n",
       " 'lord',\n",
       " 'lord',\n",
       " 'i',\n",
       " 'i',\n",
       " 'lord',\n",
       " 'i',\n",
       " 'lord',\n",
       " 'i',\n",
       " 'i',\n",
       " 'i',\n",
       " 'i',\n",
       " 'lord',\n",
       " 'lord',\n",
       " 'lord',\n",
       " 'lord',\n",
       " 'i',\n",
       " 'i',\n",
       " 'i',\n",
       " 'lord',\n",
       " 'i',\n",
       " 'lord',\n",
       " 'i',\n",
       " 'i',\n",
       " 'i',\n",
       " 'lord',\n",
       " 'i',\n",
       " 'lord',\n",
       " 'i',\n",
       " 'lord',\n",
       " 'lord',\n",
       " 'i',\n",
       " 'lord',\n",
       " 'lord',\n",
       " 'i',\n",
       " 'i',\n",
       " 'i',\n",
       " 'lord',\n",
       " 'i',\n",
       " 'lord',\n",
       " 'i',\n",
       " 'i',\n",
       " 'i',\n",
       " 'i',\n",
       " 'lord',\n",
       " 'lord',\n",
       " 'i',\n",
       " 'lord',\n",
       " 'lord',\n",
       " 'i',\n",
       " 'lord',\n",
       " 'lord',\n",
       " 'lord',\n",
       " 'i',\n",
       " 'lord',\n",
       " 'i',\n",
       " 'i',\n",
       " 'i',\n",
       " 'i',\n",
       " 'i',\n",
       " 'i',\n",
       " 'i',\n",
       " 'i',\n",
       " 'i',\n",
       " 'i',\n",
       " 'o',\n",
       " 'i',\n",
       " 'i',\n",
       " 'i',\n",
       " 'i',\n",
       " 'i',\n",
       " 'lord',\n",
       " 'lord',\n",
       " 'i',\n",
       " 'i',\n",
       " 'i',\n",
       " 'i',\n",
       " 'i',\n",
       " 'i',\n",
       " 'i',\n",
       " 'lord',\n",
       " 'i',\n",
       " 'lord',\n",
       " 'i',\n",
       " 'i',\n",
       " 'lord',\n",
       " 'i',\n",
       " 'i',\n",
       " 'i',\n",
       " 'lord',\n",
       " 'lord',\n",
       " 'lord',\n",
       " 'i',\n",
       " 'i',\n",
       " 'lord',\n",
       " 'lord',\n",
       " 'i',\n",
       " 'i',\n",
       " 'i',\n",
       " 'lord',\n",
       " 'i',\n",
       " 'i',\n",
       " 'i',\n",
       " 'lord',\n",
       " 'i',\n",
       " 'i',\n",
       " 'i',\n",
       " 'i',\n",
       " 'lo',\n",
       " 'i',\n",
       " 'lord',\n",
       " 'i',\n",
       " 'i',\n",
       " 'lord',\n",
       " 'i',\n",
       " 'i',\n",
       " 'i',\n",
       " 'i',\n",
       " 'lord',\n",
       " 'lord',\n",
       " 'lord',\n",
       " 'lord',\n",
       " 'lord',\n",
       " 'i',\n",
       " 'i',\n",
       " 'i',\n",
       " 'i',\n",
       " 'i',\n",
       " 'lord',\n",
       " 'lord',\n",
       " 'lo',\n",
       " 'i',\n",
       " 'lord',\n",
       " 'i',\n",
       " 'i',\n",
       " 'i',\n",
       " 'i',\n",
       " 'i',\n",
       " 'i',\n",
       " 'i',\n",
       " 'i',\n",
       " 'lord',\n",
       " 'lord',\n",
       " 'lord',\n",
       " 'i',\n",
       " 'i',\n",
       " 'i',\n",
       " 'i',\n",
       " 'i',\n",
       " 'i',\n",
       " 'i',\n",
       " 'i',\n",
       " 'lord',\n",
       " 'i',\n",
       " 'i',\n",
       " 'i',\n",
       " 'i',\n",
       " 'lord',\n",
       " 'i',\n",
       " 'i',\n",
       " 'lord',\n",
       " 'lord',\n",
       " 'i',\n",
       " 'lord',\n",
       " 'i',\n",
       " 'i',\n",
       " 'i',\n",
       " 'i',\n",
       " 'i',\n",
       " 'i',\n",
       " 'i',\n",
       " 'i',\n",
       " 'i',\n",
       " 'i',\n",
       " 'i',\n",
       " 'lord',\n",
       " 'i',\n",
       " 'i',\n",
       " 'lord',\n",
       " 'i',\n",
       " 'i',\n",
       " 'lord',\n",
       " 'i',\n",
       " 'o',\n",
       " 'lord',\n",
       " 'i',\n",
       " 'i',\n",
       " 'i',\n",
       " 'i',\n",
       " 'i',\n",
       " 'i',\n",
       " 'i',\n",
       " 'i',\n",
       " 'i',\n",
       " 'lord',\n",
       " 'i',\n",
       " 'i',\n",
       " 'lord',\n",
       " 'lord',\n",
       " 'i',\n",
       " 'lord',\n",
       " 'lord',\n",
       " 'i',\n",
       " 'i',\n",
       " 'i',\n",
       " 'i',\n",
       " 'lord',\n",
       " 'i',\n",
       " 'i',\n",
       " 'lord',\n",
       " 'i',\n",
       " 'i',\n",
       " 'o',\n",
       " 'lord',\n",
       " 'i',\n",
       " 'i',\n",
       " 'i',\n",
       " 'i',\n",
       " 'i',\n",
       " 'lord',\n",
       " 'i',\n",
       " 'i',\n",
       " 'i',\n",
       " 'i',\n",
       " 'i',\n",
       " 'i',\n",
       " 'i',\n",
       " 'i',\n",
       " 'lord',\n",
       " 'lord',\n",
       " 'i',\n",
       " 'lo',\n",
       " 'lord',\n",
       " 'lord',\n",
       " 'lord',\n",
       " 'i',\n",
       " 'i',\n",
       " 'lord',\n",
       " 'lord',\n",
       " 'i',\n",
       " 'lord',\n",
       " 'lord',\n",
       " 'i',\n",
       " 'i',\n",
       " 'i',\n",
       " 'lord',\n",
       " 'i',\n",
       " 'i',\n",
       " 'i',\n",
       " 'i',\n",
       " 'i',\n",
       " 'i',\n",
       " 'i',\n",
       " 'i',\n",
       " 'lord',\n",
       " 'lord',\n",
       " 'lord',\n",
       " 'i',\n",
       " 'i',\n",
       " 'lord',\n",
       " 'lord',\n",
       " 'lord',\n",
       " 'i',\n",
       " 'i',\n",
       " 'i',\n",
       " 'i',\n",
       " 'i',\n",
       " 'i',\n",
       " 'i',\n",
       " 'i',\n",
       " 'i',\n",
       " 'lord',\n",
       " 'i',\n",
       " 'i',\n",
       " 'i',\n",
       " 'i',\n",
       " 'i',\n",
       " 'i',\n",
       " 'i',\n",
       " 'i',\n",
       " 'i',\n",
       " 'lord',\n",
       " 'i',\n",
       " 'i',\n",
       " 'i',\n",
       " 'i',\n",
       " 'lord',\n",
       " 'i',\n",
       " 'i',\n",
       " 'o',\n",
       " 'i',\n",
       " 'i',\n",
       " 'i',\n",
       " 'i',\n",
       " 'o',\n",
       " 'i',\n",
       " 'i',\n",
       " 'i',\n",
       " 'i',\n",
       " 'lord',\n",
       " 'i',\n",
       " 'lord',\n",
       " 'i',\n",
       " 'i',\n",
       " 'i',\n",
       " 'i',\n",
       " 'i',\n",
       " 'lord',\n",
       " 'i',\n",
       " 'i',\n",
       " 'i',\n",
       " 'lord',\n",
       " 'g',\n",
       " 'i',\n",
       " 'i',\n",
       " 'i',\n",
       " 'i',\n",
       " 'i',\n",
       " 'i',\n",
       " 'i',\n",
       " 'lord',\n",
       " 'lord',\n",
       " 'lord',\n",
       " 'i',\n",
       " 'i',\n",
       " 'i',\n",
       " 'lo',\n",
       " 'i',\n",
       " 'i',\n",
       " 'i',\n",
       " 'i',\n",
       " 'i',\n",
       " 'a',\n",
       " 'i',\n",
       " 'i',\n",
       " 'i',\n",
       " 'i',\n",
       " 'i',\n",
       " 'lord',\n",
       " 'i',\n",
       " 'i',\n",
       " 'i',\n",
       " 'i',\n",
       " 'i',\n",
       " 'i',\n",
       " 'lord',\n",
       " 'i',\n",
       " 'i',\n",
       " 'i',\n",
       " 'lord',\n",
       " 'i',\n",
       " 'i',\n",
       " 'i',\n",
       " 'i',\n",
       " 'i',\n",
       " 'lord',\n",
       " 'i',\n",
       " 'i',\n",
       " 'i',\n",
       " 'i',\n",
       " 'i',\n",
       " 'i',\n",
       " 'i',\n",
       " 'i',\n",
       " 'i',\n",
       " 'i',\n",
       " 'i',\n",
       " 'i',\n",
       " 'i',\n",
       " 'i',\n",
       " 'i',\n",
       " 'i',\n",
       " 'i',\n",
       " 'i',\n",
       " 'i',\n",
       " 'i',\n",
       " 'i',\n",
       " 'lord',\n",
       " 'i',\n",
       " 'i',\n",
       " 'i',\n",
       " 'i',\n",
       " 'i',\n",
       " 'i',\n",
       " 'o',\n",
       " 'lord',\n",
       " 'i',\n",
       " 'i',\n",
       " 'i',\n",
       " 'i',\n",
       " 'i',\n",
       " 'i',\n",
       " 'i',\n",
       " 'i',\n",
       " 'i',\n",
       " 'i',\n",
       " 'i',\n",
       " 'i',\n",
       " 'i',\n",
       " 'i',\n",
       " 'i',\n",
       " 'i',\n",
       " 'i',\n",
       " 'i',\n",
       " 'i',\n",
       " 'i',\n",
       " 'i',\n",
       " 'i',\n",
       " 'i',\n",
       " 'i',\n",
       " 'i',\n",
       " 'i',\n",
       " 'i',\n",
       " 'i',\n",
       " 'i',\n",
       " 'i',\n",
       " 'i',\n",
       " 'i',\n",
       " 'i',\n",
       " 'i',\n",
       " 'i',\n",
       " 'i',\n",
       " 'i',\n",
       " 'i',\n",
       " 'i',\n",
       " 'i',\n",
       " 'i',\n",
       " 'i',\n",
       " 'i',\n",
       " 'i',\n",
       " 'i',\n",
       " 'i',\n",
       " 'i',\n",
       " 'i',\n",
       " 'i',\n",
       " 'lord',\n",
       " 'lord',\n",
       " 'lord',\n",
       " 'i',\n",
       " 'i',\n",
       " 'i',\n",
       " 'i',\n",
       " 'i',\n",
       " 'i',\n",
       " 'i',\n",
       " 'i',\n",
       " 'i',\n",
       " 'lord',\n",
       " 'lord',\n",
       " 'lord',\n",
       " 'lord',\n",
       " 'lord',\n",
       " 'i',\n",
       " 'i',\n",
       " 'i',\n",
       " 'i',\n",
       " 'i',\n",
       " 'lord',\n",
       " 'lord',\n",
       " 'lord',\n",
       " 'i',\n",
       " 'i',\n",
       " 'i',\n",
       " 'i',\n",
       " 'i',\n",
       " 'i',\n",
       " 'i',\n",
       " 'i',\n",
       " 'i',\n",
       " 'i',\n",
       " 'i',\n",
       " 'i',\n",
       " 'i',\n",
       " 'i',\n",
       " 'i',\n",
       " 'i',\n",
       " 'i',\n",
       " 'i',\n",
       " 'i',\n",
       " 'i',\n",
       " 'i',\n",
       " 'i',\n",
       " 'i',\n",
       " 'i',\n",
       " 'g',\n",
       " 'i',\n",
       " 'i',\n",
       " 'i',\n",
       " 'i',\n",
       " 'i',\n",
       " 'i',\n",
       " 'i',\n",
       " 'i',\n",
       " 'i',\n",
       " 'i',\n",
       " 'o',\n",
       " 'i',\n",
       " 'i',\n",
       " 'i',\n",
       " 'i',\n",
       " 'i',\n",
       " 'i',\n",
       " 'i',\n",
       " 'i',\n",
       " 'i',\n",
       " 'i',\n",
       " 'i',\n",
       " 'i',\n",
       " 'i',\n",
       " 'i',\n",
       " 'i',\n",
       " 'i',\n",
       " 'i',\n",
       " 'i',\n",
       " 'i',\n",
       " 'i',\n",
       " 'i',\n",
       " 'i',\n",
       " 'i',\n",
       " 'i',\n",
       " 'i',\n",
       " 'i',\n",
       " 'i',\n",
       " 'i',\n",
       " 'i',\n",
       " 'i',\n",
       " 'i',\n",
       " 'i',\n",
       " 'i',\n",
       " 'i',\n",
       " 'i',\n",
       " 'i',\n",
       " 'i',\n",
       " 'i',\n",
       " 'i',\n",
       " 'i',\n",
       " 'i',\n",
       " 'i',\n",
       " 'i',\n",
       " 'i',\n",
       " 'i',\n",
       " 'i',\n",
       " 'i',\n",
       " 'i',\n",
       " 'o',\n",
       " 'i',\n",
       " 'i',\n",
       " 'o',\n",
       " 'lord',\n",
       " 'i',\n",
       " 'i',\n",
       " 'i',\n",
       " 'i',\n",
       " 'i',\n",
       " 'i',\n",
       " 'i',\n",
       " 'i',\n",
       " 'i',\n",
       " 'i',\n",
       " 'i',\n",
       " 'i']"
      ]
     },
     "execution_count": 111,
     "metadata": {},
     "output_type": "execute_result"
    }
   ],
   "source": [
    "text3 = book.text3\n",
    "\n",
    "[word.lower() for word in text3 if word.isupper()]"
   ]
  },
  {
   "cell_type": "markdown",
   "id": "544aee74-1423-408f-b4a0-e887a9366ce5",
   "metadata": {},
   "source": [
    "## Cased, Uncased\n",
    "* 변환 : upper(), lower(), title(), swapcase()\n",
    "* 형태 체크 : isupper(), islower(), istitle(), isalpha()\n",
    "    * endswith(<string>), startswith(<string>) "
   ]
  },
  {
   "cell_type": "markdown",
   "id": "3b9b55e7-f294-456c-876b-8fd5e62c5f3c",
   "metadata": {},
   "source": [
    "### Mini Quiz.3\n",
    "* text1에서 'abelness'로 끝나는 단어를 중복없이, 정렬해서 나타내 보자!"
   ]
  },
  {
   "cell_type": "code",
   "execution_count": 112,
   "id": "477c566f-48bc-4955-b357-0c44a8dd7187",
   "metadata": {},
   "outputs": [
    {
     "data": {
      "text/plain": [
       "['comfortableness',\n",
       " 'honourableness',\n",
       " 'immutableness',\n",
       " 'indispensableness',\n",
       " 'indomitableness',\n",
       " 'intolerableness',\n",
       " 'palpableness',\n",
       " 'reasonableness',\n",
       " 'uncomfortableness']"
      ]
     },
     "execution_count": 112,
     "metadata": {},
     "output_type": "execute_result"
    }
   ],
   "source": [
    "#list -> list\n",
    "\n",
    "sorted(set([word for word in text1 if word.endswith('ableness')]))"
   ]
  },
  {
   "cell_type": "markdown",
   "id": "8e9d9553-7fd1-4c51-a192-5a20f6e19a3a",
   "metadata": {},
   "source": [
    "### Mini Quiz.4\n",
    "* text4에서 'gnt'가 포함된 단어들을 소문자로 리스트 변환해 보자!"
   ]
  },
  {
   "cell_type": "code",
   "execution_count": 114,
   "id": "669b5a96-8415-455a-bb15-67172a5a3d9a",
   "metadata": {
    "collapsed": true,
    "jupyter": {
     "outputs_hidden": true
    },
    "tags": []
   },
   "outputs": [
    {
     "data": {
      "text/plain": [
       "['sovereignty',\n",
       " 'sovereignty',\n",
       " 'sovereignty',\n",
       " 'sovereignty',\n",
       " 'sovereignty',\n",
       " 'sovereignty',\n",
       " 'sovereignty',\n",
       " 'sovereignty',\n",
       " 'sovereignty',\n",
       " 'sovereignties',\n",
       " 'sovereignties',\n",
       " 'sovereignty',\n",
       " 'sovereignties',\n",
       " 'sovereignty',\n",
       " 'sovereignty',\n",
       " 'sovereignty',\n",
       " 'sovereignty',\n",
       " 'sovereignty',\n",
       " 'sovereignty',\n",
       " 'sovereignty',\n",
       " 'sovereignty',\n",
       " 'sovereignty',\n",
       " 'sovereignty',\n",
       " 'sovereignty',\n",
       " 'sovereignty',\n",
       " 'sovereignty',\n",
       " 'sovereignties',\n",
       " 'sovereignty',\n",
       " 'sovereignty',\n",
       " 'sovereignty',\n",
       " 'sovereignty']"
      ]
     },
     "execution_count": 114,
     "metadata": {},
     "output_type": "execute_result"
    }
   ],
   "source": [
    "[word.lower() for word in text4 if 'gnt' in word]"
   ]
  },
  {
   "cell_type": "markdown",
   "id": "fbc191bd-fa1a-44a3-b25a-1ec0a50728b3",
   "metadata": {},
   "source": [
    "## NLTK FreqDist()\n",
    "* Frequency Distribution : 단어가 몇 번 출현했는지, 즉 빈도수를 가리킨다.\n",
    "* 텍스트의 성질을 알기 위해 다음과 같은 것을 파악할 필요가 있다 :\n",
    "    * 단어 개수\n",
    "    * 단어 빈도수\n",
    "* FreqDist(text)"
   ]
  },
  {
   "cell_type": "code",
   "execution_count": 129,
   "id": "a4ca805a-129b-4db0-8361-3351a2d782b4",
   "metadata": {},
   "outputs": [
    {
     "data": {
      "text/plain": [
       "[(',', 18713),\n",
       " ('the', 13721),\n",
       " ('.', 6862),\n",
       " ('of', 6536),\n",
       " ('and', 6024),\n",
       " ('a', 4569),\n",
       " ('to', 4542),\n",
       " (';', 4072),\n",
       " ('in', 3916),\n",
       " ('that', 2982),\n",
       " (\"'\", 2684)]"
      ]
     },
     "execution_count": 129,
     "metadata": {},
     "output_type": "execute_result"
    }
   ],
   "source": [
    "from nltk import FreqDist\n",
    "\n",
    "fdist = FreqDist(text1) # cased\n",
    "fdist.most_common(11) # most_common은 빈도수가 높은 단어를 차례대로 보여준다!"
   ]
  },
  {
   "cell_type": "code",
   "execution_count": 128,
   "id": "e8df9bd9-bd89-42fe-8678-7428e8866812",
   "metadata": {},
   "outputs": [
    {
     "name": "stdout",
     "output_type": "stream",
     "text": [
      "1695\n",
      "1695\n"
     ]
    }
   ],
   "source": [
    "#특정 단어의 빈도수를 알고 싶을 때는 fdist['']를 사용한다!\n",
    "\n",
    "print(fdist['is']) # 1번째 방법\n",
    "print(text1.count('is')) # 2번째 방법"
   ]
  },
  {
   "cell_type": "code",
   "execution_count": 127,
   "id": "5c3d1ecc-48f4-421a-81a8-53c90bff326d",
   "metadata": {},
   "outputs": [
    {
     "data": {
      "text/plain": [
       "0.00649875967625058"
      ]
     },
     "execution_count": 127,
     "metadata": {},
     "output_type": "execute_result"
    }
   ],
   "source": [
    "#특정 단어의 출현율을 알고 싶을 때는 freq()를 사용한다!\n",
    "\n",
    "fdist.freq('is')"
   ]
  },
  {
   "cell_type": "code",
   "execution_count": 126,
   "id": "6dfb02a6-dd83-401f-9eb1-d83a61f2f4fb",
   "metadata": {},
   "outputs": [
    {
     "data": {
      "image/png": "[encoded data removed]",
      "text/plain": [
       "<Figure size 432x288 with 1 Axes>"
      ]
     },
     "metadata": {
      "needs_background": "light"
     },
     "output_type": "display_data"
    },
    {
     "data": {
      "text/plain": [
       "<AxesSubplot:xlabel='Samples', ylabel='Cumulative Counts'>"
      ]
     },
     "execution_count": 126,
     "metadata": {},
     "output_type": "execute_result"
    }
   ],
   "source": [
    "#단어의 빈도수를 그림으로 알고 싶을 때는 fdist.plot(알고 싶은 단어의 개수, cumulative = True)를 사용한다!\n",
    "\n",
    "fdist.plot(8, cumulative = True) #그려지는 곡선이 완만할수록 자주 나타나지 않는 단어이다!"
   ]
  },
  {
   "cell_type": "code",
   "execution_count": 125,
   "id": "0ecbd646-1f11-44b2-b860-0930dc1721e9",
   "metadata": {},
   "outputs": [
    {
     "data": {
      "image/png": "[encoded data removed]",
      "text/plain": [
       "<Figure size 432x288 with 1 Axes>"
      ]
     },
     "metadata": {
      "needs_background": "light"
     },
     "output_type": "display_data"
    },
    {
     "data": {
      "text/plain": [
       "<AxesSubplot:xlabel='Samples', ylabel='Counts'>"
      ]
     },
     "execution_count": 125,
     "metadata": {},
     "output_type": "execute_result"
    }
   ],
   "source": [
    "#cf) cumulative를 쓰지 않은 그래프\n",
    "\n",
    "fdist.plot(8)"
   ]
  },
  {
   "cell_type": "code",
   "execution_count": 124,
   "id": "103483a1-373a-483d-875a-6134e4d565fe",
   "metadata": {},
   "outputs": [
    {
     "data": {
      "text/plain": [
       "{'ETYMOLOGY', 'Herman', 'Late', 'Melville', ']'}"
      ]
     },
     "execution_count": 124,
     "metadata": {},
     "output_type": "execute_result"
    }
   ],
   "source": [
    "#가장 희귀한 단어를 찾을 때는 fdist.hapaxes()를 사용한다!\n",
    "\n",
    "set(fdist.hapaxes()[:5])"
   ]
  },
  {
   "cell_type": "markdown",
   "id": "50eba774-f0a8-4a0e-a283-f39ec0bf50ac",
   "metadata": {},
   "source": [
    "### Mini Quiz.5\n",
    "* text1의 희귀한 단어들 중 알파벳으로 이루어진 단어들 10개만을 담아서 소문자 리스트로 출력해 보자!"
   ]
  },
  {
   "cell_type": "code",
   "execution_count": 123,
   "id": "6a2d7019-fe61-4bec-ac5f-8612d82609d0",
   "metadata": {},
   "outputs": [
    {
     "data": {
      "text/plain": [
       "['herman',\n",
       " 'melville',\n",
       " 'etymology',\n",
       " 'late',\n",
       " 'consumptive',\n",
       " 'school',\n",
       " 'threadbare',\n",
       " 'lexicons',\n",
       " 'mockingly',\n",
       " 'flags']"
      ]
     },
     "execution_count": 123,
     "metadata": {},
     "output_type": "execute_result"
    }
   ],
   "source": [
    "[word.lower() for word in fdist.hapaxes() if word.isalpha()][:10]"
   ]
  },
  {
   "cell_type": "markdown",
   "id": "9ca046e2-bc62-4513-a21f-70b9093043dd",
   "metadata": {},
   "source": [
    "### Mini Quiz.6\n",
    "* text1에서 대소문자 구분 없는 fdist를 만들어 보자! \n",
    "    * ex) the 15,000 / The 600 -> the 21,000로 만들기"
   ]
  },
  {
   "cell_type": "code",
   "execution_count": 134,
   "id": "9b681c58-9971-41d4-9437-ec87ba27da97",
   "metadata": {},
   "outputs": [
    {
     "name": "stdout",
     "output_type": "stream",
     "text": [
      "14431\n",
      "0\n"
     ]
    }
   ],
   "source": [
    "fdist_quiz = FreqDist(word.lower() for word in text1)\n",
    "print(fdist_quiz['the'])\n",
    "print(fdist_quiz['The'])"
   ]
  },
  {
   "cell_type": "markdown",
   "id": "e6f50e93-6778-466b-a7cb-cb1c61b8a6d3",
   "metadata": {},
   "source": [
    "### Mini Quiz.7\n",
    "* text2에서 길이가 3자 이하이고, 빈도수가 5 이상인 단어들 10개의 리스트를 반환해 보자!"
   ]
  },
  {
   "cell_type": "code",
   "execution_count": null,
   "id": "94fb3c6f-4e28-4a6f-83f7-2784f4d69c8f",
   "metadata": {},
   "outputs": [],
   "source": [
    "text2 = book.text2\n",
    "[word for (word, count) in FreqDist(text2).items()\n",
    " if (len(word) <= 3) & (count >= 5)][:10]\n",
    "\n",
    "#주의! FreqDist의 type은 dictionary이므로 items()를 써야만 값이 정상적으로 출력된다!"
   ]
  },
  {
   "cell_type": "markdown",
   "id": "169fd5d3-d762-4269-88d5-067663749ab4",
   "metadata": {},
   "source": [
    "## List <-> String\n",
    "* split( ): string.split(separator)\n",
    "    * default = ' '\n",
    "* join( ) : seperator.join(string)"
   ]
  },
  {
   "cell_type": "code",
   "execution_count": 137,
   "id": "8def9195-38ff-4d2b-bd4c-40fb7dab215e",
   "metadata": {},
   "outputs": [
    {
     "name": "stdout",
     "output_type": "stream",
     "text": [
      "['켄마', ' 카게야마', ' 아카아시', ' 스가와라']\n"
     ]
    }
   ],
   "source": [
    "#split()은 특정 구분자를 중심으로 원소들을 나눠주는 역할을 한다.\n",
    "\n",
    "print(std_lst := \"켄마, 카게야마, 아카아시, 스가와라\".split(\",\"))"
   ]
  },
  {
   "cell_type": "code",
   "execution_count": 139,
   "id": "0f2dee65-a44a-4bfb-a6c9-b106b77fa97d",
   "metadata": {},
   "outputs": [
    {
     "name": "stdout",
     "output_type": "stream",
     "text": [
      "['켄마', '카게야마', '아카아시', '스가와라']\n"
     ]
    }
   ],
   "source": [
    "#띄어쓰기를 없애고 싶을 때는 다음과 같이 작성한다 : \n",
    "\n",
    "std_lst2 = \"켄마, 카게야마, 아카아시, 스가와라\"\n",
    "print(std_tokens := [word.strip() for word in std_lst2.split(',')])"
   ]
  },
  {
   "cell_type": "code",
   "execution_count": 140,
   "id": "a9147b93-b0bf-4c00-b9fb-2d416360d051",
   "metadata": {},
   "outputs": [
    {
     "data": {
      "text/plain": [
       "'Ruby-White-Milk-Milk-Dark'"
      ]
     },
     "execution_count": 140,
     "metadata": {},
     "output_type": "execute_result"
    }
   ],
   "source": [
    "# join()은 원소들을 다시 특정 구분자로 연결한다.\n",
    "\n",
    "chocolate = ['Ruby', 'White', 'Milk', 'Milk', 'Dark']\n",
    "'-'.join(chocolate)"
   ]
  },
  {
   "cell_type": "markdown",
   "id": "88c21c7c-aced-4a3b-b6f7-ee9d82efbb2c",
   "metadata": {},
   "source": [
    "### 반복문 맛보기!\n",
    "* 자료구조를 순회할 때 사용한다.\n",
    "* 시작조건, 종료조건, 수행명령이 존재한다.\n",
    "\n",
    "* for 변수 in <반복 범위>:\n",
    "* [ for 변수 in <반복 범위>]\n",
    "* range(start, end, step) : 숫자를 순회할 때 사용한다.\n",
    "    * 0부터 시작한다.\n",
    "    * 인덱스랑 다른 점 : 콜론(;) -> 쉼표(,)"
   ]
  },
  {
   "cell_type": "code",
   "execution_count": 144,
   "id": "ab454c20-7819-4b61-b281-4dfa30cd928e",
   "metadata": {
    "collapsed": true,
    "jupyter": {
     "outputs_hidden": true
    },
    "tags": []
   },
   "outputs": [
    {
     "ename": "NameError",
     "evalue": "name 'brand_lst' is not defined",
     "output_type": "error",
     "traceback": [
      "\u001b[1;31m---------------------------------------------------------------------------\u001b[0m",
      "\u001b[1;31mNameError\u001b[0m                                 Traceback (most recent call last)",
      "\u001b[1;32m~\\AppData\\Local\\Temp/ipykernel_23296/4289969682.py\u001b[0m in \u001b[0;36m<module>\u001b[1;34m\u001b[0m\n\u001b[0;32m      1\u001b[0m \u001b[1;31m#ex\u001b[0m\u001b[1;33m\u001b[0m\u001b[1;33m\u001b[0m\u001b[0m\n\u001b[0;32m      2\u001b[0m \u001b[1;33m\u001b[0m\u001b[0m\n\u001b[1;32m----> 3\u001b[1;33m \u001b[1;32mfor\u001b[0m \u001b[0mcandy\u001b[0m \u001b[1;32min\u001b[0m \u001b[0mbrand_lst\u001b[0m\u001b[1;33m:\u001b[0m\u001b[1;33m\u001b[0m\u001b[1;33m\u001b[0m\u001b[0m\n\u001b[0m\u001b[0;32m      4\u001b[0m     \u001b[0mprint\u001b[0m\u001b[1;33m(\u001b[0m\u001b[0mname\u001b[0m\u001b[1;33m)\u001b[0m\u001b[1;33m\u001b[0m\u001b[1;33m\u001b[0m\u001b[0m\n",
      "\u001b[1;31mNameError\u001b[0m: name 'brand_lst' is not defined"
     ]
    }
   ],
   "source": [
    "#ex_1\n",
    "\n",
    "for candy in brand_lst:\n",
    "    print(name)"
   ]
  },
  {
   "cell_type": "code",
   "execution_count": 146,
   "id": "0193f862-c3f3-4899-931a-8082d0b8add6",
   "metadata": {
    "collapsed": true,
    "jupyter": {
     "outputs_hidden": true
    },
    "tags": []
   },
   "outputs": [
    {
     "ename": "NameError",
     "evalue": "name 'sent_tokens' is not defined",
     "output_type": "error",
     "traceback": [
      "\u001b[1;31m---------------------------------------------------------------------------\u001b[0m",
      "\u001b[1;31mNameError\u001b[0m                                 Traceback (most recent call last)",
      "\u001b[1;32m~\\AppData\\Local\\Temp/ipykernel_23296/2829836387.py\u001b[0m in \u001b[0;36m<module>\u001b[1;34m\u001b[0m\n\u001b[0;32m      1\u001b[0m \u001b[1;31m#ex_2\u001b[0m\u001b[1;33m\u001b[0m\u001b[1;33m\u001b[0m\u001b[0m\n\u001b[0;32m      2\u001b[0m \u001b[1;33m\u001b[0m\u001b[0m\n\u001b[1;32m----> 3\u001b[1;33m \u001b[1;32mfor\u001b[0m \u001b[0mword\u001b[0m \u001b[1;32min\u001b[0m \u001b[0msent_tokens\u001b[0m\u001b[1;33m:\u001b[0m\u001b[1;33m\u001b[0m\u001b[1;33m\u001b[0m\u001b[0m\n\u001b[0m\u001b[0;32m      4\u001b[0m     \u001b[0mprint\u001b[0m\u001b[1;33m(\u001b[0m\u001b[0mword\u001b[0m\u001b[1;33m)\u001b[0m\u001b[1;33m\u001b[0m\u001b[1;33m\u001b[0m\u001b[0m\n",
      "\u001b[1;31mNameError\u001b[0m: name 'sent_tokens' is not defined"
     ]
    }
   ],
   "source": [
    "#ex_2\n",
    "\n",
    "for word in sent_tokens:\n",
    "    print(word)"
   ]
  },
  {
   "cell_type": "markdown",
   "id": "4930af9b-8582-40c1-aa15-b7347dc258f4",
   "metadata": {},
   "source": [
    "### Mini Quiz.8\n",
    "* text6에서 길이가 4자 이하인 알파벳 중 ie를 포함하는 단어를 알파벳 개수로 출력해 보자!\n",
    "    * ex) [1, 3, 4, 3] : I have a car  "
   ]
  },
  {
   "cell_type": "code",
   "execution_count": 141,
   "id": "d8d1d0ec-b50e-44a8-9e33-e9d3278a726e",
   "metadata": {},
   "outputs": [
    {
     "data": {
      "text/plain": [
       "[3, 3, 3, 3, 3, 3, 4, 3, 3, 3, 3, 3, 4, 4, 4, 4, 3, 3, 3, 3, 3, 4, 4]"
      ]
     },
     "execution_count": 141,
     "metadata": {},
     "output_type": "execute_result"
    }
   ],
   "source": [
    "text6 = book.text6\n",
    "[len(word) for word in text6.tokens if (len(word)<=4) & ('ie' in word)]"
   ]
  },
  {
   "cell_type": "markdown",
   "id": "006349a4-6eca-425a-8b3d-9887dfd82e70",
   "metadata": {},
   "source": [
    "### Mini Quiz.9\n",
    "* text2에서 ch로 끝나는 단어를 조건에 맞춰서 출력해 보자!\n",
    "* 중복 없애기\n",
    "* 첫 글자와 ch남기고 가운데는 모두 -로 가리기\n",
    "    * ex) much -> m-ch\n",
    "    * ch로 시작하면 바꾸면 X\n",
    "* 정렬:\n",
    "   * 문자 길이로 정렬하기"
   ]
  },
  {
   "cell_type": "code",
   "execution_count": null,
   "id": "896e88ed-4dda-4d4c-b62c-e3383bb85be4",
   "metadata": {},
   "outputs": [],
   "source": [
    "#현재 고민 중!"
   ]
  }
 ],
 "metadata": {
  "kernelspec": {
   "display_name": "Python 3 (ipykernel)",
   "language": "python",
   "name": "python3"
  },
  "language_info": {
   "codemirror_mode": {
    "name": "ipython",
    "version": 3
   },
   "file_extension": ".py",
   "mimetype": "text/x-python",
   "name": "python",
   "nbconvert_exporter": "python",
   "pygments_lexer": "ipython3",
   "version": "3.9.7"
  }
 },
 "nbformat": 4,
 "nbformat_minor": 5
}
