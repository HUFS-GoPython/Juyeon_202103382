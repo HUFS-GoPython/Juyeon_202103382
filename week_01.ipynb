{
 "cells": [
  {
   "cell_type": "markdown",
   "id": "eee026a7-518c-4bc0-9614-72e4bbca13fa",
   "metadata": {},
   "source": [
    "* 주석 기능 사용\n",
    "* shift + enter를 사용하세요!"
   ]
  },
  {
   "cell_type": "markdown",
   "id": "efb515b4-30fb-4742-96b8-1af636e305c3",
   "metadata": {
    "tags": []
   },
   "source": [
    "# 프로그래밍이란?"
   ]
  },
  {
   "cell_type": "markdown",
   "id": "3220a3d2-3008-43c8-b302-21c649aa899e",
   "metadata": {
    "tags": []
   },
   "source": [
    "* programming : 일련의 과정을 자동화시키는 것, 프로그래밍 언어를 활용해 프로그램을 개발하는 것\n",
    "* program : 일련의 과정을 자동화시킨 것\n",
    "* python : 프로그래밍 언어 중 하나. 인간이 컴퓨터에게 명령을 내리기 위해 사용하는 언어"
   ]
  },
  {
   "cell_type": "markdown",
   "id": "e2610549-5de7-4af6-b897-1551215d0ed7",
   "metadata": {
    "tags": []
   },
   "source": [
    "# cp.2 Data : Types, Values, Variables and Names"
   ]
  },
  {
   "cell_type": "markdown",
   "id": "0b1d6869-7e96-436b-bbae-bb0a3cd000dd",
   "metadata": {
    "tags": []
   },
   "source": [
    "* 자료형 | Type : 값이 어떤 타입인지를 가리킨다. 즉, 데이터의 형태이다.\n",
    "* 값 | Value : 변수에 저장되는 요소를 가리킨다.\n",
    "* 변수 | Variable : 어떠한 값을 저장하는 공간이다."
   ]
  },
  {
   "cell_type": "markdown",
   "id": "4338346b-774d-4240-a84f-c56602edbdfe",
   "metadata": {
    "tags": []
   },
   "source": [
    "## 변수의 타입"
   ]
  },
  {
   "cell_type": "markdown",
   "id": "43b6df62-2235-41b9-bf66-479f56bfada6",
   "metadata": {
    "tags": []
   },
   "source": [
    "- boolean 블리언 : True, False (bool)\n",
    "- integer 정수 : 1, 2, 3, 4, ... (int)\n",
    "- floating point number 부동소수점 : 3.3, 4.0, 0.16 (float)\n",
    "- string 문자열 : \"Love\", 'Hatred' (str)"
   ]
  },
  {
   "cell_type": "code",
   "execution_count": 42,
   "id": "6557cd4d-717e-4fdb-b0f3-68cc9667b36e",
   "metadata": {},
   "outputs": [
    {
     "name": "stdout",
     "output_type": "stream",
     "text": [
      "<class 'bool'>\n"
     ]
    }
   ],
   "source": [
    "print(type(x == 3))"
   ]
  },
  {
   "cell_type": "code",
   "execution_count": 35,
   "id": "ecfd2e34-ed04-461f-a534-c307df8c70d5",
   "metadata": {},
   "outputs": [],
   "source": [
    "x = 3"
   ]
  },
  {
   "cell_type": "code",
   "execution_count": 43,
   "id": "702b733e-dfe6-4eb0-83e6-0c8defb28b82",
   "metadata": {},
   "outputs": [
    {
     "name": "stdout",
     "output_type": "stream",
     "text": [
      "4 <class 'int'>\n",
      "<class 'float'>\n"
     ]
    }
   ],
   "source": [
    "num = 4\n",
    "print(num, type(num))\n",
    "print(type(3.0))"
   ]
  },
  {
   "cell_type": "code",
   "execution_count": 40,
   "id": "a769b506-dbb4-4f8e-a1b9-8f5b8cc08fed",
   "metadata": {},
   "outputs": [
    {
     "name": "stdout",
     "output_type": "stream",
     "text": [
      "genuine love <class 'str'>\n"
     ]
    }
   ],
   "source": [
    "love = 'genuine love'\n",
    "print(love, type(love))"
   ]
  },
  {
   "cell_type": "markdown",
   "id": "2b341832-65df-4255-9883-1d82a459300e",
   "metadata": {
    "tags": []
   },
   "source": [
    "#### Single Quote 안의 Single Quote를 문자로 인식 받기\n",
    "* ex) 'This is S'arah.'\n",
    "* 1. \\ 사용\n",
    "* 2. Double Quote로 바꾸기"
   ]
  },
  {
   "cell_type": "code",
   "execution_count": 44,
   "id": "a116e911-8296-4cb4-a2b3-2dbf52157698",
   "metadata": {},
   "outputs": [
    {
     "name": "stdout",
     "output_type": "stream",
     "text": [
      "This is S'arah.\n",
      "This is S'arah.\n"
     ]
    }
   ],
   "source": [
    "#1. \\ 사용\n",
    "print('This is S\\'arah.')\n",
    "\n",
    "#2. Double Quote로 바꾸기\n",
    "print(\"This is S'arah.\")"
   ]
  },
  {
   "cell_type": "markdown",
   "id": "86577593-f15d-4885-993d-435d74054252",
   "metadata": {},
   "source": [
    "* 변수명 입력시 주의할 점 : 다음 변수명은 모두 특별한 의미를 지니고 있으므로 사용에는 유의할 것\n",
    " 1. 언더바로 시작하는 변수명   \n",
    "     ex) _name\n",
    " 2. 언더바가 2개 있는 변수명   \n",
    "     ex) _ name _\n",
    " 3. 대문자로 시작하는 변수명  \n",
    "     ex) Car(보통 Class를 지칭할 때 사용)\n",
    " 4. 전체가 대문자인 변수명   \n",
    "     ex) CAR"
   ]
  },
  {
   "cell_type": "markdown",
   "id": "ab46bcc2-3252-4bae-84c7-b3eedd708083",
   "metadata": {},
   "source": [
    "* 숫자로 시작하는 단어와 예약어는 변수명으로 사용할 수 없다!"
   ]
  },
  {
   "cell_type": "code",
   "execution_count": 15,
   "id": "9d40a193-1e98-4fcc-b6fa-466204498768",
   "metadata": {},
   "outputs": [
    {
     "name": "stdout",
     "output_type": "stream",
     "text": [
      "\n",
      "Here is a list of the Python keywords.  Enter any keyword to get more help.\n",
      "\n",
      "False               break               for                 not\n",
      "None                class               from                or\n",
      "True                continue            global              pass\n",
      "__peg_parser__      def                 if                  raise\n",
      "and                 del                 import              return\n",
      "as                  elif                in                  try\n",
      "assert              else                is                  while\n",
      "async               except              lambda              with\n",
      "await               finally             nonlocal            yield\n",
      "\n"
     ]
    }
   ],
   "source": [
    "help(\"keywords\") #예약어를 알려주는 명령어"
   ]
  },
  {
   "cell_type": "code",
   "execution_count": 17,
   "id": "8af53803-45fe-4b97-ab10-ad74f06c8d35",
   "metadata": {},
   "outputs": [
    {
     "ename": "SyntaxError",
     "evalue": "invalid syntax (Temp/ipykernel_15340/3188935843.py, line 1)",
     "output_type": "error",
     "traceback": [
      "\u001b[1;36m  File \u001b[1;32m\"C:\\Users\\gyj19\\AppData\\Local\\Temp/ipykernel_15340/3188935843.py\"\u001b[1;36m, line \u001b[1;32m1\u001b[0m\n\u001b[1;33m    4candy = 'Love' #숫자로 시작하는 변수명\u001b[0m\n\u001b[1;37m     ^\u001b[0m\n\u001b[1;31mSyntaxError\u001b[0m\u001b[1;31m:\u001b[0m invalid syntax\n"
     ]
    }
   ],
   "source": [
    "4candy = 'Love' #숫자로 시작하는 변수명"
   ]
  },
  {
   "cell_type": "code",
   "execution_count": 21,
   "id": "56a03c8e-89d8-4497-91a7-ec343285b6c8",
   "metadata": {},
   "outputs": [
    {
     "ename": "SyntaxError",
     "evalue": "cannot assign to False (Temp/ipykernel_15340/3852269883.py, line 1)",
     "output_type": "error",
     "traceback": [
      "\u001b[1;36m  File \u001b[1;32m\"C:\\Users\\gyj19\\AppData\\Local\\Temp/ipykernel_15340/3852269883.py\"\u001b[1;36m, line \u001b[1;32m1\u001b[0m\n\u001b[1;33m    False = 'Hatred' #예약어를 이용한 변수명\u001b[0m\n\u001b[1;37m    ^\u001b[0m\n\u001b[1;31mSyntaxError\u001b[0m\u001b[1;31m:\u001b[0m cannot assign to False\n"
     ]
    }
   ],
   "source": [
    "False = 'Hatred' #예약어를 이용한 변수명"
   ]
  },
  {
   "cell_type": "markdown",
   "id": "e925c2e7-c681-4752-bca5-8e0b9e0a2ae8",
   "metadata": {},
   "source": [
    "### 할당하기\n",
    "* 수학에서는 =가 양변이 같음을 의마하는데, 프로그램에서는 할당을 의미한다.   \n",
    "    ex) Chocolate = 'Hershey'  \n",
    "    -Hershey라는 값을 오른쪽에 넣는 것.\n",
    "*오른쪽에 있는 모든 것은 값을 가져야 한다.이를 '초기화'라고 한다."
   ]
  },
  {
   "cell_type": "code",
   "execution_count": 23,
   "id": "3c94649a-a527-44c4-bf32-f0864d11826e",
   "metadata": {},
   "outputs": [
    {
     "data": {
      "text/plain": [
       "'Chocolate'"
      ]
     },
     "execution_count": 23,
     "metadata": {},
     "output_type": "execute_result"
    }
   ],
   "source": [
    "cake = 'Chocolate'\n",
    "cake"
   ]
  },
  {
   "cell_type": "code",
   "execution_count": 27,
   "id": "bb2634ed-5479-4db2-8211-7040a0ef83a7",
   "metadata": {},
   "outputs": [
    {
     "name": "stdout",
     "output_type": "stream",
     "text": [
      "Sweet\n"
     ]
    }
   ],
   "source": [
    "love = 'Love'\n",
    "biscuit = 'Sweet'\n",
    "print(biscuit)"
   ]
  },
  {
   "cell_type": "code",
   "execution_count": 8,
   "id": "dc96dfc5-ee97-4109-9f60-46fc0e5e9f14",
   "metadata": {},
   "outputs": [
    {
     "name": "stdout",
     "output_type": "stream",
     "text": [
      "33 41\n"
     ]
    }
   ],
   "source": [
    "x = 33\n",
    "y = x + 8\n",
    "print(x, y)"
   ]
  },
  {
   "cell_type": "code",
   "execution_count": 28,
   "id": "db289755-fa63-49fc-93b5-3827b5636cac",
   "metadata": {},
   "outputs": [
    {
     "data": {
      "text/plain": [
       "str"
      ]
     },
     "execution_count": 28,
     "metadata": {},
     "output_type": "execute_result"
    }
   ],
   "source": [
    "type(biscuit)"
   ]
  },
  {
   "cell_type": "code",
   "execution_count": 29,
   "id": "db60ade2-2918-4aee-bf0e-b44c6aa8d36d",
   "metadata": {},
   "outputs": [],
   "source": [
    "#str biscuit = 'Sweet'"
   ]
  },
  {
   "cell_type": "code",
   "execution_count": 30,
   "id": "96a43b68-d79d-4ca6-921d-b98cedf5324a",
   "metadata": {},
   "outputs": [
    {
     "data": {
      "text/plain": [
       "'Chocolate'"
      ]
     },
     "execution_count": 30,
     "metadata": {},
     "output_type": "execute_result"
    }
   ],
   "source": [
    "cake"
   ]
  },
  {
   "cell_type": "markdown",
   "id": "d231cc00-70c8-4e98-94c7-e6059cdb5a22",
   "metadata": {},
   "source": [
    "* 오늘 배운 것 : 변수 타입, 변수 주의할 점, 할당하기"
   ]
  }
 ],
 "metadata": {
  "kernelspec": {
   "display_name": "Python 3 (ipykernel)",
   "language": "python",
   "name": "python3"
  },
  "language_info": {
   "codemirror_mode": {
    "name": "ipython",
    "version": 3
   },
   "file_extension": ".py",
   "mimetype": "text/x-python",
   "name": "python",
   "nbconvert_exporter": "python",
   "pygments_lexer": "ipython3",
   "version": "3.9.7"
  }
 },
 "nbformat": 4,
 "nbformat_minor": 5
}
