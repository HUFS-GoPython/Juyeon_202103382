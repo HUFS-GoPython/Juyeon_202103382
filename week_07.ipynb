{
 "cells": [
  {
   "cell_type": "markdown",
   "id": "414b2ed8-792d-4852-abb6-63964c8f2423",
   "metadata": {},
   "source": [
    "## 함수\n",
    "#### 1. 정의\n",
    "    - 코드의 덩어리, 묶음을 의미한다.\n",
    "    - 코드의 !편리한! 재사용이 주목적이다.\n",
    "    - 정의하기(defien) -> 호출하기(call)\n",
    "    - 구조   \n",
    "        *정의하기*   \n",
    "        def 함수이름(매개변수 1, 2, 3, ...):   \n",
    "            수행문1   \n",
    "            수행문2   \n",
    "            ....   \n",
    "            return 출력값\n",
    "            \n",
    "        *호출하기*   \n",
    "        함수이름(인수1, 2, 3, ...)   \n",
    "        \n",
    "   - 주의) 들여쓰기를 신경 써야 한다. \n",
    "   \n",
    "   - '인터페이스(안쪽 구조들)'를 잘 설정하면 내부를 몰라도 함수를 쉽게 쓸 수 있다.\n",
    "   \n",
    "#### 2. 이름 짓기\n",
    "    - 소문자 사용하기\n",
    "    - 카멜표기법도 사용 가능하나, 파이썬에서는 언더바를 선호한다.\n",
    "    - 동사+명사 : print_output, save_model, split_text\n",
    "    - 외부에 공유해야 할수록 줄임말 쓰지 말기 : print_output -> pr_output, 명료하게 쓰는 것이 중요하다!\n",
    "    "
   ]
  },
  {
   "cell_type": "code",
   "execution_count": 1,
   "id": "2b5a3c6c-7e58-4a6a-b5f0-fc136062041d",
   "metadata": {},
   "outputs": [],
   "source": [
    "# 매개변수와 출력값이란?\n",
    "# y = x + 1 \n",
    "# x = 매개변수, y = 출력값"
   ]
  },
  {
   "cell_type": "code",
   "execution_count": 2,
   "id": "d16bd488-1705-4f83-abd0-28c95b5142ce",
   "metadata": {},
   "outputs": [],
   "source": [
    "def split():\n",
    "    #####\n",
    "    return "
   ]
  },
  {
   "cell_type": "code",
   "execution_count": 3,
   "id": "d4c2c5e3-a94f-44c5-b782-9e3a86d042c5",
   "metadata": {},
   "outputs": [
    {
     "name": "stdout",
     "output_type": "stream",
     "text": [
      "quack\n"
     ]
    }
   ],
   "source": [
    "def make_a_sound() :\n",
    "    #1. 입력 없음, 반환 없음\n",
    "    print('quack')\n",
    "    #return None\n",
    "    \n",
    "make_a_sound()"
   ]
  },
  {
   "cell_type": "code",
   "execution_count": 4,
   "id": "fa089f35-49a6-4db3-b536-51a4598b26e9",
   "metadata": {},
   "outputs": [
    {
     "name": "stdout",
     "output_type": "stream",
     "text": [
      "quack\n"
     ]
    }
   ],
   "source": [
    "make_a_sound() #함수는 이렇게 line이 달라져도 사용 가능!"
   ]
  },
  {
   "cell_type": "code",
   "execution_count": 5,
   "id": "c4cdd183-d279-414a-8b8c-449ff43cd9e0",
   "metadata": {},
   "outputs": [
    {
     "data": {
      "text/plain": [
       "True"
      ]
     },
     "execution_count": 5,
     "metadata": {},
     "output_type": "execute_result"
    }
   ],
   "source": [
    "def agree() :\n",
    "    #2. 입력 없음, 반환 있음\n",
    "    return True\n",
    "agree()"
   ]
  },
  {
   "cell_type": "code",
   "execution_count": 6,
   "id": "6e0b2c0a-60d8-49dc-b08c-fccf95dd863b",
   "metadata": {},
   "outputs": [
    {
     "name": "stdout",
     "output_type": "stream",
     "text": [
      "Splendid\n"
     ]
    }
   ],
   "source": [
    "if agree() :\n",
    "    print('Splendid')\n",
    "else :\n",
    "    print('that was unexpected!')"
   ]
  },
  {
   "cell_type": "code",
   "execution_count": 7,
   "id": "808e5c73-172b-4ba4-8fee-daf6ab727f93",
   "metadata": {},
   "outputs": [
    {
     "name": "stdout",
     "output_type": "stream",
     "text": [
      "hello hello\n"
     ]
    }
   ],
   "source": [
    "def echo(anything) :\n",
    "    #3. 입력 있음, 반환 없음\n",
    "    print('{0} {0}'.format(anything))\n",
    "    \n",
    "echo('hello')"
   ]
  },
  {
   "cell_type": "code",
   "execution_count": 8,
   "id": "079b9293-91a4-4cd5-bcba-89203ea6cee2",
   "metadata": {},
   "outputs": [
    {
     "data": {
      "text/plain": [
       "'hello hello'"
      ]
     },
     "execution_count": 8,
     "metadata": {},
     "output_type": "execute_result"
    }
   ],
   "source": [
    "def echo(anything) :\n",
    "    #4. 입력 있음, 반환 있음\n",
    "    return'{0} {0}'.format(anything)\n",
    "\n",
    "echo = echo('hello') #type str이므로 변수로 받아서 사용 가능!\n",
    "echo"
   ]
  },
  {
   "cell_type": "markdown",
   "id": "5d44659c-1164-4729-80b7-1ac6786ef5b2",
   "metadata": {},
   "source": [
    "#### 3. 인수랑 매개변수\n",
    "    - 매개변수 : 정의할 때 사용된다. 인터페이스 내에서만 유효하다.   \n",
    "    ex) 바로 위 코드의 anything\n",
    "    - 인수 : 호출할 때 사용된다.\n",
    "    - 함수 호출시 인수에 할당된 값이 매개변수에 복사된다.   \n",
    "    ex) line = 'hello'   \n",
    "       -> anything = line ##### copy됨('hello'가 아니라 line이 들어감)   \n",
    "       -> anything 사라짐.\n",
    "\n",
    "- 위치 인수 :\n",
    "    - positional argument \n",
    "    - 값을 순서대로 상응하는 매개변수에 복사하는 것 \n",
    "- 키워드 인수 :\n",
    "    - keyword argument\n",
    "    - 매개변수에 상응하는 이름을 인수에 지정하는 것\n",
    "- 디폴트 인수 :\n",
    "    - default argument\n",
    "    - 정의할 때 매개변수의 기본값(default) 성질을 가진다!\n",
    "    - 호출 시 인수가 없으면 기본값으로 적용하는 것\n",
    "    - default는 non default 뒤로 가야 한다. "
   ]
  },
  {
   "cell_type": "code",
   "execution_count": 11,
   "id": "aa19acee-021d-49ab-96c3-65ea624b6933",
   "metadata": {},
   "outputs": [
    {
     "data": {
      "text/plain": [
       "'black'"
      ]
     },
     "execution_count": 11,
     "metadata": {},
     "output_type": "execute_result"
    }
   ],
   "source": [
    "def commentary(color) :\n",
    "    #나중에 설정하고 싶을 때 : pass 입력\n",
    "    #print(color, '1') #함수 안\n",
    "    if color == 'green' :\n",
    "        return 'green'\n",
    "    else :\n",
    "        return 'black'\n",
    "    \n",
    "color = 'red'\n",
    "commentary(color)\n",
    "\n",
    "#print(color, '2') #함수 밖"
   ]
  },
  {
   "cell_type": "code",
   "execution_count": 31,
   "id": "e9c64dd0-4afd-49c7-9953-78042cf83caf",
   "metadata": {},
   "outputs": [
    {
     "name": "stdout",
     "output_type": "stream",
     "text": [
      "green\n",
      "black\n",
      "black\n"
     ]
    }
   ],
   "source": [
    "colors = ['green', 'red', 'black']\n",
    "for c in colors :\n",
    "    print(commentary(c))"
   ]
  },
  {
   "cell_type": "code",
   "execution_count": 27,
   "id": "8d47ee6c-793d-4d5d-a66b-b02a8bd984ff",
   "metadata": {},
   "outputs": [
    {
     "name": "stdout",
     "output_type": "stream",
     "text": [
      "== 4단 ==\n",
      "4 x 1 = 4\n",
      "4 x 2 = 8\n",
      "4 x 3 = 12\n",
      "4 x 4 = 16\n",
      "4 x 5 = 20\n",
      "4 x 6 = 24\n",
      "4 x 7 = 28\n",
      "4 x 8 = 32\n",
      "4 x 9 = 36\n"
     ]
    }
   ],
   "source": [
    "#ex\n",
    "def gugudan(n) :\n",
    "    \n",
    "    if 0 < n < 10 :\n",
    "        for n in range(n, n+1) : \n",
    "            print(f'== {n}단 ==')\n",
    "            for i in range(1, 10) :\n",
    "                print(f'{n} x {i} = {n*i}')\n",
    "    return\n",
    "\n",
    "gugudan(4)"
   ]
  },
  {
   "cell_type": "code",
   "execution_count": 15,
   "id": "6ad5e6ac-74bf-4e78-8d5c-2e9b94e1361f",
   "metadata": {},
   "outputs": [
    {
     "data": {
      "text/plain": [
       "{'wine': 'rioja', 'entree': 'cake', 'dessert': 'egg'}"
      ]
     },
     "execution_count": 15,
     "metadata": {},
     "output_type": "execute_result"
    }
   ],
   "source": [
    "# positional\n",
    "def menu(wine, entree, dessert) :\n",
    "    return {'wine' : wine, 'entree' : entree, 'dessert' : dessert}\n",
    "\n",
    "menu('rioja', 'cake', 'egg') # 이렇게 순차적으로 변수에 들어간다."
   ]
  },
  {
   "cell_type": "code",
   "execution_count": 46,
   "id": "74138f68-a224-470c-b381-3a9e0a3714e6",
   "metadata": {},
   "outputs": [
    {
     "data": {
      "text/plain": [
       "{'wine': 'rioja', 'entree': 'egg', 'dessert': 'pancake'}"
      ]
     },
     "execution_count": 46,
     "metadata": {},
     "output_type": "execute_result"
    }
   ],
   "source": [
    "# keyword\n",
    "menu(entree = 'egg', wine = 'rioja', dessert = 'pancake') #입력 순서가 달라도 결과는 원래 순서대로 나온다."
   ]
  },
  {
   "cell_type": "code",
   "execution_count": 52,
   "id": "e76737a2-4cbf-4209-a8ce-48664609be81",
   "metadata": {},
   "outputs": [
    {
     "data": {
      "text/plain": [
       "{'wine': 'egg', 'entree': 'rioja', 'dessert': 'pancake'}"
      ]
     },
     "execution_count": 52,
     "metadata": {},
     "output_type": "execute_result"
    }
   ],
   "source": [
    "#menu(entree = 'egg', 'rioja', 'pancake') #error\n",
    "menu('egg', 'rioja', dessert = 'pancake') #positional이랑 keyword 섞었을 때 제일 마지막 것만 가능, 위치 고려하기 때문"
   ]
  },
  {
   "cell_type": "code",
   "execution_count": 42,
   "id": "7dc93a5c-2795-4c05-b4cb-a3c21102d79b",
   "metadata": {},
   "outputs": [
    {
     "data": {
      "text/plain": [
       "{'wine': 'rioja', 'entree': 'cake', 'dessert': 'egg'}"
      ]
     },
     "execution_count": 42,
     "metadata": {},
     "output_type": "execute_result"
    }
   ],
   "source": [
    "# default\n",
    "def menu2(wine, entree, dessert = 'scone') : #wine에 default를 설정하면 오류 발생 \n",
    "    #Q. 첫 번째 매개변수 default 설정은 어떻게?\n",
    "    return {'wine' : wine, 'entree' : entree, 'dessert' : dessert}\n",
    "\n",
    "menu2('rioja', 'cake', 'egg')"
   ]
  },
  {
   "cell_type": "code",
   "execution_count": 40,
   "id": "d8741b50-34d9-46e8-8988-0c5bd20a9e00",
   "metadata": {},
   "outputs": [
    {
     "data": {
      "text/plain": [
       "{'wine': 'merlot', 'entree': 'egg', 'dessert': 'scone'}"
      ]
     },
     "execution_count": 40,
     "metadata": {},
     "output_type": "execute_result"
    }
   ],
   "source": [
    "menu2('merlot', 'egg')"
   ]
  },
  {
   "cell_type": "markdown",
   "id": "eadebf31-b5b8-4268-98d2-369283161995",
   "metadata": {},
   "source": [
    "#### 나이 -> 연도\n",
    "def f(x) :\n",
    "    #입력값 = 나이\n",
    "    #반환값 = 출생년도\n",
    "    \n",
    "- input 입력 받아서 함수 사용해서 출력하기"
   ]
  },
  {
   "cell_type": "code",
   "execution_count": 59,
   "id": "0cf8e062-e230-414d-8adc-115edebeab0c",
   "metadata": {},
   "outputs": [
    {
     "name": "stdin",
     "output_type": "stream",
     "text": [
      " 21\n"
     ]
    },
    {
     "data": {
      "text/plain": [
       "2002"
      ]
     },
     "execution_count": 59,
     "metadata": {},
     "output_type": "execute_result"
    }
   ],
   "source": [
    "def calc_birth_year() :\n",
    "    return 2022 - int(input()) + 1\n",
    "\n",
    "calc_birth_year()"
   ]
  },
  {
   "cell_type": "code",
   "execution_count": 61,
   "id": "3d5debbb-fffd-495d-8f7e-cc620341911a",
   "metadata": {},
   "outputs": [
    {
     "name": "stdin",
     "output_type": "stream",
     "text": [
      " 21\n"
     ]
    },
    {
     "data": {
      "text/plain": [
       "2002"
      ]
     },
     "execution_count": 61,
     "metadata": {},
     "output_type": "execute_result"
    }
   ],
   "source": [
    "# professor\n",
    "def calc_birth_year(years_old) :\n",
    "    this_year = 2022\n",
    "    return this_year - years_old + 1\n",
    "\n",
    "age = int(input())\n",
    "calc_birth_year(age)"
   ]
  },
  {
   "cell_type": "markdown",
   "id": "e913f654-42c0-433b-b5ea-120d907d350a",
   "metadata": {},
   "source": [
    "#### 예\n",
    "- 사각형 너비 구하기\n",
    "    - 입력 : 두 변 길이\n",
    "    - 반환 : string = 'xx cm'"
   ]
  },
  {
   "cell_type": "code",
   "execution_count": 26,
   "id": "e7885d30-5e63-4cd1-87e3-1f26a99ddf39",
   "metadata": {},
   "outputs": [
    {
     "name": "stdin",
     "output_type": "stream",
     "text": [
      " 2\n",
      " 3\n"
     ]
    },
    {
     "ename": "TypeError",
     "evalue": "calc_square_area() missing 2 required positional arguments: 'length' and 'width'",
     "output_type": "error",
     "traceback": [
      "\u001b[1;31m---------------------------------------------------------------------------\u001b[0m",
      "\u001b[1;31mTypeError\u001b[0m                                 Traceback (most recent call last)",
      "\u001b[1;32m~\\AppData\\Local\\Temp/ipykernel_25456/2598172611.py\u001b[0m in \u001b[0;36m<module>\u001b[1;34m\u001b[0m\n\u001b[0;32m      5\u001b[0m \u001b[0mwidth\u001b[0m \u001b[1;33m=\u001b[0m \u001b[0mfloat\u001b[0m\u001b[1;33m(\u001b[0m\u001b[0minput\u001b[0m\u001b[1;33m(\u001b[0m\u001b[1;33m)\u001b[0m\u001b[1;33m)\u001b[0m\u001b[1;33m\u001b[0m\u001b[1;33m\u001b[0m\u001b[0m\n\u001b[0;32m      6\u001b[0m \u001b[1;33m\u001b[0m\u001b[0m\n\u001b[1;32m----> 7\u001b[1;33m \u001b[0mcalc_square_area\u001b[0m\u001b[1;33m(\u001b[0m\u001b[1;33m)\u001b[0m \u001b[1;31m#error 이유 알아보기! -> positional 오류!\u001b[0m\u001b[1;33m\u001b[0m\u001b[1;33m\u001b[0m\u001b[0m\n\u001b[0m",
      "\u001b[1;31mTypeError\u001b[0m: calc_square_area() missing 2 required positional arguments: 'length' and 'width'"
     ]
    }
   ],
   "source": [
    "def calc_square_area(length, width) :\n",
    "    return str((lenght)*(width))\n",
    "\n",
    "length = float(input())\n",
    "width = float(input())\n",
    "\n",
    "calc_square_area() #error 이유 알아보기! -> positional 오류!"
   ]
  },
  {
   "cell_type": "code",
   "execution_count": 25,
   "id": "184d9f5d-41c0-446a-a93b-eb2ab6988b48",
   "metadata": {},
   "outputs": [
    {
     "name": "stdout",
     "output_type": "stream",
     "text": [
      "8cm^2\n"
     ]
    }
   ],
   "source": [
    "def calc_square_area(length, width) : \n",
    "    area = length*width\n",
    "    return f'{length*width}cm^2'\n",
    "\n",
    "print(calc_square_area(2, 4))"
   ]
  },
  {
   "cell_type": "markdown",
   "id": "d5dc552b-303e-4d62-b540-cc5c3b46e22d",
   "metadata": {},
   "source": [
    "#### 호출 방식\n",
    "    - 정의된 부분이 메모리에 업로드 되지만 실행은 안 된다.\n",
    "    - 실행은 호출 시 된다.\n",
    "    - 값을 넘기는 방식 : 참조에 의한 호출(call by reference), 즉 메모리 주소를 넘기는 것\n",
    "    - 메모리 주소가 복사되기 때문에 가변객체가 매개변수로 들어갈 때 주의할 것!"
   ]
  },
  {
   "cell_type": "code",
   "execution_count": 73,
   "id": "86eecc5f-3146-4d00-8f5f-746b75302a79",
   "metadata": {},
   "outputs": [
    {
     "name": "stdout",
     "output_type": "stream",
     "text": [
      "2\n",
      "3\n",
      "1\n",
      "4\n"
     ]
    }
   ],
   "source": [
    "def calc_area(length, width) : #define\n",
    "    print('1')\n",
    "    return length*width\n",
    "\n",
    "print('2')\n",
    "garo = 2\n",
    "sero = 43\n",
    "print('3')\n",
    "calc_area(garo, sero) #call\n",
    "print('4')"
   ]
  },
  {
   "cell_type": "code",
   "execution_count": 78,
   "id": "6e525f4e-d534-4d86-99f6-84b9f7d3ffdf",
   "metadata": {},
   "outputs": [
    {
     "name": "stdout",
     "output_type": "stream",
     "text": [
      "['a']\n",
      "['a', 'b']\n"
     ]
    }
   ],
   "source": [
    "def buggy(arg, result=[]) :\n",
    "    result.append(arg)\n",
    "    print(result)\n",
    "    \n",
    "buggy('a') # expectation : [a] \n",
    "buggy('b') # expectation : [b] but 계속 쌓이고 있음!"
   ]
  },
  {
   "cell_type": "code",
   "execution_count": 79,
   "id": "7f6c6669-183f-4da1-9f55-224e64581b8e",
   "metadata": {},
   "outputs": [
    {
     "name": "stdout",
     "output_type": "stream",
     "text": [
      "['a']\n",
      "['b']\n"
     ]
    }
   ],
   "source": [
    "def buggy(arg, result=[]) :\n",
    "    result = [] #따라서, 한 번 비워 준다!\n",
    "    result.append(arg)\n",
    "    print(result)\n",
    "    \n",
    "buggy('a') \n",
    "buggy('b') "
   ]
  },
  {
   "cell_type": "code",
   "execution_count": 81,
   "id": "8cc2adf7-210c-410f-aa24-a6bec38229fa",
   "metadata": {},
   "outputs": [
    {
     "name": "stdout",
     "output_type": "stream",
     "text": [
      "[2, 3] eggs\n",
      "[0, 1] ham\n"
     ]
    }
   ],
   "source": [
    "# 메모리 주소\n",
    "    #length = garo # list copy\n",
    "def spam(eggs) : #eggs는 list\n",
    "    eggs.append(1)\n",
    "    eggs = [2, 3]\n",
    "    print(eggs, 'eggs')\n",
    "    \n",
    "ham = [0]\n",
    "spam(ham)\n",
    "print(ham, 'ham')"
   ]
  },
  {
   "cell_type": "code",
   "execution_count": 85,
   "id": "8335c0ab-0fb6-4702-9bb5-7fb794c3f879",
   "metadata": {},
   "outputs": [
    {
     "name": "stdout",
     "output_type": "stream",
     "text": [
      "b\n"
     ]
    }
   ],
   "source": [
    "# None\n",
    "thing = None\n",
    "\n",
    "if thing :\n",
    "    print('a') # True\n",
    "else :\n",
    "    print('b') # False"
   ]
  },
  {
   "cell_type": "code",
   "execution_count": 87,
   "id": "d5c8f978-42be-492c-aba3-452410cb4f1b",
   "metadata": {},
   "outputs": [
    {
     "name": "stdout",
     "output_type": "stream",
     "text": [
      "a\n"
     ]
    }
   ],
   "source": [
    "thing = None # True, False, None 다 가져 가기\n",
    "\n",
    "if thing is None :\n",
    "    print('a') # True\n",
    "elif thing :\n",
    "    print('b') \n",
    "else :\n",
    "    print('c') # False\n",
    "#def nonbuggy() : "
   ]
  },
  {
   "cell_type": "code",
   "execution_count": 28,
   "id": "86b7b5a5-e8d5-4148-a6e5-6686a96aca10",
   "metadata": {},
   "outputs": [
    {
     "name": "stdout",
     "output_type": "stream",
     "text": [
      "c\n"
     ]
    }
   ],
   "source": [
    "# wrong_answer\n",
    "def nonbuggy(arg, result) :\n",
    "    # 목표 : 리스트 쌓이거나 비우는 옵션 모두 설정하도록 None 사용해서 함수 재정의하기\n",
    "    # result is None, 빈 리스트\n",
    "    # 아니면 코드 그대로\n",
    "    result = []\n",
    "    if result is None :\n",
    "        print('a')\n",
    "    elif result :\n",
    "        print('b')\n",
    "    else :\n",
    "        print('c')\n",
    "\n",
    "nonbuggy(0, None)"
   ]
  },
  {
   "cell_type": "code",
   "execution_count": 103,
   "id": "e4e16354-a2ad-4c0a-8ee0-49ae71463e51",
   "metadata": {},
   "outputs": [
    {
     "name": "stdout",
     "output_type": "stream",
     "text": [
      "['a']\n",
      "['a', 'b']\n"
     ]
    }
   ],
   "source": [
    "# professor\n",
    "def nonbuggy(arg, result=None):\n",
    "    if result is None :\n",
    "        result = []\n",
    "    result.append(arg)\n",
    "    print(result)\n",
    "    \n",
    "list_a = []\n",
    "nonbuggy('a', list_a)\n",
    "nonbuggy('b', list_a)"
   ]
  },
  {
   "cell_type": "markdown",
   "id": "5b593f37-511d-46b1-a789-03abb52446ae",
   "metadata": {},
   "source": [
    "#### 전역변수 vs. 지역변수\n",
    "- 지역변수 : 함수 내에서만 사용 가능\n",
    "- 전역변수 : 프로그램 전체에서 사용 가능"
   ]
  },
  {
   "cell_type": "code",
   "execution_count": 110,
   "id": "0ccefde6-9c1a-4ce4-9957-c81f64d5f676",
   "metadata": {},
   "outputs": [
    {
     "name": "stdout",
     "output_type": "stream",
     "text": [
      "london\n",
      "paris\n"
     ]
    }
   ],
   "source": [
    "def fx():\n",
    "    city = 'london'\n",
    "    print(city)\n",
    "    \n",
    "city = 'paris'\n",
    "fx() # expectation : city = london\n",
    "print(city)"
   ]
  },
  {
   "cell_type": "code",
   "execution_count": 113,
   "id": "4cc220ae-2cfd-4643-a55f-9c694826c3ae",
   "metadata": {},
   "outputs": [
    {
     "name": "stdout",
     "output_type": "stream",
     "text": [
      "london\n",
      "london\n"
     ]
    }
   ],
   "source": [
    "def fx():\n",
    "    \"\"\"\n",
    "    doc string : 함수에 대한 설명\n",
    "    매개변수에 대한 설명, 타입, 함수의 의도\n",
    "    \"\"\"\n",
    "    global city\n",
    "    city = 'london'\n",
    "    print(city)\n",
    "    \n",
    "city = 'paris'\n",
    "fx() #city = london\n",
    "print(city)"
   ]
  },
  {
   "cell_type": "code",
   "execution_count": 114,
   "id": "042a1681-9a1c-43cd-9988-d20a6c142fcd",
   "metadata": {},
   "outputs": [
    {
     "data": {
      "text/plain": [
       "'london'"
      ]
     },
     "execution_count": 114,
     "metadata": {},
     "output_type": "execute_result"
    }
   ],
   "source": [
    "city"
   ]
  },
  {
   "cell_type": "code",
   "execution_count": 31,
   "id": "d0a6a2f6-bb9b-45f2-96d8-b6a9204d0e31",
   "metadata": {},
   "outputs": [
    {
     "name": "stdout",
     "output_type": "stream",
     "text": [
      "Seoul\n",
      "Beijing\n"
     ]
    }
   ],
   "source": [
    "def Capital() :\n",
    "    capital = 'Seoul'\n",
    "    print(capital)\n",
    "\n",
    "capital = 'Beijing'\n",
    "Capital()\n",
    "print(capital)"
   ]
  },
  {
   "cell_type": "code",
   "execution_count": 32,
   "id": "bce9e2cc-111f-4389-acdc-4edcf7dee315",
   "metadata": {},
   "outputs": [
    {
     "name": "stdout",
     "output_type": "stream",
     "text": [
      "Seoul\n",
      "Seoul\n"
     ]
    }
   ],
   "source": [
    "def Capital() :\n",
    "    global capital\n",
    "    capital = 'Seoul'\n",
    "    print(capital)\n",
    "    \n",
    "capital = 'Beijing'\n",
    "Capital()\n",
    "print(capital)"
   ]
  },
  {
   "cell_type": "code",
   "execution_count": 122,
   "id": "62511134-6ebd-4d87-b81e-a9adf53c9d82",
   "metadata": {},
   "outputs": [
    {
     "name": "stdout",
     "output_type": "stream",
     "text": [
      "Help on function fx in module __main__:\n",
      "\n",
      "fx()\n",
      "    doc string : 함수에 대한 설명\n",
      "    매개변수에 대한 설명, 타입, 함수의 의도\n",
      "\n"
     ]
    }
   ],
   "source": [
    "# 독스트링 확인하는 법_1\n",
    "help(fx)"
   ]
  },
  {
   "cell_type": "code",
   "execution_count": 123,
   "id": "bff52bd0-489f-497b-860c-861a18a14b83",
   "metadata": {},
   "outputs": [
    {
     "data": {
      "text/plain": [
       "'\\n    doc string : 함수에 대한 설명\\n    매개변수에 대한 설명, 타입, 함수의 의도\\n    '"
      ]
     },
     "execution_count": 123,
     "metadata": {},
     "output_type": "execute_result"
    }
   ],
   "source": [
    "# 독스트링 확인하는 법 _2\n",
    "fx.__doc__ "
   ]
  },
  {
   "cell_type": "markdown",
   "id": "1d8972b2-55db-4f0f-909b-ef32f99bd90f",
   "metadata": {},
   "source": [
    "## Brown Corpus 정제하기"
   ]
  },
  {
   "cell_type": "code",
   "execution_count": 36,
   "id": "f0c1d6ae-f814-4eb1-9593-4944c7bac7d3",
   "metadata": {},
   "outputs": [
    {
     "name": "stderr",
     "output_type": "stream",
     "text": [
      "[nltk_data] Downloading package brown to\n",
      "[nltk_data]     C:\\Users\\gyj19\\AppData\\Roaming\\nltk_data...\n",
      "[nltk_data]   Package brown is already up-to-date!\n"
     ]
    }
   ],
   "source": [
    "import string\n",
    "import random\n",
    "\n",
    "import nltk\n",
    "\n",
    "nltk.download('brown')\n",
    "brown = nltk.corpus.brown.raw(categories = 'romance')\n",
    "romance = brown[:5000]"
   ]
  },
  {
   "cell_type": "code",
   "execution_count": 38,
   "id": "a17f5287-b9c5-471f-ad5f-d9e0b69dc7dc",
   "metadata": {},
   "outputs": [
    {
     "data": {
      "text/plain": [
       "'They/ppss neither/cc liked/vbd nor/cc disliked/vbd the/at Old/jj-tl Man/nn-tl'"
      ]
     },
     "execution_count": 38,
     "metadata": {},
     "output_type": "execute_result"
    }
   ],
   "source": [
    "# \\n\\\\n\\n\\t 문단 기준\n",
    "# ./. 문장 기준\n",
    "sentence = [sentence.strip() for sentence in romance.split('./.')] #sentence.strip : 불필요한 것 삭제\n",
    "# 물음표나 느낌표로 끝나는 문장 찾기 : [word for word in sentence if '!' in sentence]\n",
    "sentence[0]"
   ]
  },
  {
   "cell_type": "code",
   "execution_count": 40,
   "id": "9ba7f4ec-2ec3-4602-a2aa-e4ae96f979a1",
   "metadata": {},
   "outputs": [
    {
     "data": {
      "text/plain": [
       "['They', 'neither', 'liked', 'nor', 'disliked', 'the', 'Old', 'Man']"
      ]
     },
     "execution_count": 40,
     "metadata": {},
     "output_type": "execute_result"
    }
   ],
   "source": [
    "# 단어 분절 : 문장 하나로 확인하고, 전체를 타게 만들면 된다.\n",
    "example = sentence[0]\n",
    "[word.split('/')[0] for word in example.split(' ')]"
   ]
  },
  {
   "cell_type": "code",
   "execution_count": 41,
   "id": "eea89d30-015a-480e-9338-08cc7e875128",
   "metadata": {},
   "outputs": [
    {
     "data": {
      "text/plain": [
       "['They', 'neither', 'liked', 'nor', 'disliked', 'the', 'Old', 'Man']"
      ]
     },
     "execution_count": 41,
     "metadata": {},
     "output_type": "execute_result"
    }
   ],
   "source": [
    "[word[:word.find('/')] for word in example.split(' ') if word.find('/')]"
   ]
  },
  {
   "cell_type": "code",
   "execution_count": 45,
   "id": "3027ddf2-4fff-416b-9466-92a16097c9aa",
   "metadata": {
    "collapsed": true,
    "jupyter": {
     "outputs_hidden": true
    },
    "tags": []
   },
   "outputs": [
    {
     "data": {
      "text/plain": [
       "{'!',\n",
       " '&',\n",
       " \"'\",\n",
       " \"''\",\n",
       " \"'ello\",\n",
       " \"'em\",\n",
       " \"'most\",\n",
       " '(',\n",
       " ')',\n",
       " ',',\n",
       " '--',\n",
       " '.',\n",
       " ':',\n",
       " ';',\n",
       " '?',\n",
       " '``',\n",
       " 'cc-tl',\n",
       " 'ppo',\n",
       " 'rb',\n",
       " 'uh'}"
      ]
     },
     "execution_count": 45,
     "metadata": {},
     "output_type": "execute_result"
    }
   ],
   "source": [
    "# 처리해야 하는 문장 부호들 묶어 내기\n",
    "SLASH, HYPHEN, EOL, APOSTROPHE = '/', '-', './.', '\\'s' \n",
    "user_punct = set([word for sent in brown.split() \\\n",
    "                        for word in sent.split(SLASH) \\\n",
    "                          if not sent[0].isalnum()])\n",
    "user_punct"
   ]
  },
  {
   "cell_type": "code",
   "execution_count": 46,
   "id": "ad52a76c-8c65-4147-b769-52bccdaf1415",
   "metadata": {},
   "outputs": [
    {
     "name": "stdout",
     "output_type": "stream",
     "text": [
      "32\n"
     ]
    },
    {
     "data": {
      "text/plain": [
       "42"
      ]
     },
     "execution_count": 46,
     "metadata": {},
     "output_type": "execute_result"
    }
   ],
   "source": [
    "punctuations = list(string.punctuation)\n",
    "print(len(punctuations))\n",
    "\n",
    "punctuations.extend(list(user_punct))\n",
    "len(set(punctuations))"
   ]
  },
  {
   "cell_type": "code",
   "execution_count": 47,
   "id": "a070982f-5277-4c5d-a8e2-1e3ff3890181",
   "metadata": {},
   "outputs": [],
   "source": [
    "# 전체 문장에 반영\n",
    "sentence_tokens = [[word.split('/')[0] for word in s.split(' ') \\\n",
    "                    if word.split('/')[0] not in punctuations] \\\n",
    "                    for s in sentence]"
   ]
  },
  {
   "cell_type": "code",
   "execution_count": 48,
   "id": "cd12c068-ed6c-4d4f-a473-3dab4812e8ac",
   "metadata": {},
   "outputs": [
    {
     "data": {
      "text/plain": [
       "{\"It's\",\n",
       " 'Mauve-colored',\n",
       " \"didn't\",\n",
       " 'fly-dotted',\n",
       " 'fur-piece',\n",
       " \"man's\",\n",
       " 'satin-covered',\n",
       " \"shouldn't\",\n",
       " \"that's\"}"
      ]
     },
     "execution_count": 48,
     "metadata": {},
     "output_type": "execute_result"
    }
   ],
   "source": [
    "# 문장 부호 제외\n",
    "import string\n",
    "punctuations = list(string.punctuation)\n",
    "\n",
    "#sentence_tokens에서 punctuation 없애기\n",
    "#1. 전체 텍스트에서 punctuations에 없는 punctuation 찾아서 리스트 추가하는 방법(v)\n",
    "#2. 내가 손수 추가\n",
    "\n",
    "# 문장부호 먼저 찾고 -> punctuations 리스트 업데이트 -> 33 라인에 적용하기 user_punc\n",
    "\n",
    "#학우님 답\n",
    "marks = []\n",
    "for sent in sentence_tokens :\n",
    "    for word in sent :\n",
    "        if not word.isdigit() and not word.isalpha() :\n",
    "            marks.append(word)\n",
    "set(marks)"
   ]
  },
  {
   "cell_type": "code",
   "execution_count": 49,
   "id": "ac4d85ac-be1e-439b-8982-b3ee57dcfe6c",
   "metadata": {
    "collapsed": true,
    "jupyter": {
     "outputs_hidden": true
    },
    "tags": []
   },
   "outputs": [
    {
     "data": {
      "text/plain": [
       "[['They', 'neither', 'liked', 'nor', 'disliked', 'the', 'Old', 'Man'],\n",
       " ['To',\n",
       "  'them',\n",
       "  'he',\n",
       "  'could',\n",
       "  'have',\n",
       "  'been',\n",
       "  'the',\n",
       "  'broken',\n",
       "  'bell',\n",
       "  'in',\n",
       "  'the',\n",
       "  'church',\n",
       "  'tower',\n",
       "  'which',\n",
       "  'rang',\n",
       "  'before',\n",
       "  'and',\n",
       "  'after',\n",
       "  'Mass',\n",
       "  'and',\n",
       "  'at',\n",
       "  'noon',\n",
       "  'and',\n",
       "  'at',\n",
       "  'six',\n",
       "  'each',\n",
       "  'evening',\n",
       "  '--',\n",
       "  'its',\n",
       "  'tone',\n",
       "  'repetitive',\n",
       "  'monotonous',\n",
       "  'never',\n",
       "  'breaking',\n",
       "  'the',\n",
       "  'boredom',\n",
       "  'of',\n",
       "  'the',\n",
       "  'streets'],\n",
       " ['The', 'Old', 'Man', 'was', 'unimportant'],\n",
       " ['Yet',\n",
       "  'if',\n",
       "  'he',\n",
       "  'were',\n",
       "  'not',\n",
       "  'there',\n",
       "  'they',\n",
       "  'would',\n",
       "  'have',\n",
       "  'missed',\n",
       "  'him',\n",
       "  'as',\n",
       "  'they',\n",
       "  'would',\n",
       "  'have',\n",
       "  'missed',\n",
       "  'the',\n",
       "  'sounds',\n",
       "  'of',\n",
       "  'bees',\n",
       "  'buzzing',\n",
       "  'against',\n",
       "  'the',\n",
       "  'screen',\n",
       "  'door',\n",
       "  'in',\n",
       "  'early',\n",
       "  'June',\n",
       "  'the',\n",
       "  'smell',\n",
       "  'of',\n",
       "  'thick',\n",
       "  'tomato',\n",
       "  'paste',\n",
       "  '--',\n",
       "  'the',\n",
       "  'ripe',\n",
       "  'smell',\n",
       "  'that',\n",
       "  'was',\n",
       "  'both',\n",
       "  'sweet',\n",
       "  'and',\n",
       "  'sour',\n",
       "  '--',\n",
       "  'rising',\n",
       "  'up',\n",
       "  'from',\n",
       "  'aluminum',\n",
       "  'trays',\n",
       "  'wrapped',\n",
       "  'in',\n",
       "  'fly-dotted',\n",
       "  'cheesecloth'],\n",
       " ['Or',\n",
       "  'the',\n",
       "  'surging',\n",
       "  'whirling',\n",
       "  'sounds',\n",
       "  'of',\n",
       "  'bats',\n",
       "  'at',\n",
       "  'night',\n",
       "  'when',\n",
       "  'their',\n",
       "  'black',\n",
       "  'bodies',\n",
       "  'dived',\n",
       "  'into',\n",
       "  'the',\n",
       "  'blackness',\n",
       "  'above',\n",
       "  'and',\n",
       "  'below',\n",
       "  'the',\n",
       "  'amber',\n",
       "  'street',\n",
       "  'lights'],\n",
       " ['Or', 'the', 'bay', 'of', 'female', 'dogs', 'in', 'heat'],\n",
       " ['They',\n",
       "  'never',\n",
       "  'called',\n",
       "  'him',\n",
       "  'by',\n",
       "  'name',\n",
       "  'although',\n",
       "  'he',\n",
       "  'had',\n",
       "  'one'],\n",
       " ['Filippo',\n",
       "  'Rossi',\n",
       "  \"that's\",\n",
       "  'what',\n",
       "  'he',\n",
       "  'was',\n",
       "  'called',\n",
       "  'in',\n",
       "  'the',\n",
       "  'old',\n",
       "  'country',\n",
       "  'here',\n",
       "  'he',\n",
       "  'was',\n",
       "  'just',\n",
       "  'Signore',\n",
       "  'or',\n",
       "  'the',\n",
       "  'Old',\n",
       "  'Man'],\n",
       " ['But',\n",
       "  'this',\n",
       "  'was',\n",
       "  'not',\n",
       "  'unusual',\n",
       "  'because',\n",
       "  'youth',\n",
       "  'in',\n",
       "  'these',\n",
       "  'quarters',\n",
       "  'was',\n",
       "  'always',\n",
       "  'pushed',\n",
       "  'at',\n",
       "  'a',\n",
       "  'distance',\n",
       "  'from',\n",
       "  'its',\n",
       "  'elders'],\n",
       " ['Youth', 'obeyed', 'when', 'commanded'],\n",
       " ['It',\n",
       "  'went',\n",
       "  'to',\n",
       "  'church',\n",
       "  'on',\n",
       "  'Sunday',\n",
       "  'and',\n",
       "  'one',\n",
       "  'Saturday',\n",
       "  'a',\n",
       "  'month',\n",
       "  'went',\n",
       "  'to',\n",
       "  'confession'],\n",
       " ['But',\n",
       "  'youth',\n",
       "  'asked',\n",
       "  'nothing',\n",
       "  'of',\n",
       "  'its',\n",
       "  'parents',\n",
       "  '--',\n",
       "  'not',\n",
       "  'a',\n",
       "  'touch',\n",
       "  'of',\n",
       "  'the',\n",
       "  'hand',\n",
       "  'or',\n",
       "  'a',\n",
       "  'kiss',\n",
       "  'given',\n",
       "  'in',\n",
       "  'passing'],\n",
       " ['The',\n",
       "  'only',\n",
       "  'thing',\n",
       "  'unusual',\n",
       "  'about',\n",
       "  'the',\n",
       "  'Old',\n",
       "  'Man',\n",
       "  'had',\n",
       "  'long',\n",
       "  'since',\n",
       "  'happened'],\n",
       " ['But',\n",
       "  'the',\n",
       "  'past',\n",
       "  'was',\n",
       "  'dead',\n",
       "  'here',\n",
       "  'as',\n",
       "  'the',\n",
       "  'present',\n",
       "  'was',\n",
       "  'dead'],\n",
       " ['Once', 'the', 'Old', 'Man', 'had', 'had', 'a', 'wife'],\n",
       " ['And', 'once', 'she', 'too', 'ignored', 'him'],\n",
       " ['With',\n",
       "  'a',\n",
       "  'tiny',\n",
       "  'fur-piece',\n",
       "  'wrapped',\n",
       "  'around',\n",
       "  'her',\n",
       "  'shoulders',\n",
       "  'she',\n",
       "  'wiggled',\n",
       "  'her',\n",
       "  'satin-covered',\n",
       "  'buttocks',\n",
       "  'down',\n",
       "  'the',\n",
       "  'street',\n",
       "  'before',\n",
       "  'him',\n",
       "  'and',\n",
       "  \"didn't\",\n",
       "  'stop'],\n",
       " ['In',\n",
       "  'one',\n",
       "  'hand',\n",
       "  'she',\n",
       "  'clutched',\n",
       "  'a',\n",
       "  'hundred',\n",
       "  'dollar',\n",
       "  'bill',\n",
       "  'and',\n",
       "  'in',\n",
       "  'the',\n",
       "  'other',\n",
       "  'a',\n",
       "  'straw',\n",
       "  'suitcase'],\n",
       " ['The',\n",
       "  'way',\n",
       "  'she',\n",
       "  'strutted',\n",
       "  'down',\n",
       "  'the',\n",
       "  'street',\n",
       "  'the',\n",
       "  'Old',\n",
       "  'Man',\n",
       "  'would',\n",
       "  'have',\n",
       "  'been',\n",
       "  'blind',\n",
       "  'not',\n",
       "  'to',\n",
       "  'have',\n",
       "  'noticed',\n",
       "  'both'],\n",
       " ['Without',\n",
       "  'looking',\n",
       "  'at',\n",
       "  'him',\n",
       "  'without',\n",
       "  'looking',\n",
       "  'at',\n",
       "  'anything',\n",
       "  'except',\n",
       "  'Drexel',\n",
       "  'Street',\n",
       "  'directly',\n",
       "  'in',\n",
       "  'front',\n",
       "  'of',\n",
       "  'her',\n",
       "  'she',\n",
       "  'climbed',\n",
       "  'up',\n",
       "  'into',\n",
       "  'one',\n",
       "  'of',\n",
       "  'those',\n",
       "  'orange',\n",
       "  'streetcars',\n",
       "  'rode',\n",
       "  'away',\n",
       "  'in',\n",
       "  'it',\n",
       "  'and',\n",
       "  'never',\n",
       "  'came',\n",
       "  'back'],\n",
       " ['``',\n",
       "  'But',\n",
       "  'she',\n",
       "  \"shouldn't\",\n",
       "  'have',\n",
       "  'come',\n",
       "  'here',\n",
       "  'in',\n",
       "  'the',\n",
       "  'first',\n",
       "  'place',\n",
       "  \"''\",\n",
       "  'the',\n",
       "  'women',\n",
       "  'had',\n",
       "  'said'],\n",
       " ['``', 'No', 'no'],\n",
       " ['Not', 'that', 'one'],\n",
       " ['She',\n",
       "  'thought',\n",
       "  'she',\n",
       "  'was',\n",
       "  'bigger',\n",
       "  'than',\n",
       "  'we',\n",
       "  'are',\n",
       "  'because',\n",
       "  'she',\n",
       "  'came',\n",
       "  'from',\n",
       "  'Torino',\n",
       "  \"''\"],\n",
       " ['``',\n",
       "  'Eh',\n",
       "  'Torino',\n",
       "  'gave',\n",
       "  'herself',\n",
       "  'fancy',\n",
       "  'airs',\n",
       "  'because',\n",
       "  'she',\n",
       "  'had',\n",
       "  'a',\n",
       "  'part',\n",
       "  'on',\n",
       "  'the',\n",
       "  'stage',\n",
       "  'in',\n",
       "  'the',\n",
       "  'old',\n",
       "  'country',\n",
       "  'she',\n",
       "  'thought',\n",
       "  'she',\n",
       "  'could',\n",
       "  'carry',\n",
       "  'her',\n",
       "  'head',\n",
       "  'higher',\n",
       "  'than',\n",
       "  'ours',\n",
       "  \"''\"],\n",
       " ['They', 'had', 'slapped', 'their', 'thighs'],\n",
       " ['``',\n",
       "  \"It's\",\n",
       "  'not',\n",
       "  'for',\n",
       "  'making',\n",
       "  'pretty',\n",
       "  'speeches',\n",
       "  'about',\n",
       "  'Dante',\n",
       "  'those',\n",
       "  'actresses',\n",
       "  'get',\n",
       "  'paid',\n",
       "  'so',\n",
       "  'good',\n",
       "  \"''\"],\n",
       " ['``',\n",
       "  'Henh',\n",
       "  \"''\",\n",
       "  'fingers',\n",
       "  'caressed',\n",
       "  'only',\n",
       "  'by',\n",
       "  'the',\n",
       "  'smoothness',\n",
       "  'of',\n",
       "  'polished',\n",
       "  'rosaries',\n",
       "  'had',\n",
       "  'swayed',\n",
       "  'excitedly',\n",
       "  'beneath',\n",
       "  'puckered',\n",
       "  'chins',\n",
       "  'where',\n",
       "  'tiny',\n",
       "  'black',\n",
       "  'hairs',\n",
       "  'sprouted',\n",
       "  'never',\n",
       "  'to',\n",
       "  'be',\n",
       "  'tweezed',\n",
       "  'away'],\n",
       " ['Mauve-colored',\n",
       "  'mouths',\n",
       "  'that',\n",
       "  'had',\n",
       "  'never',\n",
       "  'known',\n",
       "  'anything',\n",
       "  'sweeter',\n",
       "  'than',\n",
       "  'the',\n",
       "  'taste',\n",
       "  'of',\n",
       "  'new',\n",
       "  'wine',\n",
       "  'and',\n",
       "  'the',\n",
       "  'passion',\n",
       "  'of',\n",
       "  \"man's\",\n",
       "  'tongue',\n",
       "  'had',\n",
       "  'not',\n",
       "  'smiled',\n",
       "  'but',\n",
       "  'had',\n",
       "  'condemned',\n",
       "  'again',\n",
       "  'and',\n",
       "  'again'],\n",
       " ['``',\n",
       "  'Puttana',\n",
       "  \"''\",\n",
       "  'if',\n",
       "  'the',\n",
       "  'Old',\n",
       "  'Man',\n",
       "  'even',\n",
       "  'thought',\n",
       "  'about',\n",
       "  'his',\n",
       "  'wife',\n",
       "  'now',\n",
       "  'nobody',\n",
       "  'cared',\n",
       "  'a',\n",
       "  'fig'],\n",
       " ['It',\n",
       "  'was',\n",
       "  'enough',\n",
       "  'for',\n",
       "  'people',\n",
       "  'to',\n",
       "  'know',\n",
       "  'that',\n",
       "  'at',\n",
       "  'one',\n",
       "  'time',\n",
       "  'he',\n",
       "  'had',\n",
       "  'looked',\n",
       "  'down',\n",
       "  'the',\n",
       "  'street',\n",
       "  'at',\n",
       "  'the',\n",
       "  'f']]"
      ]
     },
     "execution_count": 49,
     "metadata": {},
     "output_type": "execute_result"
    }
   ],
   "source": [
    "sentence_tokens = [[word.split('/')[0] for word in s.split(' ') \\\n",
    "                    if word.split('/')[0] not in punctuations] \\\n",
    "                    for s in sentence]\n",
    "sentence_tokens"
   ]
  },
  {
   "cell_type": "code",
   "execution_count": 50,
   "id": "6732ebc7-43f6-4a51-9367-98a99b8b818d",
   "metadata": {},
   "outputs": [
    {
     "data": {
      "text/plain": [
       "['fur', 'piece']"
      ]
     },
     "execution_count": 50,
     "metadata": {},
     "output_type": "execute_result"
    }
   ],
   "source": [
    "# hypen\n",
    "#fur-piece => fur, piece\n",
    "\n",
    "#apostrophe\n",
    "\n",
    "'fur-piece'.split('-') # -> list extend"
   ]
  },
  {
   "cell_type": "code",
   "execution_count": 51,
   "id": "574dae96-1b08-43de-9b6e-fe7086412c00",
   "metadata": {},
   "outputs": [
    {
     "data": {
      "text/plain": [
       "('she', \"'s\")"
      ]
     },
     "execution_count": 51,
     "metadata": {},
     "output_type": "execute_result"
    }
   ],
   "source": [
    "word = 'she\\'s'\n",
    "index = word.find('\\'')\n",
    "word[:index], word[index:]"
   ]
  },
  {
   "cell_type": "code",
   "execution_count": 54,
   "id": "de3d2016-8d36-48f6-bcc9-4d91bcc22c9c",
   "metadata": {
    "collapsed": true,
    "jupyter": {
     "outputs_hidden": true
    },
    "tags": []
   },
   "outputs": [
    {
     "data": {
      "text/plain": [
       "[['They', 'neither', 'liked', 'nor', 'disliked', 'the', 'Old', 'Man'],\n",
       " ['To',\n",
       "  'them',\n",
       "  'he',\n",
       "  'could',\n",
       "  'have',\n",
       "  'been',\n",
       "  'the',\n",
       "  'broken',\n",
       "  'bell',\n",
       "  'in',\n",
       "  'the',\n",
       "  'church',\n",
       "  'tower',\n",
       "  'which',\n",
       "  'rang',\n",
       "  'before',\n",
       "  'and',\n",
       "  'after',\n",
       "  'Mass',\n",
       "  'and',\n",
       "  'at',\n",
       "  'noon',\n",
       "  'and',\n",
       "  'at',\n",
       "  'six',\n",
       "  'each',\n",
       "  'evening',\n",
       "  '--',\n",
       "  'its',\n",
       "  'tone',\n",
       "  'repetitive',\n",
       "  'monotonous',\n",
       "  'never',\n",
       "  'breaking',\n",
       "  'the',\n",
       "  'boredom',\n",
       "  'of',\n",
       "  'the',\n",
       "  'streets'],\n",
       " ['The', 'Old', 'Man', 'was', 'unimportant'],\n",
       " ['Yet',\n",
       "  'if',\n",
       "  'he',\n",
       "  'were',\n",
       "  'not',\n",
       "  'there',\n",
       "  'they',\n",
       "  'would',\n",
       "  'have',\n",
       "  'missed',\n",
       "  'him',\n",
       "  'as',\n",
       "  'they',\n",
       "  'would',\n",
       "  'have',\n",
       "  'missed',\n",
       "  'the',\n",
       "  'sounds',\n",
       "  'of',\n",
       "  'bees',\n",
       "  'buzzing',\n",
       "  'against',\n",
       "  'the',\n",
       "  'screen',\n",
       "  'door',\n",
       "  'in',\n",
       "  'early',\n",
       "  'June',\n",
       "  'the',\n",
       "  'smell',\n",
       "  'of',\n",
       "  'thick',\n",
       "  'tomato',\n",
       "  'paste',\n",
       "  '--',\n",
       "  'the',\n",
       "  'ripe',\n",
       "  'smell',\n",
       "  'that',\n",
       "  'was',\n",
       "  'both',\n",
       "  'sweet',\n",
       "  'and',\n",
       "  'sour',\n",
       "  '--',\n",
       "  'rising',\n",
       "  'up',\n",
       "  'from',\n",
       "  'aluminum',\n",
       "  'trays',\n",
       "  'wrapped',\n",
       "  'in',\n",
       "  'fly-dotted',\n",
       "  'cheesecloth'],\n",
       " ['Or',\n",
       "  'the',\n",
       "  'surging',\n",
       "  'whirling',\n",
       "  'sounds',\n",
       "  'of',\n",
       "  'bats',\n",
       "  'at',\n",
       "  'night',\n",
       "  'when',\n",
       "  'their',\n",
       "  'black',\n",
       "  'bodies',\n",
       "  'dived',\n",
       "  'into',\n",
       "  'the',\n",
       "  'blackness',\n",
       "  'above',\n",
       "  'and',\n",
       "  'below',\n",
       "  'the',\n",
       "  'amber',\n",
       "  'street',\n",
       "  'lights'],\n",
       " ['Or', 'the', 'bay', 'of', 'female', 'dogs', 'in', 'heat'],\n",
       " ['They',\n",
       "  'never',\n",
       "  'called',\n",
       "  'him',\n",
       "  'by',\n",
       "  'name',\n",
       "  'although',\n",
       "  'he',\n",
       "  'had',\n",
       "  'one'],\n",
       " ['Filippo',\n",
       "  'Rossi',\n",
       "  \"that's\",\n",
       "  'what',\n",
       "  'he',\n",
       "  'was',\n",
       "  'called',\n",
       "  'in',\n",
       "  'the',\n",
       "  'old',\n",
       "  'country',\n",
       "  'here',\n",
       "  'he',\n",
       "  'was',\n",
       "  'just',\n",
       "  'Signore',\n",
       "  'or',\n",
       "  'the',\n",
       "  'Old',\n",
       "  'Man'],\n",
       " ['But',\n",
       "  'this',\n",
       "  'was',\n",
       "  'not',\n",
       "  'unusual',\n",
       "  'because',\n",
       "  'youth',\n",
       "  'in',\n",
       "  'these',\n",
       "  'quarters',\n",
       "  'was',\n",
       "  'always',\n",
       "  'pushed',\n",
       "  'at',\n",
       "  'a',\n",
       "  'distance',\n",
       "  'from',\n",
       "  'its',\n",
       "  'elders'],\n",
       " ['Youth', 'obeyed', 'when', 'commanded'],\n",
       " ['It',\n",
       "  'went',\n",
       "  'to',\n",
       "  'church',\n",
       "  'on',\n",
       "  'Sunday',\n",
       "  'and',\n",
       "  'one',\n",
       "  'Saturday',\n",
       "  'a',\n",
       "  'month',\n",
       "  'went',\n",
       "  'to',\n",
       "  'confession'],\n",
       " ['But',\n",
       "  'youth',\n",
       "  'asked',\n",
       "  'nothing',\n",
       "  'of',\n",
       "  'its',\n",
       "  'parents',\n",
       "  '--',\n",
       "  'not',\n",
       "  'a',\n",
       "  'touch',\n",
       "  'of',\n",
       "  'the',\n",
       "  'hand',\n",
       "  'or',\n",
       "  'a',\n",
       "  'kiss',\n",
       "  'given',\n",
       "  'in',\n",
       "  'passing'],\n",
       " ['The',\n",
       "  'only',\n",
       "  'thing',\n",
       "  'unusual',\n",
       "  'about',\n",
       "  'the',\n",
       "  'Old',\n",
       "  'Man',\n",
       "  'had',\n",
       "  'long',\n",
       "  'since',\n",
       "  'happened'],\n",
       " ['But',\n",
       "  'the',\n",
       "  'past',\n",
       "  'was',\n",
       "  'dead',\n",
       "  'here',\n",
       "  'as',\n",
       "  'the',\n",
       "  'present',\n",
       "  'was',\n",
       "  'dead'],\n",
       " ['Once', 'the', 'Old', 'Man', 'had', 'had', 'a', 'wife'],\n",
       " ['And', 'once', 'she', 'too', 'ignored', 'him'],\n",
       " ['With',\n",
       "  'a',\n",
       "  'tiny',\n",
       "  'fur-piece',\n",
       "  'wrapped',\n",
       "  'around',\n",
       "  'her',\n",
       "  'shoulders',\n",
       "  'she',\n",
       "  'wiggled',\n",
       "  'her',\n",
       "  'satin-covered',\n",
       "  'buttocks',\n",
       "  'down',\n",
       "  'the',\n",
       "  'street',\n",
       "  'before',\n",
       "  'him',\n",
       "  'and',\n",
       "  \"didn't\",\n",
       "  'stop'],\n",
       " ['In',\n",
       "  'one',\n",
       "  'hand',\n",
       "  'she',\n",
       "  'clutched',\n",
       "  'a',\n",
       "  'hundred',\n",
       "  'dollar',\n",
       "  'bill',\n",
       "  'and',\n",
       "  'in',\n",
       "  'the',\n",
       "  'other',\n",
       "  'a',\n",
       "  'straw',\n",
       "  'suitcase'],\n",
       " ['The',\n",
       "  'way',\n",
       "  'she',\n",
       "  'strutted',\n",
       "  'down',\n",
       "  'the',\n",
       "  'street',\n",
       "  'the',\n",
       "  'Old',\n",
       "  'Man',\n",
       "  'would',\n",
       "  'have',\n",
       "  'been',\n",
       "  'blind',\n",
       "  'not',\n",
       "  'to',\n",
       "  'have',\n",
       "  'noticed',\n",
       "  'both'],\n",
       " ['Without',\n",
       "  'looking',\n",
       "  'at',\n",
       "  'him',\n",
       "  'without',\n",
       "  'looking',\n",
       "  'at',\n",
       "  'anything',\n",
       "  'except',\n",
       "  'Drexel',\n",
       "  'Street',\n",
       "  'directly',\n",
       "  'in',\n",
       "  'front',\n",
       "  'of',\n",
       "  'her',\n",
       "  'she',\n",
       "  'climbed',\n",
       "  'up',\n",
       "  'into',\n",
       "  'one',\n",
       "  'of',\n",
       "  'those',\n",
       "  'orange',\n",
       "  'streetcars',\n",
       "  'rode',\n",
       "  'away',\n",
       "  'in',\n",
       "  'it',\n",
       "  'and',\n",
       "  'never',\n",
       "  'came',\n",
       "  'back'],\n",
       " ['``',\n",
       "  'But',\n",
       "  'she',\n",
       "  \"shouldn't\",\n",
       "  'have',\n",
       "  'come',\n",
       "  'here',\n",
       "  'in',\n",
       "  'the',\n",
       "  'first',\n",
       "  'place',\n",
       "  \"''\",\n",
       "  'the',\n",
       "  'women',\n",
       "  'had',\n",
       "  'said'],\n",
       " ['``', 'No', 'no'],\n",
       " ['Not', 'that', 'one'],\n",
       " ['She',\n",
       "  'thought',\n",
       "  'she',\n",
       "  'was',\n",
       "  'bigger',\n",
       "  'than',\n",
       "  'we',\n",
       "  'are',\n",
       "  'because',\n",
       "  'she',\n",
       "  'came',\n",
       "  'from',\n",
       "  'Torino',\n",
       "  \"''\"],\n",
       " ['``',\n",
       "  'Eh',\n",
       "  'Torino',\n",
       "  'gave',\n",
       "  'herself',\n",
       "  'fancy',\n",
       "  'airs',\n",
       "  'because',\n",
       "  'she',\n",
       "  'had',\n",
       "  'a',\n",
       "  'part',\n",
       "  'on',\n",
       "  'the',\n",
       "  'stage',\n",
       "  'in',\n",
       "  'the',\n",
       "  'old',\n",
       "  'country',\n",
       "  'she',\n",
       "  'thought',\n",
       "  'she',\n",
       "  'could',\n",
       "  'carry',\n",
       "  'her',\n",
       "  'head',\n",
       "  'higher',\n",
       "  'than',\n",
       "  'ours',\n",
       "  \"''\"],\n",
       " ['They', 'had', 'slapped', 'their', 'thighs'],\n",
       " ['``',\n",
       "  \"It's\",\n",
       "  'not',\n",
       "  'for',\n",
       "  'making',\n",
       "  'pretty',\n",
       "  'speeches',\n",
       "  'about',\n",
       "  'Dante',\n",
       "  'those',\n",
       "  'actresses',\n",
       "  'get',\n",
       "  'paid',\n",
       "  'so',\n",
       "  'good',\n",
       "  \"''\"],\n",
       " ['``',\n",
       "  'Henh',\n",
       "  \"''\",\n",
       "  'fingers',\n",
       "  'caressed',\n",
       "  'only',\n",
       "  'by',\n",
       "  'the',\n",
       "  'smoothness',\n",
       "  'of',\n",
       "  'polished',\n",
       "  'rosaries',\n",
       "  'had',\n",
       "  'swayed',\n",
       "  'excitedly',\n",
       "  'beneath',\n",
       "  'puckered',\n",
       "  'chins',\n",
       "  'where',\n",
       "  'tiny',\n",
       "  'black',\n",
       "  'hairs',\n",
       "  'sprouted',\n",
       "  'never',\n",
       "  'to',\n",
       "  'be',\n",
       "  'tweezed',\n",
       "  'away'],\n",
       " ['Mauve-colored',\n",
       "  'mouths',\n",
       "  'that',\n",
       "  'had',\n",
       "  'never',\n",
       "  'known',\n",
       "  'anything',\n",
       "  'sweeter',\n",
       "  'than',\n",
       "  'the',\n",
       "  'taste',\n",
       "  'of',\n",
       "  'new',\n",
       "  'wine',\n",
       "  'and',\n",
       "  'the',\n",
       "  'passion',\n",
       "  'of',\n",
       "  \"man's\",\n",
       "  'tongue',\n",
       "  'had',\n",
       "  'not',\n",
       "  'smiled',\n",
       "  'but',\n",
       "  'had',\n",
       "  'condemned',\n",
       "  'again',\n",
       "  'and',\n",
       "  'again'],\n",
       " ['``',\n",
       "  'Puttana',\n",
       "  \"''\",\n",
       "  'if',\n",
       "  'the',\n",
       "  'Old',\n",
       "  'Man',\n",
       "  'even',\n",
       "  'thought',\n",
       "  'about',\n",
       "  'his',\n",
       "  'wife',\n",
       "  'now',\n",
       "  'nobody',\n",
       "  'cared',\n",
       "  'a',\n",
       "  'fig'],\n",
       " ['It',\n",
       "  'was',\n",
       "  'enough',\n",
       "  'for',\n",
       "  'people',\n",
       "  'to',\n",
       "  'know',\n",
       "  'that',\n",
       "  'at',\n",
       "  'one',\n",
       "  'time',\n",
       "  'he',\n",
       "  'had',\n",
       "  'looked',\n",
       "  'down',\n",
       "  'the',\n",
       "  'street',\n",
       "  'at',\n",
       "  'the',\n",
       "  'f']]"
      ]
     },
     "execution_count": 54,
     "metadata": {},
     "output_type": "execute_result"
    }
   ],
   "source": [
    "[word for sent in sentence_tokens for word in sent]\n",
    "[[word for word in sent] for sent in sentence_tokens]"
   ]
  }
 ],
 "metadata": {
  "kernelspec": {
   "display_name": "Python 3 (ipykernel)",
   "language": "python",
   "name": "python3"
  },
  "language_info": {
   "codemirror_mode": {
    "name": "ipython",
    "version": 3
   },
   "file_extension": ".py",
   "mimetype": "text/x-python",
   "name": "python",
   "nbconvert_exporter": "python",
   "pygments_lexer": "ipython3",
   "version": "3.9.7"
  }
 },
 "nbformat": 4,
 "nbformat_minor": 5
}
