{
 "cells": [
  {
   "cell_type": "markdown",
   "id": "eef25620-9c64-4758-861d-5713f482b270",
   "metadata": {},
   "source": [
    "### 함수"
   ]
  },
  {
   "cell_type": "markdown",
   "id": "cc2603d8-1bc1-4131-88f0-39861fa5f509",
   "metadata": {},
   "source": [
    "### asterisk(stars) *, kargs **\n",
    "- 여러 인자를 하나로 묶어주는 역할(패킹)\n",
    "- 무한대로 받을 수 있다!"
   ]
  },
  {
   "cell_type": "code",
   "execution_count": 9,
   "id": "cc547d1c-4d8d-4087-a7fe-e2fded468bbc",
   "metadata": {},
   "outputs": [
    {
     "name": "stdout",
     "output_type": "stream",
     "text": [
      "hey hello hi\n"
     ]
    }
   ],
   "source": [
    "def print_arg(*args): #1\n",
    "    # 인자를 튜플로 묶어서 활용하는 역할\n",
    "    print(*args) #2. 언패킹 (튜플 -> 인자로)\n",
    "    \n",
    "print_arg('hey', 'hello', 'hi')"
   ]
  },
  {
   "cell_type": "code",
   "execution_count": 10,
   "id": "e76682b1-338d-408e-a96a-5210d0324acd",
   "metadata": {},
   "outputs": [
    {
     "name": "stdout",
     "output_type": "stream",
     "text": [
      "obligatory book\n",
      "1 2 3 4\n",
      "obligatory book\n",
      "(1, 2, 3, 4)\n",
      "obligatory book\n",
      "1 2 3 4\n"
     ]
    }
   ],
   "source": [
    "def print_arg2(name, *args):\n",
    "    print('obligatory', name)\n",
    "    print(*args)\n",
    "    \n",
    "print_arg2('book', 1, 2, 3, 4)\n",
    "nums = (1, 2, 3, 4)\n",
    "x = print_arg2('book', nums)\n",
    "y = print_arg2('book', *nums)"
   ]
  },
  {
   "cell_type": "markdown",
   "id": "2b0d2ec1-44fb-4582-8215-8e4eaaa6d6a8",
   "metadata": {},
   "source": [
    "#### 외부에서 활용하기\n",
    "- 컬렉션 자료형 언패킹 출력 시\n",
    "- zip()\n",
    "- 키워드 전용 인수 선언\n",
    "    - 별 뒤에 오는 매개 변수들은 반드시 키워드 인수로 들어오도록 설정하는 역할\n",
    "    - kargs와 혼선을 빚지 않기 위해 사용한다!"
   ]
  },
  {
   "cell_type": "code",
   "execution_count": 11,
   "id": "3de88461-5e77-48a7-909c-64d8e7b061d7",
   "metadata": {},
   "outputs": [
    {
     "name": "stdout",
     "output_type": "stream",
     "text": [
      "0 1 2 3 4\n"
     ]
    }
   ],
   "source": [
    "nums = list(range(5))\n",
    "print(*nums)"
   ]
  },
  {
   "cell_type": "code",
   "execution_count": 12,
   "id": "5a68aba5-e2e8-4e20-bf3a-444d1d62b19b",
   "metadata": {},
   "outputs": [
    {
     "name": "stdout",
     "output_type": "stream",
     "text": [
      "(1, 3, 5)\n",
      "(2, 4, 6)\n"
     ]
    }
   ],
   "source": [
    "a = [\n",
    "    [1, 2],\n",
    "    [3, 4],\n",
    "    [5, 6]\n",
    "]\n",
    "\n",
    "# 1, 3, 5 / 2, 4, 6 (열을 순회하고 싶다)\n",
    "for row in zip(*a):\n",
    "    print(row)"
   ]
  },
  {
   "cell_type": "code",
   "execution_count": 13,
   "id": "8f0ad1a0-e7a2-490a-8d26-c3b01323f5a9",
   "metadata": {},
   "outputs": [
    {
     "name": "stdout",
     "output_type": "stream",
     "text": [
      "1\n",
      "2\n"
     ]
    }
   ],
   "source": [
    "def print_data(data, *, start, end): # start, end -> start=0\n",
    "    for value in data[start:end]:\n",
    "        print(value)\n",
    "\n",
    "print_data(nums, start=1, end=3)"
   ]
  },
  {
   "cell_type": "code",
   "execution_count": 26,
   "id": "d20471fd-9449-4213-a523-791be4e9e5a1",
   "metadata": {},
   "outputs": [
    {
     "name": "stdout",
     "output_type": "stream",
     "text": [
      "('o', 'a', 'c')\n",
      "('b', 'k', 'm')\n"
     ]
    }
   ],
   "source": [
    "# ex\n",
    "list = [\n",
    "        ['o', 'b'],\n",
    "        ['a', 'k'],\n",
    "        ['c', 'm']\n",
    "]\n",
    "\n",
    "for line in zip(*list):\n",
    "    print(line)"
   ]
  },
  {
   "cell_type": "markdown",
   "id": "ecce4ff5-7796-406e-beef-7b0dd51c1c85",
   "metadata": {},
   "source": [
    "### Kargs **"
   ]
  },
  {
   "cell_type": "code",
   "execution_count": 14,
   "id": "d6eb82b5-ff91-41a7-af60-a05af8510406",
   "metadata": {},
   "outputs": [
    {
     "name": "stdout",
     "output_type": "stream",
     "text": [
      "{'wine': 'merlot', 'dessert': 'cake'}\n"
     ]
    }
   ],
   "source": [
    "def print_kargs(**kargs): # 딕셔너리로 묶는 기능\n",
    "    print(kargs)\n",
    "    #print(kargs['wine'], 'is semi-sweet') #get(key, default)\n",
    "    \n",
    "print_kargs(wine='merlot', dessert='cake')"
   ]
  },
  {
   "cell_type": "code",
   "execution_count": 15,
   "id": "08907bb4-2138-4e48-9a8e-4a1a67ea0b1c",
   "metadata": {},
   "outputs": [
    {
     "name": "stdout",
     "output_type": "stream",
     "text": [
      "{'wine': 'merlot', 'dessert': 'scone'}\n",
      "{'wine': 'cabernet', 'dessert': 'scone'}\n",
      "{'wine': 'crianza', 'dessert': 'scone'}\n"
     ]
    }
   ],
   "source": [
    "wine_list = 'merlot cabernet crianza'.split()\n",
    "for wine in wine_list:\n",
    "    print_kargs(wine=wine, dessert='scone')"
   ]
  },
  {
   "cell_type": "code",
   "execution_count": 16,
   "id": "61c4a895-85f8-4c2c-9054-c374e7492226",
   "metadata": {},
   "outputs": [
    {
     "name": "stdout",
     "output_type": "stream",
     "text": [
      "15\n",
      "{'first': 1, 'second': 2}\n"
     ]
    }
   ],
   "source": [
    "def print_both(one, two, *args, **kargs): # 위치인수 > args > kargs\n",
    "    print(one + two + sum(args))\n",
    "    print(kargs)\n",
    "    \n",
    "print_both(1, 2, 3, 4, 5, first=1, second=2)"
   ]
  },
  {
   "cell_type": "markdown",
   "id": "485c3165-5113-4b5c-bbf9-f4eb8562827c",
   "metadata": {},
   "source": [
    "#### 딕셔너리 결합할 때 사용할 수 있다 (파이썬 3.5 이상 가능)"
   ]
  },
  {
   "cell_type": "code",
   "execution_count": 27,
   "id": "a04d719c-115e-4635-9e49-1c13f4112152",
   "metadata": {},
   "outputs": [
    {
     "name": "stdout",
     "output_type": "stream",
     "text": [
      "{1: 'a', 2: 'c', 3: 'd'}\n"
     ]
    }
   ],
   "source": [
    "x = {1: 'a', 2: 'b'}\n",
    "y = {2: 'c', 3: 'd'}\n",
    "z = {**x, **y} \n",
    "\n",
    "print(z)"
   ]
  },
  {
   "cell_type": "code",
   "execution_count": 30,
   "id": "2c1ae253-83d7-4549-b36a-1392226eb9c3",
   "metadata": {},
   "outputs": [
    {
     "name": "stdout",
     "output_type": "stream",
     "text": [
      "{1: 'American Short-haired', 2: 'Persian', 3: 'Siamese'}\n"
     ]
    }
   ],
   "source": [
    "# ex\n",
    "\n",
    "Dog = {1: 'Bichon', 2: 'poodle', 3: 'Pomeranian'}\n",
    "Cat = {1: 'American Short-haired', 2: 'Persian', 3: 'Siamese'}\n",
    "Pet = {**Dog, **Cat}\n",
    "\n",
    "print(Pet)"
   ]
  },
  {
   "cell_type": "markdown",
   "id": "b037ef99-5c97-433b-a462-ad3d6410d1ae",
   "metadata": {},
   "source": [
    "### 일급객체\n",
    "- first class object / first class citizen\n",
    "- 파이썬에서는 함수도 객체(특이한 개념)\n",
    "- 함수의 인자로 전당 가능\n",
    "- 반환값 되기 가능\n",
    "- 수정, 할당되기 가능"
   ]
  },
  {
   "cell_type": "code",
   "execution_count": 23,
   "id": "74f591dd-1f6d-4795-a1fc-9dc5cc08959b",
   "metadata": {},
   "outputs": [
    {
     "name": "stdout",
     "output_type": "stream",
     "text": [
      "43\n",
      "43\n"
     ]
    }
   ],
   "source": [
    "def answer():\n",
    "    print(43)\n",
    "    \n",
    "def run_something(func): ## 파이썬에서만 가능, 함수가 객체이므로\n",
    "    func()\n",
    "    \n",
    "run_something(answer)\n",
    "\n",
    "def run_anything(func):\n",
    "    return func\n",
    "\n",
    "run_anything(answer)() # 괄호 => 실행"
   ]
  },
  {
   "cell_type": "code",
   "execution_count": 24,
   "id": "495d95cf-228b-43fd-8d4e-0016adfee42b",
   "metadata": {},
   "outputs": [
    {
     "data": {
      "text/plain": [
       "13"
      ]
     },
     "execution_count": 24,
     "metadata": {},
     "output_type": "execute_result"
    }
   ],
   "source": [
    "def sum_args(*args):\n",
    "    return sum(args)\n",
    "\n",
    "def run_with_positional_args(func, *args):\n",
    "    return func(*args)\n",
    "\n",
    "run_with_positional_args(sum_args, 1, 3, 4, 5)"
   ]
  },
  {
   "cell_type": "code",
   "execution_count": 32,
   "id": "b9e77911-a9a1-45f8-81fd-9886789f72da",
   "metadata": {},
   "outputs": [],
   "source": [
    "# 가변 인자일 때 => 초기화하지 않으면 변수 내용이 변할 수 있음\n",
    "\n",
    "def func(num_list):\n",
    "    # 변할 수 있음을 문서화할 것. 혹은 다른 방법 찾아볼 것.\n",
    "    sum_num = sum(num_list)\n",
    "    num_list.append(sum_num)\n",
    "    \n",
    "a = [1, 3, 5]\n",
    "func(a)"
   ]
  },
  {
   "cell_type": "code",
   "execution_count": 33,
   "id": "85266b93-8b85-4ecf-ae13-223425ffdc99",
   "metadata": {},
   "outputs": [
    {
     "data": {
      "text/plain": [
       "[1, 3, 5, 9]"
      ]
     },
     "execution_count": 33,
     "metadata": {},
     "output_type": "execute_result"
    }
   ],
   "source": [
    "a"
   ]
  },
  {
   "cell_type": "code",
   "execution_count": 34,
   "id": "00c78760-c4ac-47c7-bd42-27b6712f7a53",
   "metadata": {},
   "outputs": [],
   "source": [
    "func(a)"
   ]
  },
  {
   "cell_type": "code",
   "execution_count": 35,
   "id": "bdef6958-1645-4cfa-b578-794bf09288d8",
   "metadata": {},
   "outputs": [
    {
     "data": {
      "text/plain": [
       "[1, 3, 5, 9, 18]"
      ]
     },
     "execution_count": 35,
     "metadata": {},
     "output_type": "execute_result"
    }
   ],
   "source": [
    "a"
   ]
  },
  {
   "cell_type": "code",
   "execution_count": 1,
   "id": "ea642d37-3aac-48a4-9b27-02d05b4e1c85",
   "metadata": {},
   "outputs": [],
   "source": [
    "# 내부 함수 => 다음 수업에서 배울 예정!"
   ]
  },
  {
   "cell_type": "markdown",
   "id": "5e4d5965-91d7-47d1-bfab-dc9a32bcfb76",
   "metadata": {},
   "source": [
    "### 익명함수(람다)\n",
    "- lambda\n",
    "- 함수, but 이름이 없음 (def, return)\n",
    "- 이유 : 단순한 함수를 사용할 때 굳이 이름을 지어서 선언하기 귀찮기 때문!\n",
    "- 단, 잦은 사용은 권장하지 않는다. => 직관적이지 않고 재활용이 힘들기 때문\n",
    "- lambda x: <x를 어떻게 바꿀 것인지 코드 작성>"
   ]
  },
  {
   "cell_type": "code",
   "execution_count": 41,
   "id": "a24c3ae7-3e89-4c3f-bc09-7dc2e75ee372",
   "metadata": {},
   "outputs": [
    {
     "data": {
      "text/plain": [
       "'ok'"
      ]
     },
     "execution_count": 41,
     "metadata": {},
     "output_type": "execute_result"
    }
   ],
   "source": [
    "# lambda x: x.lower()\n",
    "\n",
    "def f(x):\n",
    "    return x.lower()\n",
    "\n",
    "f2 = lambda x: x.lower()\n",
    "f2('OK')"
   ]
  },
  {
   "cell_type": "code",
   "execution_count": 39,
   "id": "ac43524d-8d85-46ff-8666-3d9ba8b69e43",
   "metadata": {},
   "outputs": [
    {
     "data": {
      "text/plain": [
       "'ok'"
      ]
     },
     "execution_count": 39,
     "metadata": {},
     "output_type": "execute_result"
    }
   ],
   "source": [
    "(lambda x: x.lower())('OK') # 정말 이름 없이도 함수 사용 가능!"
   ]
  },
  {
   "cell_type": "code",
   "execution_count": 40,
   "id": "dad84af6-700a-41f3-8d52-434cebeeef71",
   "metadata": {},
   "outputs": [
    {
     "data": {
      "text/plain": [
       "10"
      ]
     },
     "execution_count": 40,
     "metadata": {},
     "output_type": "execute_result"
    }
   ],
   "source": [
    "f3 = lambda x, y: x + y\n",
    "f3(5, 5)"
   ]
  },
  {
   "cell_type": "code",
   "execution_count": 45,
   "id": "9c1761f3-4a03-473d-973e-141ed7e78491",
   "metadata": {},
   "outputs": [
    {
     "data": {
      "text/plain": [
       "'ABC!'"
      ]
     },
     "execution_count": 45,
     "metadata": {},
     "output_type": "execute_result"
    }
   ],
   "source": [
    "# abc -> ABC! 반환하는 람다 함수\n",
    "(lambda a, b, c: a.upper()+b.upper()+c.upper()+'!')('a', 'b', 'c')"
   ]
  },
  {
   "cell_type": "code",
   "execution_count": 46,
   "id": "f9dfd9e4-da14-42f6-87aa-3bf0089f9da6",
   "metadata": {},
   "outputs": [],
   "source": [
    "# 위 함수 말고 capitalize(), title() 사용할 것!"
   ]
  },
  {
   "cell_type": "code",
   "execution_count": 8,
   "id": "61af86eb-bcd9-458c-a8ea-4e005c7d79e6",
   "metadata": {},
   "outputs": [
    {
     "data": {
      "text/plain": [
       "'M'"
      ]
     },
     "execution_count": 8,
     "metadata": {},
     "output_type": "execute_result"
    }
   ],
   "source": [
    "# ex\n",
    "\n",
    "\"\"\"\n",
    "<기존 함수 형태>\n",
    "def dessert(sweet):\n",
    "    return sweet[-1]\n",
    "\"\"\"\n",
    "\n",
    "chocolate = lambda sweet: sweet[0]\n",
    "chocolate('Marys')"
   ]
  }
 ],
 "metadata": {
  "kernelspec": {
   "display_name": "Python 3 (ipykernel)",
   "language": "python",
   "name": "python3"
  },
  "language_info": {
   "codemirror_mode": {
    "name": "ipython",
    "version": 3
   },
   "file_extension": ".py",
   "mimetype": "text/x-python",
   "name": "python",
   "nbconvert_exporter": "python",
   "pygments_lexer": "ipython3",
   "version": "3.9.7"
  }
 },
 "nbformat": 4,
 "nbformat_minor": 5
}
