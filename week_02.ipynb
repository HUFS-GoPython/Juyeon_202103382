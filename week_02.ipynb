{
 "cells": [
  {
   "cell_type": "markdown",
   "id": "4f43012e-211e-46cc-935b-72006b975d42",
   "metadata": {
    "tags": []
   },
   "source": [
    "# Ch.2 Variables"
   ]
  },
  {
   "cell_type": "markdown",
   "id": "9f479cd2-3e00-4b15-8be2-ed96d206449f",
   "metadata": {},
   "source": [
    "#### 자료형 변환하기"
   ]
  },
  {
   "cell_type": "markdown",
   "id": "f7f4e9cc-4d3f-4909-b00a-f5c88d9c4ffb",
   "metadata": {
    "jp-MarkdownHeadingCollapsed": true,
    "tags": []
   },
   "source": [
    "* integer(int)\n",
    "* string(str)\n",
    "* float\n",
    "* boolean(bool)"
   ]
  },
  {
   "cell_type": "code",
   "execution_count": 2,
   "id": "46ad4ccb-370b-4c2a-965a-03a259525c6d",
   "metadata": {},
   "outputs": [
    {
     "data": {
      "text/plain": [
       "int"
      ]
     },
     "execution_count": 2,
     "metadata": {},
     "output_type": "execute_result"
    }
   ],
   "source": [
    "a = 10\n",
    "type(a)"
   ]
  },
  {
   "cell_type": "markdown",
   "id": "e02adb38-0830-49c0-ac2e-ec03aaa87dcb",
   "metadata": {},
   "source": [
    "#### int에서 float로 (자료형 변환)"
   ]
  },
  {
   "cell_type": "code",
   "execution_count": 3,
   "id": "3cb9fbf5-1812-4231-82cb-cf7a1fec47c7",
   "metadata": {},
   "outputs": [
    {
     "data": {
      "text/plain": [
       "10.0"
      ]
     },
     "execution_count": 3,
     "metadata": {},
     "output_type": "execute_result"
    }
   ],
   "source": [
    "float(a) #소수점이 생기게 된다."
   ]
  },
  {
   "cell_type": "markdown",
   "id": "ef05c16f-aab3-46aa-a1a2-d806d028032b",
   "metadata": {},
   "source": [
    "#### int에서 str로"
   ]
  },
  {
   "cell_type": "code",
   "execution_count": 4,
   "id": "685a95d9-7d9b-4c95-8c7c-0e3e95ef7efb",
   "metadata": {},
   "outputs": [
    {
     "data": {
      "text/plain": [
       "'10'"
      ]
     },
     "execution_count": 4,
     "metadata": {},
     "output_type": "execute_result"
    }
   ],
   "source": [
    "str(a) #문자열을 나타내는 ''가 나타나게 된다."
   ]
  },
  {
   "cell_type": "markdown",
   "id": "ae132475-ebbc-454c-9f39-01374aec8ff0",
   "metadata": {},
   "source": [
    "#### int에서 bool로"
   ]
  },
  {
   "cell_type": "code",
   "execution_count": 9,
   "id": "204b07e3-a663-4aa6-9101-5bed95c46ad6",
   "metadata": {},
   "outputs": [
    {
     "data": {
      "text/plain": [
       "True"
      ]
     },
     "execution_count": 9,
     "metadata": {},
     "output_type": "execute_result"
    }
   ],
   "source": [
    "bool(10)"
   ]
  },
  {
   "cell_type": "markdown",
   "id": "04dd63f3-5424-45ee-8423-719f76a41e01",
   "metadata": {},
   "source": [
    "#### float에서 int로"
   ]
  },
  {
   "cell_type": "code",
   "execution_count": 10,
   "id": "839f56a3-3f44-4f0f-beec-eb1267bf1d38",
   "metadata": {},
   "outputs": [
    {
     "data": {
      "text/plain": [
       "10"
      ]
     },
     "execution_count": 10,
     "metadata": {},
     "output_type": "execute_result"
    }
   ],
   "source": [
    "int(10.6) #정수형으로 변환 시 소수점 이하는 전부 버린다!"
   ]
  },
  {
   "cell_type": "code",
   "execution_count": 11,
   "id": "b2e57555-4ec5-4220-8156-f5e19cefb29f",
   "metadata": {},
   "outputs": [
    {
     "name": "stdout",
     "output_type": "stream",
     "text": [
      "10\n"
     ]
    }
   ],
   "source": [
    "#(응용)\n",
    "x = 3.6\n",
    "y = 6.5\n",
    "print(int(x + y)) "
   ]
  },
  {
   "cell_type": "code",
   "execution_count": 12,
   "id": "9c137bdd-e5ea-43d7-ac7d-331414930231",
   "metadata": {},
   "outputs": [
    {
     "name": "stdout",
     "output_type": "stream",
     "text": [
      "9\n"
     ]
    }
   ],
   "source": [
    "print(int(x) + int(y))"
   ]
  },
  {
   "cell_type": "markdown",
   "id": "71468317-66b9-4635-99e7-0a05733234a3",
   "metadata": {},
   "source": [
    "#### str에서 int로"
   ]
  },
  {
   "cell_type": "code",
   "execution_count": 21,
   "id": "f99af7b4-0222-4034-99e4-ceca5d7e09ba",
   "metadata": {},
   "outputs": [
    {
     "ename": "ValueError",
     "evalue": "invalid literal for int() with base 10: '66.7'",
     "output_type": "error",
     "traceback": [
      "\u001b[1;31m---------------------------------------------------------------------------\u001b[0m",
      "\u001b[1;31mValueError\u001b[0m                                Traceback (most recent call last)",
      "\u001b[1;32m~\\AppData\\Local\\Temp/ipykernel_17356/1076050895.py\u001b[0m in \u001b[0;36m<module>\u001b[1;34m\u001b[0m\n\u001b[0;32m      1\u001b[0m \u001b[0mp\u001b[0m \u001b[1;33m=\u001b[0m \u001b[1;34m'66.7'\u001b[0m\u001b[1;33m\u001b[0m\u001b[1;33m\u001b[0m\u001b[0m\n\u001b[1;32m----> 2\u001b[1;33m \u001b[0mint\u001b[0m\u001b[1;33m(\u001b[0m\u001b[0mp\u001b[0m\u001b[1;33m)\u001b[0m\u001b[1;33m\u001b[0m\u001b[1;33m\u001b[0m\u001b[0m\n\u001b[0m",
      "\u001b[1;31mValueError\u001b[0m: invalid literal for int() with base 10: '66.7'"
     ]
    }
   ],
   "source": [
    "p = '66.7'\n",
    "int(p)"
   ]
  },
  {
   "cell_type": "markdown",
   "id": "60277fa2-696d-4d38-934e-4f7c94d92bf3",
   "metadata": {},
   "source": [
    "#### str에서 float로"
   ]
  },
  {
   "cell_type": "code",
   "execution_count": 22,
   "id": "c9f57809-1ac6-4fb8-ae77-865adc611196",
   "metadata": {},
   "outputs": [
    {
     "data": {
      "text/plain": [
       "66.7"
      ]
     },
     "execution_count": 22,
     "metadata": {},
     "output_type": "execute_result"
    }
   ],
   "source": [
    "float(p)"
   ]
  },
  {
   "cell_type": "code",
   "execution_count": 17,
   "id": "7db7aae9-2d15-4134-9151-2c00ee17b5d7",
   "metadata": {},
   "outputs": [],
   "source": [
    "#p는 정수형으로 나타낼 수 없으므로, 실수형인 float를 사용해야 한다."
   ]
  },
  {
   "cell_type": "markdown",
   "id": "ee6ff80b-8660-4638-99d5-05027a2a6f92",
   "metadata": {},
   "source": [
    "## print() Tips"
   ]
  },
  {
   "cell_type": "code",
   "execution_count": 23,
   "id": "80c6d907-301a-4ad4-95ed-31da817e8704",
   "metadata": {},
   "outputs": [
    {
     "name": "stdout",
     "output_type": "stream",
     "text": [
      "orange apple tomato\n",
      "the next line\n"
     ]
    }
   ],
   "source": [
    "print('orange', 'apple', 'tomato') #여기서 default는 띄어쓰기와 줄 바꾸기이다.\n",
    "print(\"the next line\")"
   ]
  },
  {
   "cell_type": "markdown",
   "id": "14eb8768-65f3-412d-8455-5434d7974483",
   "metadata": {},
   "source": [
    "#### 1. print() 설정"
   ]
  },
  {
   "cell_type": "code",
   "execution_count": 29,
   "id": "4182a48f-00d8-46e7-a053-7e2606b14fe7",
   "metadata": {},
   "outputs": [
    {
     "name": "stdout",
     "output_type": "stream",
     "text": [
      "blueredgreen\n",
      "blue red green\n"
     ]
    }
   ],
   "source": [
    "blue = 'blue'\n",
    "red = 'red'\n",
    "green = 'green'\n",
    "\n",
    "print(blue + red + green) #공백 존재, 줄 바꾸기 없음\n",
    "print(blue, red, green) #공백 존재, 줄 바꾸기 있음"
   ]
  },
  {
   "cell_type": "code",
   "execution_count": 33,
   "id": "b85601c9-704b-4ff4-a009-b49c8fbd2a54",
   "metadata": {},
   "outputs": [
    {
     "name": "stdout",
     "output_type": "stream",
     "text": [
      "blue red green\n",
      "blue_red_green\n",
      "\n",
      "Colour\n"
     ]
    }
   ],
   "source": [
    "print(blue, red, green, sep = ' ', end = '\\n') #default 설정(공백 O, 줄 바꾸기 O)\n",
    "print(blue, red, green, sep = '_', end = '\\n\\n') #즉, sep = 는 띄어쓰기 설정, end = 끝 관련 설정이다.\n",
    "print(\"Colour\")"
   ]
  },
  {
   "cell_type": "markdown",
   "id": "7d96e785-ded5-4353-ae6d-1c1bdbd01c0a",
   "metadata": {},
   "source": [
    "#### 2. 라인이 짧을 때"
   ]
  },
  {
   "cell_type": "code",
   "execution_count": 36,
   "id": "c26dcdd0-3dbd-43bd-958e-f72b3522f2dc",
   "metadata": {},
   "outputs": [
    {
     "name": "stdout",
     "output_type": "stream",
     "text": [
      "5\n"
     ]
    }
   ],
   "source": [
    "blue = 'blue'; red = 'red'; green = 'green'; #이런 식으로, ;를 사용하면 이어서 코드를 쓸 수 있다!\n",
    "num = 5; print(num)"
   ]
  },
  {
   "cell_type": "markdown",
   "id": "fa3a9e25-74f5-469e-9f3f-3202c0fa3a91",
   "metadata": {},
   "source": [
    "## input()"
   ]
  },
  {
   "cell_type": "markdown",
   "id": "91537ce8-c86c-4f01-b472-dd7321944977",
   "metadata": {},
   "source": [
    "* input()이란, console에서 사용자에게 값을 받는 함수를 가리킨다.\n",
    "* 입출력과 관련되어 있으며, 입력 받는 값의 타입은 문자열(str)이다.\n",
    "* 입력 받은 값을 변수에 넣어 사용해야 한다.\n",
    "* input에 str이 아닌 다른 타입의 값을 사용하고 싶다면, 반드시 변수형을 변환시켜야 한다!\n",
    " ex) int(input()), str(input()) 등등, 순서 헷갈리지 말 것!"
   ]
  },
  {
   "cell_type": "code",
   "execution_count": 39,
   "id": "43475e87-53e5-4faf-aa62-ab2501f55975",
   "metadata": {},
   "outputs": [
    {
     "name": "stdin",
     "output_type": "stream",
     "text": [
      "What's your gender? Female\n"
     ]
    }
   ],
   "source": [
    "gender = input(\"What's your gender?\")"
   ]
  },
  {
   "cell_type": "code",
   "execution_count": 40,
   "id": "357f0f8e-fc02-49be-8b8e-98298fae4ca2",
   "metadata": {},
   "outputs": [
    {
     "data": {
      "text/plain": [
       "str"
      ]
     },
     "execution_count": 40,
     "metadata": {},
     "output_type": "execute_result"
    }
   ],
   "source": [
    "type(gender)"
   ]
  },
  {
   "cell_type": "code",
   "execution_count": 1,
   "id": "75be3f33-1286-4365-9e94-377933966773",
   "metadata": {},
   "outputs": [
    {
     "name": "stdin",
     "output_type": "stream",
     "text": [
      "How tall are you? 158\n"
     ]
    }
   ],
   "source": [
    "height = int(input(\"How tall are you?\"))"
   ]
  },
  {
   "cell_type": "code",
   "execution_count": 15,
   "id": "ba66cd9b-b8a8-4ff6-9096-d55b1abc189c",
   "metadata": {},
   "outputs": [
    {
     "name": "stdout",
     "output_type": "stream",
     "text": [
      "당신의 키는 약 5 피트입니다.\n"
     ]
    }
   ],
   "source": [
    "print('당신의 키는 약', height//30,'피트입니다.')"
   ]
  },
  {
   "cell_type": "code",
   "execution_count": 16,
   "id": "79a3a07e-1899-4702-8c59-cef163bd9fa1",
   "metadata": {},
   "outputs": [
    {
     "name": "stdout",
     "output_type": "stream",
     "text": [
      "당신의 키는 약 5피트입니다.\n"
     ]
    }
   ],
   "source": [
    "#혹은\n",
    "print(f'당신의 키는 약 {height//30}피트입니다.')"
   ]
  },
  {
   "cell_type": "markdown",
   "id": "66631363-fbb1-471e-bd94-5fa99cd6ac3d",
   "metadata": {
    "tags": []
   },
   "source": [
    "#### Quiz.1"
   ]
  },
  {
   "cell_type": "markdown",
   "id": "5fca168f-efdc-489a-82b5-71f638a877c4",
   "metadata": {
    "tags": []
   },
   "source": [
    "* 섭씨를 입력받아 화씨로 변환하기\n",
    "* 섭씨*1.8+32 = 화씨"
   ]
  },
  {
   "cell_type": "code",
   "execution_count": 93,
   "id": "1fb45641-add0-48fe-b602-70a4b48dccd8",
   "metadata": {},
   "outputs": [
    {
     "name": "stdin",
     "output_type": "stream",
     "text": [
      "섭씨 온도는 몇 도인가요? 14\n"
     ]
    },
    {
     "name": "stdout",
     "output_type": "stream",
     "text": [
      "현재 화씨 온도는 57.2도입니다.\n"
     ]
    }
   ],
   "source": [
    "celsius = float(input(\"섭씨 온도는 몇 도인가요?\"))\n",
    "fahrenheit = celsius*1.8+32\n",
    "print(f'현재 화씨 온도는 {fahrenheit}도입니다.')"
   ]
  },
  {
   "cell_type": "markdown",
   "id": "a41970e2-efc7-4de7-a701-c4ba549b5318",
   "metadata": {},
   "source": [
    "#### Quiz.2"
   ]
  },
  {
   "cell_type": "markdown",
   "id": "6a59ad29-565d-4cbd-bd94-e2b5cff90040",
   "metadata": {},
   "source": [
    "* 택배 정보를 입력 받고 무게에 따른 값 산정하기\n",
    "    * 수취인 성명 : \n",
    "    * 수취인 주소 : \n",
    "    * 기본 배송비 3000원\n",
    "    * 물건 비용 : <계산된 값>원\n",
    "    * 총 합계 : <계산된 값>원\n",
    "* 물건 비용은 무게(g)*5\n",
    "* 입력값 : 이름, 주소, 무게"
   ]
  },
  {
   "cell_type": "code",
   "execution_count": 4,
   "id": "ad047aa0-33c5-4032-8e4f-c0c738d85c5f",
   "metadata": {},
   "outputs": [
    {
     "name": "stdin",
     "output_type": "stream",
     "text": [
      "수취인 성명은 무엇입니까? 진주연\n"
     ]
    },
    {
     "data": {
      "text/plain": [
       "'진주연'"
      ]
     },
     "execution_count": 4,
     "metadata": {},
     "output_type": "execute_result"
    }
   ],
   "source": [
    "name = input(\"수취인 성명은 무엇입니까?\")\n",
    "name"
   ]
  },
  {
   "cell_type": "code",
   "execution_count": 5,
   "id": "ded5f4cb-7a4c-4a44-b549-2e158612f086",
   "metadata": {},
   "outputs": [
    {
     "name": "stdin",
     "output_type": "stream",
     "text": [
      "수취인 주소는 무엇입니까? 동대문구 이문동\n"
     ]
    }
   ],
   "source": [
    "address = input(\"수취인 주소는 무엇입니까?\")"
   ]
  },
  {
   "cell_type": "code",
   "execution_count": 6,
   "id": "6ee19fa3-dbbd-4db4-915a-a198e06b53d3",
   "metadata": {},
   "outputs": [
    {
     "name": "stdin",
     "output_type": "stream",
     "text": [
      "물건의 무게는 어떻게 됩니까? 150\n"
     ]
    }
   ],
   "source": [
    "weight = input(\"물건의 무게는 어떻게 됩니까?\")"
   ]
  },
  {
   "cell_type": "code",
   "execution_count": 8,
   "id": "a1c41727-bb6b-4871-a622-6be0e9bab2db",
   "metadata": {},
   "outputs": [
    {
     "name": "stdout",
     "output_type": "stream",
     "text": [
      "물건 비용은 750원입니다\n"
     ]
    }
   ],
   "source": [
    "print(f'물건 비용은 {int(weight)*5}원입니다')"
   ]
  },
  {
   "cell_type": "code",
   "execution_count": 9,
   "id": "fbdc948c-bb63-4fe4-9cee-030ab43a633c",
   "metadata": {},
   "outputs": [
    {
     "name": "stdout",
     "output_type": "stream",
     "text": [
      "총 비용은 3750원입니다\n"
     ]
    }
   ],
   "source": [
    "print(f'총 비용은 {int(weight)*5+3000}원입니다')"
   ]
  },
  {
   "cell_type": "code",
   "execution_count": 14,
   "id": "d91ad752-d53d-4918-b953-80e3abb0ed5b",
   "metadata": {},
   "outputs": [
    {
     "name": "stdout",
     "output_type": "stream",
     "text": [
      "수취인 성명 : 진주연\n",
      "수취인 주소 : 동대문구 이문동\n",
      "물건 비용 : 750원\n",
      "총 비용 : 3750원\n"
     ]
    }
   ],
   "source": [
    "print(f'수취인 성명 : {name}', f'수취인 주소 : {address}', \n",
    "      f'물건 비용 : {int(weight)*5}원', f'총 비용 : {int(weight)*5+3000}원',\n",
    "     sep = '\\n')"
   ]
  },
  {
   "cell_type": "markdown",
   "id": "751300c6-0ce3-4e08-b995-8cac772ac7e2",
   "metadata": {},
   "source": [
    "#### 응용 Quiz.1"
   ]
  },
  {
   "cell_type": "markdown",
   "id": "b2b1f6f3-5331-4a5c-b306-a8f280ff44df",
   "metadata": {
    "tags": []
   },
   "source": [
    "* 받고 싶은 쿠키의 개수를 입력 받고 쿠키의 총 칼로리를 구하기 \n",
    "    * 받고 싶은 쿠키의 개수 :\n",
    "    * 쿠키 하나당 칼로리 :\n",
    "    * 쿠키의 총 칼로리\n",
    "* 쿠키 하나당 칼로리는 185kcal"
   ]
  },
  {
   "cell_type": "code",
   "execution_count": 108,
   "id": "4f3c056c-688e-4c64-acff-1d02b69ba98c",
   "metadata": {},
   "outputs": [
    {
     "name": "stdin",
     "output_type": "stream",
     "text": [
      "받고 싶은 쿠키의 개수는 총 몇 개인가요? 13\n"
     ]
    }
   ],
   "source": [
    "cookie = input(\"받고 싶은 쿠키의 개수는 총 몇 개인가요?\")"
   ]
  },
  {
   "cell_type": "code",
   "execution_count": 109,
   "id": "c657afb4-5aa7-4e36-bc1e-160671c7034b",
   "metadata": {},
   "outputs": [
    {
     "name": "stdout",
     "output_type": "stream",
     "text": [
      "2405\n"
     ]
    }
   ],
   "source": [
    "total_kcal = int(cookie)*185\n",
    "print(total_kcal)"
   ]
  },
  {
   "cell_type": "code",
   "execution_count": 111,
   "id": "6bfc6d65-92e5-4dcb-9a19-1ba7af35aacd",
   "metadata": {},
   "outputs": [
    {
     "name": "stdout",
     "output_type": "stream",
     "text": [
      "받고 싶은 쿠키의 개수 : 13개\n",
      "쿠키 하나당 칼로리 : 185kcal\n",
      "쿠키의 총 칼로리 : 2405kcal\n"
     ]
    }
   ],
   "source": [
    "print(f'받고 싶은 쿠키의 개수 : {cookie}개', \n",
    "      f'쿠키 하나당 칼로리 : 185kcal', \n",
    "      f'쿠키의 총 칼로리 : {total_kcal}kcal', sep = '\\n')"
   ]
  },
  {
   "cell_type": "markdown",
   "id": "31aa2b32-e684-46d7-a82a-c7714caecc13",
   "metadata": {},
   "source": [
    "# Ch.3 Numbers"
   ]
  },
  {
   "cell_type": "markdown",
   "id": "600ee31d-c624-4d2e-bbdd-7cc4c54bbc1e",
   "metadata": {},
   "source": [
    "### boolean"
   ]
  },
  {
   "cell_type": "markdown",
   "id": "e86df60f-9b2b-49db-bcf6-0bfbd1688a31",
   "metadata": {},
   "source": [
    "* 값이 True/False로 나뉘는데, False를 나타내는 표현은 다음과 같다.\n",
    "    * bool(0), bool(''), bool(None) = False\n",
    "* If문과 같은 조건식에서 자주 쓰인다.\n",
    "    * ex) \"만약 어떤 값이 True(혹은 False)라면...\" 등등"
   ]
  },
  {
   "cell_type": "code",
   "execution_count": 18,
   "id": "cf53de8f-34fa-4792-bdb6-5d6f8950986d",
   "metadata": {},
   "outputs": [
    {
     "data": {
      "text/plain": [
       "False"
      ]
     },
     "execution_count": 18,
     "metadata": {},
     "output_type": "execute_result"
    }
   ],
   "source": [
    "bool(0)"
   ]
  },
  {
   "cell_type": "code",
   "execution_count": 19,
   "id": "02718d3b-e276-4c69-9733-a6738900da0d",
   "metadata": {},
   "outputs": [
    {
     "data": {
      "text/plain": [
       "False"
      ]
     },
     "execution_count": 19,
     "metadata": {},
     "output_type": "execute_result"
    }
   ],
   "source": [
    "bool('')"
   ]
  },
  {
   "cell_type": "code",
   "execution_count": 22,
   "id": "c7225154-03e5-46a1-b908-7618cec8fa8b",
   "metadata": {},
   "outputs": [
    {
     "data": {
      "text/plain": [
       "False"
      ]
     },
     "execution_count": 22,
     "metadata": {},
     "output_type": "execute_result"
    }
   ],
   "source": [
    "bool(None)"
   ]
  },
  {
   "cell_type": "markdown",
   "id": "1e23a7b1-c9a6-4d78-a627-833f8db32d9d",
   "metadata": {},
   "source": [
    "### Integer"
   ]
  },
  {
   "cell_type": "markdown",
   "id": "ed02558f-ac2e-40da-a698-d4d5bfab2a60",
   "metadata": {},
   "source": [
    "* 분수나 소수가 아닌 정수만을 가리킨다.\n",
    "* 음수는 '-'기호를 사용한다. ex) -50\n",
    "* default는 양수이다.\n",
    "* 공백은 무시한다.\n",
    "* 숫자 앞에 0을 붙여서는 안 된다. ex) 09 (x)!\n",
    "    * 0bxx 등 10진수가 아닌 수는 가능하다.\n",
    "* 숫자 사이에 쉼표를 쓰면 오류가 생긴다. ex) 100,000 (x) (100과 000으로 인식)\n",
    "    * 대신, 숫자 사이의 _는 인식하지 않는다. ex) 100_000 = 십만"
   ]
  },
  {
   "cell_type": "code",
   "execution_count": 23,
   "id": "90a382a5-9793-4020-b6b7-ede3fc251ac8",
   "metadata": {},
   "outputs": [
    {
     "data": {
      "text/plain": [
       "-108"
      ]
     },
     "execution_count": 23,
     "metadata": {},
     "output_type": "execute_result"
    }
   ],
   "source": [
    "#예시_음수\n",
    "minus = -158\n",
    "minus + 50"
   ]
  },
  {
   "cell_type": "code",
   "execution_count": 26,
   "id": "25b167d8-cee6-40c2-8df0-3e244b208fc5",
   "metadata": {},
   "outputs": [
    {
     "data": {
      "text/plain": [
       "209"
      ]
     },
     "execution_count": 26,
     "metadata": {},
     "output_type": "execute_result"
    }
   ],
   "source": [
    "#예시_공백 무시\n",
    "no_space = 133 + 54             +22\n",
    "no_space"
   ]
  },
  {
   "cell_type": "code",
   "execution_count": 27,
   "id": "7ec0e646-7f4b-4efc-b39b-7896486c4b2a",
   "metadata": {},
   "outputs": [
    {
     "ename": "SyntaxError",
     "evalue": "leading zeros in decimal integer literals are not permitted; use an 0o prefix for octal integers (Temp/ipykernel_32036/3439944228.py, line 2)",
     "output_type": "error",
     "traceback": [
      "\u001b[1;36m  File \u001b[1;32m\"C:\\Users\\gyj19\\AppData\\Local\\Temp/ipykernel_32036/3439944228.py\"\u001b[1;36m, line \u001b[1;32m2\u001b[0m\n\u001b[1;33m    no_zero = 0369\u001b[0m\n\u001b[1;37m                 ^\u001b[0m\n\u001b[1;31mSyntaxError\u001b[0m\u001b[1;31m:\u001b[0m leading zeros in decimal integer literals are not permitted; use an 0o prefix for octal integers\n"
     ]
    }
   ],
   "source": [
    "#예시_숫자 앞에 0 (x)\n",
    "no_zero = 0369\n",
    "no_zero"
   ]
  },
  {
   "cell_type": "code",
   "execution_count": 30,
   "id": "9abe59a5-056d-4b5b-a4b1-3de448e4dda9",
   "metadata": {},
   "outputs": [
    {
     "data": {
      "text/plain": [
       "1000000000000"
      ]
     },
     "execution_count": 30,
     "metadata": {},
     "output_type": "execute_result"
    }
   ],
   "source": [
    "#예시_언더바로 숫자 나타내기\n",
    "under = 1000_000000000\n",
    "under #이만큼 벌고 싶다"
   ]
  },
  {
   "cell_type": "markdown",
   "id": "0066d5c8-a9b7-4cd2-aba1-a3ca07c3b7d8",
   "metadata": {},
   "source": [
    "### 연산자 | Operator"
   ]
  },
  {
   "cell_type": "markdown",
   "id": "045d9c3c-7a6d-432a-935a-995a67df951a",
   "metadata": {},
   "source": [
    "* +, -, *, / 등이 있다.\n",
    "* 피연산자 | Operand는 숫자 등이 있다.\n",
    "* 수식 | Expression"
   ]
  },
  {
   "cell_type": "code",
   "execution_count": 41,
   "id": "e6a5a1f5-3c07-418c-acbf-6bf6d605fe59",
   "metadata": {},
   "outputs": [
    {
     "data": {
      "text/plain": [
       "(17, 1, 72, 1.125, 43046721)"
      ]
     },
     "execution_count": 41,
     "metadata": {},
     "output_type": "execute_result"
    }
   ],
   "source": [
    "x = 9\n",
    "y = 8\n",
    "\n",
    "x+y, x-y, x*y, x/y, x**y #거듭제곱 연산"
   ]
  },
  {
   "cell_type": "markdown",
   "id": "914a1429-b5c0-4dd4-8591-9a67631de1f1",
   "metadata": {
    "tags": []
   },
   "source": [
    "* 나누기 연산에는 여러 종류가 있다.\n",
    "    * x/y : 몫, 나머지\n",
    "    * x//y : 몫\n",
    "    * x%y : 나머지\n",
    "    * divmod(x,y) : (몫, 나머지)"
   ]
  },
  {
   "cell_type": "code",
   "execution_count": 42,
   "id": "f75e012d-3d75-40f2-a4a6-9b8c358537da",
   "metadata": {},
   "outputs": [
    {
     "data": {
      "text/plain": [
       "(1.125, (1, 1))"
      ]
     },
     "execution_count": 42,
     "metadata": {},
     "output_type": "execute_result"
    }
   ],
   "source": [
    "x/y, divmod(x,y)"
   ]
  },
  {
   "cell_type": "markdown",
   "id": "6fcba6ab-3c5b-4a57-91fc-0931e11a0bb7",
   "metadata": {},
   "source": [
    "* 0으로 나눈다면 에러가 뜨니 항상 주의할 것!"
   ]
  },
  {
   "cell_type": "markdown",
   "id": "43116027-e61e-41f7-941a-834a383bff81",
   "metadata": {},
   "source": [
    "### 복합 대입 연산자"
   ]
  },
  {
   "cell_type": "code",
   "execution_count": 44,
   "id": "f689a3f0-c175-4c1b-871e-2393b495a5b3",
   "metadata": {},
   "outputs": [
    {
     "data": {
      "text/plain": [
       "36"
      ]
     },
     "execution_count": 44,
     "metadata": {},
     "output_type": "execute_result"
    }
   ],
   "source": [
    "x = 36\n",
    "x-18\n",
    "x"
   ]
  },
  {
   "cell_type": "code",
   "execution_count": 47,
   "id": "6f9c3bd6-7ef5-492b-9489-37ace398d90d",
   "metadata": {},
   "outputs": [],
   "source": [
    "x = x-4\n",
    "#1. x-4을 계산\n",
    "#2. 임시 변수 temp = x-4\n",
    "#3. x = x-4\n",
    "#이 모든 과정을 다음과 같이 나타낼 수 있다:\n",
    "x -= 4"
   ]
  },
  {
   "cell_type": "markdown",
   "id": "19f160ae-15a5-4837-b922-3b744be135d1",
   "metadata": {},
   "source": [
    "* 복합 대입 연산자로는 다음과 같은 것들이 존재한다.\n",
    "    * x+=4\n",
    "    * x-=4\n",
    "    * x*=4\n",
    "    * x/=4\n",
    "    * m) %= 도 작동함!"
   ]
  },
  {
   "cell_type": "markdown",
   "id": "3d3fb33c-9b47-4ea1-b737-f46b888c616d",
   "metadata": {},
   "source": [
    "* 주의) x = x+4는 x+4를 x에 대입하는 것이므로 x가 먼저 초기화되어야 한다."
   ]
  },
  {
   "cell_type": "code",
   "execution_count": 54,
   "id": "a8e0805c-b958-4081-8809-b077db6e0bf9",
   "metadata": {},
   "outputs": [
    {
     "name": "stdout",
     "output_type": "stream",
     "text": [
      "0\n"
     ]
    }
   ],
   "source": [
    "x = 36\n",
    "x%=4\n",
    "print(x)"
   ]
  },
  {
   "cell_type": "markdown",
   "id": "4b3c7a4a-36a1-4f16-9f95-42923117b922",
   "metadata": {},
   "source": [
    "#### Quiz.1"
   ]
  },
  {
   "cell_type": "markdown",
   "id": "c1539c79-0170-488a-a1d0-669bcee376ca",
   "metadata": {},
   "source": [
    "* 반지름을 입력 받아서 원의 면적 구하기\n",
    "* 면적 = pi*r제곱"
   ]
  },
  {
   "cell_type": "code",
   "execution_count": 55,
   "id": "7a5056c1-2e43-402f-b1be-84941530965a",
   "metadata": {},
   "outputs": [
    {
     "name": "stdin",
     "output_type": "stream",
     "text": [
      "원의 반지름을 입력하세요 :  4\n"
     ]
    },
    {
     "name": "stdout",
     "output_type": "stream",
     "text": [
      "50.24\n"
     ]
    }
   ],
   "source": [
    "r = int(input(\"원의 반지름을 입력하세요 : \"))\n",
    "pi = 3.14\n",
    "print(pi*r**2)"
   ]
  },
  {
   "cell_type": "markdown",
   "id": "da30bd04-a9a3-414f-b548-c96e55ceddba",
   "metadata": {},
   "source": [
    "#### Quiz.2"
   ]
  },
  {
   "cell_type": "markdown",
   "id": "b6ed5b01-fd3d-4b24-b403-016f4ab98ccb",
   "metadata": {},
   "source": [
    "* 숫자를 입력 받고 3의 배수인지 확인하기\n",
    "* 숫자를 입력 받고 홀수인지 확인하기"
   ]
  },
  {
   "cell_type": "code",
   "execution_count": 57,
   "id": "4609997e-52b4-41a2-b188-5068ffad1a4a",
   "metadata": {},
   "outputs": [
    {
     "name": "stdin",
     "output_type": "stream",
     "text": [
      "숫자를 입력하세요 :  13\n"
     ]
    },
    {
     "name": "stdout",
     "output_type": "stream",
     "text": [
      "False\n",
      "True\n"
     ]
    }
   ],
   "source": [
    "num = int(input(\"숫자를 입력하세요 : \"))\n",
    "print(num%3 == 0)\n",
    "print(num%2 == 1)"
   ]
  },
  {
   "cell_type": "markdown",
   "id": "a34bf43a-160c-4bc6-bfb3-89dacb99863c",
   "metadata": {
    "tags": []
   },
   "source": [
    "#### 응용 Quiz.2"
   ]
  },
  {
   "cell_type": "markdown",
   "id": "c1e911a9-4374-436c-bf6d-9b50d8180fa6",
   "metadata": {
    "tags": []
   },
   "source": [
    "* 주연이가 소지한 사탕의 개수를 입력 받고 13의 배수인지 확인하기\n",
    "* 주연이가 소지한 사탕의 개수를 입력 받고 짝수인지 확인하기"
   ]
  },
  {
   "cell_type": "code",
   "execution_count": 112,
   "id": "938ee8a5-eb27-40aa-87ad-e4533e03ff51",
   "metadata": {},
   "outputs": [
    {
     "name": "stdin",
     "output_type": "stream",
     "text": [
      "주연이가 소지한 사탕의 개수를 입력하세요 :  13\n"
     ]
    },
    {
     "name": "stdout",
     "output_type": "stream",
     "text": [
      "True\n",
      "False\n"
     ]
    }
   ],
   "source": [
    "amount = int(input(\"주연이가 소지한 사탕의 개수를 입력하세요 : \"))\n",
    "print(num%13 == 0)\n",
    "print(num%2 == 0)"
   ]
  },
  {
   "cell_type": "markdown",
   "id": "0553cc28-1cc9-4e44-b502-aa8dbed04124",
   "metadata": {},
   "source": [
    "### 지수 표현"
   ]
  },
  {
   "cell_type": "markdown",
   "id": "878ad650-283d-4c78-b5d1-2bda1009fe5d",
   "metadata": {},
   "source": [
    "* 1.0e-4와 같이 지수를 나타낼 수 있다.\n",
    "* e와 E 모두 상관 없다.\n",
    "* e의 앞부분은 소수, 정수 모두 올 수 있다. 단, 뒷부분은 정수여야만 한다.\n",
    "* e의 뒷부분이 음수라면 이는 소수점 자릿수를 의미한다.\n",
    "    * ex) 1.0e-4 = 0.0001"
   ]
  },
  {
   "cell_type": "code",
   "execution_count": 59,
   "id": "0beae912-0f74-49fc-9be2-57f871ce20d6",
   "metadata": {},
   "outputs": [
    {
     "data": {
      "text/plain": [
       "0.0004005"
      ]
     },
     "execution_count": 59,
     "metadata": {},
     "output_type": "execute_result"
    }
   ],
   "source": [
    "#예시_지수 표현 1\n",
    "4005.e-7"
   ]
  },
  {
   "cell_type": "code",
   "execution_count": null,
   "id": "6c772578-b62f-4c10-b826-b3950aae5b43",
   "metadata": {},
   "outputs": [],
   "source": [
    "#예시_지수 표현 2\n",
    "#0.000369369를 표현해 본다면 다음과 같다.\n",
    "369369e-9\n",
    "3693.69e-7\n",
    "\n",
    "#0.0369369e-2와 같이 나타낼 수는 없다!"
   ]
  },
  {
   "cell_type": "markdown",
   "id": "fafcbe0e-14ba-4c0d-b681-0083e14a87b4",
   "metadata": {},
   "source": [
    "# Ch.4 If 조건문"
   ]
  },
  {
   "cell_type": "markdown",
   "id": "2f043610-1562-4113-bad9-364452a810e6",
   "metadata": {},
   "source": [
    "#### 코드 Tips"
   ]
  },
  {
   "cell_type": "markdown",
   "id": "c5075ceb-a945-4c7c-b85c-25a91ac00e40",
   "metadata": {},
   "source": [
    "* 주석 달기 # hash, sharp,...\n",
    "    * 시작 지점부터 라인 끝까지가 전부 주석으로 처리된다. 라인이 바뀌면 코드로 인식된다.\n",
    "    * 긴 주석 : \"\"\"~\"\"\"\n",
    "    * 문자열 안에 있는 #는 부호로 인식한다.\n",
    "    * 주석은 의도, 오류 등을 알리기 위해 사용한다.\n",
    "    * 코드에 대한 설명은 최대한 하지 않는다."
   ]
  },
  {
   "cell_type": "markdown",
   "id": "7575b5d6-ffb5-4b4a-ada3-d52c1c09baab",
   "metadata": {},
   "source": [
    "* 라인 유지하기\n",
    "    * 들여쓰기, space*4, tab 이용\n",
    "    * 라인 구분은 논리 구조를 나타내기 때문에 굉장히 중요하다.\n",
    "    * 한 라인에 대략 88자 정도를 넣는 것이 암묵적 룰이다.\n",
    "    * backslash로 라인을 끊어줄 수 있다."
   ]
  },
  {
   "cell_type": "code",
   "execution_count": 71,
   "id": "6d324087-c9d3-4234-9109-5b71a47766e1",
   "metadata": {},
   "outputs": [
    {
     "name": "stdout",
     "output_type": "stream",
     "text": [
      "Love ##\n"
     ]
    },
    {
     "data": {
      "text/plain": [
       "'I Love You'"
      ]
     },
     "execution_count": 71,
     "metadata": {},
     "output_type": "execute_result"
    }
   ],
   "source": [
    "#예시_문자열 속의 #\n",
    "#예시_긴 주석\n",
    "no_sharp = 'Love ##'\n",
    "print(no_sharp)\n",
    "\"\"\"I Love You\"\"\""
   ]
  },
  {
   "cell_type": "code",
   "execution_count": 72,
   "id": "20b89dc3-6ed1-4916-acad-1a806924eeca",
   "metadata": {},
   "outputs": [],
   "source": [
    "#긴 주석은 코드에는 드러나나, 결과와는 상관 없다."
   ]
  },
  {
   "cell_type": "markdown",
   "id": "2edc57d5-1e59-4146-b9c7-dcad0868f0c7",
   "metadata": {
    "tags": []
   },
   "source": [
    "### if"
   ]
  },
  {
   "cell_type": "markdown",
   "id": "5aeeb284-9f82-44d3-a95c-3a7f21ef52a0",
   "metadata": {
    "tags": []
   },
   "source": [
    "* 조건이 1개일 때 \n",
    "      if <조건식> :\n",
    "          <실행할 코드>"
   ]
  },
  {
   "cell_type": "code",
   "execution_count": 81,
   "id": "71d2b3f9-647b-447a-bf4a-f23cef3a26fe",
   "metadata": {},
   "outputs": [],
   "source": [
    "if 13 == 1 :\n",
    "    print(\"13일의 금요일은 특별하지 않다.\") #두 수는 같지 않으므로 해당 문장은 print되지 않는다."
   ]
  },
  {
   "cell_type": "code",
   "execution_count": 83,
   "id": "add544e7-f469-44b4-ba37-bebe085a74cf",
   "metadata": {},
   "outputs": [
    {
     "name": "stdout",
     "output_type": "stream",
     "text": [
      "13일의 금요일은 특별하다.\n"
     ]
    }
   ],
   "source": [
    "if 13 != 1 :\n",
    "    print(\"13일의 금요일은 특별하다.\")"
   ]
  },
  {
   "cell_type": "markdown",
   "id": "ca3c3da2-df1e-4273-927b-8f0848a9cffe",
   "metadata": {
    "tags": []
   },
   "source": [
    "* 조건이 2개일 때    \n",
    "    if <조건식> :\n",
    "        <실행할 코드>\n",
    "    else :\n",
    "        <실행할 코드>"
   ]
  },
  {
   "cell_type": "code",
   "execution_count": 77,
   "id": "7d044dfe-318c-4300-96f2-2ae4a94d7616",
   "metadata": {},
   "outputs": [
    {
     "name": "stdout",
     "output_type": "stream",
     "text": [
      "13일의 금요일은 흔하지 않다.\n"
     ]
    }
   ],
   "source": [
    "if 13 == 1 :\n",
    "    print(\"13일의 금요일은 흔하다.\")\n",
    "else : \n",
    "    print(\"13일의 금요일은 흔하지 않다.\")"
   ]
  },
  {
   "cell_type": "markdown",
   "id": "db8dabcb-59b8-41a7-9ed1-0dd6a0caf54c",
   "metadata": {
    "tags": []
   },
   "source": [
    "* 조건이 3개 이상일 때   \n",
    "    if <조건식> :\n",
    "        <실행할 코드>\n",
    "    elif <조건식> :\n",
    "        <실행할 코드>\n",
    "    else :\n",
    "        <실행할 코드>"
   ]
  },
  {
   "cell_type": "code",
   "execution_count": 80,
   "id": "2fa8a39a-d726-4b50-94ec-4c3eeeb2fc0e",
   "metadata": {},
   "outputs": [
    {
     "name": "stdout",
     "output_type": "stream",
     "text": [
      "발렌타인데이와 화이트데이는 모두 상술이다.\n"
     ]
    }
   ],
   "source": [
    "if 214 == 314 :\n",
    "    print(\"발렌타인데이와 화이트데이는 같은 날짜이다.\")\n",
    "elif 214 == 313 :\n",
    "    print(\"발렌타인데이는 화이트데이 이브이다.\")\n",
    "else :\n",
    "    print(\"발렌타인데이와 화이트데이는 모두 상술이다.\")"
   ]
  },
  {
   "cell_type": "markdown",
   "id": "17d2b7b8-7e88-4ba0-be33-31b642df227d",
   "metadata": {
    "tags": []
   },
   "source": [
    "* if ~ elif ~ else를 사용하지 않고 단순히 if if if만 사용한다면 셋은 모두 별개의 코드로 인식된다!"
   ]
  },
  {
   "cell_type": "markdown",
   "id": "b84dcdf5-2a2a-4e97-919f-145bb5a56025",
   "metadata": {
    "tags": []
   },
   "source": [
    "### 비교 연산자"
   ]
  },
  {
   "cell_type": "markdown",
   "id": "79e47cdb-3e35-45b2-ad5b-bf7eab3e0f39",
   "metadata": {
    "tags": []
   },
   "source": [
    "* 비교 연산자의 종류로는 다음과 같은 것들이 있다.\n",
    "    * x<y\n",
    "    * x>y\n",
    "    * x>=y\n",
    "    * x<=y\n",
    "    * x==y (값을 비교)\n",
    "    * x!=y ( \" )\n",
    "    * x is y (값, 메모리 주소를 비교)\n",
    "    * x is not y ( \" )"
   ]
  },
  {
   "cell_type": "markdown",
   "id": "d2368fd5-065c-4410-94d6-7f5162ab05e6",
   "metadata": {
    "tags": []
   },
   "source": [
    "#### Quiz.1"
   ]
  },
  {
   "cell_type": "markdown",
   "id": "94375fbf-b776-440e-8a1b-e664a7fc1f9e",
   "metadata": {
    "tags": []
   },
   "source": [
    "* 시험 점수를 입력 받고, 80점 이상이면 True, 아니면 False 반환하기"
   ]
  },
  {
   "cell_type": "code",
   "execution_count": 86,
   "id": "37998469-b077-4917-bab6-7f16d10b4119",
   "metadata": {},
   "outputs": [
    {
     "name": "stdin",
     "output_type": "stream",
     "text": [
      "시험 점수를 입력하세요 :  81\n"
     ]
    }
   ],
   "source": [
    "score = int(input(\"시험 점수를 입력하세요 : \"))"
   ]
  },
  {
   "cell_type": "code",
   "execution_count": 87,
   "id": "cbed6cf5-ecf1-4a16-9e0b-cde48c61bc35",
   "metadata": {},
   "outputs": [
    {
     "name": "stdout",
     "output_type": "stream",
     "text": [
      "True\n"
     ]
    }
   ],
   "source": [
    "if score >= 80 :\n",
    "    print(\"True\")\n",
    "else :\n",
    "    print(\"False\")"
   ]
  },
  {
   "cell_type": "markdown",
   "id": "372270c7-866f-4c5e-9b34-473077ac74ef",
   "metadata": {
    "tags": []
   },
   "source": [
    "#### Quiz.2"
   ]
  },
  {
   "cell_type": "markdown",
   "id": "917bab7c-83bf-468d-86d6-326baebadd34",
   "metadata": {
    "tags": []
   },
   "source": [
    "* 시험 점수를 입력 받고, 95점 이상은 A+, 90점 이상은 A, 85점 이상은 B+, 나머지는 F로 출력하기"
   ]
  },
  {
   "cell_type": "code",
   "execution_count": 89,
   "id": "8d17cb4b-67ea-42ad-a257-2b132efc7834",
   "metadata": {},
   "outputs": [
    {
     "name": "stdin",
     "output_type": "stream",
     "text": [
      "시험 점수를 입력하세요 :  88\n"
     ]
    }
   ],
   "source": [
    "score = int(input(\"시험 점수를 입력하세요 : \"))"
   ]
  },
  {
   "cell_type": "code",
   "execution_count": 90,
   "id": "19f1de25-fc21-4bed-a969-a73689461fdd",
   "metadata": {},
   "outputs": [
    {
     "name": "stdout",
     "output_type": "stream",
     "text": [
      "B+\n"
     ]
    }
   ],
   "source": [
    "if score >= 95 :\n",
    "    print('A+')\n",
    "elif score >= 90 :\n",
    "    print('A')\n",
    "elif score >= 85 :\n",
    "    print('B+')\n",
    "else :\n",
    "    print('F')"
   ]
  },
  {
   "cell_type": "markdown",
   "id": "2e2482f4-e395-40fe-9d1d-6866e223194b",
   "metadata": {
    "tags": []
   },
   "source": [
    "#### 응용 Quiz.3"
   ]
  },
  {
   "cell_type": "markdown",
   "id": "d1a772b6-a970-4e97-83db-f756932e1084",
   "metadata": {
    "tags": []
   },
   "source": [
    "* 주술사 승급 시험 점수를 입력 받고, 90점 이상은 특급, 80점 이상은 1급, 70점 이상은 준1급, 나머지는 2급으로 출력하기 "
   ]
  },
  {
   "cell_type": "code",
   "execution_count": 113,
   "id": "54c62c67-610b-4600-a5ee-83eee6690cf2",
   "metadata": {},
   "outputs": [
    {
     "name": "stdin",
     "output_type": "stream",
     "text": [
      "주술사 승급 시험 점수를 입력하세요 :  98\n"
     ]
    }
   ],
   "source": [
    "score = int(input(\"주술사 승급 시험 점수를 입력하세요 : \"))"
   ]
  },
  {
   "cell_type": "code",
   "execution_count": 114,
   "id": "a784eba6-9c8b-40af-a2da-25c6310a0d0b",
   "metadata": {},
   "outputs": [
    {
     "name": "stdout",
     "output_type": "stream",
     "text": [
      "특급\n"
     ]
    }
   ],
   "source": [
    "if score >= 90 :\n",
    "    print('특급')\n",
    "elif score >= 80 :\n",
    "    print('1급')\n",
    "elif score >= 70 :\n",
    "    print('준1급')\n",
    "else :\n",
    "    print('2급')"
   ]
  },
  {
   "cell_type": "markdown",
   "id": "a4c5790d-3cb6-4a59-96ce-6e3ecb27e364",
   "metadata": {
    "tags": []
   },
   "source": [
    "### In(여러 개 비교하기)"
   ]
  },
  {
   "cell_type": "markdown",
   "id": "b2a803a1-787b-4724-9a1c-add0777aa0f7",
   "metadata": {
    "tags": []
   },
   "source": [
    "* 한 변수에 여러 값을 비교할 때 사용한다. "
   ]
  },
  {
   "cell_type": "code",
   "execution_count": 96,
   "id": "d2a6c446-6807-4c1a-9867-3a9d7fe5cb6a",
   "metadata": {},
   "outputs": [
    {
     "data": {
      "text/plain": [
       "True"
      ]
     },
     "execution_count": 96,
     "metadata": {},
     "output_type": "execute_result"
    }
   ],
   "source": [
    "vowels = 'aeiou'\n",
    "letter = 'o'\n",
    "letter in vowels"
   ]
  },
  {
   "cell_type": "code",
   "execution_count": 101,
   "id": "5ffac955-3607-4b24-87a4-de4ee00b9801",
   "metadata": {},
   "outputs": [
    {
     "name": "stdout",
     "output_type": "stream",
     "text": [
      "o is vowel\n"
     ]
    }
   ],
   "source": [
    "if letter in vowels :\n",
    "    print(letter, 'is vowel')"
   ]
  },
  {
   "cell_type": "code",
   "execution_count": 95,
   "id": "1cf6d5d6-35bf-4284-86c4-d401660b0baa",
   "metadata": {},
   "outputs": [
    {
     "data": {
      "text/plain": [
       "True"
      ]
     },
     "execution_count": 95,
     "metadata": {},
     "output_type": "execute_result"
    }
   ],
   "source": [
    "chocolates = 'milk, dark, black, ruby'\n",
    "fav = 'ruby'\n",
    "fav in chocolates"
   ]
  }
 ],
 "metadata": {
  "kernelspec": {
   "display_name": "Python 3 (ipykernel)",
   "language": "python",
   "name": "python3"
  },
  "language_info": {
   "codemirror_mode": {
    "name": "ipython",
    "version": 3
   },
   "file_extension": ".py",
   "mimetype": "text/x-python",
   "name": "python",
   "nbconvert_exporter": "python",
   "pygments_lexer": "ipython3",
   "version": "3.9.7"
  }
 },
 "nbformat": 4,
 "nbformat_minor": 5
}
