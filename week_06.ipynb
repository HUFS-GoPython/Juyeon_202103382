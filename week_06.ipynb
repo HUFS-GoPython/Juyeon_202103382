{
 "cells": [
  {
   "cell_type": "markdown",
   "id": "62e0d251-7474-4250-b14e-da958f8e700b",
   "metadata": {
    "tags": []
   },
   "source": [
    "## NLTK Corpus"
   ]
  },
  {
   "cell_type": "code",
   "execution_count": 2,
   "id": "90bf8b46-3c19-474f-91cc-209e772f3de0",
   "metadata": {},
   "outputs": [
    {
     "name": "stderr",
     "output_type": "stream",
     "text": [
      "[nltk_data] Downloading package inaugural to\n",
      "[nltk_data]     C:\\Users\\gyj19\\AppData\\Roaming\\nltk_data...\n",
      "[nltk_data]   Package inaugural is already up-to-date!\n",
      "[nltk_data] Downloading package brown to\n",
      "[nltk_data]     C:\\Users\\gyj19\\AppData\\Roaming\\nltk_data...\n",
      "[nltk_data]   Package brown is already up-to-date!\n"
     ]
    },
    {
     "data": {
      "text/plain": [
       "True"
      ]
     },
     "execution_count": 2,
     "metadata": {},
     "output_type": "execute_result"
    }
   ],
   "source": [
    "#nltk brown, inaugural\n",
    "import nltk\n",
    "nltk.download(['inaugural', 'brown']) #nltk.download(['inagural', 'brown']) -> 컨텍 가능(메뉴창 뜸)"
   ]
  },
  {
   "cell_type": "code",
   "execution_count": 3,
   "id": "1b3a0120-348b-40ab-948b-f3679523cfce",
   "metadata": {},
   "outputs": [],
   "source": [
    "brown = nltk.corpus.brown"
   ]
  },
  {
   "cell_type": "code",
   "execution_count": 14,
   "id": "e01a7587-232c-4088-af21-6093016e228b",
   "metadata": {
    "collapsed": true,
    "jupyter": {
     "outputs_hidden": true
    },
    "tags": []
   },
   "outputs": [
    {
     "name": "stdout",
     "output_type": "stream",
     "text": [
      "                  can could  will would   may might \n",
      "      adventure    46   151    50   191     5    58 \n",
      " belles_lettres   246   213   236   392   207   113 \n",
      "      editorial   121    56   233   180    74    39 \n",
      "        fiction    37   166    52   287     8    44 \n",
      "     government   117    38   244   120   153    13 \n",
      "        hobbies   268    58   264    78   131    22 \n",
      "          humor    16    30    13    56     8     8 \n",
      "        learned   365   159   340   319   324   128 \n",
      "           lore   170   141   175   186   165    49 \n",
      "        mystery    42   141    20   186    13    57 \n",
      "           news    93    86   389   244    66    38 \n",
      "       religion    82    59    71    68    78    12 \n",
      "        reviews    45    40    58    47    45    26 \n",
      "        romance    74   193    43   244    11    51 \n",
      "science_fiction    16    49    16    79     4    12 \n"
     ]
    }
   ],
   "source": [
    "#genre별로 modal의 빈도수를 가진 cfd 만들기 1\n",
    "cfd1 = nltk.ConditionalFreqDist(\n",
    "    (genre, word) \n",
    "    for genre in brown.categories()\n",
    "    for word in brown.words(categories = genre)\n",
    ")\n",
    "\n",
    "genres = brown.categories()[:15]\n",
    "modals = ['can', 'could', 'will', 'would', 'may', 'might']\n",
    "cfd1.tabulate(conditions=genres , samples=modals)"
   ]
  },
  {
   "cell_type": "code",
   "execution_count": 16,
   "id": "ad4c8ca5-f40b-4043-b8aa-e57de956d511",
   "metadata": {
    "collapsed": true,
    "jupyter": {
     "outputs_hidden": true
    },
    "tags": []
   },
   "outputs": [
    {
     "name": "stdout",
     "output_type": "stream",
     "text": [
      "                  can could   may might  will would \n",
      "      adventure    48   154     7    59    51   194 \n",
      " belles_lettres   249   216   221   113   246   397 \n",
      "      editorial   124    57    79    39   235   185 \n",
      "        fiction    39   168    10    44    56   291 \n",
      "     government   119    38   179    13   244   120 \n",
      "        hobbies   276    59   143    22   269    83 \n",
      "          humor    17    33     8     8    13    56 \n",
      "        learned   367   159   336   128   340   321 \n",
      "           lore   170   142   170    50   178   188 \n",
      "        mystery    45   145    15    57    25   189 \n",
      "           news    94    87    93    38   389   246 \n",
      "       religion    84    59    79    12    72    69 \n",
      "        reviews    45    40    47    26    61    48 \n",
      "        romance    79   195    11    51    49   247 \n",
      "science_fiction    16    49     4    12    17    80 \n"
     ]
    }
   ],
   "source": [
    "#genre별로 modal의 빈도수를 가진 만들기 2\n",
    "cfd2 = nltk.ConditionalFreqDist(\n",
    "    (genre, modals) #첫 번째 요소가 y축, 두 번째 요소가 x축을 이룬다.\n",
    "    for genre in brown.categories()\n",
    "    for modals in ['can', 'could', 'will', 'would', 'may', 'might']\n",
    "    \n",
    "    for word in brown.words(categories = genre)\n",
    "    if word.lower() == modals #candidate\n",
    ")\n",
    "\n",
    "\n",
    "cfd2.tabulate()"
   ]
  },
  {
   "cell_type": "code",
   "execution_count": 8,
   "id": "6ce2ef46-a675-4480-8bb4-ce9421e86524",
   "metadata": {},
   "outputs": [],
   "source": [
    "#!pip instal matplotlib\n",
    "#이 코드로 matplotlib을 설치할 수 있다."
   ]
  },
  {
   "cell_type": "code",
   "execution_count": 9,
   "id": "25980379-b908-4377-b2ad-6584fd52914a",
   "metadata": {},
   "outputs": [
    {
     "data": {
      "image/png": "[encoded data removed]",
      "text/plain": [
       "<Figure size 864x360 with 1 Axes>"
      ]
     },
     "metadata": {
      "needs_background": "light"
     },
     "output_type": "display_data"
    },
    {
     "data": {
      "text/plain": [
       "<AxesSubplot:xlabel='Samples', ylabel='Counts'>"
      ]
     },
     "execution_count": 9,
     "metadata": {},
     "output_type": "execute_result"
    }
   ],
   "source": [
    "import matplotlib.pyplot as plt\n",
    "plt.figure(figsize = (12, 5))\n",
    "cfd2.plot()"
   ]
  },
  {
   "cell_type": "markdown",
   "id": "900331d8-3df1-46b0-80f3-e1f79bcc37a8",
   "metadata": {},
   "source": [
    "### inaugural\n",
    "    * 연설문 데이터"
   ]
  },
  {
   "cell_type": "code",
   "execution_count": 10,
   "id": "785ed92d-b73c-4e52-90e4-4be2c9e9d0cc",
   "metadata": {},
   "outputs": [],
   "source": [
    "inaugural = nltk.corpus.inaugural"
   ]
  },
  {
   "cell_type": "code",
   "execution_count": 12,
   "id": "ac9be6e4-9d8b-45a5-9849-f61ddc86c0cd",
   "metadata": {},
   "outputs": [
    {
     "data": {
      "text/plain": [
       "['1789-Washington.txt',\n",
       " '1793-Washington.txt',\n",
       " '1797-Adams.txt',\n",
       " '1801-Jefferson.txt',\n",
       " '1805-Jefferson.txt',\n",
       " '1809-Madison.txt',\n",
       " '1813-Madison.txt',\n",
       " '1817-Monroe.txt',\n",
       " '1821-Monroe.txt',\n",
       " '1825-Adams.txt']"
      ]
     },
     "execution_count": 12,
     "metadata": {},
     "output_type": "execute_result"
    }
   ],
   "source": [
    "inaugural.fileids()[:10] #연도-이름.txt"
   ]
  },
  {
   "cell_type": "code",
   "execution_count": 21,
   "id": "4822a85e-15fb-4de3-ac51-a5a7a70d9351",
   "metadata": {
    "tags": []
   },
   "outputs": [
    {
     "name": "stdout",
     "output_type": "stream",
     "text": [
      "                america citizen \n",
      "1789-Washington       2       5 \n",
      "1793-Washington       1       1 \n",
      "     1797-Adams       8       6 \n",
      " 1801-Jefferson       0       7 \n",
      " 1805-Jefferson       1      10 \n"
     ]
    }
   ],
   "source": [
    "#inaugural에서 america, citizen의 빈도수, 연도별로 tabulate를 만들어 보자!\n",
    "\n",
    "cfd3 = nltk.ConditionalFreqDist(\n",
    "    (fileid[:-4], target_word) #fileid에서 .txt 제거하기 #fileid가 y축\n",
    "    for fileid in inaugural.fileids()[:5]\n",
    "    for target_word in ['america', 'citizen']\n",
    "    \n",
    "    for word in inaugural.words(fileids = fileid)\n",
    "        #if word.lower() == modals\n",
    "        if word.lower().startswith(target_word)\n",
    ")\n",
    "\n",
    "cfd3.tabulate()"
   ]
  },
  {
   "cell_type": "code",
   "execution_count": 22,
   "id": "96e2141d-5b0e-4b87-92d7-9cc005d87911",
   "metadata": {},
   "outputs": [
    {
     "data": {
      "image/png": "[encoded data removed]",
      "text/plain": [
       "<Figure size 432x288 with 1 Axes>"
      ]
     },
     "metadata": {
      "needs_background": "light"
     },
     "output_type": "display_data"
    },
    {
     "data": {
      "text/plain": [
       "<AxesSubplot:xlabel='Samples', ylabel='Counts'>"
      ]
     },
     "execution_count": 22,
     "metadata": {},
     "output_type": "execute_result"
    }
   ],
   "source": [
    "cfd3.plot()"
   ]
  },
  {
   "cell_type": "code",
   "execution_count": 20,
   "id": "a29674f4-7dc6-47cf-9165-a86d1b5c60c0",
   "metadata": {
    "collapsed": true,
    "jupyter": {
     "outputs_hidden": true
    },
    "tags": []
   },
   "outputs": [
    {
     "name": "stdout",
     "output_type": "stream",
     "text": [
      "        1789-Washington 1793-Washington      1797-Adams  1801-Jefferson  1805-Jefferson    1809-Madison    1813-Madison     1817-Monroe     1821-Monroe      1825-Adams    1829-Jackson    1833-Jackson   1837-VanBuren   1841-Harrison       1845-Polk     1849-Taylor     1853-Pierce   1857-Buchanan    1861-Lincoln    1865-Lincoln      1869-Grant      1873-Grant      1877-Hayes   1881-Garfield  1885-Cleveland   1889-Harrison  1893-Cleveland   1897-McKinley   1901-McKinley  1905-Roosevelt       1909-Taft     1917-Wilson    1921-Harding   1925-Coolidge     1929-Hoover  1933-Roosevelt  1937-Roosevelt  1941-Roosevelt  1945-Roosevelt     1949-Truman 1953-Eisenhower 1957-Eisenhower    1961-Kennedy    1965-Johnson      1969-Nixon      1973-Nixon     1977-Carter     1981-Reagan     1985-Reagan       1989-Bush    1993-Clinton    1997-Clinton       2001-Bush       2005-Bush      2009-Obama      2013-Obama      2017-Trump      2021-Biden \n",
      "america               2               1               8               0               1               0               1               1               2               0               0               2               2               7               0               2               2               3               2               1               0               0               1               2               4               6               9               9               7               0              12               4              24              11              12               2               5              12               2               4               6               7               7              10              10              23               5              16              21              11              33              31              20              30              15              19              35              40 \n",
      "citizen               5               1               6               7              10               1               4              14              15               3               2               3               7              38              11               2               4               7               7               0               5               3               9               9              13              12              10              10               2               1               6               3               6               5              12               1               2               1               1               1               7               0               5               4               1               1               0               3               6               3               2              10              11               7               2               8               4               1 \n"
     ]
    }
   ],
   "source": [
    "cfd3.tabulate()"
   ]
  },
  {
   "cell_type": "markdown",
   "id": "4277186b-fae0-4edc-a45c-223ec418abe1",
   "metadata": {},
   "source": [
    "## Tuple&List\n",
    "#### 1. 생성하기"
   ]
  },
  {
   "cell_type": "code",
   "execution_count": 21,
   "id": "c20de783-6be9-4519-8306-e088d011d226",
   "metadata": {},
   "outputs": [
    {
     "data": {
      "text/plain": [
       "((), [])"
      ]
     },
     "execution_count": 21,
     "metadata": {},
     "output_type": "execute_result"
    }
   ],
   "source": [
    "emptyT = ()\n",
    "emptyT = tuple()\n",
    "\n",
    "emptyL = []\n",
    "emptyL = list()\n",
    "\n",
    "emptyT, emptyL"
   ]
  },
  {
   "cell_type": "markdown",
   "id": "1987ed95-0412-4799-a1b9-b1e999eb9b15",
   "metadata": {},
   "source": [
    "1.1 요소가 2개 이상일 때"
   ]
  },
  {
   "cell_type": "code",
   "execution_count": 23,
   "id": "777e47fb-69e2-400c-9c90-49b963f8d4a0",
   "metadata": {},
   "outputs": [
    {
     "data": {
      "text/plain": [
       "(('dream', 'works'), ['dream', 'works'])"
      ]
     },
     "execution_count": 23,
     "metadata": {},
     "output_type": "execute_result"
    }
   ],
   "source": [
    "listA = ['dream', 'works']\n",
    "\n",
    "tupleA ='dream', 'works' #괄호가 없어도 되므로 얘를 더 많이 쓴다!\n",
    "tupleA = ('dream', 'works')\n",
    "\n",
    "tupleA, listA"
   ]
  },
  {
   "cell_type": "markdown",
   "id": "271406f7-acac-4d3f-87bb-82e4155d8981",
   "metadata": {},
   "source": [
    "1.2 요소가 1개일 때 "
   ]
  },
  {
   "cell_type": "code",
   "execution_count": 24,
   "id": "346a81d7-411b-4d3a-ad43-d4f5b075ffcf",
   "metadata": {},
   "outputs": [
    {
     "data": {
      "text/plain": [
       "(('stars',), ['stars'])"
      ]
     },
     "execution_count": 24,
     "metadata": {},
     "output_type": "execute_result"
    }
   ],
   "source": [
    "listA = ['stars']\n",
    "\n",
    "tupleA = ('stars',) #tuple에서 요소가 하나일 때, comma를 쓰지 않으면 str로 인식된다!\n",
    "tupleA = 'stars',\n",
    "\n",
    "tupleA, listA"
   ]
  },
  {
   "cell_type": "code",
   "execution_count": 26,
   "id": "6411c048-58c6-423e-aa54-869fd539961b",
   "metadata": {},
   "outputs": [
    {
     "data": {
      "text/plain": [
       "str"
      ]
     },
     "execution_count": 26,
     "metadata": {},
     "output_type": "execute_result"
    }
   ],
   "source": [
    "#요소가 1개인 tuple에서 comma를 생략하면 다음과 같다.\n",
    "\n",
    "no_comma = ('love')\n",
    "type(no_comma)"
   ]
  },
  {
   "cell_type": "markdown",
   "id": "d5c9e104-03a0-4642-b65e-77d34803b42f",
   "metadata": {},
   "source": [
    "#### 2. 여러 변수 할당하기  \n",
    "* packing : 한 변수에 여러 개의 데이터를 할당하는 것  \n",
    "       - list, tuple 자체가 a = [1, 2, 3, 4]  \n",
    "* unpacking : 여러 변수에 하나의 데이터를 할당하는 것. 그것을 각각의 변수로 반환하는 것  \n",
    "       - a, b, c =[1, 2, 3]"
   ]
  },
  {
   "cell_type": "code",
   "execution_count": 27,
   "id": "649ffa68-1983-477f-9e1f-c6d0a3f81519",
   "metadata": {},
   "outputs": [
    {
     "data": {
      "text/plain": [
       "('J', 'i', 'n')"
      ]
     },
     "execution_count": 27,
     "metadata": {},
     "output_type": "execute_result"
    }
   ],
   "source": [
    "name = 'Jin'\n",
    "a, b, c = name\n",
    "a, b, c #unpacking"
   ]
  },
  {
   "cell_type": "code",
   "execution_count": 29,
   "id": "986def34-8bfe-4b03-a153-d0a5a0333a5e",
   "metadata": {},
   "outputs": [
    {
     "data": {
      "text/plain": [
       "('abcd', 'hello')"
      ]
     },
     "execution_count": 29,
     "metadata": {},
     "output_type": "execute_result"
    }
   ],
   "source": [
    "#unpacking을 통해 pwd와 id 값 교환\n",
    "pwd = 'abcd'\n",
    "userId = 'hello'\n",
    "\n",
    "#pwd = 'hello', userId = 'abcd'\n",
    "\n",
    "temp1 = pwd\n",
    "temp2 = userId\n",
    "pwd = temp2\n",
    "userId = temp1\n",
    "\n",
    "pwd, userId = userId, pwd\n",
    "pwd, userId"
   ]
  },
  {
   "cell_type": "markdown",
   "id": "3e1fba07-63a2-4c62-819f-2f42b48afce9",
   "metadata": {},
   "source": [
    "#### 3. 연산\n",
    "* 튜플과 리스트의 연산 방식은 서로 동일하다."
   ]
  },
  {
   "cell_type": "code",
   "execution_count": 30,
   "id": "723ec5d5-4a1b-4cdc-b344-6cbf86eb0dc8",
   "metadata": {},
   "outputs": [
    {
     "data": {
      "text/plain": [
       "('a', 'b', 'c')"
      ]
     },
     "execution_count": 30,
     "metadata": {},
     "output_type": "execute_result"
    }
   ],
   "source": [
    "('a',)+('b', 'c') #덧셈"
   ]
  },
  {
   "cell_type": "code",
   "execution_count": 32,
   "id": "2d698bca-808a-4b0f-9362-80e6fc9bf1a4",
   "metadata": {},
   "outputs": [
    {
     "data": {
      "text/plain": [
       "('a', 'b', 'a', 'b')"
      ]
     },
     "execution_count": 32,
     "metadata": {},
     "output_type": "execute_result"
    }
   ],
   "source": [
    "('a', 'b')*2 #곱셈"
   ]
  },
  {
   "cell_type": "code",
   "execution_count": 33,
   "id": "adb16d70-8ce8-41cc-9243-873a969d16d0",
   "metadata": {},
   "outputs": [
    {
     "name": "stdout",
     "output_type": "stream",
     "text": [
      "True\n",
      "(1, 2) (1, 3)\n"
     ]
    }
   ],
   "source": [
    "a = 1, 2\n",
    "b = 1, 3\n",
    "\n",
    "print(a<b)\n",
    "print(a, b)"
   ]
  },
  {
   "cell_type": "markdown",
   "id": "b6f543ab-6533-4796-be82-35dc39a6834f",
   "metadata": {},
   "source": [
    "#### 4. 순회하기"
   ]
  },
  {
   "cell_type": "code",
   "execution_count": 33,
   "id": "49250164-a665-4a75-a967-3dd01cd971d8",
   "metadata": {},
   "outputs": [
    {
     "name": "stdout",
     "output_type": "stream",
     "text": [
      "(1, 2, 3, 4, 5)\n",
      "(1, 2, 3, 4, 5)\n",
      "(1, 2, 3, 4, 5)\n",
      "(1, 2, 3, 4, 5)\n",
      "(1, 2, 3, 4, 5)\n"
     ]
    }
   ],
   "source": [
    "a = 1, 2, 3, 4, 5\n",
    "for i in a :\n",
    "    print(a)"
   ]
  },
  {
   "cell_type": "markdown",
   "id": "314f5c7c-e3ee-4c32-acfe-bac38ab8b60c",
   "metadata": {},
   "source": [
    "### 5. list comprehension\n",
    "* tuple comprehension은 존재하지 않는다."
   ]
  },
  {
   "cell_type": "code",
   "execution_count": 35,
   "id": "c70338eb-c093-4a0f-ae5f-29f91d2d733c",
   "metadata": {},
   "outputs": [
    {
     "data": {
      "text/plain": [
       "[1, 2, 3, 4, 5]"
      ]
     },
     "execution_count": 35,
     "metadata": {},
     "output_type": "execute_result"
    }
   ],
   "source": [
    "[word for word in a]"
   ]
  },
  {
   "cell_type": "code",
   "execution_count": 36,
   "id": "260428bc-c24a-4022-8f0d-16fa04f82983",
   "metadata": {},
   "outputs": [
    {
     "data": {
      "text/plain": [
       "(1, 2, 3, 4, 5)"
      ]
     },
     "execution_count": 36,
     "metadata": {},
     "output_type": "execute_result"
    }
   ],
   "source": [
    "#tuple로 comprehension 사용하는 방법\n",
    "#1.\n",
    "tuple([word for word in a])\n",
    "#2. 느림\n",
    "*[word for word in a],"
   ]
  },
  {
   "cell_type": "markdown",
   "id": "8aafbdbf-b53c-460f-951f-6da7acd44bed",
   "metadata": {},
   "source": [
    "#### 6. tuple은 불변 객체(*가장 중요한 기능*)\n",
    "* a = 1, 2, 3, 4  \n",
    "(a = 1, 2 이런 식으로 새롭게 설정하지 않는 한 절대로 바뀌지 않는다. a += 5 (x)) (cf) str 역시 immutable)\n",
    "* 코드 작성 시 튜플에 수정하면 안 되는 값을 넣곤 한다. \n",
    "* key 값을 저장할 때 사용한다. \n",
    "\n",
    "blue = 1, white = 2, ...등 값을 저장할 때 사용!\n",
    "\n",
    "* 장점 : 메모리 사용이 적다."
   ]
  },
  {
   "cell_type": "code",
   "execution_count": 38,
   "id": "4f612acc-38da-4156-957b-64350376fb39",
   "metadata": {},
   "outputs": [
    {
     "data": {
      "text/plain": [
       "(1, 1, 2, 3)"
      ]
     },
     "execution_count": 38,
     "metadata": {},
     "output_type": "execute_result"
    }
   ],
   "source": [
    "(1,) + (1, 2, 3)"
   ]
  },
  {
   "cell_type": "code",
   "execution_count": 36,
   "id": "df0cc1b5-2dd0-4e31-8603-7733f942f02e",
   "metadata": {},
   "outputs": [
    {
     "data": {
      "text/plain": [
       "(2805395826480, 2805395274224)"
      ]
     },
     "execution_count": 36,
     "metadata": {},
     "output_type": "execute_result"
    }
   ],
   "source": [
    "a = 1,\n",
    "b = 1, 2, 3\n",
    "id(a), id(a+b) #둘은 숫자 종류는 같으나 id가 다름! 즉, 서로 다른 것!"
   ]
  },
  {
   "cell_type": "markdown",
   "id": "65f7d920-4094-4275-a3bf-b1d5f965f639",
   "metadata": {},
   "source": [
    "#### 7. 형 변환\n",
    "* tuple()\n",
    "* ()"
   ]
  },
  {
   "cell_type": "code",
   "execution_count": 37,
   "id": "dc933eed-9fa3-4bd0-aa1f-16a873d8a8ef",
   "metadata": {},
   "outputs": [
    {
     "data": {
      "text/plain": [
       "(('d', 'r', 'e', 'a', 'm'), ['dream'])"
      ]
     },
     "execution_count": 37,
     "metadata": {},
     "output_type": "execute_result"
    }
   ],
   "source": [
    "tuple('dream'), ['dream']"
   ]
  },
  {
   "cell_type": "code",
   "execution_count": 39,
   "id": "f81109aa-b354-4651-85ef-d1ed58e1fe44",
   "metadata": {},
   "outputs": [
    {
     "data": {
      "text/plain": [
       "(['d', 'r', 'e', 'a', 'm'], ['dream'])"
      ]
     },
     "execution_count": 39,
     "metadata": {},
     "output_type": "execute_result"
    }
   ],
   "source": [
    "list('dream'), ['dream'] #list는 이렇게 하면 안 됨 -> 정확히는, ()으로 했을 때와 []으로 했을 때가 다르다!"
   ]
  },
  {
   "cell_type": "code",
   "execution_count": 44,
   "id": "c1a6e1d3-7f56-41dc-9d48-1eebdcda9561",
   "metadata": {},
   "outputs": [
    {
     "data": {
      "text/plain": [
       "1"
      ]
     },
     "execution_count": 44,
     "metadata": {},
     "output_type": "execute_result"
    }
   ],
   "source": [
    "b[0]"
   ]
  },
  {
   "cell_type": "markdown",
   "id": "8687ca47-779b-4d84-8e61-7fd419e36dbf",
   "metadata": {},
   "source": [
    "#### 각각의 장점\n",
    "- tuple의 장점 :\n",
    "    * 타인이 변경하는 것을 막을 수 있다.\n",
    "    * 메모리의 사용이 적다.\n",
    "- list의 장점 : \n",
    "    * 데이터를 순차적으로 파악하기 좋다.\n",
    "    * 중복되는 데이터를 포함할 수 있다."
   ]
  },
  {
   "cell_type": "code",
   "execution_count": 49,
   "id": "b5f71bc4-055f-42cb-ae19-37da982afa8e",
   "metadata": {
    "collapsed": true,
    "jupyter": {
     "outputs_hidden": true
    },
    "tags": []
   },
   "outputs": [
    {
     "data": {
      "text/plain": [
       "\"\\n\\n\\tThey/ppss neither/cc liked/vbd nor/cc disliked/vbd the/at Old/jj-tl Man/nn-tl ./.\\nTo/in them/ppo he/pps could/md have/hv been/ben the/at broken/vbn bell/nn in/in the/at church/nn tower/nn which/wdt rang/vbd before/in and/cc after/in Mass/nn-tl ,/, and/cc at/in noon/nn ,/, and/cc at/in six/cd each/dt evening/nn --/-- its/pp$ tone/nn ,/, repetitive/jj ,/, monotonous/jj ,/, never/rb breaking/vbg the/at boredom/nn of/in the/at streets/nns ./.\\nThe/at Old/jj-tl Man/nn-tl was/bedz unimportant/jj ./.\\n\\n\\n\\tYet/rb if/cs he/pps were/bed not/* there/rb ,/, they/ppss would/md have/hv missed/vbn him/ppo ,/, as/cs they/ppss would/md have/hv missed/vbn the/at sounds/nns of/in bees/nns buzzing/vbg against/in the/at screen/nn door/nn in/in early/jj June/np ;/. ;/.\\nor/cc the/at smell/nn of/in thick/jj tomato/nn paste/nn --/-- the/at ripe/jj smell/nn that/wps was/bedz both/abx sweet/jj and/cc sour/jj --/-- rising/vbg up/rp from/in aluminum/nn trays/nns wrapped/vbn in/in fly-dotted/jj cheesecloth/nn ./.\\nOr/cc the/at surging/vbg whirling/vbg sounds/nns of/in bats/nns at/in night/nn ,/, when/wrb their/pp$ black/jj bodies/nns dived/vbd into/in the/at blackness/nn above/in and/cc below/in the/at amber/jj street/nn lights/nns ./.\\nOr/cc the/at bay/nn of/in female/nn dogs/nns in/in heat/nn ./.\\n\\n\\n\\tThey/ppss never/rb called/vbd him/ppo by/in name/nn ,/, although/cs he/pps had/hvd one/pn ./.\\nFilippo/np Rossi/np ,/, that's/dt+bez what/wdt he/pps was/bedz called/vbn in/in the/at old/jj country/nn ;/. ;/.\\nbut/cc here/rb he/pps was/bedz just/rb Signore/np or/cc the/at Old/jj-tl Man/nn-tl ./.\\nBut/cc this/dt was/bedz not/* unusual/jj ,/, because/cs youth/nn in/in these/dts quarters/nns was/bedz always/rb pushed/vbn at/in a/at distance/nn from/in its/pp$ elders/nns ./.\\nYouth/nn obeyed/vbd when/wrb commanded/vbn ./.\\nIt/pps went/vbd to/in church/nn on/in Sunday/nr and/cc one/cd Saturday/nr a/at month/nn went/vbd to/in confession/nn ./.\\nBut/cc youth/nn asked/vbd nothing/pn of/in its/pp$ parents/nns --/-- not/* a/at touch/nn of/in the/at hand/nn or/cc a/at kiss/nn given/vbn in/in passing/vbg ./.\\n\\n\\n\\tThe/at only/ap thing/nn unusual/jj about/in the/at Old/jj-tl Man/nn-tl had/hvd long/jj since/rb happened/vbn ./.\\nBut/cc the/at past/nn was/bedz dead/jj here/rb as/cs the/at present/jj was/bedz dead/jj ./.\\nOnce/cs the/at Old/jj-tl Man/nn-tl had/hvd had/hvn a/at wife/nn ./.\\nAnd/cc once/cs she/pps ,/, too/rb ,/, ignored/vbd him/ppo ./.\\nWith/in a/at tiny/jj fur-piece/nn wrapped/vbd around/in her/pp$ shoulders/nns ,/, she/pps wiggled/vbd her/pp$ satin-covered/jj buttocks/nns down/in the/at street/nn before/in him/ppo and/cc didn't/dod* stop/vb ./.\\nIn/in one/cd hand/nn she/pps clutched/vbd a/at hundred/cd dollar/nn bill/nn and/cc in/in the/at other/ap a/at straw/nn suitcase/nn ./.\\nThe/at way/nn she/pps strutted/vbd down/in the/at street/nn ,/, the/at Old/jj-tl Man/nn-tl would/md have/hv been/ben blind/jj not/* to/to have/hv noticed/vbn both/abx ./.\\nWithout/in looking/vbg at/in him/ppo ,/, without/in looking/vbg at/in anything/pn except/in Drexel/np-tl Street/nn-tl directly/rb in/in front/nn of/in her/ppo ,/, she/pps climbed/vbd up/rp into/in one/cd of/in those/dts orange/jj streetcars/nns ,/, rode/vbd away/rb in/in it/ppo ,/, and/cc never/rb came/vbd back/rb ./.\\n\\n\\n\\t``/`` But/cc she/pps shouldn't/md* have/hv come/vbn here/rb in/in the/at first/od place/nn ''/'' ,/, the/at women/nns had/hvd said/vbn ./.\\n\\n\\n\\t``/`` No/rb ,/, no/rb ./.\\nNot/* that/dt one/pn ./.\\nShe/pps thought/vbd she/pps was/bedz bigger/jjr than/cs we/ppss are/ber because/cs she/pps came/vbd from/in Torino/np ''/'' ./.\\n\\n\\n\\t``/`` Eh/uh ,/, Torino/np !/. !/.\\nShe/pps gave/vbd herself/ppl fancy/jj airs/nns !/. !/.\\nJust/rb because/cs she/pps had/hvd a/at part/nn on/in the/at stage/nn in/in the/at old/jj country/nn ,/, she/pps thought/vbd she/pps could/md carry/vb her/pp$ head/nn higher/rbr than/cs ours/pp$$ ''/'' ./.\\nThey/ppss had/hvd slapped/vbn their/pp$ thighs/nns ./.\\n\\n\\n\\t``/`` It's/pps+bez not/* for/in making/vbg pretty/jj speeches/nns about/in Dante/np those/dts actresses/nns get/vb paid/vbn so/ql good/rb ''/'' ./.\\n\\n\\n\\t``/`` Henh/uh ''/'' !/. !/.\\nCalloused/vbn fingers/nns ,/, caressed/vbn only/rb by/in the/at smoothness/nn of/in polished/vbn rosaries/nns ,/, had/hvd swayed/vbn excitedly/rb beneath/in puckered/vbn chins/nns where/wrb tiny/jj black/jj hairs/nns sprouted/vbd ,/, never/rb to/to be/be tweezed/vbn away/rb ./.\\nMauve-colored/jj mouths/nns that/wps had/hvd never/rb known/vbn anything/pn sweeter/jjr than/cs the/at taste/nn of/in new/jj wine/nn and/cc the/at passion/nn of/in man's/nn$ tongue/nn had/hvd not/* smiled/vbn ,/, but/cc had/hvd condemned/vbn again/rb and/cc again/rb ./.\\n``/`` Puttana/fw-nn ''/'' !/. !/.\\n\\n\\n\\tBut/cc if/cs the/at Old/jj-tl Man/nn-tl even/rb thought/vbd about/in his/pp$ wife/nn now/rb ,/, nobody/pn cared/vbd a/at fig/nn ./.\\nIt/pps was/bedz enough/ap for/in people/nns to/to know/vb that/cs at/in one/cd time/nn he/pps had/hvd looked/vbn down/in the/at street/nn at/in the/at f\""
      ]
     },
     "execution_count": 49,
     "metadata": {},
     "output_type": "execute_result"
    }
   ],
   "source": [
    "brown.raw(categories = 'romance')[:5000] #=> list of words, sentence split 남긴 형태로 (\\n이런 불필요한 거 없애기) list comprehension이랑 for문 사용!"
   ]
  },
  {
   "cell_type": "markdown",
   "id": "b55d05e4-750c-4280-9ed9-c0e461397900",
   "metadata": {
    "tags": []
   },
   "source": [
    "### List 관련 함수\n",
    "\n",
    "#### 1. 항목 변경하기"
   ]
  },
  {
   "cell_type": "code",
   "execution_count": 61,
   "id": "f4c836b9-5d22-478d-8421-2cb922138b75",
   "metadata": {
    "tags": []
   },
   "outputs": [],
   "source": [
    "days = ['월', '화', '수', '목']\n",
    "\n",
    "# 'fri' 추가하기\n",
    "\n",
    "days.append('fri') #할당 없이 바로 값 변환 가능! 그러나 그 변환된 값이 반환되지는 않는다."
   ]
  },
  {
   "cell_type": "code",
   "execution_count": 62,
   "id": "36bbc1b3-d798-4eb7-8c5d-ccc4e904120d",
   "metadata": {
    "tags": []
   },
   "outputs": [
    {
     "data": {
      "text/plain": [
       "['월', '화', '수', '목', 'fri']"
      ]
     },
     "execution_count": 62,
     "metadata": {},
     "output_type": "execute_result"
    }
   ],
   "source": [
    "days"
   ]
  },
  {
   "cell_type": "code",
   "execution_count": 63,
   "id": "8be2a6ac-012e-407a-a90b-d8247668c9aa",
   "metadata": {},
   "outputs": [],
   "source": [
    "days.insert(6, 'Sat') #2는 원하는 offset을 지정할 수 있다."
   ]
  },
  {
   "cell_type": "code",
   "execution_count": 64,
   "id": "bbaf36ad-4505-4bac-83ef-faacf2b05c6f",
   "metadata": {},
   "outputs": [
    {
     "data": {
      "text/plain": [
       "['월', '화', '수', '목', 'fri', 'Sat']"
      ]
     },
     "execution_count": 64,
     "metadata": {},
     "output_type": "execute_result"
    }
   ],
   "source": [
    "days"
   ]
  },
  {
   "cell_type": "code",
   "execution_count": 65,
   "id": "b1cb2e0f-990e-4e4e-a0d6-b37c83eee97f",
   "metadata": {
    "tags": []
   },
   "outputs": [
    {
     "data": {
      "text/plain": [
       "['월', '화', '수', '목', 'fri', 'Sat', '토', '일']"
      ]
     },
     "execution_count": 65,
     "metadata": {},
     "output_type": "execute_result"
    }
   ],
   "source": [
    "#병합하기\n",
    "\n",
    "listA = ['토', '일']\n",
    "days.extend(listA)\n",
    "days"
   ]
  },
  {
   "cell_type": "code",
   "execution_count": 54,
   "id": "f98460f0-ecc8-4b37-affe-80d96ba1d222",
   "metadata": {},
   "outputs": [],
   "source": [
    "#days.extend(('토', '일')) #왜 error? -> '토', '일' 이렇게 각각의 아이템 두 개로 나타내졌기 때문! \n",
    "#extend()로는 하나씩, 혹은 리스트만 가능!"
   ]
  },
  {
   "cell_type": "code",
   "execution_count": 66,
   "id": "4bd2a7e3-b552-40d0-adf3-b87f84a43e7f",
   "metadata": {},
   "outputs": [
    {
     "data": {
      "text/plain": [
       "['월', '화', '수', '목', 'fri', 'Sat', '토', '일', '토', '일']"
      ]
     },
     "execution_count": 66,
     "metadata": {},
     "output_type": "execute_result"
    }
   ],
   "source": [
    "days += listA\n",
    "days"
   ]
  },
  {
   "cell_type": "code",
   "execution_count": 67,
   "id": "0538c31d-bc18-4515-96fe-561bc06e9365",
   "metadata": {},
   "outputs": [
    {
     "data": {
      "text/plain": [
       "['월', '화', '수', '목', 'fri', '공휴일', '토', '일', '토', '일']"
      ]
     },
     "execution_count": 67,
     "metadata": {},
     "output_type": "execute_result"
    }
   ],
   "source": [
    "#offset\n",
    "\n",
    "days[-5] = '공휴일'\n",
    "days"
   ]
  },
  {
   "cell_type": "code",
   "execution_count": 68,
   "id": "392c817e-9966-48dd-9f54-8b4b89785c4b",
   "metadata": {},
   "outputs": [
    {
     "data": {
      "text/plain": [
       "[1, 2, 'fri', '공휴일', '토', '일', '토', '일']"
      ]
     },
     "execution_count": 68,
     "metadata": {},
     "output_type": "execute_result"
    }
   ],
   "source": [
    "days[:4] = 1, 2 #개수 달라도 상관 없음\n",
    "days"
   ]
  },
  {
   "cell_type": "code",
   "execution_count": 69,
   "id": "e1f79aec-b691-4320-aded-b03456841275",
   "metadata": {},
   "outputs": [
    {
     "data": {
      "text/plain": [
       "['l', 'o', 'v', 'e', '공휴일', '토', '일', '토', '일']"
      ]
     },
     "execution_count": 69,
     "metadata": {},
     "output_type": "execute_result"
    }
   ],
   "source": [
    "days[:3] = 'love'\n",
    "days"
   ]
  },
  {
   "cell_type": "code",
   "execution_count": 73,
   "id": "315fad06-944a-4465-bf9e-04d1672fc866",
   "metadata": {},
   "outputs": [
    {
     "data": {
      "text/plain": [
       "[0, 1, 2]"
      ]
     },
     "execution_count": 73,
     "metadata": {},
     "output_type": "execute_result"
    }
   ],
   "source": [
    "#a = 1, 2, 3, 4, 5\n",
    "\n",
    "list(range(3))"
   ]
  },
  {
   "cell_type": "code",
   "execution_count": 74,
   "id": "a6ad5baf-e44a-4c1b-918a-1a9567ccfb5b",
   "metadata": {},
   "outputs": [
    {
     "data": {
      "text/plain": [
       "[1]"
      ]
     },
     "execution_count": 74,
     "metadata": {},
     "output_type": "execute_result"
    }
   ],
   "source": [
    "a = list(range(1, 2))\n",
    "a"
   ]
  },
  {
   "cell_type": "markdown",
   "id": "e18c1170-8778-480f-b0b0-8c79c2bad408",
   "metadata": {},
   "source": [
    "#### 삭제하기"
   ]
  },
  {
   "cell_type": "code",
   "execution_count": 75,
   "id": "83a6db7b-f267-4213-b508-ca672fc23e01",
   "metadata": {},
   "outputs": [
    {
     "data": {
      "text/plain": [
       "['o', 'v', 'e', '공휴일', '토', '일', '토', '일']"
      ]
     },
     "execution_count": 75,
     "metadata": {},
     "output_type": "execute_result"
    }
   ],
   "source": [
    "#1. offset\n",
    "\n",
    "del days[0] #자리가 보존되지 않고 아이템이 하나씩 앞당겨진다!\n",
    "days"
   ]
  },
  {
   "cell_type": "code",
   "execution_count": 78,
   "id": "efac6ca0-27d6-4426-ab02-7deb607fec2d",
   "metadata": {},
   "outputs": [
    {
     "data": {
      "text/plain": [
       "['o', 'v', 'e', '일', '토', '일']"
      ]
     },
     "execution_count": 78,
     "metadata": {},
     "output_type": "execute_result"
    }
   ],
   "source": [
    "#2. 특정한 값 삭제\n",
    "\n",
    "days.remove('토')\n",
    "days"
   ]
  },
  {
   "cell_type": "code",
   "execution_count": 79,
   "id": "6a78f9e4-2b1b-40c6-b384-988be3e498fa",
   "metadata": {},
   "outputs": [
    {
     "data": {
      "text/plain": [
       "['o', 'v', 'e', '토', '일']"
      ]
     },
     "execution_count": 79,
     "metadata": {},
     "output_type": "execute_result"
    }
   ],
   "source": [
    "days.remove('일') #처음 0번째만 삭제\n",
    "days"
   ]
  },
  {
   "cell_type": "code",
   "execution_count": 80,
   "id": "519ab41b-c750-487b-9e98-baa6cac44394",
   "metadata": {},
   "outputs": [
    {
     "data": {
      "text/plain": [
       "'일'"
      ]
     },
     "execution_count": 80,
     "metadata": {},
     "output_type": "execute_result"
    }
   ],
   "source": [
    "#3. pop(index) default = -1 맨 마지막 요소를 삭제\n",
    "\n",
    "days.pop() #뭐가 삭제되었는지를 보여준다!"
   ]
  },
  {
   "cell_type": "code",
   "execution_count": 81,
   "id": "efbb82ed-043f-450d-895b-dfc1acfec97e",
   "metadata": {},
   "outputs": [
    {
     "data": {
      "text/plain": [
       "['o', 'v', 'e', '토']"
      ]
     },
     "execution_count": 81,
     "metadata": {},
     "output_type": "execute_result"
    }
   ],
   "source": [
    "days"
   ]
  },
  {
   "cell_type": "code",
   "execution_count": 84,
   "id": "834cb65e-948a-4a6e-a893-40cff1ae40fe",
   "metadata": {},
   "outputs": [],
   "source": [
    "#clear : 빈 튜플로 만들기\n",
    "\n",
    "days.clear()"
   ]
  },
  {
   "cell_type": "code",
   "execution_count": 85,
   "id": "d3aa6539-1b1f-49e7-81f0-6e845eb23f48",
   "metadata": {},
   "outputs": [
    {
     "data": {
      "text/plain": [
       "[]"
      ]
     },
     "execution_count": 85,
     "metadata": {},
     "output_type": "execute_result"
    }
   ],
   "source": [
    "days"
   ]
  },
  {
   "cell_type": "markdown",
   "id": "d7469af3-b2ee-402d-bcd4-091dab241fc1",
   "metadata": {},
   "source": [
    "#### 값 찾기"
   ]
  },
  {
   "cell_type": "code",
   "execution_count": 87,
   "id": "5b6a7acf-3f44-4f69-91da-0fe14f0be157",
   "metadata": {},
   "outputs": [
    {
     "data": {
      "text/plain": [
       "3"
      ]
     },
     "execution_count": 87,
     "metadata": {},
     "output_type": "execute_result"
    }
   ],
   "source": [
    "a = list(range(4))\n",
    "a.index(3)"
   ]
  },
  {
   "cell_type": "code",
   "execution_count": 92,
   "id": "3709c678-d671-4a34-8d9e-5150a3709c80",
   "metadata": {},
   "outputs": [
    {
     "name": "stdout",
     "output_type": "stream",
     "text": [
      "True\n",
      "False\n"
     ]
    }
   ],
   "source": [
    "#값 확인하기\n",
    "\n",
    "print(1 in a)\n",
    "print(7 in a)"
   ]
  },
  {
   "cell_type": "markdown",
   "id": "ef084b4f-9cab-49d7-94e3-8920ffc279bc",
   "metadata": {},
   "source": [
    "#### 정렬하기\n",
    "- sort(revesre 가능) : 정렬한 뒤에 값 반환하지 않고 기존값이 변경된다.\n",
    "- sorted(리스트, reverse 가능) : 정렬된 복사본을 반환, 기존값은 유지된다.\n",
    "- list.reverse()\n",
    "- reversed(리스트)"
   ]
  },
  {
   "cell_type": "code",
   "execution_count": 100,
   "id": "20ccd279-8fef-4e52-99aa-2d823709d278",
   "metadata": {},
   "outputs": [
    {
     "data": {
      "text/plain": [
       "([0, 1, 2, 3], [3, 2, 1, 0], [0, 1, 2, 3])"
      ]
     },
     "execution_count": 100,
     "metadata": {},
     "output_type": "execute_result"
    }
   ],
   "source": [
    "b = sorted(a, reverse = True)\n",
    "c = sorted(a)\n",
    "a, b, c"
   ]
  },
  {
   "cell_type": "code",
   "execution_count": 101,
   "id": "17c65226-545d-4634-beed-a598ffe371e3",
   "metadata": {},
   "outputs": [
    {
     "data": {
      "text/plain": [
       "[0, 1, 2, 3]"
      ]
     },
     "execution_count": 101,
     "metadata": {},
     "output_type": "execute_result"
    }
   ],
   "source": [
    "b.sort()\n",
    "b"
   ]
  },
  {
   "cell_type": "code",
   "execution_count": 102,
   "id": "792c6872-6e33-4b43-91e8-a679cf18bc40",
   "metadata": {},
   "outputs": [
    {
     "data": {
      "text/plain": [
       "[3, 2, 1, 0]"
      ]
     },
     "execution_count": 102,
     "metadata": {},
     "output_type": "execute_result"
    }
   ],
   "source": [
    "b.reverse()\n",
    "b"
   ]
  },
  {
   "cell_type": "code",
   "execution_count": 106,
   "id": "b9bcb9f6-ef16-4790-9291-c2ba482c3903",
   "metadata": {},
   "outputs": [
    {
     "name": "stdout",
     "output_type": "stream",
     "text": [
      "<list_reverseiterator object at 0x0000028D2E965B20>\n",
      "[0, 1, 2, 3]\n"
     ]
    }
   ],
   "source": [
    "print(reversed(b))\n",
    "print(list(reversed(b)))"
   ]
  },
  {
   "cell_type": "markdown",
   "id": "202675d8-9090-4e51-b8fe-a11cdb759b2a",
   "metadata": {
    "tags": []
   },
   "source": [
    "#### 할당하기\n",
    "- =으로 할당할 때에는 같은 메모리 주소를 참조하고 있으므로 하나의 값이 변하면 같이 변한다.\n",
    "- shallow copy(얕은 복사)\n",
    "    * 원본의 값이 바뀌면 복사본의 값도 전부 바뀐다.\n",
    "- deep copy(깊은 복사)\n",
    "    * 하위에 중첩된 리스트 요소가 바뀌는 것을 방지하는 복사\n",
    "* 이 둘을 구분해 사용할 수 있어야 한다."
   ]
  },
  {
   "cell_type": "code",
   "execution_count": 32,
   "id": "fce5dbab-e2d7-4df4-9b68-0f2aa818d7ea",
   "metadata": {},
   "outputs": [
    {
     "data": {
      "text/plain": [
       "[0, 1, 2, 3, 4]"
      ]
     },
     "execution_count": 32,
     "metadata": {},
     "output_type": "execute_result"
    }
   ],
   "source": [
    "a"
   ]
  },
  {
   "cell_type": "code",
   "execution_count": 33,
   "id": "5bd23508-8e5c-41df-aaf3-b76269c05e51",
   "metadata": {},
   "outputs": [
    {
     "data": {
      "text/plain": [
       "[7, 1, 2, 3, 4]"
      ]
     },
     "execution_count": 33,
     "metadata": {},
     "output_type": "execute_result"
    }
   ],
   "source": [
    "b = a #[0, 1, 2, 3, 4]에 a, b가 메모리 주소를 참조함.\n",
    "b[0] = 7\n",
    "b"
   ]
  },
  {
   "cell_type": "code",
   "execution_count": 34,
   "id": "0e615966-53cf-40a7-8644-0cbd43c65dfc",
   "metadata": {},
   "outputs": [
    {
     "data": {
      "text/plain": [
       "[7, 1, 2, 3, 4]"
      ]
     },
     "execution_count": 34,
     "metadata": {},
     "output_type": "execute_result"
    }
   ],
   "source": [
    "a #a도 바뀜"
   ]
  },
  {
   "cell_type": "code",
   "execution_count": 108,
   "id": "6e47fc57-cb95-4643-8aa5-4fc50a790012",
   "metadata": {},
   "outputs": [
    {
     "data": {
      "text/plain": [
       "(2805263105280, 2805371196608)"
      ]
     },
     "execution_count": 108,
     "metadata": {},
     "output_type": "execute_result"
    }
   ],
   "source": [
    "id(a), id(b)"
   ]
  },
  {
   "cell_type": "code",
   "execution_count": 112,
   "id": "adf2369e-64bc-4c8b-9c78-1d684efbf9fe",
   "metadata": {},
   "outputs": [
    {
     "name": "stdout",
     "output_type": "stream",
     "text": [
      "2805263105280 2805356712576 2805371307712 2805263275648\n",
      "[0, 1, 2, 3] [0, 1, 2, 3] [0, 1, 2, 3] [0, 1, 2, 3]\n"
     ]
    }
   ],
   "source": [
    "#shallow\n",
    "\n",
    "b = a.copy()\n",
    "c = list(a)\n",
    "d = a[:]\n",
    "print(id(a), id(b), id(c), id(d)) #전부 id가 다르다!\n",
    "print(a, b, c, d)"
   ]
  },
  {
   "cell_type": "code",
   "execution_count": 113,
   "id": "7cb5f20b-0ca4-46cd-8b80-d9f3c5378cee",
   "metadata": {},
   "outputs": [
    {
     "data": {
      "text/plain": [
       "[0, 1, 2, 3, [6, 7, 8]]"
      ]
     },
     "execution_count": 113,
     "metadata": {},
     "output_type": "execute_result"
    }
   ],
   "source": [
    "a.append([6, 7, 8])\n",
    "a"
   ]
  },
  {
   "cell_type": "code",
   "execution_count": 114,
   "id": "981a9725-1730-40ff-9b87-003339000dcf",
   "metadata": {},
   "outputs": [
    {
     "data": {
      "text/plain": [
       "[0, 1, 2, 3, [6, 7, 8]]"
      ]
     },
     "execution_count": 114,
     "metadata": {},
     "output_type": "execute_result"
    }
   ],
   "source": [
    "e = a.copy()\n",
    "e"
   ]
  },
  {
   "cell_type": "code",
   "execution_count": 116,
   "id": "8d35af85-90aa-44cf-a34f-91a0ebb74c88",
   "metadata": {},
   "outputs": [
    {
     "data": {
      "text/plain": [
       "([0, 1, 2, 3, ['love', 7, 8]], [0, 1, 2, 3, ['love', 7, 8]])"
      ]
     },
     "execution_count": 116,
     "metadata": {},
     "output_type": "execute_result"
    }
   ],
   "source": [
    "a[-1][0] = 'love' #a의 -1에 해당하는 리스트의 0의 자리에 위치하는 요소를 love로 바꾼다.\n",
    "a, e"
   ]
  },
  {
   "cell_type": "code",
   "execution_count": 117,
   "id": "a6c665c3-a7c2-412f-8bd3-859b8863d339",
   "metadata": {},
   "outputs": [
    {
     "data": {
      "text/plain": [
       "[0, 1, 2, 3, ['love', 7, 8]]"
      ]
     },
     "execution_count": 117,
     "metadata": {},
     "output_type": "execute_result"
    }
   ],
   "source": [
    "import copy\n",
    "f = copy.deepcopy(a)\n",
    "f"
   ]
  },
  {
   "cell_type": "code",
   "execution_count": 118,
   "id": "339af5ca-1ada-4c96-9a38-8a38caf5c0ac",
   "metadata": {
    "tags": []
   },
   "outputs": [
    {
     "data": {
      "text/plain": [
       "([0, 1, 2, 3, ['love', 7, 8]], [0, 1, 2, 3, ['love', 7, 9]])"
      ]
     },
     "execution_count": 118,
     "metadata": {},
     "output_type": "execute_result"
    }
   ],
   "source": [
    "f[-1][-1] = 9\n",
    "a, f"
   ]
  },
  {
   "cell_type": "code",
   "execution_count": 119,
   "id": "847e4ad7-edbe-4c67-af3a-badff983e5d4",
   "metadata": {},
   "outputs": [],
   "source": [
    "#[[0, 7, 9]] -> 이렇게 list가 중첩된 형태를 이차원 리스트라고 한다."
   ]
  },
  {
   "cell_type": "markdown",
   "id": "8ad098ad-53c2-4365-af71-b91098adaf27",
   "metadata": {
    "tags": []
   },
   "source": [
    "### 순환하기\n",
    "* zip() : 여러 개의 리스트를 동시에 순회한다. \n",
    "* enumerate() : 인덱스도 함께 돌고자 할 때 사용한다. (list, range)\n",
    "* range()"
   ]
  },
  {
   "cell_type": "code",
   "execution_count": 135,
   "id": "27bb1bf8-2ff7-4178-a72a-64f2aa1e1b91",
   "metadata": {},
   "outputs": [
    {
     "name": "stdout",
     "output_type": "stream",
     "text": [
      "(1, 'Mon')\n",
      "(2, 'Tue')\n",
      "(3, 'Wed')\n"
     ]
    }
   ],
   "source": [
    "num = [1, 2, 3]\n",
    "week = ['Mon', 'Tue', 'Wed', 'Thu', 'Fri', 'Sat', 'Sun']\n",
    "\n",
    "for itemA, itemB in zip(num, week) : #아이템 수가 적은 시퀀스에서 완료된다!\n",
    "    print((itemA, itemB))"
   ]
  },
  {
   "cell_type": "code",
   "execution_count": 136,
   "id": "90601e7d-0938-491c-b3ff-3b13636d4ff4",
   "metadata": {},
   "outputs": [
    {
     "data": {
      "text/plain": [
       "[(1, 'Mon'), (2, 'Tue'), (3, 'Wed')]"
      ]
     },
     "execution_count": 136,
     "metadata": {},
     "output_type": "execute_result"
    }
   ],
   "source": [
    "list(zip(num, week))"
   ]
  },
  {
   "cell_type": "code",
   "execution_count": 137,
   "id": "dd16e851-d8f0-4188-9edd-1a12316a680c",
   "metadata": {},
   "outputs": [
    {
     "data": {
      "text/plain": [
       "{1: 'Mon', 2: 'Tue', 3: 'Wed'}"
      ]
     },
     "execution_count": 137,
     "metadata": {},
     "output_type": "execute_result"
    }
   ],
   "source": [
    "dict(zip(num, week)) #dictionary type 사용"
   ]
  },
  {
   "cell_type": "code",
   "execution_count": 138,
   "id": "00597fa5-497e-4163-9ea6-34816a54e699",
   "metadata": {},
   "outputs": [
    {
     "name": "stdout",
     "output_type": "stream",
     "text": [
      "(0, 'Mon')\n",
      "(1, 'Tue')\n",
      "(2, 'Wed')\n",
      "(3, 'Thu')\n",
      "(4, 'Fri')\n",
      "(5, 'Sat')\n",
      "(6, 'Sun')\n"
     ]
    }
   ],
   "source": [
    "for idx, itemA in enumerate(week) : \n",
    "    print((idx, itemA))"
   ]
  },
  {
   "cell_type": "markdown",
   "id": "71d66d85-0e8e-4ddd-bb29-33700dc69720",
   "metadata": {},
   "source": [
    "#### 리스트 컴프리핸션"
   ]
  },
  {
   "cell_type": "code",
   "execution_count": 139,
   "id": "5951bfea-3733-4c9b-9f41-57aab019ddb4",
   "metadata": {},
   "outputs": [
    {
     "data": {
      "text/plain": [
       "['Mon', 'Tue', 'Wed', 'Thu', 'Fri', 'Sat', 'Sun']"
      ]
     },
     "execution_count": 139,
     "metadata": {},
     "output_type": "execute_result"
    }
   ],
   "source": [
    "[day for day in week]"
   ]
  },
  {
   "cell_type": "code",
   "execution_count": 140,
   "id": "71ecc720-18af-443f-b2db-69e2065d11be",
   "metadata": {},
   "outputs": [
    {
     "data": {
      "text/plain": [
       "[(1, 'Mon'), (2, 'Tue'), (3, 'Wed')]"
      ]
     },
     "execution_count": 140,
     "metadata": {},
     "output_type": "execute_result"
    }
   ],
   "source": [
    "[(nal, day) for nal, day in zip(num, week)]"
   ]
  },
  {
   "cell_type": "code",
   "execution_count": 142,
   "id": "56934168-ff58-44d3-b9a2-7b707b7c9308",
   "metadata": {},
   "outputs": [
    {
     "data": {
      "text/plain": [
       "[(1, 'Mon'), (2, 'Tue'), (3, 'Wed')]"
      ]
     },
     "execution_count": 142,
     "metadata": {},
     "output_type": "execute_result"
    }
   ],
   "source": [
    "lst = [(nal, day) for nal, day in zip(num, week)]\n",
    "lst"
   ]
  },
  {
   "cell_type": "markdown",
   "id": "1e723c46-7a78-41b9-a800-a21e8bb2ed98",
   "metadata": {},
   "source": [
    "#### 연습\n",
    "- 리스트 -> for문으로 바꾸기\n",
    "- for문을 사용하여 ex를 구현하기\n",
    "    - a, b "
   ]
  },
  {
   "cell_type": "code",
   "execution_count": 143,
   "id": "4aea61ec-01fc-460a-8d18-60bf4b9ac704",
   "metadata": {},
   "outputs": [
    {
     "data": {
      "text/plain": [
       "[(1, 'Mon'), (2, 'Tue'), (3, 'Wed')]"
      ]
     },
     "execution_count": 143,
     "metadata": {},
     "output_type": "execute_result"
    }
   ],
   "source": [
    "result = []\n",
    "for nal, day in zip(num, week) :\n",
    "    result.append((nal, day))\n",
    "    \n",
    "result"
   ]
  },
  {
   "cell_type": "code",
   "execution_count": 147,
   "id": "4dc61ba4-9a4b-47fc-a2ff-4ea7c4ad500e",
   "metadata": {},
   "outputs": [
    {
     "data": {
      "text/plain": [
       "[(1, 'Mon'), (1, 'Tue'), (1, 'Wed'), (1, 'Thu'), (1, 'Fri')]"
      ]
     },
     "execution_count": 147,
     "metadata": {},
     "output_type": "execute_result"
    }
   ],
   "source": [
    "[(nal, day) for nal in num for day in week] [:5]"
   ]
  },
  {
   "cell_type": "code",
   "execution_count": 149,
   "id": "5daec7cf-3a5e-4b16-81e4-bc4cce537e57",
   "metadata": {},
   "outputs": [
    {
     "data": {
      "text/plain": [
       "[[(1, 'Mon'), (2, 'Mon'), (3, 'Mon')],\n",
       " [(1, 'Tue'), (2, 'Tue'), (3, 'Tue')],\n",
       " [(1, 'Wed'), (2, 'Wed'), (3, 'Wed')]]"
      ]
     },
     "execution_count": 149,
     "metadata": {},
     "output_type": "execute_result"
    }
   ],
   "source": [
    "[[(nal, day) for nal in num] for day in week] [:3]"
   ]
  },
  {
   "cell_type": "markdown",
   "id": "036d03e0-1ddd-4952-b85d-7b91b688cace",
   "metadata": {},
   "source": [
    "#### Quiz.1"
   ]
  },
  {
   "cell_type": "code",
   "execution_count": 160,
   "id": "fe3ae5e9-0c46-4b51-b765-6c2f0b3baa28",
   "metadata": {},
   "outputs": [],
   "source": [
    "sentence = \"don't judge a book by its cover\"\n",
    "# (대문자, 타이틀(앞글자 대문자), 글자 수)로 저장된 리스트로 만들어라.\n",
    "#[('DON\\ 'T', 'Don\\ 't', 3), (...))]"
   ]
  },
  {
   "cell_type": "code",
   "execution_count": 151,
   "id": "1bf7e41f-fc77-4bae-8c16-30a17c08f6a6",
   "metadata": {},
   "outputs": [
    {
     "data": {
      "text/plain": [
       "[(\"DON'T\", \"Don'T\", 5),\n",
       " ('JUDGE', 'Judge', 5),\n",
       " ('A', 'A', 1),\n",
       " ('BOOK', 'Book', 4),\n",
       " ('BY', 'By', 2),\n",
       " ('ITS', 'Its', 3),\n",
       " ('COVER', 'Cover', 5)]"
      ]
     },
     "execution_count": 151,
     "metadata": {},
     "output_type": "execute_result"
    }
   ],
   "source": [
    "[(word.upper(), word.title(), len(word)) for word in sentence.split()]"
   ]
  },
  {
   "cell_type": "markdown",
   "id": "4deec149-4143-4752-9a3c-3e95d7a3f16a",
   "metadata": {},
   "source": [
    "#### Quiz.2"
   ]
  },
  {
   "cell_type": "code",
   "execution_count": 161,
   "id": "0d795be1-6093-44b8-9be0-01e03c1f8168",
   "metadata": {},
   "outputs": [],
   "source": [
    "text = [\n",
    "    ['hello', 'guys'],\n",
    "    ['how', 'are', 'you']\n",
    "]\n",
    " \n",
    "#2.1. 문장으로 구성된 리스트로 만들기\n",
    "#['hello guys', 'how are you']\n",
    "#2.2. 전체 단어를 하나의 리스트로 가져오기\n",
    "#['', '', '', '', '']\n",
    "#2.3. 전체를 스트링으로 가려오기\n",
    "#'hello guys how are you'"
   ]
  },
  {
   "cell_type": "code",
   "execution_count": 154,
   "id": "474e7444-da3d-4dfb-a1f6-37734c691103",
   "metadata": {
    "tags": []
   },
   "outputs": [
    {
     "data": {
      "text/plain": [
       "[['hello', 'guys'],\n",
       " ['how', 'are', 'you'],\n",
       " ['hello', 'guys'],\n",
       " ['how', 'are', 'you']]"
      ]
     },
     "execution_count": 154,
     "metadata": {},
     "output_type": "execute_result"
    }
   ],
   "source": [
    "[word for word in text for word in text]"
   ]
  },
  {
   "cell_type": "code",
   "execution_count": 163,
   "id": "1735ac7b-d384-452e-9636-50da8228f068",
   "metadata": {},
   "outputs": [
    {
     "data": {
      "text/plain": [
       "['hello guys', 'how are you']"
      ]
     },
     "execution_count": 163,
     "metadata": {},
     "output_type": "execute_result"
    }
   ],
   "source": [
    "#정답\n",
    "[' '.join(lists) for lists in text]"
   ]
  },
  {
   "cell_type": "code",
   "execution_count": 157,
   "id": "de0b5adb-77d9-4000-a480-ed54df170912",
   "metadata": {},
   "outputs": [
    {
     "name": "stdout",
     "output_type": "stream",
     "text": [
      "hello\n",
      "guys\n",
      "how\n",
      "are\n",
      "you\n"
     ]
    }
   ],
   "source": [
    "for sent in text :\n",
    "    for word in sent :\n",
    "        print(word)"
   ]
  },
  {
   "cell_type": "code",
   "execution_count": 164,
   "id": "7262a23d-3b4a-4cd1-9b02-299adefcfc88",
   "metadata": {},
   "outputs": [
    {
     "data": {
      "text/plain": [
       "['hello', 'guys', 'how', 'are', 'you']"
      ]
     },
     "execution_count": 164,
     "metadata": {},
     "output_type": "execute_result"
    }
   ],
   "source": [
    "#2\n",
    "[word for sent in text for word in sent]"
   ]
  },
  {
   "cell_type": "code",
   "execution_count": 165,
   "id": "bbef0005-fabc-407c-9623-1659a2aa8ecd",
   "metadata": {},
   "outputs": [
    {
     "data": {
      "text/plain": [
       "'hello guys how are you'"
      ]
     },
     "execution_count": 165,
     "metadata": {},
     "output_type": "execute_result"
    }
   ],
   "source": [
    "' '.join([word for sent in text for word in sent])"
   ]
  },
  {
   "cell_type": "markdown",
   "id": "dcb1dc9f-f474-4ee5-9c12-3af2964ba58c",
   "metadata": {},
   "source": [
    "#### Homework\n",
    "\n",
    "브라운코퍼스에서 romance 장르 raw 앞에서 5000개 선택\n",
    "- 문장 분절 있는 토큰 리스트로 만들기\n",
    "- 리스트컴프리핸션, 포문 사용해서 불필요한 것들 제거하기\n",
    "\n",
    "원하는 형태 \n",
    "\"\\n\\n\\tThey/ppss neither/cc liked/vbd nor/cc disliked/vbd => \n",
    "[\n",
    "['They', 'neither', 'liked'],\n",
    "[],\n",
    "...\n",
    "]"
   ]
  }
 ],
 "metadata": {
  "kernelspec": {
   "display_name": "Python 3 (ipykernel)",
   "language": "python",
   "name": "python3"
  },
  "language_info": {
   "codemirror_mode": {
    "name": "ipython",
    "version": 3
   },
   "file_extension": ".py",
   "mimetype": "text/x-python",
   "name": "python",
   "nbconvert_exporter": "python",
   "pygments_lexer": "ipython3",
   "version": "3.9.7"
  }
 },
 "nbformat": 4,
 "nbformat_minor": 5
}
