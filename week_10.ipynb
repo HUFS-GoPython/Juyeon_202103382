{
 "cells": [
  {
   "cell_type": "markdown",
   "id": "ed8a0e32-6c07-481c-a718-8dcb3e2ab78f",
   "metadata": {},
   "source": [
    "## Team Quiz 1. Review"
   ]
  },
  {
   "cell_type": "code",
   "execution_count": 1,
   "id": "fbbe1817-105a-4276-bf17-3b1002634069",
   "metadata": {},
   "outputs": [],
   "source": [
    "from collections import defaultdict"
   ]
  },
  {
   "cell_type": "markdown",
   "id": "707f137d-96a2-4f08-b33e-748d43406eaa",
   "metadata": {},
   "source": [
    "### defaultdict\n",
    "- 값이 없으면 0으로 설정될 수 있게 해 주는 딕셔너리\n",
    "- defaultdict(list) -> 디폴트값 : 빈 리스트 (이렇게 type 따라 디폴트값 지정 가능)"
   ]
  },
  {
   "cell_type": "code",
   "execution_count": 4,
   "id": "d566590f-cdbf-467b-845a-32328f774c40",
   "metadata": {},
   "outputs": [
    {
     "data": {
      "text/plain": [
       "{'d': 2, 'e': 1, 'f': 1, 'a': 1, 'u': 1, 'l': 1, 't': 2, 'i': 1, 'c': 1}"
      ]
     },
     "execution_count": 4,
     "metadata": {},
     "output_type": "execute_result"
    }
   ],
   "source": [
    "letter = 'defaultdict'\n",
    "empty = {} # a : [a, a]\n",
    "for ch in letter:\n",
    "    #if empty[ch] = 0\n",
    "    #else 값을 넣어라\n",
    "    empty.setdefault(ch, 0) # a가 없으면 기본값으로 0을 넣어라\n",
    "    empty[ch] += 1\n",
    "    \n",
    "empty"
   ]
  },
  {
   "cell_type": "code",
   "execution_count": 5,
   "id": "8f3f4018-ae93-436a-882d-4d1bfb12a9db",
   "metadata": {},
   "outputs": [
    {
     "data": {
      "text/plain": [
       "defaultdict(int,\n",
       "            {'d': 2,\n",
       "             'e': 1,\n",
       "             'f': 1,\n",
       "             'a': 1,\n",
       "             'u': 1,\n",
       "             'l': 1,\n",
       "             't': 2,\n",
       "             'i': 1,\n",
       "             'c': 1})"
      ]
     },
     "execution_count": 5,
     "metadata": {},
     "output_type": "execute_result"
    }
   ],
   "source": [
    "empty2 = defaultdict(int)\n",
    "for ch in letter:\n",
    "    empty2[ch] += 1\n",
    "    \n",
    "empty2"
   ]
  },
  {
   "cell_type": "markdown",
   "id": "9193cb7f-c0c2-4f40-9101-2f414e31ca64",
   "metadata": {},
   "source": [
    "## Object & Class\n",
    "- 객체란? (略) 실제적인 물건, 개념\n",
    "- 속성, 행동을 가지는 개념을 가리킨다.\n",
    "- 자동차(실체 O)\n",
    "    - 속성 : 엔진, 브랜드, 가격, 색상, 이름, ... => 변수\n",
    "    - 행동 : 나가다, 정지하다, 좌회전, 우회전    => 메서드(함수)\n",
    "- 고양이(실체 O)\n",
    "    - 속성 : 종, 이름, 컬러, 몸무게, 설별, ...\n",
    "    - 행동 : 짖다, 뛰다, 걷다, 째려 보다, ...\n",
    "- 사전\n",
    "    - 속성 : 글자 수, 시작 글자, 출현 빈도수, ... \n",
    "    - 행동 : 추가하다, 제외하다, ...\n",
    "- 관련 짓는 방법\n",
    "    -            사람                   상점                     물건\n",
    "    - 속성 : 이름, 소지 금액   /   제고, 이익, 고객 명단   /   브랜드, 이름, 가격\n",
    "    - 행동 : 사다, 등록하다      회원등록, 팔다, 수익계산   (등록을 사람이 하느냐, 가게가 하느냐에 따라 다름)\n",
    "- 객체 사용하는 이유 : 코드 재사용 수월"
   ]
  },
  {
   "cell_type": "markdown",
   "id": "151596c0-aa2f-4f35-a782-bdad81b5d1bb",
   "metadata": {},
   "source": [
    "## 클래스\n",
    "- 객체가 가져야 할 기본 정보를 담은 코드\n",
    "- 설계도, 틀, 프레임워크\n",
    "- 붕어빵의 틀\n",
    "- 붕어빵 == 인스턴스\n",
    "- 'class Car:' (class 선언할 때는 대문자로 시작)\n",
    "    - 클래스명은 카멜표기법을 사용(언더바 X)\n",
    "    - ex) NiceBoat"
   ]
  },
  {
   "cell_type": "code",
   "execution_count": 10,
   "id": "0fa2ebb4-0974-433a-8934-14ce4c1d157c",
   "metadata": {},
   "outputs": [
    {
     "data": {
      "text/plain": [
       "<__main__.Car at 0x27372dfc3d0>"
      ]
     },
     "execution_count": 10,
     "metadata": {},
     "output_type": "execute_result"
    }
   ],
   "source": [
    "# 정의\n",
    "class Car:\n",
    "    pass\n",
    "\n",
    "# 선언 (반드시 괄호가 필요)\n",
    "car1 = Car()\n",
    "car1 # 붕어빵 하나"
   ]
  },
  {
   "cell_type": "code",
   "execution_count": 11,
   "id": "26ee397d-360b-421e-bbcd-5fb40fc2b4c2",
   "metadata": {},
   "outputs": [
    {
     "data": {
      "text/plain": [
       "<__main__.Car at 0x27372dfc520>"
      ]
     },
     "execution_count": 11,
     "metadata": {},
     "output_type": "execute_result"
    }
   ],
   "source": [
    "car2 = Car()\n",
    "car2"
   ]
  },
  {
   "cell_type": "code",
   "execution_count": 12,
   "id": "0c2d87c3-feea-425f-932e-e48f657c2768",
   "metadata": {},
   "outputs": [
    {
     "data": {
      "text/plain": [
       "__main__.Car"
      ]
     },
     "execution_count": 12,
     "metadata": {},
     "output_type": "execute_result"
    }
   ],
   "source": [
    "type(car2) #nltk.book type == Text"
   ]
  },
  {
   "cell_type": "code",
   "execution_count": 14,
   "id": "7ae96fe2-6112-4f0b-84f9-fa5b006cb026",
   "metadata": {},
   "outputs": [],
   "source": [
    "car1.brand = 'mercedes'\n",
    "car2.brand = 'kia'"
   ]
  },
  {
   "cell_type": "code",
   "execution_count": 15,
   "id": "b1c0e8aa-1ea1-4737-8472-0403e9fc7cef",
   "metadata": {},
   "outputs": [
    {
     "name": "stdout",
     "output_type": "stream",
     "text": [
      "mercedes\n",
      "kia\n"
     ]
    }
   ],
   "source": [
    "for car in [car1, car2]:\n",
    "    print(car.brand)"
   ]
  },
  {
   "cell_type": "code",
   "execution_count": 16,
   "id": "c736afb4-a9d5-416a-a0da-e8a517259f78",
   "metadata": {},
   "outputs": [],
   "source": [
    "class Car:\n",
    "    brand = 'mercedes'\n",
    "\n",
    "car3 = Car()"
   ]
  },
  {
   "cell_type": "code",
   "execution_count": 18,
   "id": "edd15b91-63af-4512-81b8-4ac5045294b2",
   "metadata": {},
   "outputs": [
    {
     "data": {
      "text/plain": [
       "'mercedes'"
      ]
     },
     "execution_count": 18,
     "metadata": {},
     "output_type": "execute_result"
    }
   ],
   "source": [
    "car3.brand # 이미 브랜드가 정해져 있음"
   ]
  },
  {
   "cell_type": "code",
   "execution_count": 31,
   "id": "78b80cac-b517-4554-be61-4b2c1f45bee2",
   "metadata": {},
   "outputs": [],
   "source": [
    "# !우리는 다양한 속성을 원함!\n",
    "#class Car:\n",
    "#    def __init__(self, brand): # __init__ :속성을 초기화하는 함수 # self == my_car\n",
    "#        self.brand = brand # self == instance # 이제 c = Car('')(X), 꼭 브랜드를 넣어 주어야 함!"
   ]
  },
  {
   "cell_type": "code",
   "execution_count": 37,
   "id": "aa414f89-f993-4fc2-abb9-5ee962adfc31",
   "metadata": {},
   "outputs": [],
   "source": [
    "#my_car = Car(brand = 'toyota')\n",
    "#my_car.brand (이러면 이제 'toyota'가 나옴!)"
   ]
  },
  {
   "cell_type": "code",
   "execution_count": 101,
   "id": "fe4c0f53-c9d3-45d3-94eb-711aea29cacb",
   "metadata": {},
   "outputs": [],
   "source": [
    "# color, model 속성 초기화하기\n",
    "class Car:\n",
    "    def __init__(self, brand, model = None, color = 'orange'): \n",
    "        self.brand = brand\n",
    "        # self.brand = 어떤 객체가 만들어지더라도 가져갈 브랜드명\n",
    "        # brand = 객체 생성 시 설정되는 브랜드명(처음에 들어오는 값)\n",
    "        self.model = model\n",
    "        self.color = color\n",
    "       \n",
    "        # model 기본적으로는 값을 안 받아도 되게 설정하기? -> None 사용\n",
    "       \n",
    "    # action 정의하기 by method\n",
    "    def drive(self): #첫 인자는 self로 시작!\n",
    "        # 내 차(브랜드={})가 움직인다. \n",
    "        print(f'내 차(브랜드 = {self.brand})가 움직인다.')\n",
    "    \n",
    "    def stop(self):\n",
    "        print('차가 멈춘다.')\n",
    "        \n",
    "    def change_color(self, color): # change_color(self): -> 내 답변, 특별한 이유 없이 input 사용 X!\n",
    "        self.color = 'pink'\n",
    "        self.color = color # self.color = input() \n",
    "        \n",
    "my_morning = Car('kia')\n",
    "my_tiko = Car('hyundai', 'tiko')\n",
    "\n",
    "# 여기 조금 더 공부해 볼 것!"
   ]
  },
  {
   "cell_type": "code",
   "execution_count": 92,
   "id": "115ce63b-0035-49f2-b16b-394b2e8e3407",
   "metadata": {},
   "outputs": [],
   "source": [
    "#1. 내가 원하는 컬러로 바꾸기 -> 해결!\n",
    "#2. 컬러가 있으면 있는 컬러, 없으면 orange로 기본값 설정하기 -> 이해함!"
   ]
  },
  {
   "cell_type": "code",
   "execution_count": 100,
   "id": "8d0010ce-b13d-4be1-8b6e-a2024b4c6ca3",
   "metadata": {},
   "outputs": [
    {
     "data": {
      "text/plain": [
       "'morning'"
      ]
     },
     "execution_count": 100,
     "metadata": {},
     "output_type": "execute_result"
    }
   ],
   "source": [
    "my_morning.model"
   ]
  },
  {
   "cell_type": "code",
   "execution_count": 90,
   "id": "382e0ad5-d35d-4071-a1b3-6d933175f0d8",
   "metadata": {},
   "outputs": [],
   "source": [
    "my_morning.change_color('blue')"
   ]
  },
  {
   "cell_type": "code",
   "execution_count": 91,
   "id": "af3d0eac-b442-4bd8-ae39-6693e30594c9",
   "metadata": {},
   "outputs": [
    {
     "data": {
      "text/plain": [
       "'blue'"
      ]
     },
     "execution_count": 91,
     "metadata": {},
     "output_type": "execute_result"
    }
   ],
   "source": [
    "my_morning.color"
   ]
  },
  {
   "cell_type": "code",
   "execution_count": 97,
   "id": "86bb3c83-dfc3-405e-9265-dbaefad7dc75",
   "metadata": {},
   "outputs": [
    {
     "data": {
      "text/plain": [
       "'orange'"
      ]
     },
     "execution_count": 97,
     "metadata": {},
     "output_type": "execute_result"
    }
   ],
   "source": [
    "my_tiko.color"
   ]
  },
  {
   "cell_type": "code",
   "execution_count": 61,
   "id": "e3c30f37-25c0-4242-80af-dc8784e3bfb1",
   "metadata": {},
   "outputs": [],
   "source": [
    "my_morning.color = 'white' # 이 객체에 대해서만 속성 바꾸기"
   ]
  },
  {
   "cell_type": "code",
   "execution_count": 62,
   "id": "9524a207-3ec1-455c-a05b-d2933bc92d72",
   "metadata": {},
   "outputs": [
    {
     "data": {
      "text/plain": [
       "'white'"
      ]
     },
     "execution_count": 62,
     "metadata": {},
     "output_type": "execute_result"
    }
   ],
   "source": [
    "my_morning.color"
   ]
  },
  {
   "cell_type": "code",
   "execution_count": 47,
   "id": "8eca0043-d8c3-4b99-86bb-4dcd806dc8f1",
   "metadata": {},
   "outputs": [
    {
     "name": "stdout",
     "output_type": "stream",
     "text": [
      "내 차(브랜드 = kia)가 움직인다.\n"
     ]
    }
   ],
   "source": [
    "my_morning.drive() # 함수를 실행하는 것이므로 () 필요!"
   ]
  },
  {
   "cell_type": "code",
   "execution_count": 40,
   "id": "bd4fe5b2-ddf1-4630-9887-182bb12c7304",
   "metadata": {},
   "outputs": [
    {
     "data": {
      "text/plain": [
       "'yellow'"
      ]
     },
     "execution_count": 40,
     "metadata": {},
     "output_type": "execute_result"
    }
   ],
   "source": [
    "my_sorento = Car('kia', 'sorento', 'yellow')\n",
    "my_sorento.color"
   ]
  },
  {
   "cell_type": "code",
   "execution_count": 69,
   "id": "466dc5d1-f6d5-4b52-83c4-0e7b0f94f9f5",
   "metadata": {},
   "outputs": [
    {
     "data": {
      "text/plain": [
       "'pink'"
      ]
     },
     "execution_count": 69,
     "metadata": {},
     "output_type": "execute_result"
    }
   ],
   "source": [
    "my_morning.change_color()\n",
    "my_morning.color"
   ]
  },
  {
   "cell_type": "code",
   "execution_count": 5,
   "id": "060b922d-628e-43e7-82a3-225ced9e8032",
   "metadata": {},
   "outputs": [
    {
     "data": {
      "text/plain": [
       "'Godiva'"
      ]
     },
     "execution_count": 5,
     "metadata": {},
     "output_type": "execute_result"
    }
   ],
   "source": [
    "class Chocolate:\n",
    "    def __init__(self, brand, flavour = None):\n",
    "        self.brand = brand\n",
    "        self.flavour = flavour\n",
    "        \n",
    "    def change_flavour(self, flavour):\n",
    "        self.flavour = flavour\n",
    "        \n",
    "favourite_chocolate = Chocolate('Godiva')\n",
    "\n",
    "favourite_chocolate.brand"
   ]
  },
  {
   "cell_type": "code",
   "execution_count": 6,
   "id": "ac9a392b-cf28-405b-91c6-dd90e7545711",
   "metadata": {},
   "outputs": [
    {
     "data": {
      "text/plain": [
       "'Black'"
      ]
     },
     "execution_count": 6,
     "metadata": {},
     "output_type": "execute_result"
    }
   ],
   "source": [
    "favourite_chocolate.change_flavour('Black')\n",
    "favourite_chocolate.flavour"
   ]
  },
  {
   "cell_type": "code",
   "execution_count": 7,
   "id": "4f3aaf8b-1e7b-4f25-969d-b1e655807076",
   "metadata": {},
   "outputs": [
    {
     "data": {
      "text/plain": [
       "'Ruby'"
      ]
     },
     "execution_count": 7,
     "metadata": {},
     "output_type": "execute_result"
    }
   ],
   "source": [
    "favourite_chocolate.change_flavour('Ruby')\n",
    "favourite_chocolate.flavour"
   ]
  },
  {
   "cell_type": "markdown",
   "id": "6922c30d-5074-47b9-9e9c-ad4e0a771a56",
   "metadata": {},
   "source": [
    "### getter, setter\n",
    "- 캡슐화, 정보 은닉\n",
    "- 클래스 외부에서 변수 접근을 용이하지 못하게 하는 것\n",
    "- public -> private"
   ]
  },
  {
   "cell_type": "code",
   "execution_count": 102,
   "id": "c15f273c-aeee-4fc3-9857-e3931427884f",
   "metadata": {},
   "outputs": [],
   "source": [
    "#1. 틀에서 변수를 바꾸는 것\n",
    "#2. 인스턴스에서 변수를 바꾸는 것"
   ]
  },
  {
   "cell_type": "code",
   "execution_count": 103,
   "id": "d5d76064-0d01-448d-b3f4-b33db3893a6c",
   "metadata": {},
   "outputs": [],
   "source": [
    "class Fruit:\n",
    "    color = 'red'"
   ]
  },
  {
   "cell_type": "code",
   "execution_count": 104,
   "id": "84dc0a85-f02a-4d46-bd60-c0414f595360",
   "metadata": {},
   "outputs": [
    {
     "data": {
      "text/plain": [
       "'red'"
      ]
     },
     "execution_count": 104,
     "metadata": {},
     "output_type": "execute_result"
    }
   ],
   "source": [
    "apple = Fruit()\n",
    "apple.color"
   ]
  },
  {
   "cell_type": "code",
   "execution_count": 105,
   "id": "d59fa48b-995f-43fa-b0eb-1fa4c3b483f1",
   "metadata": {},
   "outputs": [],
   "source": [
    "Fruit.color = 'purple' #아예 Fruit 차원에서 색상 접근 가능!"
   ]
  },
  {
   "cell_type": "code",
   "execution_count": 109,
   "id": "1d5ce3b5-cba6-4d7e-a182-606b8d3e9714",
   "metadata": {},
   "outputs": [
    {
     "data": {
      "text/plain": [
       "'purple'"
      ]
     },
     "execution_count": 109,
     "metadata": {},
     "output_type": "execute_result"
    }
   ],
   "source": [
    "orange = Fruit() #무조건 purple이 나오게 됨 -> 오류 생길 가능성 있음!\n",
    "orange.color"
   ]
  },
  {
   "cell_type": "markdown",
   "id": "9820bc70-7dad-4014-83e9-5eb69cc9cbb0",
   "metadata": {},
   "source": [
    "### 1."
   ]
  },
  {
   "cell_type": "code",
   "execution_count": 124,
   "id": "d2eb2160-7209-4474-94c9-c7ea05e6dbe1",
   "metadata": {},
   "outputs": [],
   "source": [
    "class Car:\n",
    "    def __init__(self, input_brand):\n",
    "        self.brand = input_brand\n",
    "        \n",
    "    def get_brand(self):\n",
    "        # 원래 변수명에 접근하도록\n",
    "        print('from the getter')\n",
    "        return self.brand\n",
    "    \n",
    "    def set_brand(self, input_brand):\n",
    "        # 변수명을 바꾸는 작업\n",
    "        # 바꾸는 작업을 하므로 return값은 없음!\n",
    "        print('from the setter')\n",
    "        self.brand = input_brand"
   ]
  },
  {
   "cell_type": "code",
   "execution_count": 125,
   "id": "f5d72e36-d43f-4082-b6f8-b500e073ae06",
   "metadata": {},
   "outputs": [
    {
     "data": {
      "text/plain": [
       "'toyota'"
      ]
     },
     "execution_count": 125,
     "metadata": {},
     "output_type": "execute_result"
    }
   ],
   "source": [
    "ex = Car('toyota')\n",
    "ex.brand"
   ]
  },
  {
   "cell_type": "code",
   "execution_count": 126,
   "id": "3a285c23-81fb-4bfe-a1f9-79e9c932c560",
   "metadata": {},
   "outputs": [
    {
     "name": "stdout",
     "output_type": "stream",
     "text": [
      "from the getter\n"
     ]
    },
    {
     "data": {
      "text/plain": [
       "'toyota'"
      ]
     },
     "execution_count": 126,
     "metadata": {},
     "output_type": "execute_result"
    }
   ],
   "source": [
    "ex.get_brand() "
   ]
  },
  {
   "cell_type": "code",
   "execution_count": 127,
   "id": "68ad14c4-bcd8-402a-87da-68dccb6fbafd",
   "metadata": {},
   "outputs": [
    {
     "name": "stdout",
     "output_type": "stream",
     "text": [
      "from the setter\n"
     ]
    }
   ],
   "source": [
    "ex.set_brand('mazuda')"
   ]
  },
  {
   "cell_type": "code",
   "execution_count": 128,
   "id": "46e900e6-9ab8-4d91-b176-fc0764c58d4c",
   "metadata": {},
   "outputs": [
    {
     "data": {
      "text/plain": [
       "'mazuda'"
      ]
     },
     "execution_count": 128,
     "metadata": {},
     "output_type": "execute_result"
    }
   ],
   "source": [
    "ex.brand"
   ]
  },
  {
   "cell_type": "code",
   "execution_count": 129,
   "id": "cfdd2270-f708-4b51-9a68-3595ce41999b",
   "metadata": {},
   "outputs": [
    {
     "name": "stdout",
     "output_type": "stream",
     "text": [
      "from the getter\n"
     ]
    },
    {
     "data": {
      "text/plain": [
       "'mazuda'"
      ]
     },
     "execution_count": 129,
     "metadata": {},
     "output_type": "execute_result"
    }
   ],
   "source": [
    "ex.get_brand()"
   ]
  },
  {
   "cell_type": "code",
   "execution_count": 130,
   "id": "1f3925c7-dbcc-4a41-9be6-ef734548e089",
   "metadata": {},
   "outputs": [],
   "source": [
    "Car.brand = 'bmw'"
   ]
  },
  {
   "cell_type": "code",
   "execution_count": 131,
   "id": "8348bedb-1d68-46ac-8148-865a864b4919",
   "metadata": {},
   "outputs": [
    {
     "data": {
      "text/plain": [
       "'toyota'"
      ]
     },
     "execution_count": 131,
     "metadata": {},
     "output_type": "execute_result"
    }
   ],
   "source": [
    "a = Car('toyota')\n",
    "a.brand"
   ]
  },
  {
   "cell_type": "code",
   "execution_count": 132,
   "id": "9e3bf5c3-5bcf-4e21-8fc1-1af814c36ee8",
   "metadata": {},
   "outputs": [
    {
     "name": "stdout",
     "output_type": "stream",
     "text": [
      "from the getter\n"
     ]
    },
    {
     "data": {
      "text/plain": [
       "'toyota'"
      ]
     },
     "execution_count": 132,
     "metadata": {},
     "output_type": "execute_result"
    }
   ],
   "source": [
    "a.get_brand()"
   ]
  },
  {
   "cell_type": "code",
   "execution_count": 8,
   "id": "62253cc3-53b4-4ae1-8deb-bd51e5a6dba3",
   "metadata": {},
   "outputs": [],
   "source": [
    "class Chocolate:\n",
    "    def __init__(self, input_brand, flavour = None):\n",
    "        self.brand = input_brand\n",
    "        self.flavour = flavour\n",
    "        \n",
    "    def get_brand(self):\n",
    "        return self.brand\n",
    "    \n",
    "    def set_brand(self, input_brand):\n",
    "        self.brand = input_brand\n",
    "        \n",
    "    def change_flavour(self, flavour):\n",
    "        self.flavour = flavour"
   ]
  },
  {
   "cell_type": "code",
   "execution_count": 9,
   "id": "564f0cb0-2752-4e3f-9c91-471de700a0b8",
   "metadata": {},
   "outputs": [
    {
     "data": {
      "text/plain": [
       "'Lotte'"
      ]
     },
     "execution_count": 9,
     "metadata": {},
     "output_type": "execute_result"
    }
   ],
   "source": [
    "Rei = Chocolate('Lotte')\n",
    "Rei.brand"
   ]
  },
  {
   "cell_type": "code",
   "execution_count": 10,
   "id": "8a6a810b-697a-486f-b4d8-e0a5fa6ad09e",
   "metadata": {},
   "outputs": [
    {
     "data": {
      "text/plain": [
       "'Lotte'"
      ]
     },
     "execution_count": 10,
     "metadata": {},
     "output_type": "execute_result"
    }
   ],
   "source": [
    "Rei.get_brand()"
   ]
  },
  {
   "cell_type": "code",
   "execution_count": 12,
   "id": "d4f9cb76-7401-4105-af49-f1a4edc45051",
   "metadata": {},
   "outputs": [
    {
     "data": {
      "text/plain": [
       "'Hershey'"
      ]
     },
     "execution_count": 12,
     "metadata": {},
     "output_type": "execute_result"
    }
   ],
   "source": [
    "Rei.set_brand('Hershey')\n",
    "Rei.brand"
   ]
  },
  {
   "cell_type": "markdown",
   "id": "6baa1a16-9263-4ace-b30d-260e35514be5",
   "metadata": {},
   "source": [
    "### 2. "
   ]
  },
  {
   "cell_type": "code",
   "execution_count": 137,
   "id": "03bbef5f-15a1-4e4c-9f58-bdba29782706",
   "metadata": {},
   "outputs": [
    {
     "data": {
      "text/plain": [
       "'kia'"
      ]
     },
     "execution_count": 137,
     "metadata": {},
     "output_type": "execute_result"
    }
   ],
   "source": [
    "class Car:\n",
    "    def __init__(self, input_brand):\n",
    "        self.hidden_brand = input_brand\n",
    "    def get_brand(self):\n",
    "        return self.hidden_brand\n",
    "    \n",
    "    def set_brand(self, input_brand):\n",
    "        self.hidden_brand = input_brand\n",
    "    \n",
    "    # 내가 사용할 변수명\n",
    "    brand = property(get_brand, set_brand)\n",
    "    \n",
    "c = Car('kia')\n",
    "c.brand"
   ]
  },
  {
   "cell_type": "code",
   "execution_count": 136,
   "id": "f5ff26ad-75bb-4c5e-817c-fce0600c7798",
   "metadata": {},
   "outputs": [],
   "source": [
    "# 이름을 아예 hidden~으로 바꿔 은닉하는 방법"
   ]
  },
  {
   "cell_type": "code",
   "execution_count": 14,
   "id": "298d2ead-f93d-4a71-be5b-c2a90cdf969c",
   "metadata": {},
   "outputs": [
    {
     "data": {
      "text/plain": [
       "'Marys'"
      ]
     },
     "execution_count": 14,
     "metadata": {},
     "output_type": "execute_result"
    }
   ],
   "source": [
    "class Chocolate:\n",
    "    def __init__(self, input_brand, flavour = None):\n",
    "        self.hidden_brand = input_brand\n",
    "        self.flavour = flavour\n",
    "        \n",
    "    def get_brand(self):\n",
    "        return self.hidden_brand\n",
    "    \n",
    "    def set_brand(self, input_brand):\n",
    "        self.hidden_brand = input_brand\n",
    "        \n",
    "    def change_flavour(self, flavour):\n",
    "        self.flavour = flavour\n",
    "        \n",
    "    brand = property(get_brand, set_brand)\n",
    "    \n",
    "Ex = Chocolate('Marys')\n",
    "Ex.brand"
   ]
  },
  {
   "cell_type": "markdown",
   "id": "7fa566cf-3670-4c95-be43-12c18b358edc",
   "metadata": {},
   "source": [
    "### 3."
   ]
  },
  {
   "cell_type": "code",
   "execution_count": 139,
   "id": "5e87d219-cf35-483b-a961-ac180062780e",
   "metadata": {},
   "outputs": [
    {
     "data": {
      "text/plain": [
       "'aa'"
      ]
     },
     "execution_count": 139,
     "metadata": {},
     "output_type": "execute_result"
    }
   ],
   "source": [
    "class Car:\n",
    "    def __init__(self, input_brand):\n",
    "        self.hidden_brand = input_brand\n",
    "    \n",
    "    @property\n",
    "    def brand(self):\n",
    "        return self.hidden_brand\n",
    "    \n",
    "    @brand.setter\n",
    "    def brand(self, input_brand):\n",
    "        self.hidden_brand = input_brand\n",
    "        \n",
    "c = Car('aa')\n",
    "c.brand\n",
    "\n",
    "# 가장 파이썬다운 방법"
   ]
  },
  {
   "cell_type": "code",
   "execution_count": 19,
   "id": "75bb83f3-7a24-4ba8-ac1c-afa700d01b2f",
   "metadata": {},
   "outputs": [
    {
     "data": {
      "text/plain": [
       "'Dolly'"
      ]
     },
     "execution_count": 19,
     "metadata": {},
     "output_type": "execute_result"
    }
   ],
   "source": [
    "class Chocolate:\n",
    "    def __init__(self, input_brand, flavour = None):\n",
    "        self.hidden_brand = input_brand\n",
    "        self.flavour = flavour\n",
    "    \n",
    "    @property\n",
    "    def brand(self):\n",
    "        return self.hidden_brand\n",
    "    \n",
    "    @brand.setter\n",
    "    def brand(self, input_brand):\n",
    "        self.hidden_brand = input_brand\n",
    "        \n",
    "    def change_flavour(self, flavour):\n",
    "        self.flavour = flavour\n",
    "    \n",
    "Yae = Chocolate('Dolly')\n",
    "Yae.brand"
   ]
  },
  {
   "cell_type": "markdown",
   "id": "71ad5d3e-1d1e-4e13-accb-19655a0b9dab",
   "metadata": {},
   "source": [
    "### 4."
   ]
  },
  {
   "cell_type": "code",
   "execution_count": 144,
   "id": "4b61bba0-38ec-4c04-93e3-2f92070941a5",
   "metadata": {},
   "outputs": [
    {
     "ename": "AttributeError",
     "evalue": "'Car' object has no attribute '__brand'",
     "output_type": "error",
     "traceback": [
      "\u001b[1;31m---------------------------------------------------------------------------\u001b[0m",
      "\u001b[1;31mAttributeError\u001b[0m                            Traceback (most recent call last)",
      "\u001b[1;32m~\\AppData\\Local\\Temp/ipykernel_37904/1738968883.py\u001b[0m in \u001b[0;36m<module>\u001b[1;34m\u001b[0m\n\u001b[0;32m     12\u001b[0m \u001b[1;33m\u001b[0m\u001b[0m\n\u001b[0;32m     13\u001b[0m \u001b[0mc\u001b[0m \u001b[1;33m=\u001b[0m \u001b[0mCar\u001b[0m\u001b[1;33m(\u001b[0m\u001b[1;34m'bb'\u001b[0m\u001b[1;33m)\u001b[0m\u001b[1;33m\u001b[0m\u001b[1;33m\u001b[0m\u001b[0m\n\u001b[1;32m---> 14\u001b[1;33m \u001b[0mc\u001b[0m\u001b[1;33m.\u001b[0m\u001b[0m__brand\u001b[0m \u001b[1;31m# 이렇게 치면 안 나옴!\u001b[0m\u001b[1;33m\u001b[0m\u001b[1;33m\u001b[0m\u001b[0m\n\u001b[0m\u001b[0;32m     15\u001b[0m \u001b[1;33m\u001b[0m\u001b[0m\n\u001b[0;32m     16\u001b[0m \u001b[1;31m# 접근하기 힘들게 만드는 방법! 잘 익혀둘 것!\u001b[0m\u001b[1;33m\u001b[0m\u001b[1;33m\u001b[0m\u001b[0m\n",
      "\u001b[1;31mAttributeError\u001b[0m: 'Car' object has no attribute '__brand'"
     ]
    }
   ],
   "source": [
    "class Car:\n",
    "    def __init__(self, input_brand):\n",
    "        self.__brand = input_brand\n",
    "    \n",
    "    @property\n",
    "    def brand(self):\n",
    "        return self.__brand\n",
    "    \n",
    "    @brand.setter\n",
    "    def brand(self, input_brand):\n",
    "        self.__brand = input_brand\n",
    "        \n",
    "c = Car('bb')\n",
    "c.__brand # 이렇게 치면 안 나옴!\n",
    "\n",
    "# 접근하기 힘들게 만드는 방법! 잘 익혀둘 것!"
   ]
  },
  {
   "cell_type": "code",
   "execution_count": 145,
   "id": "f8b07c8a-ac6b-4e3d-831e-3979bbd0f50c",
   "metadata": {},
   "outputs": [
    {
     "data": {
      "text/plain": [
       "'bb'"
      ]
     },
     "execution_count": 145,
     "metadata": {},
     "output_type": "execute_result"
    }
   ],
   "source": [
    "c.brand # 이렇게 쳐야 나옴!"
   ]
  },
  {
   "cell_type": "code",
   "execution_count": 150,
   "id": "4ae5443d-1e4a-408c-b310-2d81501ad0c6",
   "metadata": {},
   "outputs": [
    {
     "data": {
      "text/plain": [
       "14"
      ]
     },
     "execution_count": 150,
     "metadata": {},
     "output_type": "execute_result"
    }
   ],
   "source": [
    "class Circle:\n",
    "    def __init__(self, radius):\n",
    "        self.radius = radius\n",
    "    \n",
    "    @property\n",
    "    def diameter(self):\n",
    "        return self.radius * 2\n",
    "    \n",
    "c = Circle(7)\n",
    "c.diameter"
   ]
  },
  {
   "cell_type": "code",
   "execution_count": 20,
   "id": "61ec032c-a548-4bfb-bf98-d118a6649c7a",
   "metadata": {},
   "outputs": [
    {
     "ename": "AttributeError",
     "evalue": "'Chocolate' object has no attribute '__brand'",
     "output_type": "error",
     "traceback": [
      "\u001b[1;31m---------------------------------------------------------------------------\u001b[0m",
      "\u001b[1;31mAttributeError\u001b[0m                            Traceback (most recent call last)",
      "\u001b[1;32m~\\AppData\\Local\\Temp/ipykernel_37504/1536920674.py\u001b[0m in \u001b[0;36m<module>\u001b[1;34m\u001b[0m\n\u001b[0;32m     16\u001b[0m \u001b[1;33m\u001b[0m\u001b[0m\n\u001b[0;32m     17\u001b[0m \u001b[0mchocolate\u001b[0m \u001b[1;33m=\u001b[0m \u001b[0mChocolate\u001b[0m\u001b[1;33m(\u001b[0m\u001b[1;34m'Juke'\u001b[0m\u001b[1;33m)\u001b[0m\u001b[1;33m\u001b[0m\u001b[1;33m\u001b[0m\u001b[0m\n\u001b[1;32m---> 18\u001b[1;33m \u001b[0mchocolate\u001b[0m\u001b[1;33m.\u001b[0m\u001b[0m__brand\u001b[0m\u001b[1;33m\u001b[0m\u001b[1;33m\u001b[0m\u001b[0m\n\u001b[0m",
      "\u001b[1;31mAttributeError\u001b[0m: 'Chocolate' object has no attribute '__brand'"
     ]
    }
   ],
   "source": [
    "class Chocolate:\n",
    "    def __init__(self, input_brand, flavour = None):\n",
    "        self.__brand = input_brand\n",
    "        self.flavour = flavour\n",
    "        \n",
    "    @property\n",
    "    def brand(self):\n",
    "        return self.__brand\n",
    "    \n",
    "    @brand.setter\n",
    "    def brand(self, input_brand):\n",
    "        self.__brand = input_brand\n",
    "        \n",
    "    def change_flavour(self, flavour):\n",
    "        self.flavour = flavour\n",
    "    \n",
    "chocolate = Chocolate('Juke')\n",
    "chocolate.__brand"
   ]
  },
  {
   "cell_type": "code",
   "execution_count": 21,
   "id": "e0d2cdb1-f506-4dff-90fb-472438140634",
   "metadata": {},
   "outputs": [
    {
     "data": {
      "text/plain": [
       "'Juke'"
      ]
     },
     "execution_count": 21,
     "metadata": {},
     "output_type": "execute_result"
    }
   ],
   "source": [
    "chocolate.brand"
   ]
  },
  {
   "cell_type": "markdown",
   "id": "a74729cc-0d36-465f-998d-56628058a236",
   "metadata": {},
   "source": [
    "### 실습 (다음 시간까지)\n",
    "- 객체 : 메모장(노트),                              메모(한 장 한 장 쓰는 것)\n",
    "- 변수 : 제목, 페이지 번호, 메모                    글귀\n",
    "- 메서드 : 추가, 삭제, 페이지번호                   쓰기, 지우기\n",
    "\n",
    "- getter, setter 메모장 제목에 추가하기\n",
    "- '메모' 객체에 글귀를 추가한다\n",
    "- '메모장' 객체에 메모 추가\n",
    "- 페이지 번호가 늘어난다.\n",
    "- 메모를 삭제하면 페이지 번호가 줄어들고\n",
    "- 페이지가 300을 넘으면 메모 추가 못하게 막기\n",
    "- 페이지 번호로 메모 찾기"
   ]
  },
  {
   "cell_type": "code",
   "execution_count": 153,
   "id": "c7dc15a6-a3ee-4f6c-894d-9f17f505270e",
   "metadata": {},
   "outputs": [],
   "source": [
    "class Notebook:\n",
    "    def __init__(self):\n",
    "        pass # 제목, 페이지번호, 메모*** = 아예 Note 객체로 가져가거나, 다른 거로 가져갈 것!\n",
    "    \n",
    "    def add_note():\n",
    "        pass\n",
    "    \n",
    "    def remove_note():\n",
    "        pass\n",
    "    \n",
    "    def get_page_num():\n",
    "        pass\n",
    "    \n",
    "class Note:\n",
    "    def __init__(self):\n",
    "        pass # 글귀\n",
    "    \n",
    "    def write():\n",
    "        pass\n",
    "    \n",
    "    def erase():\n",
    "        pass"
   ]
  },
  {
   "cell_type": "code",
   "execution_count": 154,
   "id": "a586f183-7c37-42c0-8a92-267f076c5f48",
   "metadata": {},
   "outputs": [
    {
     "ename": "TypeError",
     "evalue": "write() takes 0 positional arguments but 2 were given",
     "output_type": "error",
     "traceback": [
      "\u001b[1;31m---------------------------------------------------------------------------\u001b[0m",
      "\u001b[1;31mTypeError\u001b[0m                                 Traceback (most recent call last)",
      "\u001b[1;32m~\\AppData\\Local\\Temp/ipykernel_37904/870273510.py\u001b[0m in \u001b[0;36m<module>\u001b[1;34m\u001b[0m\n\u001b[0;32m      7\u001b[0m \u001b[1;33m\u001b[0m\u001b[0m\n\u001b[0;32m      8\u001b[0m \u001b[1;31m# 메모 쓰기\u001b[0m\u001b[1;33m\u001b[0m\u001b[1;33m\u001b[0m\u001b[0m\n\u001b[1;32m----> 9\u001b[1;33m \u001b[0mnote\u001b[0m\u001b[1;33m.\u001b[0m\u001b[0mwrite\u001b[0m\u001b[1;33m(\u001b[0m\u001b[0mmemo1\u001b[0m\u001b[1;33m)\u001b[0m\u001b[1;33m\u001b[0m\u001b[1;33m\u001b[0m\u001b[0m\n\u001b[0m\u001b[0;32m     10\u001b[0m \u001b[0mnote\u001b[0m\u001b[1;33m.\u001b[0m\u001b[0mwrite\u001b[0m\u001b[1;33m(\u001b[0m\u001b[0mmemo2\u001b[0m\u001b[1;33m)\u001b[0m\u001b[1;33m\u001b[0m\u001b[1;33m\u001b[0m\u001b[0m\n\u001b[0;32m     11\u001b[0m \u001b[0mnote\u001b[0m\u001b[1;33m.\u001b[0m\u001b[0mwrite\u001b[0m\u001b[1;33m(\u001b[0m\u001b[0mmemo3\u001b[0m\u001b[1;33m)\u001b[0m\u001b[1;33m\u001b[0m\u001b[1;33m\u001b[0m\u001b[0m\n",
      "\u001b[1;31mTypeError\u001b[0m: write() takes 0 positional arguments but 2 were given"
     ]
    }
   ],
   "source": [
    "# 메모 추가하기\n",
    "memo1 = '꿈을 이루고자 하는 용기만 있다면 모든 꿈을 이룰 수 있다.'\n",
    "memo2 = '웃음이 없는 하루는 버린 하루다.'\n",
    "memo3 = '승리는 가장 끈기 있는 사람에게 돌아간다.'\n",
    "\n",
    "note = Note()\n",
    "\n",
    "# 메모 쓰기\n",
    "note.write(memo1)\n",
    "note.write(memo2)\n",
    "note.write(memo3)\n",
    "\n",
    "# 메모장 만들기\n",
    "note1 = Note(memo1)\n",
    "note2 = Note(memo2)\n",
    "note3 = Note(memo3)\n",
    "\n",
    "# 메모장에 메모 추가하기\n",
    "my_book.add_note(note1)\n",
    "my_book.add_note(note2)\n",
    "my_book.add_note(note3)\n",
    "\n",
    "# 페이지 번호 확인하기\n",
    "my_book.get_page_num() #3\n",
    "\n",
    "# 메모장에 메모 내용 확인하기\n",
    "# 메모 삭제하기(페이지 번호도 같이 줄어들어야 함)"
   ]
  },
  {
   "cell_type": "code",
   "execution_count": 22,
   "id": "86b39721-6939-4d41-8410-968cc514d897",
   "metadata": {},
   "outputs": [],
   "source": [
    "# 현재 풀이 중!"
   ]
  }
 ],
 "metadata": {
  "kernelspec": {
   "display_name": "Python 3 (ipykernel)",
   "language": "python",
   "name": "python3"
  },
  "language_info": {
   "codemirror_mode": {
    "name": "ipython",
    "version": 3
   },
   "file_extension": ".py",
   "mimetype": "text/x-python",
   "name": "python",
   "nbconvert_exporter": "python",
   "pygments_lexer": "ipython3",
   "version": "3.9.7"
  }
 },
 "nbformat": 4,
 "nbformat_minor": 5
}
